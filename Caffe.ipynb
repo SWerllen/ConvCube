{
 "metadata": {
  "name": "",
  "signature": "sha256:2c4f20a9582ac8cb8e1b178fa2682196411ba0d7e70a0b210414c9eee6f11dd4"
 },
 "nbformat": 3,
 "nbformat_minor": 0,
 "worksheets": [
  {
   "cells": [
    {
     "cell_type": "code",
     "collapsed": false,
     "input": [
      "import numpy as np\n",
      "\n",
      "import sys\n",
      "sys.path.append('/Users/jayhack/CS/CV/caffe/python')\n",
      "\n",
      "from ModalDB import ModalClient\n",
      "from convcube.db import dbschema\n",
      "from convcube.convnets.localization import load_dataset_localization"
     ],
     "language": "python",
     "metadata": {},
     "outputs": [],
     "prompt_number": 1
    },
    {
     "cell_type": "markdown",
     "metadata": {},
     "source": [
      "# I. Load Data"
     ]
    },
    {
     "cell_type": "code",
     "collapsed": false,
     "input": [
      "client = ModalClient('./data/db', schema=dbschema)\n",
      "X_train, X_val, y_train, y_val = load_dataset_localization(client)\n",
      "print 'Train shape: ', X_train.shape\n",
      "print 'Val shape: ', X_val.shape"
     ],
     "language": "python",
     "metadata": {},
     "outputs": [
      {
       "output_type": "stream",
       "stream": "stdout",
       "text": [
        "Train shape:  (3016, 3, 80, 80)\n",
        "Val shape:  (847, 3, 80, 80)\n"
       ]
      }
     ],
     "prompt_number": 2
    },
    {
     "cell_type": "code",
     "collapsed": false,
     "input": [
      "def add_flips(X, y):\n",
      "    \"\"\"returns X with each element of X flipped, y coordinates adjusted accordingly\"\"\"\n",
      "    X_flipped =  X[:,:,:,::-1].copy()\n",
      "    y_flipped = y.copy()\n",
      "    y_flipped[:,0] = 1 - y_flipped[:,0]\n",
      "    return X_flipped, y_flipped\n",
      "\n",
      "X_train_flips, y_train_flips = add_flips(X_train, y_train)\n",
      "X_train_flips = np.vstack([X_train, X_train_flips])\n",
      "y_train_flips = np.vstack([y_train, y_train_flips])\n",
      "print 'Train data shape: ', X_train_flips.shape\n",
      "print 'Val data shape: ', X_val.shape"
     ],
     "language": "python",
     "metadata": {},
     "outputs": [
      {
       "output_type": "stream",
       "stream": "stdout",
       "text": [
        "Train data shape:  (6032, 3, 80, 80)\n",
        "Val data shape:  (847, 3, 80, 80)\n"
       ]
      }
     ],
     "prompt_number": 4
    },
    {
     "cell_type": "markdown",
     "metadata": {},
     "source": [
      "# II. Convert Dataset to HDF5"
     ]
    },
    {
     "cell_type": "code",
     "collapsed": false,
     "input": [
      "import os\n",
      "import h5py\n",
      "\n",
      "#=====[ Step 1: get filenames ]=====\n",
      "data_dir = '/Users/jayhack/Desktop/caffe_data/'\n",
      "train_filename = os.path.join(data_dir, 'train.h5')\n",
      "val_filename = os.path.join(data_dir, 'val.h5')\n",
      "\n",
      "#=====[ Step 2: write data ]=====\n",
      "with h5py.File(train_filename, 'w') as f:\n",
      "    f['data'] = X_train\n",
      "    f['label'] = y_train\n",
      "with open(os.path.join(data_dir, 'train.txt'), 'w') as f:\n",
      "    f.write(train_filename + '\\n')\n",
      "\n",
      "with h5py.File(val_filename, 'w') as f:\n",
      "    f['data'] = X_val\n",
      "    f['label'] = y_val\n",
      "with open(os.path.join(data_dir, 'val.txt'), 'w') as f:\n",
      "    f.write(val_filename + '\\n')"
     ],
     "language": "python",
     "metadata": {},
     "outputs": [],
     "prompt_number": 6
    }
   ],
   "metadata": {}
  }
 ]
}