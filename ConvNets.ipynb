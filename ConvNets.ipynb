{
 "metadata": {
  "name": "",
  "signature": "sha256:865ea9b90f559f6b4d8aa08645d6148e79082c8a0c25d13895442a7e5b75ac2a"
 },
 "nbformat": 3,
 "nbformat_minor": 0,
 "worksheets": [
  {
   "cells": [
    {
     "cell_type": "code",
     "collapsed": false,
     "input": [
      "import numpy as np\n",
      "import scipy as sp\n"
     ],
     "language": "python",
     "metadata": {},
     "outputs": []
    }
   ],
   "metadata": {}
  }
 ]
}