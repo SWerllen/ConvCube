{
 "metadata": {
  "name": "",
  "signature": "sha256:7090bb6018645d4943a22e524b82bae22ff31899c5085b331f63f5c17f31186f"
 },
 "nbformat": 3,
 "nbformat_minor": 0,
 "worksheets": [
  {
   "cells": [
    {
     "cell_type": "markdown",
     "metadata": {},
     "source": [
      "# ConvNets: Expriments with Theano and pylearn2"
     ]
    },
    {
     "cell_type": "code",
     "collapsed": false,
     "input": [
      "import numpy as np\n",
      "import scipy as sp\n",
      "import theano"
     ],
     "language": "python",
     "metadata": {},
     "outputs": [],
     "prompt_number": 1
    },
    {
     "cell_type": "markdown",
     "metadata": {},
     "source": [
      "## Construct a ConvNet with Theano/pylearn2"
     ]
    },
    {
     "cell_type": "code",
     "collapsed": false,
     "input": [
      "import theano.tensor as T\n",
      "from theano.tensor.nnet import conv\n",
      "input = T.tensor4('input')\n",
      "filters = T.tensor4('filters')\n",
      "out = conv.conv2d(input, filters, filter_shape=filter_shape,\n",
      "                  image_shape=image_shape)"
     ],
     "language": "python",
     "metadata": {},
     "outputs": [],
     "prompt_number": 3
    },
    {
     "cell_type": "code",
     "collapsed": false,
     "input": [],
     "language": "python",
     "metadata": {},
     "outputs": []
    }
   ],
   "metadata": {}
  }
 ]
}