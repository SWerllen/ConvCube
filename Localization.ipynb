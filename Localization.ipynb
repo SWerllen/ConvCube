{
 "metadata": {
  "name": "",
  "signature": "sha256:1b185c4d6f83ec326d54bd7969c3a32293c250d01bec1964b5b7e9f4c0e6a38e"
 },
 "nbformat": 3,
 "nbformat_minor": 0,
 "worksheets": [
  {
   "cells": [
    {
     "cell_type": "code",
     "collapsed": false,
     "input": [
      "# for auto-reloading extenrnal modules\n",
      "# see http://stackoverflow.com/questions/1907993/autoreload-of-modules-in-ipython\n",
      "%load_ext autoreload\n",
      "%autoreload 2\n",
      "\n",
      "#=====[ Standard + Math ]=====\n",
      "import os\n",
      "import sys\n",
      "sys.path.insert(0, './') #for faster development\n",
      "import pickle\n",
      "import numpy as np\n",
      "import cv2\n",
      "import matplotlib.pyplot as plt\n",
      "%pylab inline\n",
      "\n",
      "#=====[ ModalDB ]=====\n",
      "from ModalDB import ModalClient\n",
      "from ModalDB import Video\n",
      "from ModalDB import Frame\n",
      "\n",
      "#=====[ convcube ]=====\n",
      "from convcube.schema import convcube_schema\n",
      "from convcube.cs231n.data_utils import load_tiny_imagenet\n",
      "from convcube.localization import load_dataset_localization\n",
      "from convcube.localization import LocalizationConvNet\n",
      "from convcube.cube import ConvNetCube\n",
      "\n",
      "#=====[ setup client ]=====\n",
      "client = ModalClient('./data/db', schema=convcube_schema)\n",
      "models_path = './models/localization'"
     ],
     "language": "python",
     "metadata": {},
     "outputs": [
      {
       "output_type": "stream",
       "stream": "stdout",
       "text": [
        "The autoreload extension is already loaded. To reload it, use:\n",
        "  %reload_ext autoreload\n",
        "Populating the interactive namespace from numpy and matplotlib\n"
       ]
      }
     ],
     "prompt_number": 4
    },
    {
     "cell_type": "markdown",
     "metadata": {},
     "source": [
      "#I. Pretraining on ImageNet\n",
      "Skip this section if you can load an already-pretrained model"
     ]
    },
    {
     "cell_type": "markdown",
     "metadata": {},
     "source": [
      "### Get Data"
     ]
    },
    {
     "cell_type": "code",
     "collapsed": false,
     "input": [
      "imagenet_path = './convcube/cs231n/datasets/tiny-imagenet-100-A'\n",
      "class_names, X_train, y_train, X_val, y_val, X_test, y_test = load_tiny_imagenet(imagenet_path)\n",
      "print 'Train data shape: ', X_train.shape\n",
      "print 'Train labels shape: ', y_train.shape\n",
      "print 'Validation data shape: ', X_val.shape\n",
      "print 'Validation labels shape: ', y_val.shape\n",
      "print 'Test data shape: ', X_test.shape"
     ],
     "language": "python",
     "metadata": {},
     "outputs": [
      {
       "output_type": "stream",
       "stream": "stdout",
       "text": [
        "loading training data for synset 20 / 100\n",
        "loading training data for synset 40 / 100"
       ]
      },
      {
       "output_type": "stream",
       "stream": "stdout",
       "text": [
        "\n",
        "loading training data for synset 60 / 100"
       ]
      },
      {
       "output_type": "stream",
       "stream": "stdout",
       "text": [
        "\n",
        "loading training data for synset 80 / 100"
       ]
      },
      {
       "output_type": "stream",
       "stream": "stdout",
       "text": [
        "\n",
        "loading training data for synset 100 / 100"
       ]
      },
      {
       "output_type": "stream",
       "stream": "stdout",
       "text": [
        "\n",
        "Train data shape: "
       ]
      },
      {
       "output_type": "stream",
       "stream": "stdout",
       "text": [
        " (50000, 3, 64, 64)\n",
        "Train labels shape:  (50000,)\n",
        "Validation data shape:  (5000, 3, 64, 64)\n",
        "Validation labels shape:  (5000,)\n",
        "Test data shape:  (5000, 3, 64, 64)\n"
       ]
      }
     ],
     "prompt_number": 6
    },
    {
     "cell_type": "markdown",
     "metadata": {},
     "source": [
      "### Get Model"
     ]
    },
    {
     "cell_type": "code",
     "collapsed": false,
     "input": [
      "#=====[ LOAD MODEL ]=====\n",
      "#*****\n",
      "model_path = os.path.join(models_path, 'pretrained/convnet_10s.pkl')\n",
      "pretrained_model = pickle.load(open(model_path))\n",
      "#*****"
     ],
     "language": "python",
     "metadata": {},
     "outputs": [],
     "prompt_number": 13
    },
    {
     "cell_type": "code",
     "collapsed": false,
     "input": [
      "#=====[ TRAIN MODEL ]=====\n",
      "#*****\n",
      "convnet = LocalizationConvNet()\n",
      "model = convnet.init_pretrain_convnet()\n",
      "model, loss_hist, train_acc_hist, val_acc_hist = convnet.pretrain(X_train, y_train, X_val, y_val)\n",
      "pretrained_model = model\n",
      "model_path = os.path.join(models_path, 'pretrained/convnet_10.pkl')\n",
      "pickle.dump(pretrained_model, open(model_path, 'w'))\n",
      "#*****"
     ],
     "language": "python",
     "metadata": {},
     "outputs": [
      {
       "output_type": "stream",
       "stream": "stdout",
       "text": [
        "starting iteration  0\n",
        "Finished epoch 0 / 8: cost 4.871629, train: 0.012000, val 0.011200, lr 5.000000e-05"
       ]
      },
      {
       "output_type": "stream",
       "stream": "stdout",
       "text": [
        "\n",
        "starting iteration "
       ]
      },
      {
       "output_type": "stream",
       "stream": "stdout",
       "text": [
        " 10\n",
        "starting iteration "
       ]
      },
      {
       "output_type": "stream",
       "stream": "stdout",
       "text": [
        " 20\n",
        "starting iteration "
       ]
      },
      {
       "output_type": "stream",
       "stream": "stdout",
       "text": [
        " 30\n",
        "starting iteration "
       ]
      },
      {
       "output_type": "stream",
       "stream": "stdout",
       "text": [
        " 40\n",
        "starting iteration "
       ]
      },
      {
       "output_type": "stream",
       "stream": "stdout",
       "text": [
        " 50\n",
        "starting iteration "
       ]
      },
      {
       "output_type": "stream",
       "stream": "stdout",
       "text": [
        " 60\n",
        "starting iteration "
       ]
      },
      {
       "output_type": "stream",
       "stream": "stdout",
       "text": [
        " 70\n",
        "starting iteration "
       ]
      },
      {
       "output_type": "stream",
       "stream": "stdout",
       "text": [
        " 80\n",
        "starting iteration "
       ]
      },
      {
       "output_type": "stream",
       "stream": "stdout",
       "text": [
        " 90\n",
        "starting iteration "
       ]
      },
      {
       "output_type": "stream",
       "stream": "stdout",
       "text": [
        " 100\n",
        "starting iteration "
       ]
      },
      {
       "output_type": "stream",
       "stream": "stdout",
       "text": [
        " 110\n",
        "starting iteration "
       ]
      },
      {
       "output_type": "stream",
       "stream": "stdout",
       "text": [
        " 120\n",
        "starting iteration "
       ]
      },
      {
       "output_type": "stream",
       "stream": "stdout",
       "text": [
        " 130\n",
        "starting iteration "
       ]
      },
      {
       "output_type": "stream",
       "stream": "stdout",
       "text": [
        " 140\n",
        "starting iteration "
       ]
      },
      {
       "output_type": "stream",
       "stream": "stdout",
       "text": [
        " 150\n"
       ]
      },
      {
       "ename": "KeyboardInterrupt",
       "evalue": "",
       "output_type": "pyerr",
       "traceback": [
        "\u001b[0;31m---------------------------------------------------------------------------\u001b[0m\n\u001b[0;31mKeyboardInterrupt\u001b[0m                         Traceback (most recent call last)",
        "\u001b[0;32m<ipython-input-11-0c058e55a5bf>\u001b[0m in \u001b[0;36m<module>\u001b[0;34m()\u001b[0m\n\u001b[1;32m      3\u001b[0m \u001b[0mconvnet\u001b[0m \u001b[0;34m=\u001b[0m \u001b[0mLocalizationConvNet\u001b[0m\u001b[0;34m(\u001b[0m\u001b[0;34m)\u001b[0m\u001b[0;34m\u001b[0m\u001b[0m\n\u001b[1;32m      4\u001b[0m \u001b[0mmodel\u001b[0m \u001b[0;34m=\u001b[0m \u001b[0mconvnet\u001b[0m\u001b[0;34m.\u001b[0m\u001b[0minit_pretrain_convnet\u001b[0m\u001b[0;34m(\u001b[0m\u001b[0;34m)\u001b[0m\u001b[0;34m\u001b[0m\u001b[0m\n\u001b[0;32m----> 5\u001b[0;31m \u001b[0mmodel\u001b[0m\u001b[0;34m,\u001b[0m \u001b[0mloss_hist\u001b[0m\u001b[0;34m,\u001b[0m \u001b[0mtrain_acc_hist\u001b[0m\u001b[0;34m,\u001b[0m \u001b[0mval_acc_hist\u001b[0m \u001b[0;34m=\u001b[0m \u001b[0mconvnet\u001b[0m\u001b[0;34m.\u001b[0m\u001b[0mpretrain\u001b[0m\u001b[0;34m(\u001b[0m\u001b[0mX_train\u001b[0m\u001b[0;34m,\u001b[0m \u001b[0my_train\u001b[0m\u001b[0;34m,\u001b[0m \u001b[0mX_val\u001b[0m\u001b[0;34m,\u001b[0m \u001b[0my_val\u001b[0m\u001b[0;34m)\u001b[0m\u001b[0;34m\u001b[0m\u001b[0m\n\u001b[0m\u001b[1;32m      6\u001b[0m \u001b[0;31m#*****\u001b[0m\u001b[0;34m\u001b[0m\u001b[0;34m\u001b[0m\u001b[0m\n",
        "\u001b[0;32m/Users/jayhack/Academics/CS/231N - CNN/Project/code/convcube/localization/convnet.py\u001b[0m in \u001b[0;36mpretrain\u001b[0;34m(self, X_train, y_train, X_val, y_val, verbose)\u001b[0m\n\u001b[1;32m     96\u001b[0m                                                                 \u001b[0mdropout\u001b[0m\u001b[0;34m=\u001b[0m\u001b[0mNone\u001b[0m\u001b[0;34m,\u001b[0m \u001b[0mreg\u001b[0m\u001b[0;34m=\u001b[0m\u001b[0;36m0.05\u001b[0m\u001b[0;34m,\u001b[0m \u001b[0mlearning_rate\u001b[0m\u001b[0;34m=\u001b[0m\u001b[0;36m0.00005\u001b[0m\u001b[0;34m,\u001b[0m\u001b[0;34m\u001b[0m\u001b[0m\n\u001b[1;32m     97\u001b[0m                                                                 \u001b[0mbatch_size\u001b[0m\u001b[0;34m=\u001b[0m\u001b[0;36m50\u001b[0m\u001b[0;34m,\u001b[0m \u001b[0mnum_epochs\u001b[0m\u001b[0;34m=\u001b[0m\u001b[0;36m8\u001b[0m\u001b[0;34m,\u001b[0m\u001b[0;34m\u001b[0m\u001b[0m\n\u001b[0;32m---> 98\u001b[0;31m                                                                 \u001b[0mlearning_rate_decay\u001b[0m\u001b[0;34m=\u001b[0m\u001b[0;36m1.0\u001b[0m\u001b[0;34m,\u001b[0m \u001b[0mupdate\u001b[0m\u001b[0;34m=\u001b[0m\u001b[0;34m'rmsprop'\u001b[0m\u001b[0;34m,\u001b[0m \u001b[0mverbose\u001b[0m\u001b[0;34m=\u001b[0m\u001b[0mverbose\u001b[0m\u001b[0;34m\u001b[0m\u001b[0m\n\u001b[0m\u001b[1;32m     99\u001b[0m \t\t\t\t\t\t\t\t)\n\u001b[1;32m    100\u001b[0m                 \u001b[0mmodel\u001b[0m\u001b[0;34m,\u001b[0m \u001b[0mloss_hist\u001b[0m\u001b[0;34m,\u001b[0m \u001b[0mtrain_acc_hist\u001b[0m\u001b[0;34m,\u001b[0m \u001b[0mval_acc_hist\u001b[0m \u001b[0;34m=\u001b[0m \u001b[0mresult\u001b[0m\u001b[0;34m\u001b[0m\u001b[0m\n",
        "\u001b[0;32m/Users/jayhack/Academics/CS/231N - CNN/Project/code/convcube/cs231n/classifier_trainer.py\u001b[0m in \u001b[0;36mtrain\u001b[0;34m(self, X, y, X_val, y_val, model, loss_function, reg, dropout, learning_rate, momentum, learning_rate_decay, update, sample_batches, num_epochs, batch_size, acc_frequency, augment_fn, predict_fn, verbose)\u001b[0m\n\u001b[1;32m     92\u001b[0m \u001b[0;34m\u001b[0m\u001b[0m\n\u001b[1;32m     93\u001b[0m       \u001b[0;31m# evaluate cost and gradient\u001b[0m\u001b[0;34m\u001b[0m\u001b[0;34m\u001b[0m\u001b[0m\n\u001b[0;32m---> 94\u001b[0;31m       \u001b[0mcost\u001b[0m\u001b[0;34m,\u001b[0m \u001b[0mgrads\u001b[0m \u001b[0;34m=\u001b[0m \u001b[0mloss_function\u001b[0m\u001b[0;34m(\u001b[0m\u001b[0mX_batch\u001b[0m\u001b[0;34m,\u001b[0m \u001b[0mmodel\u001b[0m\u001b[0;34m,\u001b[0m \u001b[0my_batch\u001b[0m\u001b[0;34m,\u001b[0m \u001b[0mreg\u001b[0m\u001b[0;34m=\u001b[0m\u001b[0mreg\u001b[0m\u001b[0;34m,\u001b[0m \u001b[0mdropout\u001b[0m\u001b[0;34m=\u001b[0m\u001b[0mdropout\u001b[0m\u001b[0;34m)\u001b[0m\u001b[0;34m\u001b[0m\u001b[0m\n\u001b[0m\u001b[1;32m     95\u001b[0m       \u001b[0mloss_history\u001b[0m\u001b[0;34m.\u001b[0m\u001b[0mappend\u001b[0m\u001b[0;34m(\u001b[0m\u001b[0mcost\u001b[0m\u001b[0;34m)\u001b[0m\u001b[0;34m\u001b[0m\u001b[0m\n\u001b[1;32m     96\u001b[0m \u001b[0;34m\u001b[0m\u001b[0m\n",
        "\u001b[0;32m/Users/jayhack/Academics/CS/231N - CNN/Project/code/convcube/cs231n/classifiers/convnet.py\u001b[0m in \u001b[0;36mthree_layer_convnet\u001b[0;34m(X, model, y, reg, dropout)\u001b[0m\n\u001b[1;32m    211\u001b[0m     \u001b[0mda2\u001b[0m \u001b[0;34m=\u001b[0m \u001b[0mdropout_backward\u001b[0m\u001b[0;34m(\u001b[0m\u001b[0mdd2\u001b[0m\u001b[0;34m,\u001b[0m \u001b[0mcache3\u001b[0m\u001b[0;34m)\u001b[0m\u001b[0;34m\u001b[0m\u001b[0m\n\u001b[1;32m    212\u001b[0m   \u001b[0mda1\u001b[0m\u001b[0;34m,\u001b[0m \u001b[0mdW2\u001b[0m\u001b[0;34m,\u001b[0m \u001b[0mdb2\u001b[0m \u001b[0;34m=\u001b[0m \u001b[0maffine_relu_backward\u001b[0m\u001b[0;34m(\u001b[0m\u001b[0mda2\u001b[0m\u001b[0;34m,\u001b[0m \u001b[0mcache2\u001b[0m\u001b[0;34m)\u001b[0m\u001b[0;34m\u001b[0m\u001b[0m\n\u001b[0;32m--> 213\u001b[0;31m   \u001b[0mdX\u001b[0m\u001b[0;34m,\u001b[0m \u001b[0mdW1\u001b[0m\u001b[0;34m,\u001b[0m \u001b[0mdb1\u001b[0m \u001b[0;34m=\u001b[0m \u001b[0mconv_relu_pool_backward\u001b[0m\u001b[0;34m(\u001b[0m\u001b[0mda1\u001b[0m\u001b[0;34m,\u001b[0m \u001b[0mcache1\u001b[0m\u001b[0;34m)\u001b[0m\u001b[0;34m\u001b[0m\u001b[0m\n\u001b[0m\u001b[1;32m    214\u001b[0m \u001b[0;34m\u001b[0m\u001b[0m\n\u001b[1;32m    215\u001b[0m   \u001b[0mgrads\u001b[0m \u001b[0;34m=\u001b[0m \u001b[0;34m{\u001b[0m \u001b[0;34m'W1'\u001b[0m\u001b[0;34m:\u001b[0m \u001b[0mdW1\u001b[0m\u001b[0;34m,\u001b[0m \u001b[0;34m'b1'\u001b[0m\u001b[0;34m:\u001b[0m \u001b[0mdb1\u001b[0m\u001b[0;34m,\u001b[0m \u001b[0;34m'W2'\u001b[0m\u001b[0;34m:\u001b[0m \u001b[0mdW2\u001b[0m\u001b[0;34m,\u001b[0m \u001b[0;34m'b2'\u001b[0m\u001b[0;34m:\u001b[0m \u001b[0mdb2\u001b[0m\u001b[0;34m,\u001b[0m \u001b[0;34m'W3'\u001b[0m\u001b[0;34m:\u001b[0m \u001b[0mdW3\u001b[0m\u001b[0;34m,\u001b[0m \u001b[0;34m'b3'\u001b[0m\u001b[0;34m:\u001b[0m \u001b[0mdb3\u001b[0m \u001b[0;34m}\u001b[0m\u001b[0;34m\u001b[0m\u001b[0m\n",
        "\u001b[0;32m/Users/jayhack/Academics/CS/231N - CNN/Project/code/convcube/cs231n/layer_utils.py\u001b[0m in \u001b[0;36mconv_relu_pool_backward\u001b[0;34m(dout, cache)\u001b[0m\n\u001b[1;32m     57\u001b[0m   \u001b[0mds\u001b[0m \u001b[0;34m=\u001b[0m \u001b[0mmax_pool_backward_fast\u001b[0m\u001b[0;34m(\u001b[0m\u001b[0mdout\u001b[0m\u001b[0;34m,\u001b[0m \u001b[0mpool_cache\u001b[0m\u001b[0;34m)\u001b[0m\u001b[0;34m\u001b[0m\u001b[0m\n\u001b[1;32m     58\u001b[0m   \u001b[0mda\u001b[0m \u001b[0;34m=\u001b[0m \u001b[0mrelu_backward\u001b[0m\u001b[0;34m(\u001b[0m\u001b[0mds\u001b[0m\u001b[0;34m,\u001b[0m \u001b[0mrelu_cache\u001b[0m\u001b[0;34m)\u001b[0m\u001b[0;34m\u001b[0m\u001b[0m\n\u001b[0;32m---> 59\u001b[0;31m   \u001b[0mdx\u001b[0m\u001b[0;34m,\u001b[0m \u001b[0mdw\u001b[0m\u001b[0;34m,\u001b[0m \u001b[0mdb\u001b[0m \u001b[0;34m=\u001b[0m \u001b[0mconv_backward_fast\u001b[0m\u001b[0;34m(\u001b[0m\u001b[0mda\u001b[0m\u001b[0;34m,\u001b[0m \u001b[0mconv_cache\u001b[0m\u001b[0;34m)\u001b[0m\u001b[0;34m\u001b[0m\u001b[0m\n\u001b[0m\u001b[1;32m     60\u001b[0m   \u001b[0;32mreturn\u001b[0m \u001b[0mdx\u001b[0m\u001b[0;34m,\u001b[0m \u001b[0mdw\u001b[0m\u001b[0;34m,\u001b[0m \u001b[0mdb\u001b[0m\u001b[0;34m\u001b[0m\u001b[0m\n\u001b[1;32m     61\u001b[0m \u001b[0;34m\u001b[0m\u001b[0m\n",
        "\u001b[0;32m/Users/jayhack/Academics/CS/231N - CNN/Project/code/convcube/cs231n/fast_layers.py\u001b[0m in \u001b[0;36mconv_backward_strides\u001b[0;34m(dout, cache)\u001b[0m\n\u001b[1;32m     95\u001b[0m \u001b[0;34m\u001b[0m\u001b[0m\n\u001b[1;32m     96\u001b[0m   \u001b[0mdout_reshaped\u001b[0m \u001b[0;34m=\u001b[0m \u001b[0mdout\u001b[0m\u001b[0;34m.\u001b[0m\u001b[0mtranspose\u001b[0m\u001b[0;34m(\u001b[0m\u001b[0;36m1\u001b[0m\u001b[0;34m,\u001b[0m \u001b[0;36m0\u001b[0m\u001b[0;34m,\u001b[0m \u001b[0;36m2\u001b[0m\u001b[0;34m,\u001b[0m \u001b[0;36m3\u001b[0m\u001b[0;34m)\u001b[0m\u001b[0;34m.\u001b[0m\u001b[0mreshape\u001b[0m\u001b[0;34m(\u001b[0m\u001b[0mF\u001b[0m\u001b[0;34m,\u001b[0m \u001b[0;34m-\u001b[0m\u001b[0;36m1\u001b[0m\u001b[0;34m)\u001b[0m\u001b[0;34m\u001b[0m\u001b[0m\n\u001b[0;32m---> 97\u001b[0;31m   \u001b[0mdw\u001b[0m \u001b[0;34m=\u001b[0m \u001b[0mdout_reshaped\u001b[0m\u001b[0;34m.\u001b[0m\u001b[0mdot\u001b[0m\u001b[0;34m(\u001b[0m\u001b[0mx_cols\u001b[0m\u001b[0;34m.\u001b[0m\u001b[0mT\u001b[0m\u001b[0;34m)\u001b[0m\u001b[0;34m.\u001b[0m\u001b[0mreshape\u001b[0m\u001b[0;34m(\u001b[0m\u001b[0mw\u001b[0m\u001b[0;34m.\u001b[0m\u001b[0mshape\u001b[0m\u001b[0;34m)\u001b[0m\u001b[0;34m\u001b[0m\u001b[0m\n\u001b[0m\u001b[1;32m     98\u001b[0m \u001b[0;34m\u001b[0m\u001b[0m\n\u001b[1;32m     99\u001b[0m   \u001b[0mdx_cols\u001b[0m \u001b[0;34m=\u001b[0m \u001b[0mw\u001b[0m\u001b[0;34m.\u001b[0m\u001b[0mreshape\u001b[0m\u001b[0;34m(\u001b[0m\u001b[0mF\u001b[0m\u001b[0;34m,\u001b[0m \u001b[0;34m-\u001b[0m\u001b[0;36m1\u001b[0m\u001b[0;34m)\u001b[0m\u001b[0;34m.\u001b[0m\u001b[0mT\u001b[0m\u001b[0;34m.\u001b[0m\u001b[0mdot\u001b[0m\u001b[0;34m(\u001b[0m\u001b[0mdout_reshaped\u001b[0m\u001b[0;34m)\u001b[0m\u001b[0;34m\u001b[0m\u001b[0m\n",
        "\u001b[0;31mKeyboardInterrupt\u001b[0m: "
       ]
      }
     ],
     "prompt_number": 11
    },
    {
     "cell_type": "markdown",
     "metadata": {},
     "source": [
      "#II. Transfer Learning on Rubiks Cubes"
     ]
    },
    {
     "cell_type": "markdown",
     "metadata": {},
     "source": [
      "### Get Data"
     ]
    },
    {
     "cell_type": "code",
     "collapsed": false,
     "input": [
      "X_train, X_val, y_train, y_val = load_dataset_localization(client, train_size=0.8)\n",
      "print 'Train data shape: ', X_train.shape\n",
      "print 'Train labels shape: ', y_train.shape\n",
      "print 'Validation data shape: ', X_val.shape\n",
      "print 'Validation labels shape: ', y_val.shape"
     ],
     "language": "python",
     "metadata": {},
     "outputs": [
      {
       "output_type": "stream",
       "stream": "stdout",
       "text": [
        "Train data shape:  (312, 3, 46, 80)\n",
        "Train labels shape:  (312, 2)\n",
        "Validation data shape:  (79, 3, 46, 80)\n",
        "Validation labels shape:  (79, 2)\n"
       ]
      }
     ],
     "prompt_number": 175
    },
    {
     "cell_type": "markdown",
     "metadata": {},
     "source": [
      "### Get Model"
     ]
    },
    {
     "cell_type": "code",
     "collapsed": false,
     "input": [
      "#=====[ LOAD MODEL ]=====\n",
      "#*****\n",
      "model_path = os.path.join(models_path, 'transferred/convnet_10s.pkl')\n",
      "model = pickle.load(open(model_path))\n",
      "#*****"
     ],
     "language": "python",
     "metadata": {},
     "outputs": [],
     "prompt_number": 176
    },
    {
     "cell_type": "code",
     "collapsed": false,
     "input": [
      "#=====[ TRAIN MODEL ]=====\n",
      "#*****\n",
      "convnet = LocalizationConvNet()\n",
      "\n",
      "out = convnet.train_localization_convnet(   \n",
      "                                            X_train, y_train,\n",
      "                                            X_val, y_val,\n",
      "                                            pretrained_model\n",
      "                                        )\n",
      "model, loss_hist, train_acc_hist, val_acc_hist = out\n",
      "pickle.dump(model, open('models/localization/transferred/convnet_10s.pkl', 'w'))\n",
      "#*****"
     ],
     "language": "python",
     "metadata": {},
     "outputs": [
      {
       "output_type": "stream",
       "stream": "stdout",
       "text": [
        "starting iteration  0\n",
        "NEW BEST MODEL"
       ]
      },
      {
       "output_type": "stream",
       "stream": "stdout",
       "text": [
        "\n",
        "Finished epoch 0 / 100: cost 0.371061, train: 0.247808, val 0.236347, lr 5.000000e-05\n",
        "Finished epoch 1 / 100: cost 0.117382, train: 0.074322, val 0.065073, lr 5.000000e-05"
       ]
      },
      {
       "output_type": "stream",
       "stream": "stdout",
       "text": [
        "\n",
        "starting iteration "
       ]
      },
      {
       "output_type": "stream",
       "stream": "stdout",
       "text": [
        " 10\n",
        "mean prediction on X: "
       ]
      },
      {
       "output_type": "stream",
       "stream": "stdout",
       "text": [
        " 0.491575\n",
        "mean difference with y:  0.120366\n",
        "Finished epoch 2 / 100: cost 0.089517, train: 0.039590, val 0.039984, lr 5.000000e-05"
       ]
      },
      {
       "output_type": "stream",
       "stream": "stdout",
       "text": [
        "\n",
        "mean prediction on X: "
       ]
      },
      {
       "output_type": "stream",
       "stream": "stdout",
       "text": [
        " 0.461718\n",
        "mean difference with y:  0.109172\n",
        "mean prediction on X: "
       ]
      },
      {
       "output_type": "stream",
       "stream": "stdout",
       "text": [
        " 0.473582\n",
        "mean difference with y:  0.103455\n",
        "mean prediction on X: "
       ]
      },
      {
       "output_type": "stream",
       "stream": "stdout",
       "text": [
        " 0.442807\n",
        "mean difference with y:  0.108543\n",
        "mean prediction on X: "
       ]
      },
      {
       "output_type": "stream",
       "stream": "stdout",
       "text": [
        " 0.471115\n",
        "mean difference with y:  0.0983726\n",
        "mean prediction on X: "
       ]
      },
      {
       "output_type": "stream",
       "stream": "stdout",
       "text": [
        " 0.489316\n",
        "mean difference with y:  0.0978552\n",
        "mean prediction on X: "
       ]
      },
      {
       "output_type": "stream",
       "stream": "stdout",
       "text": [
        " 0.4677\n",
        "mean difference with y:  0.0924322\n",
        "Finished epoch 3 / 100: cost 0.068991, train: 0.027625, val 0.030601, lr 5.000000e-05"
       ]
      },
      {
       "output_type": "stream",
       "stream": "stdout",
       "text": [
        "\n",
        "mean prediction on X: "
       ]
      },
      {
       "output_type": "stream",
       "stream": "stdout",
       "text": [
        " 0.473454\n",
        "mean difference with y:  0.0900311\n",
        "mean prediction on X: "
       ]
      },
      {
       "output_type": "stream",
       "stream": "stdout",
       "text": [
        " 0.451519\n",
        "mean difference with y:  0.0894736\n",
        "starting iteration  20\n"
       ]
      },
      {
       "output_type": "stream",
       "stream": "stderr",
       "text": [
        "[autoreload of convcube.localization.training failed: Traceback (most recent call last):\n",
        "  File \"/Users/jayhack/anaconda/lib/python2.7/site-packages/IPython/extensions/autoreload.py\", line 247, in check\n",
        "    superreload(m, reload, self.old_objects)\n",
        "  File \"./convcube/localization/training.py\", line 110\n",
        "    for p in model:\n",
        "      ^\n",
        "IndentationError: expected an indented block\n",
        "]\n"
       ]
      },
      {
       "ename": "KeyboardInterrupt",
       "evalue": "",
       "output_type": "pyerr",
       "traceback": [
        "\u001b[0;31m---------------------------------------------------------------------------\u001b[0m\n\u001b[0;31mKeyboardInterrupt\u001b[0m                         Traceback (most recent call last)",
        "\u001b[0;32m<ipython-input-178-4f55b1228029>\u001b[0m in \u001b[0;36m<module>\u001b[0;34m()\u001b[0m\n\u001b[1;32m      6\u001b[0m                                             \u001b[0mX_train\u001b[0m\u001b[0;34m,\u001b[0m \u001b[0my_train\u001b[0m\u001b[0;34m,\u001b[0m\u001b[0;34m\u001b[0m\u001b[0m\n\u001b[1;32m      7\u001b[0m                                             \u001b[0mX_val\u001b[0m\u001b[0;34m,\u001b[0m \u001b[0my_val\u001b[0m\u001b[0;34m,\u001b[0m\u001b[0;34m\u001b[0m\u001b[0m\n\u001b[0;32m----> 8\u001b[0;31m                                             \u001b[0mpretrained_model\u001b[0m\u001b[0;34m\u001b[0m\u001b[0m\n\u001b[0m\u001b[1;32m      9\u001b[0m                                         )\n\u001b[1;32m     10\u001b[0m \u001b[0mmodel\u001b[0m\u001b[0;34m,\u001b[0m \u001b[0mloss_hist\u001b[0m\u001b[0;34m,\u001b[0m \u001b[0mtrain_acc_hist\u001b[0m\u001b[0;34m,\u001b[0m \u001b[0mval_acc_hist\u001b[0m \u001b[0;34m=\u001b[0m \u001b[0mout\u001b[0m\u001b[0;34m\u001b[0m\u001b[0m\n",
        "\u001b[0;32m/Users/jayhack/Academics/CS/231N - CNN/Project/code/convcube/localization/convnet.py\u001b[0m in \u001b[0;36mtrain_localization_convnet\u001b[0;34m(self, X_train, y_train, X_val, y_val, pretrained_model)\u001b[0m\n\u001b[1;32m    260\u001b[0m                                                                                                                                                 \u001b[0mbatch_size\u001b[0m\u001b[0;34m=\u001b[0m\u001b[0;36m50\u001b[0m\u001b[0;34m,\u001b[0m \u001b[0mnum_epochs\u001b[0m\u001b[0;34m=\u001b[0m\u001b[0;36m100\u001b[0m\u001b[0;34m,\u001b[0m\u001b[0;34m\u001b[0m\u001b[0m\n\u001b[1;32m    261\u001b[0m                                                                                                                                                 \u001b[0mlearning_rate_decay\u001b[0m\u001b[0;34m=\u001b[0m\u001b[0;36m1.0\u001b[0m\u001b[0;34m,\u001b[0m\u001b[0;34m\u001b[0m\u001b[0m\n\u001b[0;32m--> 262\u001b[0;31m                                                                                                                                                 \u001b[0mupdate\u001b[0m\u001b[0;34m=\u001b[0m\u001b[0;34m'rmsprop'\u001b[0m\u001b[0;34m,\u001b[0m \u001b[0mverbose\u001b[0m\u001b[0;34m=\u001b[0m\u001b[0mTrue\u001b[0m\u001b[0;34m\u001b[0m\u001b[0m\n\u001b[0m\u001b[1;32m    263\u001b[0m \t\t\t\t\t\t\t\t\t\t\t\t\t\t\t\t\t)\n\u001b[1;32m    264\u001b[0m                 \u001b[0;32mreturn\u001b[0m \u001b[0mmodel\u001b[0m\u001b[0;34m,\u001b[0m \u001b[0mloss_hist\u001b[0m\u001b[0;34m,\u001b[0m \u001b[0mtrain_acc_hist\u001b[0m\u001b[0;34m,\u001b[0m \u001b[0mval_acc_hist\u001b[0m\u001b[0;34m\u001b[0m\u001b[0m\n",
        "\u001b[0;32m/Users/jayhack/Academics/CS/231N - CNN/Project/code/convcube/localization/training.py\u001b[0m in \u001b[0;36mtrain\u001b[0;34m(self, X, y, X_val, y_val, model, loss_function, reg, dropout, learning_rate, momentum, learning_rate_decay, update, sample_batches, num_epochs, batch_size, acc_frequency, augment_fn, predict_fn, verbose)\u001b[0m\n\u001b[1;32m     95\u001b[0m \u001b[0;34m\u001b[0m\u001b[0m\n\u001b[1;32m     96\u001b[0m       \u001b[0;31m#=====[ EVALUATE COST AND GRADIENT ]=====\u001b[0m\u001b[0;34m\u001b[0m\u001b[0;34m\u001b[0m\u001b[0m\n\u001b[0;32m---> 97\u001b[0;31m       \u001b[0mcost\u001b[0m\u001b[0;34m,\u001b[0m \u001b[0mgrads\u001b[0m \u001b[0;34m=\u001b[0m \u001b[0mloss_function\u001b[0m\u001b[0;34m(\u001b[0m\u001b[0mX_batch\u001b[0m\u001b[0;34m,\u001b[0m \u001b[0mmodel\u001b[0m\u001b[0;34m,\u001b[0m \u001b[0my_batch\u001b[0m\u001b[0;34m,\u001b[0m \u001b[0mreg\u001b[0m\u001b[0;34m=\u001b[0m\u001b[0mreg\u001b[0m\u001b[0;34m,\u001b[0m \u001b[0mdropout\u001b[0m\u001b[0;34m=\u001b[0m\u001b[0mdropout\u001b[0m\u001b[0;34m)\u001b[0m\u001b[0;34m\u001b[0m\u001b[0m\n\u001b[0m\u001b[1;32m     98\u001b[0m       \u001b[0mloss_history\u001b[0m\u001b[0;34m.\u001b[0m\u001b[0mappend\u001b[0m\u001b[0;34m(\u001b[0m\u001b[0mcost\u001b[0m\u001b[0;34m)\u001b[0m\u001b[0;34m\u001b[0m\u001b[0m\n\u001b[1;32m     99\u001b[0m \u001b[0;34m\u001b[0m\u001b[0m\n",
        "\u001b[0;32m/Users/jayhack/Academics/CS/231N - CNN/Project/code/convcube/localization/convnet.py\u001b[0m in \u001b[0;36mlocalization_convnet\u001b[0;34m(self, X, model, y, reg, dropout)\u001b[0m\n\u001b[1;32m    229\u001b[0m                         \u001b[0mda2\u001b[0m \u001b[0;34m=\u001b[0m \u001b[0mdropout_backward\u001b[0m\u001b[0;34m(\u001b[0m\u001b[0mdd2\u001b[0m\u001b[0;34m,\u001b[0m \u001b[0mcache3\u001b[0m\u001b[0;34m)\u001b[0m\u001b[0;34m\u001b[0m\u001b[0m\n\u001b[1;32m    230\u001b[0m                 \u001b[0mda1\u001b[0m\u001b[0;34m,\u001b[0m \u001b[0mdW2\u001b[0m\u001b[0;34m,\u001b[0m \u001b[0mdb2\u001b[0m \u001b[0;34m=\u001b[0m \u001b[0maffine_relu_backward\u001b[0m\u001b[0;34m(\u001b[0m\u001b[0mda2\u001b[0m\u001b[0;34m,\u001b[0m \u001b[0mcache2\u001b[0m\u001b[0;34m)\u001b[0m\u001b[0;34m\u001b[0m\u001b[0m\n\u001b[0;32m--> 231\u001b[0;31m                 \u001b[0mdX\u001b[0m\u001b[0;34m,\u001b[0m \u001b[0mdW1\u001b[0m\u001b[0;34m,\u001b[0m \u001b[0mdb1\u001b[0m \u001b[0;34m=\u001b[0m \u001b[0mconv_relu_pool_backward\u001b[0m\u001b[0;34m(\u001b[0m\u001b[0mda1\u001b[0m\u001b[0;34m,\u001b[0m \u001b[0mcache1\u001b[0m\u001b[0;34m)\u001b[0m\u001b[0;34m\u001b[0m\u001b[0m\n\u001b[0m\u001b[1;32m    232\u001b[0m \u001b[0;34m\u001b[0m\u001b[0m\n\u001b[1;32m    233\u001b[0m                 \u001b[0;31m#=====[ Step 5: regularize gradients, get total loss    ]=====\u001b[0m\u001b[0;34m\u001b[0m\u001b[0;34m\u001b[0m\u001b[0m\n",
        "\u001b[0;31mKeyboardInterrupt\u001b[0m: "
       ]
      }
     ],
     "prompt_number": 178
    },
    {
     "cell_type": "markdown",
     "metadata": {},
     "source": [
      "### Visualize Loss"
     ]
    },
    {
     "cell_type": "code",
     "collapsed": false,
     "input": [
      "import seaborn as sns\n",
      "plt.plot(train_acc_hist[5:])\n",
      "plt.plot(val_acc_hist[5:])\n",
      "plt.xlabel('Training Epoch')\n",
      "plt.ylabel('Loss')\n",
      "plt.title('Training and Validation Loss During Training')"
     ],
     "language": "python",
     "metadata": {},
     "outputs": [
      {
       "metadata": {},
       "output_type": "pyout",
       "prompt_number": 150,
       "text": [
        "<matplotlib.text.Text at 0x143f3c750>"
       ]
      },
      {
       "metadata": {},
       "output_type": "display_data",
       "png": "[encoded data removed]",
       "text": [
        "<matplotlib.figure.Figure at 0x10c3cfc90>"
       ]
      }
     ],
     "prompt_number": 150
    },
    {
     "cell_type": "markdown",
     "metadata": {},
     "source": [
      "### Visualize Cost"
     ]
    },
    {
     "cell_type": "code",
     "collapsed": false,
     "input": [
      "plt.plot(loss_hist[20:])\n",
      "plt.xlabel('Training Epoch')\n",
      "plt.ylabel('Loss')\n",
      "plt.title('loss hist over training')"
     ],
     "language": "python",
     "metadata": {},
     "outputs": [
      {
       "metadata": {},
       "output_type": "pyout",
       "prompt_number": 151,
       "text": [
        "<matplotlib.text.Text at 0x11325bcd0>"
       ]
      },
      {
       "metadata": {},
       "output_type": "display_data",
       "png": "[encoded data removed]",
       "text": [
        "<matplotlib.figure.Figure at 0x11318c390>"
       ]
      }
     ],
     "prompt_number": 151
    },
    {
     "cell_type": "markdown",
     "metadata": {},
     "source": [
      "#III. Visualizing Results"
     ]
    },
    {
     "cell_type": "code",
     "collapsed": false,
     "input": [
      "from convcube import ConvNetCube\n",
      "from convcube.utils.wrangling import iter_unlabeled_frames\n",
      "from convcube.utils.wrangling import iter_labeled_frames\n",
      "from convcube.localization.utils import get_y_localization\n",
      "from convcube.localization.utils import get_X_localization\n",
      "from convcube.utils.drawing import draw_points\n",
      "cube = ConvNetCube(loc_model=model)"
     ],
     "language": "python",
     "metadata": {},
     "outputs": [],
     "prompt_number": 152
    },
    {
     "cell_type": "markdown",
     "metadata": {},
     "source": [
      "### On Labeled Frames"
     ]
    },
    {
     "cell_type": "code",
     "collapsed": false,
     "input": [
      "model = pickle.load(open('models/localization/transferred/convnet_10s.pkl'))\n",
      "convnet = LocalizationConvNet()\n",
      "scores = convnet.localization_convnet(X_train, model)\n",
      "print scores.mean() #should be around 0.5..."
     ],
     "language": "python",
     "metadata": {},
     "outputs": [],
     "prompt_number": 165
    },
    {
     "cell_type": "code",
     "collapsed": false,
     "input": [
      "convnet = LocalizationConvNet()\n",
      "scores = convnet.localization_convnet(X_val, model)\n",
      "\n",
      "for frame in iter_labeled_frames(client):\n",
      "\n",
      "    image = frame['image'].copy()\n",
      "    kpts = frame['interior_points']\n",
      "    X = get_X_localization(frame['image'])\n",
      "    y = get_y_localization(frame['interior_points'])\n",
      "    print X.shape\n",
      "    y = y.reshape(1,2)\n",
      "    \n",
      "    loss, grads = convnet.localization_convnet(X, model, y=y)\n",
      "    print loss\n",
      "#     print y, y_pred, abs(y-y_pred)\n",
      "    \n",
      "#     y[0] = y[0] * 640\n",
      "#     y[1] = y[1] * 360\n",
      "#     pt = frame['interior_points'][0]    \n",
      "#     disp_img = image.copy()\n",
      "#     cv2.circle(disp_img, (int(y[0]), int(y[1])), 5, color=(0, 255, 0), thickness=2)\n",
      "#     plt.imshow(disp_img[:,:,::-1])\n",
      "    #     print frame['interior_points']\n",
      "#     X = get_X_localization(frame['image'])\n",
      "#     loss, grads = conv.localization_convnet(X, model, y=y)\n",
      "#     print loss, grads"
     ],
     "language": "python",
     "metadata": {},
     "outputs": [
      {
       "output_type": "stream",
       "stream": "stdout",
       "text": [
        "(1, 3, 46, 80)\n",
        "13.6446905136\n",
        "(1, 3, 46, 80)\n",
        "14.0204238892\n",
        "(1, 3, 46, 80)"
       ]
      },
      {
       "output_type": "stream",
       "stream": "stdout",
       "text": [
        "\n",
        "14.034869194\n",
        "(1, 3, 46, 80)\n",
        "14.7938079834"
       ]
      },
      {
       "output_type": "stream",
       "stream": "stdout",
       "text": [
        "\n",
        "(1, 3, 46, 80)\n",
        "13.8299255371\n",
        "(1, 3, 46, 80)"
       ]
      },
      {
       "output_type": "stream",
       "stream": "stdout",
       "text": [
        "\n",
        "11.8986310959\n",
        "(1, 3, 46, 80)\n",
        "11.5987968445\n",
        "(1, 3, 46, 80)"
       ]
      },
      {
       "output_type": "stream",
       "stream": "stdout",
       "text": [
        "\n",
        "14.0107498169\n",
        "(1, 3, 46, 80)\n",
        "12.3016242981\n",
        "(1, 3, 46, 80)\n",
        "16.3908348083"
       ]
      },
      {
       "output_type": "stream",
       "stream": "stdout",
       "text": [
        "\n",
        "(1, 3, 46, 80)\n",
        "16.0406703949\n",
        "(1, 3, 46, 80)\n",
        "16.4643936157\n",
        "(1, 3, 46, 80)"
       ]
      },
      {
       "output_type": "stream",
       "stream": "stdout",
       "text": [
        "\n",
        "16.5381202698\n",
        "(1, 3, 46, 80)\n",
        "28.855140686\n",
        "(1, 3, 46, 80)\n",
        "15.2788906097"
       ]
      },
      {
       "output_type": "stream",
       "stream": "stdout",
       "text": [
        "\n",
        "(1, 3, 46, 80)\n",
        "15.384057045\n",
        "(1, 3, 46, 80)\n",
        "15.0265378952\n",
        "(1, 3, 46, 80)"
       ]
      },
      {
       "output_type": "stream",
       "stream": "stdout",
       "text": [
        "\n",
        "14.6183366776\n",
        "(1, 3, 46, 80)\n",
        "14.391368866\n",
        "(1, 3, 46, 80)\n",
        "13.4109745026"
       ]
      },
      {
       "output_type": "stream",
       "stream": "stdout",
       "text": [
        "\n",
        "(1, 3, 46, 80)\n",
        "15.3863096237\n",
        "(1, 3, 46, 80)\n",
        "14.8312473297"
       ]
      },
      {
       "output_type": "stream",
       "stream": "stdout",
       "text": [
        "\n",
        "(1, 3, 46, 80)\n",
        "51.4369049072\n",
        "(1, 3, 46, 80)\n",
        "50.7628059387\n",
        "(1, 3, 46, 80)"
       ]
      },
      {
       "output_type": "stream",
       "stream": "stdout",
       "text": [
        "\n",
        "13.1164484024\n",
        "(1, 3, 46, 80)\n",
        "11.1125135422\n",
        "(1, 3, 46, 80)\n",
        "53.6214256287"
       ]
      },
      {
       "output_type": "stream",
       "stream": "stdout",
       "text": [
        "\n",
        "(1, 3, 46, 80)\n",
        "53.1121749878\n",
        "(1, 3, 46, 80)\n",
        "53.1844787598\n",
        "(1, 3, 46, 80)"
       ]
      },
      {
       "output_type": "stream",
       "stream": "stdout",
       "text": [
        "\n",
        "53.6378250122\n",
        "(1, 3, 46, 80)\n",
        "30.9311008453\n",
        "(1, 3, 46, 80)\n",
        "27.118024826\n",
        "(1, 3, 46, 80)"
       ]
      },
      {
       "output_type": "stream",
       "stream": "stdout",
       "text": [
        "\n",
        "39.1357917786\n",
        "(1, 3, 46, 80)\n",
        "39.8505058289\n",
        "(1, 3, 46, 80)\n",
        "40.7102432251"
       ]
      },
      {
       "output_type": "stream",
       "stream": "stdout",
       "text": [
        "\n",
        "(1, 3, 46, 80)\n",
        "39.6484832764\n",
        "(1, 3, 46, 80)"
       ]
      },
      {
       "output_type": "stream",
       "stream": "stdout",
       "text": [
        "\n",
        "38.4321098328\n",
        "(1, 3, 46, 80)"
       ]
      },
      {
       "output_type": "stream",
       "stream": "stdout",
       "text": [
        "\n",
        "38.5966949463\n",
        "(1, 3, 46, 80)"
       ]
      },
      {
       "output_type": "stream",
       "stream": "stdout",
       "text": [
        "\n",
        "38.680973053\n",
        "(1, 3, 46, 80)\n",
        "34.962436676"
       ]
      },
      {
       "output_type": "stream",
       "stream": "stdout",
       "text": [
        "\n",
        "(1, 3, 46, 80)\n",
        "22.6502075195\n",
        "(1, 3, 46, 80)\n",
        "5.81014347076"
       ]
      },
      {
       "output_type": "stream",
       "stream": "stdout",
       "text": [
        "\n",
        "(1, 3, 46, 80)\n",
        "51.8658638\n",
        "(1, 3, 46, 80)\n",
        "51.3542938232\n",
        "(1, 3, 46, 80)"
       ]
      },
      {
       "output_type": "stream",
       "stream": "stdout",
       "text": [
        "\n",
        "5.17207813263\n",
        "(1, 3, 46, 80)\n",
        "7.39393615723\n",
        "(1, 3, 46, 80)\n",
        "4.35918092728\n",
        "(1, 3, 46, 80)"
       ]
      },
      {
       "output_type": "stream",
       "stream": "stdout",
       "text": [
        "\n",
        "4.31964683533\n",
        "(1, 3, 46, 80)\n",
        "58.9705123901\n",
        "(1, 3, 46, 80)\n",
        "52.2957229614"
       ]
      },
      {
       "output_type": "stream",
       "stream": "stdout",
       "text": [
        "\n",
        "(1, 3, 46, 80)\n",
        "50.3760375977\n",
        "(1, 3, 46, 80)\n",
        "55.0004844666\n",
        "(1, 3, 46, 80)"
       ]
      },
      {
       "output_type": "stream",
       "stream": "stdout",
       "text": [
        "\n",
        "51.6284751892\n",
        "(1, 3, 46, 80)\n",
        "34.2302284241\n",
        "(1, 3, 46, 80)\n",
        "50.2816162109\n",
        "(1, 3, 46, 80)"
       ]
      },
      {
       "output_type": "stream",
       "stream": "stdout",
       "text": [
        "\n",
        "50.1544151306\n",
        "(1, 3, 46, 80)\n",
        "14.8553762436\n",
        "(1, 3, 46, 80)\n",
        "14.0124778748"
       ]
      },
      {
       "output_type": "stream",
       "stream": "stdout",
       "text": [
        "\n",
        "(1, 3, 46, 80)\n",
        "15.9278841019\n",
        "(1, 3, 46, 80)\n",
        "19.146188736"
       ]
      },
      {
       "output_type": "stream",
       "stream": "stdout",
       "text": [
        "\n",
        "(1, 3, 46, 80)\n",
        "24.1441326141\n",
        "(1, 3, 46, 80)\n",
        "15.8099184036"
       ]
      },
      {
       "output_type": "stream",
       "stream": "stdout",
       "text": [
        "\n",
        "(1, 3, 46, 80)\n",
        "14.6856307983\n",
        "(1, 3, 46, 80)"
       ]
      },
      {
       "output_type": "stream",
       "stream": "stdout",
       "text": [
        "\n",
        "13.8180418015\n",
        "(1, 3, 46, 80)\n",
        "32.9603805542"
       ]
      },
      {
       "output_type": "stream",
       "stream": "stdout",
       "text": [
        "\n",
        "(1, 3, 46, 80)\n",
        "29.6830215454\n",
        "(1, 3, 46, 80)\n",
        "31.9871692657"
       ]
      },
      {
       "output_type": "stream",
       "stream": "stdout",
       "text": [
        "\n",
        "(1, 3, 46, 80)\n",
        "31.1579551697\n",
        "(1, 3, 46, 80)"
       ]
      },
      {
       "output_type": "stream",
       "stream": "stdout",
       "text": [
        "\n",
        "34.7961845398\n",
        "(1, 3, 46, 80)\n",
        "34.5568504333\n",
        "(1, 3, 46, 80)"
       ]
      },
      {
       "output_type": "stream",
       "stream": "stdout",
       "text": [
        "\n",
        "40.8907012939\n",
        "(1, 3, 46, 80)\n",
        "38.9499015808\n",
        "(1, 3, 46, 80)"
       ]
      },
      {
       "output_type": "stream",
       "stream": "stdout",
       "text": [
        "\n",
        "34.9674720764\n",
        "(1, 3, 46, 80)\n",
        "37.7370185852\n",
        "(1, 3, 46, 80)\n",
        "32.4475212097"
       ]
      },
      {
       "output_type": "stream",
       "stream": "stdout",
       "text": [
        "\n",
        "(1, 3, 46, 80)\n",
        "34.51587677\n",
        "(1, 3, 46, 80)\n",
        "36.8440513611"
       ]
      },
      {
       "output_type": "stream",
       "stream": "stdout",
       "text": [
        "\n",
        "(1, 3, 46, 80)\n",
        "52.11460495\n",
        "(1, 3, 46, 80)\n",
        "52.5791053772\n",
        "(1, 3, 46, 80)"
       ]
      },
      {
       "output_type": "stream",
       "stream": "stdout",
       "text": [
        "\n",
        "52.0779266357\n",
        "(1, 3, 46, 80)\n",
        "52.2331886292\n",
        "(1, 3, 46, 80)\n",
        "50.5684738159"
       ]
      },
      {
       "output_type": "stream",
       "stream": "stdout",
       "text": [
        "\n",
        "(1, 3, 46, 80)\n",
        "49.6231269836\n",
        "(1, 3, 46, 80)\n",
        "47.3590126038"
       ]
      },
      {
       "output_type": "stream",
       "stream": "stdout",
       "text": [
        "\n",
        "(1, 3, 46, 80)\n",
        "46.8490943909\n",
        "(1, 3, 46, 80)\n",
        "32.3647460938"
       ]
      },
      {
       "output_type": "stream",
       "stream": "stdout",
       "text": [
        "\n",
        "(1, 3, 46, 80)\n",
        "31.728012085\n",
        "(1, 3, 46, 80)\n",
        "34.9578132629\n",
        "(1, 3, 46, 80)"
       ]
      },
      {
       "output_type": "stream",
       "stream": "stdout",
       "text": [
        "\n",
        "33.7945671082\n",
        "(1, 3, 46, 80)\n",
        "37.1931381226\n",
        "(1, 3, 46, 80)\n",
        "35.1302337646"
       ]
      },
      {
       "output_type": "stream",
       "stream": "stdout",
       "text": [
        "\n",
        "(1, 3, 46, 80)\n",
        "37.9945106506\n",
        "(1, 3, 46, 80)\n",
        "38.7714347839\n",
        "(1, 3, 46, 80)"
       ]
      },
      {
       "output_type": "stream",
       "stream": "stdout",
       "text": [
        "\n",
        "36.5340881348\n",
        "(1, 3, 46, 80)\n",
        "36.6013793945\n",
        "(1, 3, 46, 80)\n",
        "52.4669380188"
       ]
      },
      {
       "output_type": "stream",
       "stream": "stdout",
       "text": [
        "\n",
        "(1, 3, 46, 80)\n",
        "52.2479324341\n",
        "(1, 3, 46, 80)\n",
        "56.1359634399\n",
        "(1, 3, 46, 80)"
       ]
      },
      {
       "output_type": "stream",
       "stream": "stdout",
       "text": [
        "\n",
        "58.2902183533\n",
        "(1, 3, 46, 80)\n",
        "53.7482376099\n",
        "(1, 3, 46, 80)\n",
        "54.8561172485"
       ]
      },
      {
       "output_type": "stream",
       "stream": "stdout",
       "text": [
        "\n",
        "(1, 3, 46, 80)\n",
        "54.4395446777\n",
        "(1, 3, 46, 80)\n",
        "54.206943512"
       ]
      },
      {
       "output_type": "stream",
       "stream": "stdout",
       "text": [
        "\n",
        "(1, 3, 46, 80)\n",
        "57.1596412659\n",
        "(1, 3, 46, 80)\n",
        "55.8381233215\n",
        "(1, 3, 46, 80)"
       ]
      },
      {
       "output_type": "stream",
       "stream": "stdout",
       "text": [
        "\n",
        "51.234664917\n",
        "(1, 3, 46, 80)\n",
        "28.3046455383\n",
        "(1, 3, 46, 80)\n",
        "52.4452476501"
       ]
      },
      {
       "output_type": "stream",
       "stream": "stdout",
       "text": [
        "\n",
        "(1, 3, 46, 80)\n",
        "51.9512901306\n",
        "(1, 3, 46, 80)\n",
        "47.5987815857\n",
        "(1, 3, 46, 80)"
       ]
      },
      {
       "output_type": "stream",
       "stream": "stdout",
       "text": [
        "\n",
        "41.1848487854\n",
        "(1, 3, 46, 80)\n",
        "13.1648159027\n",
        "(1, 3, 46, 80)"
       ]
      },
      {
       "output_type": "stream",
       "stream": "stdout",
       "text": [
        "\n",
        "13.7533540726\n",
        "(1, 3, 46, 80)\n",
        "15.2697219849\n",
        "(1, 3, 46, 80)"
       ]
      },
      {
       "output_type": "stream",
       "stream": "stdout",
       "text": [
        "\n",
        "16.088476181\n",
        "(1, 3, 46, 80)\n",
        "14.1436128616\n",
        "(1, 3, 46, 80)"
       ]
      },
      {
       "output_type": "stream",
       "stream": "stdout",
       "text": [
        "\n",
        "14.8216676712\n",
        "(1, 3, 46, 80)\n",
        "16.5384712219\n",
        "(1, 3, 46, 80)"
       ]
      },
      {
       "output_type": "stream",
       "stream": "stdout",
       "text": [
        "\n",
        "16.255947113\n",
        "(1, 3, 46, 80)\n",
        "16.8013916016\n",
        "(1, 3, 46, 80)\n",
        "16.5488357544"
       ]
      },
      {
       "output_type": "stream",
       "stream": "stdout",
       "text": [
        "\n",
        "(1, 3, 46, 80)\n",
        "23.2332839966\n",
        "(1, 3, 46, 80)\n",
        "25.0430316925\n",
        "(1, 3, 46, 80)"
       ]
      },
      {
       "output_type": "stream",
       "stream": "stdout",
       "text": [
        "\n",
        "16.6863708496\n",
        "(1, 3, 46, 80)\n",
        "17.3407306671\n",
        "(1, 3, 46, 80)\n",
        "16.889131546"
       ]
      },
      {
       "output_type": "stream",
       "stream": "stdout",
       "text": [
        "\n",
        "(1, 3, 46, 80)\n",
        "16.6540966034\n",
        "(1, 3, 46, 80)\n",
        "14.3310308456\n",
        "(1, 3, 46, 80)"
       ]
      },
      {
       "output_type": "stream",
       "stream": "stdout",
       "text": [
        "\n",
        "17.8605575562\n",
        "(1, 3, 46, 80)\n",
        "12.0332231522\n",
        "(1, 3, 46, 80)\n",
        "13.9632101059"
       ]
      },
      {
       "output_type": "stream",
       "stream": "stdout",
       "text": [
        "\n",
        "(1, 3, 46, 80)\n",
        "18.0344028473\n",
        "(1, 3, 46, 80)\n",
        "18.0761394501\n",
        "(1, 3, 46, 80)"
       ]
      },
      {
       "output_type": "stream",
       "stream": "stdout",
       "text": [
        "\n",
        "18.3163909912\n",
        "(1, 3, 46, 80)\n",
        "18.0743713379\n",
        "(1, 3, 46, 80)\n",
        "13.4637899399"
       ]
      },
      {
       "output_type": "stream",
       "stream": "stdout",
       "text": [
        "\n",
        "(1, 3, 46, 80)\n",
        "13.6366319656\n",
        "(1, 3, 46, 80)\n",
        "14.5753831863\n",
        "(1, 3, 46, 80)"
       ]
      },
      {
       "output_type": "stream",
       "stream": "stdout",
       "text": [
        "\n",
        "14.6537361145\n",
        "(1, 3, 46, 80)\n",
        "16.0229454041\n",
        "(1, 3, 46, 80)\n",
        "14.068397522"
       ]
      },
      {
       "output_type": "stream",
       "stream": "stdout",
       "text": [
        "\n",
        "(1, 3, 46, 80)\n",
        "13.2413072586\n",
        "(1, 3, 46, 80)\n",
        "13.1203403473\n",
        "(1, 3, 46, 80)"
       ]
      },
      {
       "output_type": "stream",
       "stream": "stdout",
       "text": [
        "\n",
        "17.3445053101\n",
        "(1, 3, 46, 80)\n",
        "16.5373973846\n",
        "(1, 3, 46, 80)\n",
        "17.6123600006"
       ]
      },
      {
       "output_type": "stream",
       "stream": "stdout",
       "text": [
        "\n",
        "(1, 3, 46, 80)\n",
        "17.8409461975\n",
        "(1, 3, 46, 80)\n",
        "16.1805515289\n",
        "(1, 3, 46, 80)"
       ]
      },
      {
       "output_type": "stream",
       "stream": "stdout",
       "text": [
        "\n",
        "15.2183208466\n",
        "(1, 3, 46, 80)\n",
        "16.1548557281\n",
        "(1, 3, 46, 80)\n",
        "16.1035041809\n",
        "(1, 3, 46, 80)"
       ]
      },
      {
       "output_type": "stream",
       "stream": "stdout",
       "text": [
        "\n",
        "16.9403762817\n",
        "(1, 3, 46, 80)\n",
        "17.0902709961\n",
        "(1, 3, 46, 80)\n",
        "16.928855896\n",
        "(1, 3, 46, 80)"
       ]
      },
      {
       "output_type": "stream",
       "stream": "stdout",
       "text": [
        "\n",
        "16.9988918304\n",
        "(1, 3, 46, 80)\n",
        "17.3086166382\n",
        "(1, 3, 46, 80)\n",
        "11.1516056061\n",
        "(1, 3, 46, 80)"
       ]
      },
      {
       "output_type": "stream",
       "stream": "stdout",
       "text": [
        "\n",
        "11.8261899948\n",
        "(1, 3, 46, 80)\n",
        "11.5941009521\n",
        "(1, 3, 46, 80)\n",
        "10.7929372787\n",
        "(1, 3, 46, 80)"
       ]
      },
      {
       "output_type": "stream",
       "stream": "stdout",
       "text": [
        "\n",
        "17.4682750702\n",
        "(1, 3, 46, 80)\n",
        "15.1789445877\n",
        "(1, 3, 46, 80)\n",
        "14.933508873"
       ]
      },
      {
       "output_type": "stream",
       "stream": "stdout",
       "text": [
        "\n",
        "(1, 3, 46, 80)\n",
        "18.9027481079\n",
        "(1, 3, 46, 80)\n",
        "19.1236858368\n",
        "(1, 3, 46, 80)"
       ]
      },
      {
       "output_type": "stream",
       "stream": "stdout",
       "text": [
        "\n",
        "19.0813064575\n",
        "(1, 3, 46, 80)\n",
        "14.9884538651\n",
        "(1, 3, 46, 80)\n",
        "14.4211168289"
       ]
      },
      {
       "output_type": "stream",
       "stream": "stdout",
       "text": [
        "\n",
        "(1, 3, 46, 80)\n",
        "14.6084499359\n",
        "(1, 3, 46, 80)\n",
        "14.2926893234\n",
        "(1, 3, 46, 80)"
       ]
      },
      {
       "output_type": "stream",
       "stream": "stdout",
       "text": [
        "\n",
        "15.6405115128\n",
        "(1, 3, 46, 80)\n",
        "18.5399684906\n",
        "(1, 3, 46, 80)\n",
        "21.7154502869"
       ]
      },
      {
       "output_type": "stream",
       "stream": "stdout",
       "text": [
        "\n",
        "(1, 3, 46, 80)\n",
        "20.6148376465\n",
        "(1, 3, 46, 80)\n",
        "13.7676725388"
       ]
      },
      {
       "output_type": "stream",
       "stream": "stdout",
       "text": [
        "\n",
        "(1, 3, 46, 80)\n",
        "18.0825634003\n",
        "(1, 3, 46, 80)\n",
        "16.388835907"
       ]
      },
      {
       "output_type": "stream",
       "stream": "stdout",
       "text": [
        "\n",
        "(1, 3, 46, 80)\n",
        "17.293756485\n",
        "(1, 3, 46, 80)\n",
        "16.6744022369\n",
        "(1, 3, 46, 80)"
       ]
      },
      {
       "output_type": "stream",
       "stream": "stdout",
       "text": [
        "\n",
        "17.1074371338\n",
        "(1, 3, 46, 80)\n",
        "16.9386081696\n",
        "(1, 3, 46, 80)\n",
        "16.9291152954"
       ]
      },
      {
       "output_type": "stream",
       "stream": "stdout",
       "text": [
        "\n",
        "(1, 3, 46, 80)\n",
        "16.6208591461\n",
        "(1, 3, 46, 80)\n",
        "13.7437753677\n",
        "(1, 3, 46, 80)"
       ]
      },
      {
       "output_type": "stream",
       "stream": "stdout",
       "text": [
        "\n",
        "13.8204154968\n",
        "(1, 3, 46, 80)\n",
        "15.1002016068\n",
        "(1, 3, 46, 80)\n",
        "16.8721313477\n",
        "(1, 3, 46, 80)"
       ]
      },
      {
       "output_type": "stream",
       "stream": "stdout",
       "text": [
        "\n",
        "16.2536182404\n",
        "(1, 3, 46, 80)\n",
        "16.6636943817\n",
        "(1, 3, 46, 80)\n",
        "16.6586933136"
       ]
      },
      {
       "output_type": "stream",
       "stream": "stdout",
       "text": [
        "\n",
        "(1, 3, 46, 80)\n",
        "19.2397136688\n",
        "(1, 3, 46, 80)\n",
        "80.7432174683"
       ]
      },
      {
       "output_type": "stream",
       "stream": "stdout",
       "text": [
        "\n",
        "(1, 3, 46, 80)\n",
        "78.0795593262\n",
        "(1, 3, 46, 80)\n",
        "75.3595275879\n",
        "(1, 3, 46, 80)"
       ]
      },
      {
       "output_type": "stream",
       "stream": "stdout",
       "text": [
        "\n",
        "77.6060562134\n",
        "(1, 3, 46, 80)\n",
        "76.3914718628\n",
        "(1, 3, 46, 80)\n",
        "74.934173584"
       ]
      },
      {
       "output_type": "stream",
       "stream": "stdout",
       "text": [
        "\n",
        "(1, 3, 46, 80)\n",
        "71.7346038818\n",
        "(1, 3, 46, 80)\n",
        "75.1263046265\n",
        "(1, 3, 46, 80)"
       ]
      },
      {
       "output_type": "stream",
       "stream": "stdout",
       "text": [
        "\n",
        "75.593460083\n",
        "(1, 3, 46, 80)\n",
        "71.4561386108\n",
        "(1, 3, 46, 80)\n",
        "72.6839294434"
       ]
      },
      {
       "output_type": "stream",
       "stream": "stdout",
       "text": [
        "\n",
        "(1, 3, 46, 80)\n",
        "72.0219726562\n",
        "(1, 3, 46, 80)\n",
        "58.1200637817"
       ]
      },
      {
       "output_type": "stream",
       "stream": "stdout",
       "text": [
        "\n",
        "(1, 3, 46, 80)\n",
        "74.1385498047\n",
        "(1, 3, 46, 80)\n",
        "73.3927001953"
       ]
      },
      {
       "output_type": "stream",
       "stream": "stdout",
       "text": [
        "\n",
        "(1, 3, 46, 80)\n",
        "74.3087997437\n",
        "(1, 3, 46, 80)"
       ]
      },
      {
       "output_type": "stream",
       "stream": "stdout",
       "text": [
        "\n",
        "72.5214157104\n",
        "(1, 3, 46, 80)\n",
        "63.8107528687\n",
        "(1, 3, 46, 80)\n",
        "63.5671081543"
       ]
      },
      {
       "output_type": "stream",
       "stream": "stdout",
       "text": [
        "\n",
        "(1, 3, 46, 80)\n",
        "75.2319946289\n",
        "(1, 3, 46, 80)\n",
        "69.6288833618\n",
        "(1, 3, 46, 80)"
       ]
      },
      {
       "output_type": "stream",
       "stream": "stdout",
       "text": [
        "\n",
        "77.4964599609\n",
        "(1, 3, 46, 80)\n",
        "76.6126174927\n",
        "(1, 3, 46, 80)\n",
        "77.9645080566"
       ]
      },
      {
       "output_type": "stream",
       "stream": "stdout",
       "text": [
        "\n",
        "(1, 3, 46, 80)\n",
        "78.8076477051\n",
        "(1, 3, 46, 80)\n",
        "75.1026000977\n",
        "(1, 3, 46, 80)"
       ]
      },
      {
       "output_type": "stream",
       "stream": "stdout",
       "text": [
        "\n",
        "80.2791137695\n",
        "(1, 3, 46, 80)\n",
        "80.5976715088\n",
        "(1, 3, 46, 80)\n",
        "79.0637283325"
       ]
      },
      {
       "output_type": "stream",
       "stream": "stdout",
       "text": [
        "\n",
        "(1, 3, 46, 80)\n",
        "58.5159873962\n",
        "(1, 3, 46, 80)\n",
        "84.3092269897\n",
        "(1, 3, 46, 80)"
       ]
      },
      {
       "output_type": "stream",
       "stream": "stdout",
       "text": [
        "\n",
        "56.3433227539\n",
        "(1, 3, 46, 80)\n",
        "74.4709472656\n",
        "(1, 3, 46, 80)\n",
        "75.5135116577"
       ]
      },
      {
       "output_type": "stream",
       "stream": "stdout",
       "text": [
        "\n",
        "(1, 3, 46, 80)\n",
        "74.0967025757\n",
        "(1, 3, 46, 80)\n",
        "75.9443206787\n",
        "(1, 3, 46, 80)"
       ]
      },
      {
       "output_type": "stream",
       "stream": "stdout",
       "text": [
        "\n",
        "76.0462722778\n",
        "(1, 3, 46, 80)\n",
        "80.0629653931\n",
        "(1, 3, 46, 80)\n",
        "60.6685943604"
       ]
      },
      {
       "output_type": "stream",
       "stream": "stdout",
       "text": [
        "\n",
        "(1, 3, 46, 80)\n",
        "59.391494751\n",
        "(1, 3, 46, 80)\n",
        "59.933303833\n",
        "(1, 3, 46, 80)"
       ]
      },
      {
       "output_type": "stream",
       "stream": "stdout",
       "text": [
        "\n",
        "77.7979049683\n",
        "(1, 3, 46, 80)\n",
        "78.6714172363\n",
        "(1, 3, 46, 80)\n",
        "78.1697235107"
       ]
      },
      {
       "output_type": "stream",
       "stream": "stdout",
       "text": [
        "\n",
        "(1, 3, 46, 80)\n",
        "80.7801055908\n",
        "(1, 3, 46, 80)\n",
        "57.4912376404\n",
        "(1, 3, 46, 80)"
       ]
      },
      {
       "output_type": "stream",
       "stream": "stdout",
       "text": [
        "\n",
        "64.7700271606\n",
        "(1, 3, 46, 80)\n",
        "63.2016334534\n",
        "(1, 3, 46, 80)\n",
        "61.593711853"
       ]
      },
      {
       "output_type": "stream",
       "stream": "stdout",
       "text": [
        "\n",
        "(1, 3, 46, 80)\n",
        "60.8865394592\n",
        "(1, 3, 46, 80)\n",
        "60.615978241\n",
        "(1, 3, 46, 80)"
       ]
      },
      {
       "output_type": "stream",
       "stream": "stdout",
       "text": [
        "\n",
        "75.6959457397\n",
        "(1, 3, 46, 80)\n",
        "75.7793121338\n",
        "(1, 3, 46, 80)\n",
        "76.2621612549\n",
        "(1, 3, 46, 80)"
       ]
      },
      {
       "output_type": "stream",
       "stream": "stdout",
       "text": [
        "\n",
        "76.2224655151\n",
        "(1, 3, 46, 80)\n",
        "75.5590057373\n",
        "(1, 3, 46, 80)\n",
        "65.8922576904\n",
        "(1, 3, 46, 80)"
       ]
      },
      {
       "output_type": "stream",
       "stream": "stdout",
       "text": [
        "\n",
        "85.3694000244\n",
        "(1, 3, 46, 80)\n",
        "88.4238433838\n",
        "(1, 3, 46, 80)\n",
        "83.7015533447\n",
        "(1, 3, 46, 80)"
       ]
      },
      {
       "output_type": "stream",
       "stream": "stdout",
       "text": [
        "\n",
        "88.3542938232\n",
        "(1, 3, 46, 80)\n",
        "75.92552948\n",
        "(1, 3, 46, 80)\n",
        "75.4561386108\n",
        "(1, 3, 46, 80)"
       ]
      },
      {
       "output_type": "stream",
       "stream": "stdout",
       "text": [
        "\n",
        "80.5579147339\n",
        "(1, 3, 46, 80)\n",
        "58.0834846497\n",
        "(1, 3, 46, 80)\n",
        "75.3244094849"
       ]
      },
      {
       "output_type": "stream",
       "stream": "stdout",
       "text": [
        "\n",
        "(1, 3, 46, 80)\n",
        "83.9804840088\n",
        "(1, 3, 46, 80)\n",
        "77.7468338013\n",
        "(1, 3, 46, 80)"
       ]
      },
      {
       "output_type": "stream",
       "stream": "stdout",
       "text": [
        "\n",
        "75.9830245972\n",
        "(1, 3, 46, 80)\n",
        "78.8059387207\n",
        "(1, 3, 46, 80)\n",
        "76.5398483276"
       ]
      },
      {
       "output_type": "stream",
       "stream": "stdout",
       "text": [
        "\n",
        "(1, 3, 46, 80)\n",
        "75.9898147583\n",
        "(1, 3, 46, 80)\n",
        "85.0988235474\n",
        "(1, 3, 46, 80)"
       ]
      },
      {
       "output_type": "stream",
       "stream": "stdout",
       "text": [
        "\n",
        "28.2659397125\n",
        "(1, 3, 46, 80)\n",
        "27.6404571533\n",
        "(1, 3, 46, 80)\n",
        "26.6443367004\n",
        "(1, 3, 46, 80)"
       ]
      },
      {
       "output_type": "stream",
       "stream": "stdout",
       "text": [
        "\n",
        "26.6438369751\n",
        "(1, 3, 46, 80)\n",
        "27.2670345306\n",
        "(1, 3, 46, 80)\n",
        "26.923374176\n",
        "(1, 3, 46, 80)"
       ]
      },
      {
       "output_type": "stream",
       "stream": "stdout",
       "text": [
        "\n",
        "25.9612960815\n",
        "(1, 3, 46, 80)\n",
        "25.4732456207\n",
        "(1, 3, 46, 80)\n",
        "26.9001312256\n",
        "(1, 3, 46, 80)"
       ]
      },
      {
       "output_type": "stream",
       "stream": "stdout",
       "text": [
        "\n",
        "26.5995826721\n",
        "(1, 3, 46, 80)\n",
        "26.8334960938\n",
        "(1, 3, 46, 80)\n",
        "26.3036346436\n",
        "(1, 3, 46, 80)"
       ]
      },
      {
       "output_type": "stream",
       "stream": "stdout",
       "text": [
        "\n",
        "25.4859638214\n",
        "(1, 3, 46, 80)\n",
        "26.9760990143\n",
        "(1, 3, 46, 80)\n",
        "24.8751182556\n",
        "(1, 3, 46, 80)"
       ]
      },
      {
       "output_type": "stream",
       "stream": "stdout",
       "text": [
        "\n",
        "25.1091575623\n",
        "(1, 3, 46, 80)\n",
        "25.3571720123\n",
        "(1, 3, 46, 80)"
       ]
      },
      {
       "output_type": "stream",
       "stream": "stdout",
       "text": [
        "\n",
        "25.3782615662\n",
        "(1, 3, 46, 80)\n",
        "40.8623352051\n",
        "(1, 3, 46, 80)"
       ]
      },
      {
       "output_type": "stream",
       "stream": "stdout",
       "text": [
        "\n",
        "36.8759269714\n",
        "(1, 3, 46, 80)\n",
        "36.5020027161\n",
        "(1, 3, 46, 80)"
       ]
      },
      {
       "output_type": "stream",
       "stream": "stdout",
       "text": [
        "\n",
        "40.4074325562\n",
        "(1, 3, 46, 80)\n",
        "38.0860023499\n",
        "(1, 3, 46, 80)"
       ]
      },
      {
       "output_type": "stream",
       "stream": "stdout",
       "text": [
        "\n",
        "39.8856163025\n",
        "(1, 3, 46, 80)\n",
        "39.7293281555"
       ]
      },
      {
       "output_type": "stream",
       "stream": "stdout",
       "text": [
        "\n",
        "(1, 3, 46, 80)\n",
        "38.9307975769\n",
        "(1, 3, 46, 80)"
       ]
      },
      {
       "output_type": "stream",
       "stream": "stdout",
       "text": [
        "\n",
        "38.5097808838\n",
        "(1, 3, 46, 80)\n",
        "33.1798629761"
       ]
      },
      {
       "output_type": "stream",
       "stream": "stdout",
       "text": [
        "\n",
        "(1, 3, 46, 80)\n",
        "33.2863044739"
       ]
      },
      {
       "output_type": "stream",
       "stream": "stdout",
       "text": [
        "\n",
        "(1, 3, 46, 80)\n",
        "32.4127883911\n",
        "(1, 3, 46, 80)"
       ]
      },
      {
       "output_type": "stream",
       "stream": "stdout",
       "text": [
        "\n",
        "30.2124786377\n",
        "(1, 3, 46, 80)\n",
        "33.6938934326\n",
        "(1, 3, 46, 80)"
       ]
      },
      {
       "output_type": "stream",
       "stream": "stdout",
       "text": [
        "\n",
        "38.0602340698\n",
        "(1, 3, 46, 80)\n",
        "37.0743789673\n",
        "(1, 3, 46, 80)"
       ]
      },
      {
       "output_type": "stream",
       "stream": "stdout",
       "text": [
        "\n",
        "38.12865448\n",
        "(1, 3, 46, 80)\n",
        "39.4172744751\n",
        "(1, 3, 46, 80)"
       ]
      },
      {
       "output_type": "stream",
       "stream": "stdout",
       "text": [
        "\n",
        "35.8063468933\n",
        "(1, 3, 46, 80)\n",
        "35.5720558167\n",
        "(1, 3, 46, 80)"
       ]
      },
      {
       "output_type": "stream",
       "stream": "stdout",
       "text": [
        "\n",
        "38.8285903931\n",
        "(1, 3, 46, 80)\n",
        "39.4030075073\n",
        "(1, 3, 46, 80)"
       ]
      },
      {
       "output_type": "stream",
       "stream": "stdout",
       "text": [
        "\n",
        "38.9293899536\n",
        "(1, 3, 46, 80)\n",
        "37.207233429\n",
        "(1, 3, 46, 80)"
       ]
      },
      {
       "output_type": "stream",
       "stream": "stdout",
       "text": [
        "\n",
        "36.9201469421\n",
        "(1, 3, 46, 80)\n",
        "37.1048774719\n",
        "(1, 3, 46, 80)"
       ]
      },
      {
       "output_type": "stream",
       "stream": "stdout",
       "text": [
        "\n",
        "38.3190193176\n",
        "(1, 3, 46, 80)\n",
        "37.425163269\n",
        "(1, 3, 46, 80)"
       ]
      },
      {
       "output_type": "stream",
       "stream": "stdout",
       "text": [
        "\n",
        "34.3622169495\n",
        "(1, 3, 46, 80)"
       ]
      },
      {
       "output_type": "stream",
       "stream": "stdout",
       "text": [
        "\n",
        "32.4280319214\n",
        "(1, 3, 46, 80)\n",
        "28.8878898621"
       ]
      },
      {
       "output_type": "stream",
       "stream": "stdout",
       "text": [
        "\n",
        "(1, 3, 46, 80)\n",
        "31.6858463287\n",
        "(1, 3, 46, 80)"
       ]
      },
      {
       "output_type": "stream",
       "stream": "stdout",
       "text": [
        "\n",
        "40.5374450684\n",
        "(1, 3, 46, 80)\n",
        "39.673286438\n",
        "(1, 3, 46, 80)"
       ]
      },
      {
       "output_type": "stream",
       "stream": "stdout",
       "text": [
        "\n",
        "37.7015342712\n",
        "(1, 3, 46, 80)\n",
        "38.0944023132\n",
        "(1, 3, 46, 80)"
       ]
      },
      {
       "output_type": "stream",
       "stream": "stdout",
       "text": [
        "\n",
        "36.0973548889\n",
        "(1, 3, 46, 80)\n",
        "30.5328960419\n",
        "(1, 3, 46, 80)"
       ]
      },
      {
       "output_type": "stream",
       "stream": "stdout",
       "text": [
        "\n",
        "41.394115448\n",
        "(1, 3, 46, 80)\n",
        "42.6546134949\n",
        "(1, 3, 46, 80)\n",
        "45.0601997375\n",
        "(1, 3, 46, 80)"
       ]
      },
      {
       "output_type": "stream",
       "stream": "stdout",
       "text": [
        "\n",
        "43.4595756531\n",
        "(1, 3, 46, 80)\n",
        "44.3132667542\n",
        "(1, 3, 46, 80)\n",
        "53.2380180359\n",
        "(1, 3, 46, 80)\n",
        "39.1821975708"
       ]
      },
      {
       "output_type": "stream",
       "stream": "stdout",
       "text": [
        "\n",
        "(1, 3, 46, 80)\n",
        "62.0712242126\n",
        "(1, 3, 46, 80)\n",
        "59.7078132629\n",
        "(1, 3, 46, 80)\n",
        "62.1595039368\n",
        "(1, 3, 46, 80)"
       ]
      },
      {
       "output_type": "stream",
       "stream": "stdout",
       "text": [
        "\n",
        "60.5702514648\n",
        "(1, 3, 46, 80)\n",
        "31.7629699707\n",
        "(1, 3, 46, 80)"
       ]
      },
      {
       "output_type": "stream",
       "stream": "stdout",
       "text": [
        "\n",
        "61.3630256653\n",
        "(1, 3, 46, 80)"
       ]
      },
      {
       "output_type": "stream",
       "stream": "stdout",
       "text": [
        "\n",
        "35.0356063843\n",
        "(1, 3, 46, 80)"
       ]
      },
      {
       "output_type": "stream",
       "stream": "stdout",
       "text": [
        "\n",
        "46.1222724915\n",
        "(1, 3, 46, 80)\n",
        "46.9428329468"
       ]
      },
      {
       "output_type": "stream",
       "stream": "stdout",
       "text": [
        "\n",
        "(1, 3, 46, 80)"
       ]
      },
      {
       "output_type": "stream",
       "stream": "stdout",
       "text": [
        "\n",
        "43.1628189087\n",
        "(1, 3, 46, 80)\n",
        "45.5685195923"
       ]
      },
      {
       "output_type": "stream",
       "stream": "stdout",
       "text": [
        "\n",
        "(1, 3, 46, 80)\n",
        "57.5607223511\n",
        "(1, 3, 46, 80)\n",
        "29.4089813232"
       ]
      },
      {
       "output_type": "stream",
       "stream": "stdout",
       "text": [
        "\n",
        "(1, 3, 46, 80)\n",
        "59.8418388367\n",
        "(1, 3, 46, 80)"
       ]
      },
      {
       "output_type": "stream",
       "stream": "stdout",
       "text": [
        "\n",
        "32.8925056458\n",
        "(1, 3, 46, 80)\n",
        "57.4466094971"
       ]
      },
      {
       "output_type": "stream",
       "stream": "stdout",
       "text": [
        "\n",
        "(1, 3, 46, 80)\n",
        "33.3465652466\n",
        "(1, 3, 46, 80)\n",
        "59.8342475891\n",
        "(1, 3, 46, 80)\n",
        "48.9473266602"
       ]
      },
      {
       "output_type": "stream",
       "stream": "stdout",
       "text": [
        "\n",
        "(1, 3, 46, 80)\n",
        "57.7616157532\n",
        "(1, 3, 46, 80)\n",
        "57.0568122864\n",
        "(1, 3, 46, 80)\n",
        "37.6412887573\n",
        "(1, 3, 46, 80)"
       ]
      },
      {
       "output_type": "stream",
       "stream": "stdout",
       "text": [
        "\n",
        "35.3911399841\n",
        "(1, 3, 46, 80)\n",
        "42.4207458496\n",
        "(1, 3, 46, 80)\n",
        "41.7386817932\n",
        "(1, 3, 46, 80)\n",
        "40.8911895752"
       ]
      },
      {
       "output_type": "stream",
       "stream": "stdout",
       "text": [
        "\n",
        "(1, 3, 46, 80)\n",
        "31.2660636902\n",
        "(1, 3, 46, 80)\n",
        "37.4225883484\n",
        "(1, 3, 46, 80)\n",
        "37.1003990173\n",
        "(1, 3, 46, 80)"
       ]
      },
      {
       "output_type": "stream",
       "stream": "stdout",
       "text": [
        "\n",
        "35.7694511414\n",
        "(1, 3, 46, 80)\n",
        "42.3088111877\n",
        "(1, 3, 46, 80)\n",
        "43.4527549744\n",
        "(1, 3, 46, 80)\n",
        "49.6260795593"
       ]
      },
      {
       "output_type": "stream",
       "stream": "stdout",
       "text": [
        "\n",
        "(1, 3, 46, 80)\n",
        "46.6521911621\n",
        "(1, 3, 46, 80)\n",
        "46.5128059387\n",
        "(1, 3, 46, 80)\n",
        "40.9509277344\n",
        "(1, 3, 46, 80)"
       ]
      },
      {
       "output_type": "stream",
       "stream": "stdout",
       "text": [
        "\n",
        "39.0967254639\n",
        "(1, 3, 46, 80)\n",
        "44.8349647522\n",
        "(1, 3, 46, 80)\n",
        "37.6154937744\n",
        "(1, 3, 46, 80)\n",
        "40.8371429443"
       ]
      },
      {
       "output_type": "stream",
       "stream": "stdout",
       "text": [
        "\n",
        "(1, 3, 46, 80)\n",
        "42.7150001526\n",
        "(1, 3, 46, 80)\n",
        "47.5998306274"
       ]
      },
      {
       "output_type": "stream",
       "stream": "stdout",
       "text": [
        "\n",
        "(1, 3, 46, 80)\n",
        "40.844581604\n",
        "(1, 3, 46, 80)"
       ]
      },
      {
       "output_type": "stream",
       "stream": "stdout",
       "text": [
        "\n",
        "39.3721694946\n",
        "(1, 3, 46, 80)\n",
        "39.3131790161\n",
        "(1, 3, 46, 80)"
       ]
      },
      {
       "output_type": "stream",
       "stream": "stdout",
       "text": [
        "\n",
        "40.1335601807\n",
        "(1, 3, 46, 80)\n",
        "43.0499763489\n",
        "(1, 3, 46, 80)"
       ]
      },
      {
       "output_type": "stream",
       "stream": "stdout",
       "text": [
        "\n",
        "35.0668754578\n",
        "(1, 3, 46, 80)\n",
        "40.7986030579\n",
        "(1, 3, 46, 80)\n",
        "39.7116203308"
       ]
      },
      {
       "output_type": "stream",
       "stream": "stdout",
       "text": [
        "\n",
        "(1, 3, 46, 80)\n",
        "38.9390602112\n",
        "(1, 3, 46, 80)\n",
        "41.6177330017\n",
        "(1, 3, 46, 80)\n",
        "38.4775657654\n",
        "(1, 3, 46, 80)"
       ]
      },
      {
       "output_type": "stream",
       "stream": "stdout",
       "text": [
        "\n",
        "35.815372467\n",
        "(1, 3, 46, 80)\n",
        "36.9649887085\n",
        "(1, 3, 46, 80)\n",
        "75.5777206421\n",
        "(1, 3, 46, 80)"
       ]
      },
      {
       "output_type": "stream",
       "stream": "stdout",
       "text": [
        "\n",
        "75.5931167603\n",
        "(1, 3, 46, 80)\n",
        "72.3507156372\n",
        "(1, 3, 46, 80)"
       ]
      },
      {
       "output_type": "stream",
       "stream": "stdout",
       "text": [
        "\n",
        "34.7076072693\n",
        "(1, 3, 46, 80)\n",
        "35.3699989319\n",
        "(1, 3, 46, 80)"
       ]
      },
      {
       "output_type": "stream",
       "stream": "stdout",
       "text": [
        "\n",
        "28.5450325012\n",
        "(1, 3, 46, 80)\n",
        "38.436630249\n",
        "(1, 3, 46, 80)\n",
        "37.9662246704\n",
        "(1, 3, 46, 80)"
       ]
      },
      {
       "output_type": "stream",
       "stream": "stdout",
       "text": [
        "\n",
        "34.0233459473\n"
       ]
      }
     ],
     "prompt_number": 125
    },
    {
     "cell_type": "code",
     "collapsed": false,
     "input": [],
     "language": "python",
     "metadata": {},
     "outputs": []
    }
   ],
   "metadata": {}
  }
 ]
}