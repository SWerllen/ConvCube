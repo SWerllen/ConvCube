{
 "metadata": {
  "name": "",
  "signature": "sha256:2c3278c136b21264afe51dbc951e109ba85af11cfa2dbcca425f40a4752390ed"
 },
 "nbformat": 3,
 "nbformat_minor": 0,
 "worksheets": [
  {
   "cells": [
    {
     "cell_type": "code",
     "collapsed": false,
     "input": [
      "# for auto-reloading extenrnal modules\n",
      "# see http://stackoverflow.com/questions/1907993/autoreload-of-modules-in-ipython\n",
      "%load_ext autoreload\n",
      "%autoreload 2\n",
      "\n",
      "#=====[ Standard + Math ]=====\n",
      "import os\n",
      "import sys\n",
      "sys.path.insert(0, './') #for faster development\n",
      "import pickle\n",
      "import numpy as np\n",
      "import cv2\n",
      "import matplotlib.pyplot as plt\n",
      "%pylab inline\n",
      "\n",
      "#=====[ ModalDB ]=====\n",
      "from ModalDB import ModalClient\n",
      "from ModalDB import Video\n",
      "from ModalDB import Frame\n",
      "\n",
      "#=====[ convcube ]=====\n",
      "from convcube.schema import convcube_schema\n",
      "from convcube.cs231n.data_utils import load_tiny_imagenet\n",
      "from convcube.localization import load_dataset_localization\n",
      "from convcube.localization import LocalizationConvNet\n",
      "from convcube.cube import ConvNetCube\n",
      "\n",
      "#=====[ setup client ]=====\n",
      "client = ModalClient('./data/db', schema=convcube_schema)\n",
      "models_path = './models/localization'"
     ],
     "language": "python",
     "metadata": {},
     "outputs": [
      {
       "output_type": "stream",
       "stream": "stdout",
       "text": [
        "The autoreload extension is already loaded. To reload it, use:\n",
        "  %reload_ext autoreload\n",
        "Populating the interactive namespace from numpy and matplotlib\n"
       ]
      }
     ],
     "prompt_number": 4
    },
    {
     "cell_type": "markdown",
     "metadata": {},
     "source": [
      "#I. Pretraining on ImageNet\n",
      "Skip this section if you can load an already-pretrained model"
     ]
    },
    {
     "cell_type": "markdown",
     "metadata": {},
     "source": [
      "### Get Data"
     ]
    },
    {
     "cell_type": "code",
     "collapsed": false,
     "input": [
      "imagenet_path = './convcube/cs231n/datasets/tiny-imagenet-100-A'\n",
      "class_names, X_train, y_train, X_val, y_val, X_test, y_test = load_tiny_imagenet(imagenet_path)\n",
      "print 'Train data shape: ', X_train.shape\n",
      "print 'Train labels shape: ', y_train.shape\n",
      "print 'Validation data shape: ', X_val.shape\n",
      "print 'Validation labels shape: ', y_val.shape\n",
      "print 'Test data shape: ', X_test.shape"
     ],
     "language": "python",
     "metadata": {},
     "outputs": [
      {
       "output_type": "stream",
       "stream": "stdout",
       "text": [
        "loading training data for synset 20 / 100\n",
        "loading training data for synset 40 / 100"
       ]
      },
      {
       "output_type": "stream",
       "stream": "stdout",
       "text": [
        "\n",
        "loading training data for synset 60 / 100"
       ]
      },
      {
       "output_type": "stream",
       "stream": "stdout",
       "text": [
        "\n",
        "loading training data for synset 80 / 100"
       ]
      },
      {
       "output_type": "stream",
       "stream": "stdout",
       "text": [
        "\n",
        "loading training data for synset 100 / 100"
       ]
      },
      {
       "output_type": "stream",
       "stream": "stdout",
       "text": [
        "\n",
        "Train data shape: "
       ]
      },
      {
       "output_type": "stream",
       "stream": "stdout",
       "text": [
        " (50000, 3, 64, 64)\n",
        "Train labels shape:  (50000,)\n",
        "Validation data shape:  (5000, 3, 64, 64)\n",
        "Validation labels shape:  (5000,)\n",
        "Test data shape:  (5000, 3, 64, 64)\n"
       ]
      }
     ],
     "prompt_number": 6
    },
    {
     "cell_type": "markdown",
     "metadata": {},
     "source": [
      "### Get Model"
     ]
    },
    {
     "cell_type": "code",
     "collapsed": false,
     "input": [
      "#=====[ LOAD MODEL ]=====\n",
      "#*****\n",
      "model_path = os.path.join(models_path, 'pretrained/convnet_10s.pkl')\n",
      "pretrained_model = pickle.load(open(model_path))\n",
      "#*****"
     ],
     "language": "python",
     "metadata": {},
     "outputs": [],
     "prompt_number": 13
    },
    {
     "cell_type": "code",
     "collapsed": false,
     "input": [
      "#=====[ TRAIN MODEL ]=====\n",
      "#*****\n",
      "convnet = LocalizationConvNet()\n",
      "model = convnet.init_pretrain_convnet()\n",
      "model, loss_hist, train_acc_hist, val_acc_hist = convnet.pretrain(X_train, y_train, X_val, y_val)\n",
      "pretrained_model = model\n",
      "model_path = os.path.join(models_path, 'pretrained/convnet_10.pkl')\n",
      "pickle.dump(pretrained_model, open(model_path, 'w'))\n",
      "#*****"
     ],
     "language": "python",
     "metadata": {},
     "outputs": [
      {
       "output_type": "stream",
       "stream": "stdout",
       "text": [
        "starting iteration  0\n",
        "Finished epoch 0 / 8: cost 4.871629, train: 0.012000, val 0.011200, lr 5.000000e-05"
       ]
      },
      {
       "output_type": "stream",
       "stream": "stdout",
       "text": [
        "\n",
        "starting iteration "
       ]
      },
      {
       "output_type": "stream",
       "stream": "stdout",
       "text": [
        " 10\n",
        "starting iteration "
       ]
      },
      {
       "output_type": "stream",
       "stream": "stdout",
       "text": [
        " 20\n",
        "starting iteration "
       ]
      },
      {
       "output_type": "stream",
       "stream": "stdout",
       "text": [
        " 30\n",
        "starting iteration "
       ]
      },
      {
       "output_type": "stream",
       "stream": "stdout",
       "text": [
        " 40\n",
        "starting iteration "
       ]
      },
      {
       "output_type": "stream",
       "stream": "stdout",
       "text": [
        " 50\n",
        "starting iteration "
       ]
      },
      {
       "output_type": "stream",
       "stream": "stdout",
       "text": [
        " 60\n",
        "starting iteration "
       ]
      },
      {
       "output_type": "stream",
       "stream": "stdout",
       "text": [
        " 70\n",
        "starting iteration "
       ]
      },
      {
       "output_type": "stream",
       "stream": "stdout",
       "text": [
        " 80\n",
        "starting iteration "
       ]
      },
      {
       "output_type": "stream",
       "stream": "stdout",
       "text": [
        " 90\n",
        "starting iteration "
       ]
      },
      {
       "output_type": "stream",
       "stream": "stdout",
       "text": [
        " 100\n",
        "starting iteration "
       ]
      },
      {
       "output_type": "stream",
       "stream": "stdout",
       "text": [
        " 110\n",
        "starting iteration "
       ]
      },
      {
       "output_type": "stream",
       "stream": "stdout",
       "text": [
        " 120\n",
        "starting iteration "
       ]
      },
      {
       "output_type": "stream",
       "stream": "stdout",
       "text": [
        " 130\n",
        "starting iteration "
       ]
      },
      {
       "output_type": "stream",
       "stream": "stdout",
       "text": [
        " 140\n",
        "starting iteration "
       ]
      },
      {
       "output_type": "stream",
       "stream": "stdout",
       "text": [
        " 150\n"
       ]
      },
      {
       "ename": "KeyboardInterrupt",
       "evalue": "",
       "output_type": "pyerr",
       "traceback": [
        "\u001b[0;31m---------------------------------------------------------------------------\u001b[0m\n\u001b[0;31mKeyboardInterrupt\u001b[0m                         Traceback (most recent call last)",
        "\u001b[0;32m<ipython-input-11-0c058e55a5bf>\u001b[0m in \u001b[0;36m<module>\u001b[0;34m()\u001b[0m\n\u001b[1;32m      3\u001b[0m \u001b[0mconvnet\u001b[0m \u001b[0;34m=\u001b[0m \u001b[0mLocalizationConvNet\u001b[0m\u001b[0;34m(\u001b[0m\u001b[0;34m)\u001b[0m\u001b[0;34m\u001b[0m\u001b[0m\n\u001b[1;32m      4\u001b[0m \u001b[0mmodel\u001b[0m \u001b[0;34m=\u001b[0m \u001b[0mconvnet\u001b[0m\u001b[0;34m.\u001b[0m\u001b[0minit_pretrain_convnet\u001b[0m\u001b[0;34m(\u001b[0m\u001b[0;34m)\u001b[0m\u001b[0;34m\u001b[0m\u001b[0m\n\u001b[0;32m----> 5\u001b[0;31m \u001b[0mmodel\u001b[0m\u001b[0;34m,\u001b[0m \u001b[0mloss_hist\u001b[0m\u001b[0;34m,\u001b[0m \u001b[0mtrain_acc_hist\u001b[0m\u001b[0;34m,\u001b[0m \u001b[0mval_acc_hist\u001b[0m \u001b[0;34m=\u001b[0m \u001b[0mconvnet\u001b[0m\u001b[0;34m.\u001b[0m\u001b[0mpretrain\u001b[0m\u001b[0;34m(\u001b[0m\u001b[0mX_train\u001b[0m\u001b[0;34m,\u001b[0m \u001b[0my_train\u001b[0m\u001b[0;34m,\u001b[0m \u001b[0mX_val\u001b[0m\u001b[0;34m,\u001b[0m \u001b[0my_val\u001b[0m\u001b[0;34m)\u001b[0m\u001b[0;34m\u001b[0m\u001b[0m\n\u001b[0m\u001b[1;32m      6\u001b[0m \u001b[0;31m#*****\u001b[0m\u001b[0;34m\u001b[0m\u001b[0;34m\u001b[0m\u001b[0m\n",
        "\u001b[0;32m/Users/jayhack/Academics/CS/231N - CNN/Project/code/convcube/localization/convnet.py\u001b[0m in \u001b[0;36mpretrain\u001b[0;34m(self, X_train, y_train, X_val, y_val, verbose)\u001b[0m\n\u001b[1;32m     96\u001b[0m                                                                 \u001b[0mdropout\u001b[0m\u001b[0;34m=\u001b[0m\u001b[0mNone\u001b[0m\u001b[0;34m,\u001b[0m \u001b[0mreg\u001b[0m\u001b[0;34m=\u001b[0m\u001b[0;36m0.05\u001b[0m\u001b[0;34m,\u001b[0m \u001b[0mlearning_rate\u001b[0m\u001b[0;34m=\u001b[0m\u001b[0;36m0.00005\u001b[0m\u001b[0;34m,\u001b[0m\u001b[0;34m\u001b[0m\u001b[0m\n\u001b[1;32m     97\u001b[0m                                                                 \u001b[0mbatch_size\u001b[0m\u001b[0;34m=\u001b[0m\u001b[0;36m50\u001b[0m\u001b[0;34m,\u001b[0m \u001b[0mnum_epochs\u001b[0m\u001b[0;34m=\u001b[0m\u001b[0;36m8\u001b[0m\u001b[0;34m,\u001b[0m\u001b[0;34m\u001b[0m\u001b[0m\n\u001b[0;32m---> 98\u001b[0;31m                                                                 \u001b[0mlearning_rate_decay\u001b[0m\u001b[0;34m=\u001b[0m\u001b[0;36m1.0\u001b[0m\u001b[0;34m,\u001b[0m \u001b[0mupdate\u001b[0m\u001b[0;34m=\u001b[0m\u001b[0;34m'rmsprop'\u001b[0m\u001b[0;34m,\u001b[0m \u001b[0mverbose\u001b[0m\u001b[0;34m=\u001b[0m\u001b[0mverbose\u001b[0m\u001b[0;34m\u001b[0m\u001b[0m\n\u001b[0m\u001b[1;32m     99\u001b[0m \t\t\t\t\t\t\t\t)\n\u001b[1;32m    100\u001b[0m                 \u001b[0mmodel\u001b[0m\u001b[0;34m,\u001b[0m \u001b[0mloss_hist\u001b[0m\u001b[0;34m,\u001b[0m \u001b[0mtrain_acc_hist\u001b[0m\u001b[0;34m,\u001b[0m \u001b[0mval_acc_hist\u001b[0m \u001b[0;34m=\u001b[0m \u001b[0mresult\u001b[0m\u001b[0;34m\u001b[0m\u001b[0m\n",
        "\u001b[0;32m/Users/jayhack/Academics/CS/231N - CNN/Project/code/convcube/cs231n/classifier_trainer.py\u001b[0m in \u001b[0;36mtrain\u001b[0;34m(self, X, y, X_val, y_val, model, loss_function, reg, dropout, learning_rate, momentum, learning_rate_decay, update, sample_batches, num_epochs, batch_size, acc_frequency, augment_fn, predict_fn, verbose)\u001b[0m\n\u001b[1;32m     92\u001b[0m \u001b[0;34m\u001b[0m\u001b[0m\n\u001b[1;32m     93\u001b[0m       \u001b[0;31m# evaluate cost and gradient\u001b[0m\u001b[0;34m\u001b[0m\u001b[0;34m\u001b[0m\u001b[0m\n\u001b[0;32m---> 94\u001b[0;31m       \u001b[0mcost\u001b[0m\u001b[0;34m,\u001b[0m \u001b[0mgrads\u001b[0m \u001b[0;34m=\u001b[0m \u001b[0mloss_function\u001b[0m\u001b[0;34m(\u001b[0m\u001b[0mX_batch\u001b[0m\u001b[0;34m,\u001b[0m \u001b[0mmodel\u001b[0m\u001b[0;34m,\u001b[0m \u001b[0my_batch\u001b[0m\u001b[0;34m,\u001b[0m \u001b[0mreg\u001b[0m\u001b[0;34m=\u001b[0m\u001b[0mreg\u001b[0m\u001b[0;34m,\u001b[0m \u001b[0mdropout\u001b[0m\u001b[0;34m=\u001b[0m\u001b[0mdropout\u001b[0m\u001b[0;34m)\u001b[0m\u001b[0;34m\u001b[0m\u001b[0m\n\u001b[0m\u001b[1;32m     95\u001b[0m       \u001b[0mloss_history\u001b[0m\u001b[0;34m.\u001b[0m\u001b[0mappend\u001b[0m\u001b[0;34m(\u001b[0m\u001b[0mcost\u001b[0m\u001b[0;34m)\u001b[0m\u001b[0;34m\u001b[0m\u001b[0m\n\u001b[1;32m     96\u001b[0m \u001b[0;34m\u001b[0m\u001b[0m\n",
        "\u001b[0;32m/Users/jayhack/Academics/CS/231N - CNN/Project/code/convcube/cs231n/classifiers/convnet.py\u001b[0m in \u001b[0;36mthree_layer_convnet\u001b[0;34m(X, model, y, reg, dropout)\u001b[0m\n\u001b[1;32m    211\u001b[0m     \u001b[0mda2\u001b[0m \u001b[0;34m=\u001b[0m \u001b[0mdropout_backward\u001b[0m\u001b[0;34m(\u001b[0m\u001b[0mdd2\u001b[0m\u001b[0;34m,\u001b[0m \u001b[0mcache3\u001b[0m\u001b[0;34m)\u001b[0m\u001b[0;34m\u001b[0m\u001b[0m\n\u001b[1;32m    212\u001b[0m   \u001b[0mda1\u001b[0m\u001b[0;34m,\u001b[0m \u001b[0mdW2\u001b[0m\u001b[0;34m,\u001b[0m \u001b[0mdb2\u001b[0m \u001b[0;34m=\u001b[0m \u001b[0maffine_relu_backward\u001b[0m\u001b[0;34m(\u001b[0m\u001b[0mda2\u001b[0m\u001b[0;34m,\u001b[0m \u001b[0mcache2\u001b[0m\u001b[0;34m)\u001b[0m\u001b[0;34m\u001b[0m\u001b[0m\n\u001b[0;32m--> 213\u001b[0;31m   \u001b[0mdX\u001b[0m\u001b[0;34m,\u001b[0m \u001b[0mdW1\u001b[0m\u001b[0;34m,\u001b[0m \u001b[0mdb1\u001b[0m \u001b[0;34m=\u001b[0m \u001b[0mconv_relu_pool_backward\u001b[0m\u001b[0;34m(\u001b[0m\u001b[0mda1\u001b[0m\u001b[0;34m,\u001b[0m \u001b[0mcache1\u001b[0m\u001b[0;34m)\u001b[0m\u001b[0;34m\u001b[0m\u001b[0m\n\u001b[0m\u001b[1;32m    214\u001b[0m \u001b[0;34m\u001b[0m\u001b[0m\n\u001b[1;32m    215\u001b[0m   \u001b[0mgrads\u001b[0m \u001b[0;34m=\u001b[0m \u001b[0;34m{\u001b[0m \u001b[0;34m'W1'\u001b[0m\u001b[0;34m:\u001b[0m \u001b[0mdW1\u001b[0m\u001b[0;34m,\u001b[0m \u001b[0;34m'b1'\u001b[0m\u001b[0;34m:\u001b[0m \u001b[0mdb1\u001b[0m\u001b[0;34m,\u001b[0m \u001b[0;34m'W2'\u001b[0m\u001b[0;34m:\u001b[0m \u001b[0mdW2\u001b[0m\u001b[0;34m,\u001b[0m \u001b[0;34m'b2'\u001b[0m\u001b[0;34m:\u001b[0m \u001b[0mdb2\u001b[0m\u001b[0;34m,\u001b[0m \u001b[0;34m'W3'\u001b[0m\u001b[0;34m:\u001b[0m \u001b[0mdW3\u001b[0m\u001b[0;34m,\u001b[0m \u001b[0;34m'b3'\u001b[0m\u001b[0;34m:\u001b[0m \u001b[0mdb3\u001b[0m \u001b[0;34m}\u001b[0m\u001b[0;34m\u001b[0m\u001b[0m\n",
        "\u001b[0;32m/Users/jayhack/Academics/CS/231N - CNN/Project/code/convcube/cs231n/layer_utils.py\u001b[0m in \u001b[0;36mconv_relu_pool_backward\u001b[0;34m(dout, cache)\u001b[0m\n\u001b[1;32m     57\u001b[0m   \u001b[0mds\u001b[0m \u001b[0;34m=\u001b[0m \u001b[0mmax_pool_backward_fast\u001b[0m\u001b[0;34m(\u001b[0m\u001b[0mdout\u001b[0m\u001b[0;34m,\u001b[0m \u001b[0mpool_cache\u001b[0m\u001b[0;34m)\u001b[0m\u001b[0;34m\u001b[0m\u001b[0m\n\u001b[1;32m     58\u001b[0m   \u001b[0mda\u001b[0m \u001b[0;34m=\u001b[0m \u001b[0mrelu_backward\u001b[0m\u001b[0;34m(\u001b[0m\u001b[0mds\u001b[0m\u001b[0;34m,\u001b[0m \u001b[0mrelu_cache\u001b[0m\u001b[0;34m)\u001b[0m\u001b[0;34m\u001b[0m\u001b[0m\n\u001b[0;32m---> 59\u001b[0;31m   \u001b[0mdx\u001b[0m\u001b[0;34m,\u001b[0m \u001b[0mdw\u001b[0m\u001b[0;34m,\u001b[0m \u001b[0mdb\u001b[0m \u001b[0;34m=\u001b[0m \u001b[0mconv_backward_fast\u001b[0m\u001b[0;34m(\u001b[0m\u001b[0mda\u001b[0m\u001b[0;34m,\u001b[0m \u001b[0mconv_cache\u001b[0m\u001b[0;34m)\u001b[0m\u001b[0;34m\u001b[0m\u001b[0m\n\u001b[0m\u001b[1;32m     60\u001b[0m   \u001b[0;32mreturn\u001b[0m \u001b[0mdx\u001b[0m\u001b[0;34m,\u001b[0m \u001b[0mdw\u001b[0m\u001b[0;34m,\u001b[0m \u001b[0mdb\u001b[0m\u001b[0;34m\u001b[0m\u001b[0m\n\u001b[1;32m     61\u001b[0m \u001b[0;34m\u001b[0m\u001b[0m\n",
        "\u001b[0;32m/Users/jayhack/Academics/CS/231N - CNN/Project/code/convcube/cs231n/fast_layers.py\u001b[0m in \u001b[0;36mconv_backward_strides\u001b[0;34m(dout, cache)\u001b[0m\n\u001b[1;32m     95\u001b[0m \u001b[0;34m\u001b[0m\u001b[0m\n\u001b[1;32m     96\u001b[0m   \u001b[0mdout_reshaped\u001b[0m \u001b[0;34m=\u001b[0m \u001b[0mdout\u001b[0m\u001b[0;34m.\u001b[0m\u001b[0mtranspose\u001b[0m\u001b[0;34m(\u001b[0m\u001b[0;36m1\u001b[0m\u001b[0;34m,\u001b[0m \u001b[0;36m0\u001b[0m\u001b[0;34m,\u001b[0m \u001b[0;36m2\u001b[0m\u001b[0;34m,\u001b[0m \u001b[0;36m3\u001b[0m\u001b[0;34m)\u001b[0m\u001b[0;34m.\u001b[0m\u001b[0mreshape\u001b[0m\u001b[0;34m(\u001b[0m\u001b[0mF\u001b[0m\u001b[0;34m,\u001b[0m \u001b[0;34m-\u001b[0m\u001b[0;36m1\u001b[0m\u001b[0;34m)\u001b[0m\u001b[0;34m\u001b[0m\u001b[0m\n\u001b[0;32m---> 97\u001b[0;31m   \u001b[0mdw\u001b[0m \u001b[0;34m=\u001b[0m \u001b[0mdout_reshaped\u001b[0m\u001b[0;34m.\u001b[0m\u001b[0mdot\u001b[0m\u001b[0;34m(\u001b[0m\u001b[0mx_cols\u001b[0m\u001b[0;34m.\u001b[0m\u001b[0mT\u001b[0m\u001b[0;34m)\u001b[0m\u001b[0;34m.\u001b[0m\u001b[0mreshape\u001b[0m\u001b[0;34m(\u001b[0m\u001b[0mw\u001b[0m\u001b[0;34m.\u001b[0m\u001b[0mshape\u001b[0m\u001b[0;34m)\u001b[0m\u001b[0;34m\u001b[0m\u001b[0m\n\u001b[0m\u001b[1;32m     98\u001b[0m \u001b[0;34m\u001b[0m\u001b[0m\n\u001b[1;32m     99\u001b[0m   \u001b[0mdx_cols\u001b[0m \u001b[0;34m=\u001b[0m \u001b[0mw\u001b[0m\u001b[0;34m.\u001b[0m\u001b[0mreshape\u001b[0m\u001b[0;34m(\u001b[0m\u001b[0mF\u001b[0m\u001b[0;34m,\u001b[0m \u001b[0;34m-\u001b[0m\u001b[0;36m1\u001b[0m\u001b[0;34m)\u001b[0m\u001b[0;34m.\u001b[0m\u001b[0mT\u001b[0m\u001b[0;34m.\u001b[0m\u001b[0mdot\u001b[0m\u001b[0;34m(\u001b[0m\u001b[0mdout_reshaped\u001b[0m\u001b[0;34m)\u001b[0m\u001b[0;34m\u001b[0m\u001b[0m\n",
        "\u001b[0;31mKeyboardInterrupt\u001b[0m: "
       ]
      }
     ],
     "prompt_number": 11
    },
    {
     "cell_type": "markdown",
     "metadata": {},
     "source": [
      "#II. Transfer Learning on Rubiks Cubes"
     ]
    },
    {
     "cell_type": "markdown",
     "metadata": {},
     "source": [
      "### Get Data"
     ]
    },
    {
     "cell_type": "code",
     "collapsed": false,
     "input": [
      "X_train, X_val, y_train, y_val = load_dataset_localization(client, train_size=0.8)\n",
      "print 'Train data shape: ', X_train.shape\n",
      "print 'Train labels shape: ', y_train.shape\n",
      "print 'Validation data shape: ', X_val.shape\n",
      "print 'Validation labels shape: ', y_val.shape"
     ],
     "language": "python",
     "metadata": {},
     "outputs": [
      {
       "output_type": "stream",
       "stream": "stdout",
       "text": [
        "Train data shape:  (312, 3, 46, 80)\n",
        "Train labels shape:  (312, 2)\n",
        "Validation data shape:  (79, 3, 46, 80)\n",
        "Validation labels shape:  (79, 2)\n"
       ]
      }
     ],
     "prompt_number": 14
    },
    {
     "cell_type": "markdown",
     "metadata": {},
     "source": [
      "### Get Model"
     ]
    },
    {
     "cell_type": "code",
     "collapsed": false,
     "input": [
      "#=====[ LOAD MODEL ]=====\n",
      "#*****\n",
      "model_path = os.path.join(models_path, 'transferred/convnet_10s.pkl')\n",
      "model = pickle.load(open(model_path))\n",
      "#*****"
     ],
     "language": "python",
     "metadata": {},
     "outputs": [
      {
       "output_type": "stream",
       "stream": "stdout",
       "text": [
        "du: ./models/localization/transferred/convnet_10s.pkl: No such file or directory\r\n"
       ]
      }
     ],
     "prompt_number": 3
    },
    {
     "cell_type": "code",
     "collapsed": false,
     "input": [
      "#=====[ TRAIN MODEL ]=====\n",
      "#*****\n",
      "convnet = LocalizationConvNet()\n",
      "\n",
      "out = convnet.train_localization_convnet(   \n",
      "                                            X_train, y_train,\n",
      "                                            X_val, y_val,\n",
      "                                            pretrained_model\n",
      "                                        )\n",
      "model, loss_hist, train_acc_hist, val_acc_hist = out\n",
      "pickle.dump(model, open('models/localization/transferred/convnet_10s.pkl', 'w'))\n",
      "#*****"
     ],
     "language": "python",
     "metadata": {},
     "outputs": [
      {
       "output_type": "stream",
       "stream": "stdout",
       "text": [
        "starting iteration  0\n",
        "Finished epoch 0 / 100: cost 6946026.232887, train: 134427.812500, val 120109.625000, lr 5.000000e-05"
       ]
      },
      {
       "output_type": "stream",
       "stream": "stdout",
       "text": [
        "\n",
        "Finished epoch 1 / 100: cost 5632630.227143, train: 125278.312500, val 111119.796875, lr 5.000000e-05"
       ]
      },
      {
       "output_type": "stream",
       "stream": "stdout",
       "text": [
        "\n",
        "starting iteration "
       ]
      },
      {
       "output_type": "stream",
       "stream": "stdout",
       "text": [
        " 10\n",
        "Finished epoch 2 / 100: cost 5657936.729700, train: 102349.625000, val 88824.296875, lr 5.000000e-05"
       ]
      },
      {
       "output_type": "stream",
       "stream": "stdout",
       "text": [
        "\n",
        "Finished epoch 3 / 100: cost 4159099.984958, train: 79229.203125, val 66699.992188, lr 5.000000e-05"
       ]
      },
      {
       "output_type": "stream",
       "stream": "stdout",
       "text": [
        "\n",
        "starting iteration "
       ]
      },
      {
       "output_type": "stream",
       "stream": "stdout",
       "text": [
        " 20\n",
        "Finished epoch 4 / 100: cost 3083969.990587, train: 59283.800781, val 48136.828125, lr 5.000000e-05"
       ]
      },
      {
       "output_type": "stream",
       "stream": "stdout",
       "text": [
        "\n",
        "Finished epoch 5 / 100: cost 2584551.745448, train: 45702.207031, val 36060.304688, lr 5.000000e-05"
       ]
      },
      {
       "output_type": "stream",
       "stream": "stdout",
       "text": [
        "\n",
        "starting iteration  30\n",
        "Finished epoch 6 / 100: cost 2319730.998806, train: 38186.066406, val 29901.931641, lr 5.000000e-05"
       ]
      },
      {
       "output_type": "stream",
       "stream": "stdout",
       "text": [
        "\n",
        "starting iteration "
       ]
      },
      {
       "output_type": "stream",
       "stream": "stdout",
       "text": [
        " 40\n",
        "Finished epoch 7 / 100: cost 1816973.502136, train: 33554.609375, val 26638.218750, lr 5.000000e-05"
       ]
      },
      {
       "output_type": "stream",
       "stream": "stdout",
       "text": [
        "\n",
        "Finished epoch 8 / 100: cost 1281389.504071, train: 31620.128906, val 25572.810547, lr 5.000000e-05"
       ]
      },
      {
       "output_type": "stream",
       "stream": "stdout",
       "text": [
        "\n",
        "starting iteration "
       ]
      },
      {
       "output_type": "stream",
       "stream": "stdout",
       "text": [
        " 50\n",
        "Finished epoch 9 / 100: cost 1447068.878455, train: 31076.134766, val 25243.257812, lr 5.000000e-05"
       ]
      },
      {
       "output_type": "stream",
       "stream": "stdout",
       "text": [
        "\n",
        "Finished epoch 10 / 100: cost 1199836.878708, train: 30449.291016, val 24852.017578, lr 5.000000e-05"
       ]
      },
      {
       "output_type": "stream",
       "stream": "stdout",
       "text": [
        "\n",
        "starting iteration  60\n",
        "Finished epoch 11 / 100: cost 1458386.003807, train: 29846.716797, val 24734.291016, lr 5.000000e-05"
       ]
      },
      {
       "output_type": "stream",
       "stream": "stdout",
       "text": [
        "\n",
        "starting iteration "
       ]
      },
      {
       "output_type": "stream",
       "stream": "stdout",
       "text": [
        " 70\n",
        "Finished epoch 12 / 100: cost 1380457.377902, train: 29528.875000, val 24295.406250, lr 5.000000e-05"
       ]
      },
      {
       "output_type": "stream",
       "stream": "stdout",
       "text": [
        "\n",
        "Finished epoch 13 / 100: cost 1624725.626873, train: 29245.980469, val 24072.949219, lr 5.000000e-05"
       ]
      },
      {
       "output_type": "stream",
       "stream": "stdout",
       "text": [
        "\n",
        "starting iteration "
       ]
      },
      {
       "output_type": "stream",
       "stream": "stdout",
       "text": [
        " 80\n",
        "Finished epoch 14 / 100: cost 1622411.252267, train: 28916.419922, val 24097.253906, lr 5.000000e-05"
       ]
      },
      {
       "output_type": "stream",
       "stream": "stdout",
       "text": [
        "\n",
        "Finished epoch 15 / 100: cost 1511439.627318, train: 28640.193359, val 24005.921875, lr 5.000000e-05"
       ]
      },
      {
       "output_type": "stream",
       "stream": "stdout",
       "text": [
        "\n",
        "starting iteration  90\n",
        "Finished epoch 16 / 100: cost 1581071.502408, train: 28467.058594, val 24200.359375, lr 5.000000e-05"
       ]
      },
      {
       "output_type": "stream",
       "stream": "stdout",
       "text": [
        "\n",
        "starting iteration "
       ]
      },
      {
       "output_type": "stream",
       "stream": "stdout",
       "text": [
        " 100\n",
        "Finished epoch 17 / 100: cost 1424294.376643, train: 28133.033203, val 23343.351562, lr 5.000000e-05"
       ]
      },
      {
       "output_type": "stream",
       "stream": "stdout",
       "text": [
        "\n",
        "Finished epoch 18 / 100: cost 1520144.125686, train: 27900.593750, val 23237.148438, lr 5.000000e-05"
       ]
      },
      {
       "output_type": "stream",
       "stream": "stdout",
       "text": [
        "\n",
        "starting iteration "
       ]
      },
      {
       "output_type": "stream",
       "stream": "stdout",
       "text": [
        " 110\n",
        "Finished epoch 19 / 100: cost 1447271.126485, train: 27711.974609, val 23415.197266, lr 5.000000e-05"
       ]
      },
      {
       "output_type": "stream",
       "stream": "stdout",
       "text": [
        "\n",
        "Finished epoch 20 / 100: cost 1097147.625910, train: 27486.753906, val 22978.039062, lr 5.000000e-05"
       ]
      },
      {
       "output_type": "stream",
       "stream": "stdout",
       "text": [
        "\n",
        "starting iteration  120\n",
        "Finished epoch 21 / 100: cost 1278140.501022, train: 27343.199219, val 23079.142578, lr 5.000000e-05"
       ]
      },
      {
       "output_type": "stream",
       "stream": "stdout",
       "text": [
        "\n",
        "starting iteration "
       ]
      },
      {
       "output_type": "stream",
       "stream": "stdout",
       "text": [
        " 130\n",
        "Finished epoch 22 / 100: cost 1391718.999978, train: 27096.347656, val 22523.240234, lr 5.000000e-05"
       ]
      },
      {
       "output_type": "stream",
       "stream": "stdout",
       "text": [
        "\n",
        "Finished epoch 23 / 100: cost 1251610.249776, train: 26930.513672, val 22481.001953, lr 5.000000e-05"
       ]
      },
      {
       "output_type": "stream",
       "stream": "stdout",
       "text": [
        "\n",
        "starting iteration "
       ]
      },
      {
       "output_type": "stream",
       "stream": "stdout",
       "text": [
        " 140\n",
        "Finished epoch 24 / 100: cost 1505298.624898, train: 26801.488281, val 22644.496094, lr 5.000000e-05"
       ]
      },
      {
       "output_type": "stream",
       "stream": "stdout",
       "text": [
        "\n",
        "Finished epoch 25 / 100: cost 1306163.998605, train: 26573.722656, val 21728.101562, lr 5.000000e-05"
       ]
      },
      {
       "output_type": "stream",
       "stream": "stdout",
       "text": [
        "\n",
        "starting iteration  150\n",
        "Finished epoch 26 / 100: cost 1384945.373341, train: 26398.527344, val 21696.664062, lr 5.000000e-05"
       ]
      },
      {
       "output_type": "stream",
       "stream": "stdout",
       "text": [
        "\n",
        "starting iteration "
       ]
      },
      {
       "output_type": "stream",
       "stream": "stdout",
       "text": [
        " 160\n",
        "Finished epoch 27 / 100: cost 1456010.873285, train: 26207.673828, val 21676.720703, lr 5.000000e-05"
       ]
      },
      {
       "output_type": "stream",
       "stream": "stdout",
       "text": [
        "\n",
        "Finished epoch 28 / 100: cost 1526537.748006, train: 26053.599609, val 21632.388672, lr 5.000000e-05"
       ]
      },
      {
       "output_type": "stream",
       "stream": "stdout",
       "text": [
        "\n",
        "starting iteration "
       ]
      },
      {
       "output_type": "stream",
       "stream": "stdout",
       "text": [
        " 170\n",
        "Finished epoch 29 / 100: cost 1305943.623281, train: 25903.408203, val 21704.974609, lr 5.000000e-05"
       ]
      },
      {
       "output_type": "stream",
       "stream": "stdout",
       "text": [
        "\n",
        "Finished epoch 30 / 100: cost 1351135.873379, train: 25682.244141, val 21256.939453, lr 5.000000e-05"
       ]
      },
      {
       "output_type": "stream",
       "stream": "stdout",
       "text": [
        "\n",
        "starting iteration  180\n",
        "Finished epoch 31 / 100: cost 1130561.999077, train: 25553.619141, val 21255.980469, lr 5.000000e-05"
       ]
      },
      {
       "output_type": "stream",
       "stream": "stdout",
       "text": [
        "\n",
        "starting iteration "
       ]
      },
      {
       "output_type": "stream",
       "stream": "stdout",
       "text": [
        " 190\n",
        "Finished epoch 32 / 100: cost 1552856.623684, train: 25414.107422, val 21344.884766, lr 5.000000e-05"
       ]
      },
      {
       "output_type": "stream",
       "stream": "stdout",
       "text": [
        "\n",
        "Finished epoch 33 / 100: cost 1400629.499969, train: 25266.732422, val 21288.369141, lr 5.000000e-05"
       ]
      },
      {
       "output_type": "stream",
       "stream": "stdout",
       "text": [
        "\n",
        "starting iteration "
       ]
      },
      {
       "output_type": "stream",
       "stream": "stdout",
       "text": [
        " 200\n",
        "Finished epoch 34 / 100: cost 1307744.374704, train: 25112.845703, val 21263.080078, lr 5.000000e-05"
       ]
      },
      {
       "output_type": "stream",
       "stream": "stdout",
       "text": [
        "\n",
        "Finished epoch 35 / 100: cost 1379430.873944, train: 24872.724609, val 20514.171875, lr 5.000000e-05"
       ]
      },
      {
       "output_type": "stream",
       "stream": "stdout",
       "text": [
        "\n",
        "starting iteration  210\n",
        "Finished epoch 36 / 100: cost 1137308.748134, train: 24740.103516, val 20347.990234, lr 5.000000e-05"
       ]
      },
      {
       "output_type": "stream",
       "stream": "stdout",
       "text": [
        "\n",
        "starting iteration "
       ]
      },
      {
       "output_type": "stream",
       "stream": "stdout",
       "text": [
        " 220\n",
        "Finished epoch 37 / 100: cost 894625.310437, train: 24628.033203, val 20050.681641, lr 5.000000e-05"
       ]
      },
      {
       "output_type": "stream",
       "stream": "stdout",
       "text": [
        "\n",
        "Finished epoch 38 / 100: cost 1349652.873572, train: 24463.857422, val 20453.423828, lr 5.000000e-05"
       ]
      },
      {
       "output_type": "stream",
       "stream": "stdout",
       "text": [
        "\n",
        "starting iteration "
       ]
      },
      {
       "output_type": "stream",
       "stream": "stdout",
       "text": [
        " 230\n",
        "Finished epoch 39 / 100: cost 1245458.374353, train: 24317.746094, val 20407.951172, lr 5.000000e-05"
       ]
      },
      {
       "output_type": "stream",
       "stream": "stdout",
       "text": [
        "\n",
        "Finished epoch 40 / 100: cost 1121291.748746, train: 24139.050781, val 19956.947266, lr 5.000000e-05"
       ]
      },
      {
       "output_type": "stream",
       "stream": "stdout",
       "text": [
        "\n",
        "starting iteration  240\n",
        "Finished epoch 41 / 100: cost 1302340.749044, train: 23979.197266, val 19722.292969, lr 5.000000e-05"
       ]
      },
      {
       "output_type": "stream",
       "stream": "stdout",
       "text": [
        "\n",
        "starting iteration "
       ]
      },
      {
       "output_type": "stream",
       "stream": "stdout",
       "text": [
        " 250\n",
        "Finished epoch 42 / 100: cost 1120449.249636, train: 23850.763672, val 19992.853516, lr 5.000000e-05"
       ]
      },
      {
       "output_type": "stream",
       "stream": "stdout",
       "text": [
        "\n",
        "Finished epoch 43 / 100: cost 1074378.249229, train: 23707.380859, val 19955.474609, lr 5.000000e-05"
       ]
      },
      {
       "output_type": "stream",
       "stream": "stdout",
       "text": [
        "\n",
        "starting iteration "
       ]
      },
      {
       "output_type": "stream",
       "stream": "stdout",
       "text": [
        " 260\n",
        "Finished epoch 44 / 100: cost 1208508.125931, train: 23558.650391, val 19889.306641, lr 5.000000e-05"
       ]
      },
      {
       "output_type": "stream",
       "stream": "stdout",
       "text": [
        "\n",
        "Finished epoch 45 / 100: cost 1113717.499803, train: 23358.533203, val 19528.013672, lr 5.000000e-05"
       ]
      },
      {
       "output_type": "stream",
       "stream": "stdout",
       "text": [
        "\n",
        "starting iteration  270\n",
        "Finished epoch 46 / 100: cost 1170501.498974, train: 23279.656250, val 18806.882812, lr 5.000000e-05"
       ]
      },
      {
       "output_type": "stream",
       "stream": "stdout",
       "text": [
        "\n",
        "starting iteration "
       ]
      },
      {
       "output_type": "stream",
       "stream": "stdout",
       "text": [
        " 280\n",
        "Finished epoch 47 / 100: cost 1025611.624948, train: 23067.005859, val 18977.126953, lr 5.000000e-05"
       ]
      },
      {
       "output_type": "stream",
       "stream": "stdout",
       "text": [
        "\n",
        "Finished epoch 48 / 100: cost 1457294.375013, train: 22926.546875, val 18853.746094, lr 5.000000e-05"
       ]
      },
      {
       "output_type": "stream",
       "stream": "stdout",
       "text": [
        "\n",
        "starting iteration "
       ]
      },
      {
       "output_type": "stream",
       "stream": "stdout",
       "text": [
        " 290\n",
        "Finished epoch 49 / 100: cost 1094877.500314, train: 22769.291016, val 18931.718750, lr 5.000000e-05"
       ]
      },
      {
       "output_type": "stream",
       "stream": "stdout",
       "text": [
        "\n",
        "Finished epoch 50 / 100: cost 835724.938777, train: 22608.406250, val 18809.000000, lr 5.000000e-05"
       ]
      },
      {
       "output_type": "stream",
       "stream": "stdout",
       "text": [
        "\n",
        "starting iteration  300\n",
        "Finished epoch 51 / 100: cost 966447.814040, train: 22461.316406, val 18524.820312, lr 5.000000e-05"
       ]
      },
      {
       "output_type": "stream",
       "stream": "stdout",
       "text": [
        "\n",
        "starting iteration "
       ]
      },
      {
       "output_type": "stream",
       "stream": "stdout",
       "text": [
        " 310\n",
        "Finished epoch 52 / 100: cost 1003517.875827, train: 22385.011719, val 18136.533203, lr 5.000000e-05"
       ]
      },
      {
       "output_type": "stream",
       "stream": "stdout",
       "text": [
        "\n",
        "Finished epoch 53 / 100: cost 1365853.251402, train: 22209.994141, val 18150.468750, lr 5.000000e-05"
       ]
      },
      {
       "output_type": "stream",
       "stream": "stdout",
       "text": [
        "\n",
        "starting iteration "
       ]
      },
      {
       "output_type": "stream",
       "stream": "stdout",
       "text": [
        " 320\n",
        "Finished epoch 54 / 100: cost 871749.002008, train: 22039.195312, val 18297.503906, lr 5.000000e-05"
       ]
      },
      {
       "output_type": "stream",
       "stream": "stdout",
       "text": [
        "\n",
        "Finished epoch 55 / 100: cost 1232530.127089, train: 21911.191406, val 17957.429688, lr 5.000000e-05"
       ]
      },
      {
       "output_type": "stream",
       "stream": "stdout",
       "text": [
        "\n",
        "starting iteration  330\n",
        "Finished epoch 56 / 100: cost 951606.939835, train: 21783.287109, val 17770.132812, lr 5.000000e-05"
       ]
      },
      {
       "output_type": "stream",
       "stream": "stdout",
       "text": [
        "\n",
        "starting iteration "
       ]
      },
      {
       "output_type": "stream",
       "stream": "stdout",
       "text": [
        " 340\n",
        "Finished epoch 57 / 100: cost 866156.190909, train: 21638.603516, val 18180.123047, lr 5.000000e-05"
       ]
      },
      {
       "output_type": "stream",
       "stream": "stdout",
       "text": [
        "\n",
        "Finished epoch 58 / 100: cost 1090978.503250, train: 21495.583984, val 17829.314453, lr 5.000000e-05"
       ]
      },
      {
       "output_type": "stream",
       "stream": "stdout",
       "text": [
        "\n",
        "starting iteration "
       ]
      },
      {
       "output_type": "stream",
       "stream": "stdout",
       "text": [
        " 350\n",
        "Finished epoch 59 / 100: cost 1144587.879359, train: 21351.949219, val 17849.705078, lr 5.000000e-05"
       ]
      },
      {
       "output_type": "stream",
       "stream": "stdout",
       "text": [
        "\n",
        "Finished epoch 60 / 100: cost 868359.816186, train: 21218.898438, val 17534.718750, lr 5.000000e-05"
       ]
      },
      {
       "output_type": "stream",
       "stream": "stdout",
       "text": [
        "\n",
        "starting iteration  360\n",
        "Finished epoch 61 / 100: cost 1027389.191477, train: 21089.644531, val 17431.132812, lr 5.000000e-05"
       ]
      },
      {
       "output_type": "stream",
       "stream": "stdout",
       "text": [
        "\n",
        "starting iteration "
       ]
      },
      {
       "output_type": "stream",
       "stream": "stdout",
       "text": [
        " 370\n",
        "Finished epoch 62 / 100: cost 1348250.380249, train: 20937.070312, val 17328.548828, lr 5.000000e-05"
       ]
      },
      {
       "output_type": "stream",
       "stream": "stdout",
       "text": [
        "\n",
        "Finished epoch 63 / 100: cost 1114741.505698, train: 20804.888672, val 17689.947266, lr 5.000000e-05"
       ]
      },
      {
       "output_type": "stream",
       "stream": "stdout",
       "text": [
        "\n",
        "starting iteration "
       ]
      },
      {
       "output_type": "stream",
       "stream": "stdout",
       "text": [
        " 380\n",
        "Finished epoch 64 / 100: cost 1184101.630477, train: 20637.380859, val 17509.615234, lr 5.000000e-05"
       ]
      },
      {
       "output_type": "stream",
       "stream": "stdout",
       "text": [
        "\n",
        "Finished epoch 65 / 100: cost 869107.380746, train: 20492.671875, val 17110.552734, lr 5.000000e-05"
       ]
      },
      {
       "output_type": "stream",
       "stream": "stdout",
       "text": [
        "\n",
        "starting iteration  390\n",
        "Finished epoch 66 / 100: cost 758192.569431, train: 20352.550781, val 17140.281250, lr 5.000000e-05"
       ]
      },
      {
       "output_type": "stream",
       "stream": "stdout",
       "text": [
        "\n",
        "starting iteration "
       ]
      },
      {
       "output_type": "stream",
       "stream": "stdout",
       "text": [
        " 400\n",
        "Finished epoch 67 / 100: cost 1199525.631495, train: 20214.183594, val 17205.396484, lr 5.000000e-05"
       ]
      },
      {
       "output_type": "stream",
       "stream": "stdout",
       "text": [
        "\n",
        "Finished epoch 68 / 100: cost 1091284.131834, train: 20069.857422, val 16630.974609, lr 5.000000e-05"
       ]
      },
      {
       "output_type": "stream",
       "stream": "stdout",
       "text": [
        "\n",
        "starting iteration "
       ]
      },
      {
       "output_type": "stream",
       "stream": "stdout",
       "text": [
        " 410\n",
        "Finished epoch 69 / 100: cost 961936.445463, train: 19909.826172, val 16964.068359, lr 5.000000e-05"
       ]
      },
      {
       "output_type": "stream",
       "stream": "stdout",
       "text": [
        "\n",
        "Finished epoch 70 / 100: cost 997476.820153, train: 19740.847656, val 16631.996094, lr 5.000000e-05"
       ]
      },
      {
       "output_type": "stream",
       "stream": "stdout",
       "text": [
        "\n",
        "starting iteration  420\n",
        "Finished epoch 71 / 100: cost 991681.321550, train: 19594.601562, val 16449.890625, lr 5.000000e-05"
       ]
      },
      {
       "output_type": "stream",
       "stream": "stdout",
       "text": [
        "\n",
        "starting iteration "
       ]
      },
      {
       "output_type": "stream",
       "stream": "stdout",
       "text": [
        " 430\n",
        "Finished epoch 72 / 100: cost 1360982.884796, train: 19637.238281, val 17465.429688, lr 5.000000e-05"
       ]
      },
      {
       "output_type": "stream",
       "stream": "stdout",
       "text": [
        "\n",
        "Finished epoch 73 / 100: cost 1090855.135123, train: 19284.505859, val 16446.845703, lr 5.000000e-05"
       ]
      },
      {
       "output_type": "stream",
       "stream": "stdout",
       "text": [
        "\n",
        "starting iteration "
       ]
      },
      {
       "output_type": "stream",
       "stream": "stdout",
       "text": [
        " 440\n",
        "Finished epoch 74 / 100: cost 833178.134472, train: 19213.609375, val 15963.612305, lr 5.000000e-05"
       ]
      },
      {
       "output_type": "stream",
       "stream": "stdout",
       "text": [
        "\n",
        "Finished epoch 75 / 100: cost 863362.134728, train: 19042.269531, val 15990.844727, lr 5.000000e-05"
       ]
      },
      {
       "output_type": "stream",
       "stream": "stdout",
       "text": [
        "\n",
        "starting iteration  450\n",
        "Finished epoch 76 / 100: cost 1108934.261250, train: 18919.800781, val 16565.197266, lr 5.000000e-05"
       ]
      },
      {
       "output_type": "stream",
       "stream": "stdout",
       "text": [
        "\n",
        "starting iteration "
       ]
      },
      {
       "output_type": "stream",
       "stream": "stdout",
       "text": [
        " 460\n",
        "Finished epoch 77 / 100: cost 802605.699807, train: 18792.023438, val 16539.955078, lr 5.000000e-05"
       ]
      },
      {
       "output_type": "stream",
       "stream": "stdout",
       "text": [
        "\n",
        "Finished epoch 78 / 100: cost 740187.699831, train: 18580.080078, val 16010.870117, lr 5.000000e-05"
       ]
      },
      {
       "output_type": "stream",
       "stream": "stdout",
       "text": [
        "\n",
        "starting iteration "
       ]
      },
      {
       "output_type": "stream",
       "stream": "stdout",
       "text": [
        " 470\n",
        "Finished epoch 79 / 100: cost 620605.324956, train: 18458.964844, val 15694.508789, lr 5.000000e-05"
       ]
      },
      {
       "output_type": "stream",
       "stream": "stdout",
       "text": [
        "\n",
        "Finished epoch 80 / 100: cost 1069477.387479, train: 18323.964844, val 15482.919922, lr 5.000000e-05"
       ]
      },
      {
       "output_type": "stream",
       "stream": "stdout",
       "text": [
        "\n",
        "starting iteration  480\n",
        "Finished epoch 81 / 100: cost 840189.763668, train: 18145.589844, val 15524.539062, lr 5.000000e-05"
       ]
      },
      {
       "output_type": "stream",
       "stream": "stdout",
       "text": [
        "\n",
        "starting iteration "
       ]
      },
      {
       "output_type": "stream",
       "stream": "stdout",
       "text": [
        " 490\n",
        "Finished epoch 82 / 100: cost 828295.326442, train: 18034.427734, val 15430.474609, lr 5.000000e-05"
       ]
      },
      {
       "output_type": "stream",
       "stream": "stdout",
       "text": [
        "\n",
        "Finished epoch 83 / 100: cost 1032371.327492, train: 17902.033203, val 15627.469727, lr 5.000000e-05"
       ]
      },
      {
       "output_type": "stream",
       "stream": "stdout",
       "text": [
        "\n",
        "starting iteration "
       ]
      },
      {
       "output_type": "stream",
       "stream": "stdout",
       "text": [
        " 500\n",
        "Finished epoch 84 / 100: cost 818653.327412, train: 17771.792969, val 15249.265625, lr 5.000000e-05"
       ]
      },
      {
       "output_type": "stream",
       "stream": "stdout",
       "text": [
        "\n",
        "Finished epoch 85 / 100: cost 834398.204087, train: 17598.361328, val 15438.006836, lr 5.000000e-05"
       ]
      },
      {
       "output_type": "stream",
       "stream": "stdout",
       "text": [
        "\n",
        "starting iteration  510\n",
        "Finished epoch 86 / 100: cost 722045.579185, train: 17467.238281, val 15179.691406, lr 5.000000e-05"
       ]
      },
      {
       "output_type": "stream",
       "stream": "stdout",
       "text": [
        "\n",
        "starting iteration "
       ]
      },
      {
       "output_type": "stream",
       "stream": "stdout",
       "text": [
        " 520\n",
        "Finished epoch 87 / 100: cost 869407.641204, train: 17409.695312, val 14811.265625, lr 5.000000e-05"
       ]
      },
      {
       "output_type": "stream",
       "stream": "stdout",
       "text": [
        "\n",
        "Finished epoch 88 / 100: cost 814270.518135, train: 17138.601562, val 15130.146484, lr 5.000000e-05"
       ]
      },
      {
       "output_type": "stream",
       "stream": "stdout",
       "text": [
        "\n",
        "starting iteration "
       ]
      },
      {
       "output_type": "stream",
       "stream": "stdout",
       "text": [
        " 530\n",
        "Finished epoch 89 / 100: cost 817604.017628, train: 17065.291016, val 14732.733398, lr 5.000000e-05"
       ]
      },
      {
       "output_type": "stream",
       "stream": "stdout",
       "text": [
        "\n",
        "Finished epoch 90 / 100: cost 884482.017705, train: 16896.525391, val 14876.272461, lr 5.000000e-05"
       ]
      },
      {
       "output_type": "stream",
       "stream": "stdout",
       "text": [
        "\n",
        "starting iteration  540\n",
        "Finished epoch 91 / 100: cost 820741.082780, train: 16759.625000, val 15101.409180, lr 5.000000e-05"
       ]
      },
      {
       "output_type": "stream",
       "stream": "stdout",
       "text": [
        "\n",
        "starting iteration "
       ]
      },
      {
       "output_type": "stream",
       "stream": "stdout",
       "text": [
        " 550\n",
        "Finished epoch 92 / 100: cost 674362.519616, train: 16606.125000, val 15005.842773, lr 5.000000e-05"
       ]
      },
      {
       "output_type": "stream",
       "stream": "stdout",
       "text": [
        "\n",
        "Finished epoch 93 / 100: cost 622332.271257, train: 16489.142578, val 15007.327148, lr 5.000000e-05"
       ]
      },
      {
       "output_type": "stream",
       "stream": "stdout",
       "text": [
        "\n",
        "starting iteration "
       ]
      },
      {
       "output_type": "stream",
       "stream": "stdout",
       "text": [
        " 560\n",
        "Finished epoch 94 / 100: cost 960787.144836, train: 16337.287109, val 14546.212891, lr 5.000000e-05"
       ]
      },
      {
       "output_type": "stream",
       "stream": "stdout",
       "text": [
        "\n",
        "Finished epoch 95 / 100: cost 613333.146065, train: 16251.596680, val 14487.729492, lr 5.000000e-05"
       ]
      },
      {
       "output_type": "stream",
       "stream": "stdout",
       "text": [
        "\n",
        "starting iteration  570\n",
        "Finished epoch 96 / 100: cost 818268.521477, train: 16181.106445, val 14256.177734, lr 5.000000e-05"
       ]
      },
      {
       "output_type": "stream",
       "stream": "stdout",
       "text": [
        "\n",
        "starting iteration "
       ]
      },
      {
       "output_type": "stream",
       "stream": "stdout",
       "text": [
        " 580\n",
        "Finished epoch 97 / 100: cost 819371.022125, train: 15965.161133, val 14608.973633, lr 5.000000e-05"
       ]
      },
      {
       "output_type": "stream",
       "stream": "stdout",
       "text": [
        "\n",
        "Finished epoch 98 / 100: cost 637751.460285, train: 15850.309570, val 14463.861328, lr 5.000000e-05"
       ]
      },
      {
       "output_type": "stream",
       "stream": "stdout",
       "text": [
        "\n",
        "starting iteration "
       ]
      },
      {
       "output_type": "stream",
       "stream": "stdout",
       "text": [
        " 590\n",
        "Finished epoch 99 / 100: cost 720702.586167, train: 15768.187500, val 14732.662109, lr 5.000000e-05"
       ]
      },
      {
       "output_type": "stream",
       "stream": "stdout",
       "text": [
        "\n",
        "Finished epoch 100 / 100: cost 880213.461423, train: 15655.725586, val 14409.925781, lr 5.000000e-05"
       ]
      },
      {
       "output_type": "stream",
       "stream": "stdout",
       "text": [
        "\n",
        "finished optimization. best validation accuracy: 120109.625000\n"
       ]
      }
     ],
     "prompt_number": 24
    },
    {
     "cell_type": "markdown",
     "metadata": {},
     "source": [
      "#III. Visualizing Results"
     ]
    },
    {
     "cell_type": "code",
     "collapsed": false,
     "input": [
      "from convcube import ConvNetCube\n",
      "from convcube.utils.wrangling import iter_unlabeled_frames\n",
      "from convcube.utils.wrangling import iter_labeled_frames\n",
      "from convcube.localization.utils import get_y_localization\n",
      "cube = ConvNetCube(loc_model=model)"
     ],
     "language": "python",
     "metadata": {},
     "outputs": [
      {
       "output_type": "stream",
       "stream": "stdout",
       "text": [
        "\n"
       ]
      }
     ],
     "prompt_number": 54
    },
    {
     "cell_type": "markdown",
     "metadata": {},
     "source": [
      "### On Labeled Frames"
     ]
    },
    {
     "cell_type": "code",
     "collapsed": false,
     "input": [
      "for frame in iter_labeled_frames(client):\n",
      "    image = frame['image'].copy()\n",
      "    coords = cube.localize(image)"
     ],
     "language": "python",
     "metadata": {},
     "outputs": [
      {
       "output_type": "stream",
       "stream": "stdout",
       "text": [
        "(402.0, 182.0)\n",
        "(360, 640, 3)\n",
        "(385.0, 163.0)\n",
        "(360, 640, 3)\n",
        "(404.0, 185.0)\n",
        "(360, 640, 3)\n",
        "(395.0, 173.0)\n",
        "(360, 640, 3)\n",
        "(410.0, 176.0)\n",
        "(360, 640, 3)\n",
        "(304.0, 251.0)\n",
        "(360, 640, 3)\n",
        "(290.0, 245.0)"
       ]
      },
      {
       "output_type": "stream",
       "stream": "stdout",
       "text": [
        "\n",
        "(360, 640, 3)\n",
        "(330.0, 250.0)\n",
        "(360, 640, 3)\n",
        "(300.0, 230.0)\n",
        "(360, 640, 3)\n",
        "(342.0, 215.0)\n",
        "(360, 640, 3)\n",
        "(339.0, 211.0)"
       ]
      },
      {
       "output_type": "stream",
       "stream": "stdout",
       "text": [
        "\n",
        "(360, 640, 3)\n",
        "(354.0, 208.0)\n",
        "(360, 640, 3)\n",
        "(349.0, 215.0)\n",
        "(360, 640, 3)\n",
        "(181.0, 114.0)"
       ]
      },
      {
       "output_type": "stream",
       "stream": "stdout",
       "text": [
        "\n",
        "(360, 640, 3)\n",
        "(27.0, 213.0)\n",
        "(360, 640, 3)\n",
        "(35.0, 205.0)\n",
        "(360, 640, 3)\n",
        "(19.0, 217.0)\n",
        "(360, 640, 3)\n",
        "(20.0, 218.0)\n",
        "(360, 640, 3)\n",
        "(68.0, 245.0)"
       ]
      },
      {
       "output_type": "stream",
       "stream": "stdout",
       "text": [
        "\n",
        "(360, 640, 3)\n",
        "(75.0, 236.0)\n",
        "(360, 640, 3)\n",
        "(35.0, 197.0)\n",
        "(360, 640, 3)\n",
        "(64.0, 248.0)\n",
        "(360, 640, 3)\n",
        "(213.0, 140.0)\n",
        "(360, 640, 3)\n",
        "(241.0, 179.0)"
       ]
      },
      {
       "output_type": "stream",
       "stream": "stdout",
       "text": [
        "\n",
        "(360, 640, 3)\n",
        "(40.0, 255.0)\n",
        "(360, 640, 3)\n",
        "(97.0, 214.0)\n",
        "(360, 640, 3)\n",
        "(222.0, 179.0)\n",
        "(360, 640, 3)\n",
        "(225.0, 178.0)\n",
        "(360, 640, 3)\n",
        "(221.0, 178.0)\n",
        "(360, 640, 3)\n",
        "(175.0, 188.0)"
       ]
      },
      {
       "output_type": "stream",
       "stream": "stdout",
       "text": [
        "\n",
        "(360, 640, 3)\n",
        "(97.0, 209.0)\n",
        "(360, 640, 3)\n",
        "(116.0, 253.0)\n",
        "(360, 640, 3)\n",
        "(119.0, 224.0)\n",
        "(360, 640, 3)\n",
        "(29.0, 198.0)\n",
        "(360, 640, 3)\n",
        "(30.0, 199.0)\n",
        "(360, 640, 3)\n",
        "(120.0, 244.0)\n",
        "(360, 640, 3)\n",
        "(25.0, 215.0)"
       ]
      },
      {
       "output_type": "stream",
       "stream": "stdout",
       "text": [
        "\n",
        "(360, 640, 3)\n",
        "(73.0, 197.0)\n",
        "(360, 640, 3)\n",
        "(85.0, 205.0)\n",
        "(360, 640, 3)\n",
        "(58.0, 263.0)\n",
        "(360, 640, 3)\n",
        "(205.0, 226.0)\n",
        "(360, 640, 3)\n",
        "(93.0, 235.0)\n",
        "(360, 640, 3)\n",
        "(230.0, 152.0)"
       ]
      },
      {
       "output_type": "stream",
       "stream": "stdout",
       "text": [
        "\n",
        "(360, 640, 3)\n",
        "(230.0, 149.0)\n",
        "(360, 640, 3)\n",
        "(127.0, 129.0)\n",
        "(360, 640, 3)\n",
        "(65.0, 221.0)\n",
        "(360, 640, 3)\n",
        "(94.0, 222.0)\n",
        "(360, 640, 3)\n",
        "(95.0, 217.0)"
       ]
      },
      {
       "output_type": "stream",
       "stream": "stdout",
       "text": [
        "\n",
        "(360, 640, 3)\n",
        "(195.0, 163.0)\n",
        "(360, 640, 3)\n",
        "(181.0, 222.0)\n",
        "(360, 640, 3)\n",
        "(266.0, 180.0)"
       ]
      },
      {
       "output_type": "stream",
       "stream": "stdout",
       "text": [
        "\n",
        "(360, 640, 3)\n",
        "(193.0, 194.0)\n",
        "(360, 640, 3)\n",
        "(130.0, 214.0)\n",
        "(360, 640, 3)\n",
        "(116.0, 180.0)\n",
        "(360, 640, 3)\n",
        "(144.0, 204.0)"
       ]
      },
      {
       "output_type": "stream",
       "stream": "stdout",
       "text": [
        "\n",
        "(360, 640, 3)\n",
        "(157.0, 231.0)"
       ]
      },
      {
       "output_type": "stream",
       "stream": "stdout",
       "text": [
        "\n",
        "(360, 640, 3)\n",
        "(83.0, 327.0)\n",
        "(360, 640, 3)\n",
        "(119.0, 192.0)\n",
        "(360, 640, 3)\n",
        "(41.0, 145.0)\n",
        "(360, 640, 3)\n",
        "(60.0, 286.0)\n",
        "(360, 640, 3)\n",
        "(52.0, 286.0)\n",
        "(360, 640, 3)\n",
        "(101.0, 207.0)"
       ]
      },
      {
       "output_type": "stream",
       "stream": "stdout",
       "text": [
        "\n",
        "(360, 640, 3)\n",
        "(107.0, 186.0)\n",
        "(360, 640, 3)\n",
        "(29.0, 144.0)\n",
        "(360, 640, 3)\n",
        "(78.0, 176.0)\n",
        "(360, 640, 3)\n",
        "(209.0, 242.0)\n",
        "(360, 640, 3)\n",
        "(41.0, 138.0)\n",
        "(360, 640, 3)\n",
        "(156.0, 146.0)"
       ]
      },
      {
       "output_type": "stream",
       "stream": "stdout",
       "text": [
        "\n",
        "(360, 640, 3)\n",
        "(44.0, 168.0)\n",
        "(360, 640, 3)\n",
        "(77.0, 141.0)\n",
        "(360, 640, 3)\n",
        "(49.0, 185.0)\n",
        "(360, 640, 3)\n",
        "(78.0, 145.0)\n",
        "(360, 640, 3)\n",
        "(88.0, 153.0)\n",
        "(360, 640, 3)\n",
        "(39.0, 187.0)\n",
        "(360, 640, 3)\n",
        "(93.0, 138.0)"
       ]
      },
      {
       "output_type": "stream",
       "stream": "stdout",
       "text": [
        "\n",
        "(360, 640, 3)\n",
        "(64.0, 121.0)\n",
        "(360, 640, 3)\n",
        "(124.0, 135.0)\n",
        "(360, 640, 3)\n",
        "(248.0, 181.0)\n",
        "(360, 640, 3)\n",
        "(212.0, 182.0)\n",
        "(360, 640, 3)\n",
        "(220.0, 179.0)\n",
        "(360, 640, 3)\n",
        "(221.0, 178.0)"
       ]
      },
      {
       "output_type": "stream",
       "stream": "stdout",
       "text": [
        "\n",
        "(360, 640, 3)\n",
        "(191.0, 180.0)\n",
        "(360, 640, 3)\n",
        "(235.0, 171.0)\n",
        "(360, 640, 3)\n",
        "(243.0, 162.0)\n",
        "(360, 640, 3)\n",
        "(203.0, 167.0)\n",
        "(360, 640, 3)\n",
        "(91.0, 142.0)\n",
        "(360, 640, 3)\n",
        "(98.0, 144.0)"
       ]
      },
      {
       "output_type": "stream",
       "stream": "stdout",
       "text": [
        "\n",
        "(360, 640, 3)\n",
        "(88.0, 186.0)\n",
        "(360, 640, 3)\n",
        "(87.0, 139.0)\n",
        "(360, 640, 3)\n",
        "(131.0, 178.0)\n",
        "(360, 640, 3)\n",
        "(91.0, 188.0)\n",
        "(360, 640, 3)\n",
        "(160.0, 180.0)\n",
        "(360, 640, 3)\n",
        "(157.0, 178.0)\n",
        "(360, 640, 3)\n",
        "(157.0, 182.0)"
       ]
      },
      {
       "output_type": "stream",
       "stream": "stdout",
       "text": [
        "\n",
        "(360, 640, 3)\n",
        "(157.0, 180.0)\n",
        "(360, 640, 3)\n",
        "(222.0, 179.0)\n",
        "(360, 640, 3)\n",
        "(223.0, 177.0)\n",
        "(360, 640, 3)\n",
        "(256.0, 211.0)\n",
        "(360, 640, 3)\n",
        "(235.0, 274.0)\n",
        "(360, 640, 3)\n",
        "(202.0, 211.0)\n",
        "(360, 640, 3)\n",
        "(253.0, 201.0)"
       ]
      },
      {
       "output_type": "stream",
       "stream": "stdout",
       "text": [
        "\n",
        "(360, 640, 3)\n",
        "(181.0, 302.0)\n",
        "(360, 640, 3)\n",
        "(146.0, 251.0)\n",
        "(360, 640, 3)\n",
        "(197.0, 214.0)\n",
        "(360, 640, 3)\n",
        "(186.0, 221.0)\n",
        "(360, 640, 3)\n",
        "(125.0, 249.0)\n",
        "(360, 640, 3)\n",
        "(169.0, 145.0)\n",
        "(360, 640, 3)\n",
        "(228.0, 179.0)"
       ]
      },
      {
       "output_type": "stream",
       "stream": "stdout",
       "text": [
        "\n",
        "(360, 640, 3)\n",
        "(201.0, 291.0)\n",
        "(360, 640, 3)\n",
        "(127.0, 241.0)\n",
        "(360, 640, 3)\n",
        "(246.0, 184.0)\n",
        "(360, 640, 3)\n",
        "(365.0, 270.0)\n",
        "(360, 640, 3)\n",
        "(370.0, 250.0)\n",
        "(360, 640, 3)\n",
        "(335.0, 207.0)\n",
        "(360, 640, 3)\n",
        "(340.0, 228.0)"
       ]
      },
      {
       "output_type": "stream",
       "stream": "stdout",
       "text": [
        "\n",
        "(360, 640, 3)\n",
        "(322.0, 237.0)\n",
        "(360, 640, 3)\n",
        "(325.0, 215.0)\n",
        "(360, 640, 3)\n",
        "(343.0, 178.0)\n",
        "(360, 640, 3)\n",
        "(347.0, 179.0)\n",
        "(360, 640, 3)\n",
        "(339.0, 183.0)\n",
        "(360, 640, 3)\n",
        "(343.0, 177.0)\n"
       ]
      },
      {
       "output_type": "stream",
       "stream": "stdout",
       "text": [
        "(360, 640, 3)\n",
        "(324.0, 234.0)\n",
        "(360, 640, 3)\n",
        "(334.0, 201.0)\n",
        "(360, 640, 3)\n",
        "(344.0, 190.0)\n",
        "(360, 640, 3)\n",
        "(336.0, 191.0)\n",
        "(360, 640, 3)\n",
        "(358.0, 180.0)\n",
        "(360, 640, 3)\n",
        "(352.0, 184.0)"
       ]
      },
      {
       "output_type": "stream",
       "stream": "stdout",
       "text": [
        "\n",
        "(360, 640, 3)\n",
        "(251.0, 165.0)\n",
        "(360, 640, 3)\n",
        "(450.0, 197.0)\n",
        "(360, 640, 3)\n",
        "(553.0, 187.0)\n",
        "(360, 640, 3)\n",
        "(543.0, 192.0)\n",
        "(360, 640, 3)\n",
        "(455.0, 176.0)\n",
        "(360, 640, 3)\n",
        "(452.0, 176.0)"
       ]
      },
      {
       "output_type": "stream",
       "stream": "stdout",
       "text": [
        "\n",
        "(360, 640, 3)\n",
        "(446.0, 198.0)\n",
        "(360, 640, 3)\n",
        "(447.0, 198.0)\n",
        "(360, 640, 3)\n",
        "(210.0, 178.0)\n",
        "(360, 640, 3)\n",
        "(198.0, 183.0)\n",
        "(360, 640, 3)\n",
        "(111.0, 227.0)\n",
        "(360, 640, 3)\n",
        "(105.0, 229.0)"
       ]
      },
      {
       "output_type": "stream",
       "stream": "stdout",
       "text": [
        "\n",
        "(360, 640, 3)\n",
        "(105.0, 217.0)\n",
        "(360, 640, 3)\n",
        "(187.0, 188.0)\n",
        "(360, 640, 3)\n",
        "(160.0, 170.0)\n",
        "(360, 640, 3)\n",
        "(183.0, 191.0)\n",
        "(360, 640, 3)\n",
        "(509.0, 199.0)\n",
        "(360, 640, 3)\n",
        "(513.0, 203.0)\n",
        "(360, 640, 3)\n",
        "(519.0, 183.0)"
       ]
      },
      {
       "output_type": "stream",
       "stream": "stdout",
       "text": [
        "\n",
        "(360, 640, 3)\n",
        "(512.0, 168.0)\n",
        "(360, 640, 3)\n",
        "(550.0, 184.0)\n",
        "(360, 640, 3)\n",
        "(545.0, 190.0)\n",
        "(360, 640, 3)\n",
        "(517.0, 206.0)\n",
        "(360, 640, 3)\n",
        "(515.0, 192.0)\n",
        "(360, 640, 3)\n",
        "(468.0, 179.0)"
       ]
      },
      {
       "output_type": "stream",
       "stream": "stdout",
       "text": [
        "\n",
        "(360, 640, 3)\n",
        "(519.0, 171.0)\n",
        "(360, 640, 3)\n",
        "(527.0, 186.0)\n",
        "(360, 640, 3)\n",
        "(469.0, 180.0)\n",
        "(360, 640, 3)\n",
        "(462.0, 177.0)\n",
        "(360, 640, 3)\n",
        "(280.0, 159.0)\n",
        "(360, 640, 3)\n",
        "(265.0, 180.0)"
       ]
      },
      {
       "output_type": "stream",
       "stream": "stdout",
       "text": [
        "\n",
        "(360, 640, 3)\n",
        "(322.0, 190.0)\n",
        "(360, 640, 3)\n",
        "(271.0, 176.0)\n",
        "(360, 640, 3)\n",
        "(479.0, 186.0)\n",
        "(360, 640, 3)\n",
        "(218.0, 161.0)\n",
        "(360, 640, 3)\n",
        "(181.0, 164.0)\n",
        "(360, 640, 3)\n",
        "(502.0, 180.0)"
       ]
      },
      {
       "output_type": "stream",
       "stream": "stdout",
       "text": [
        "\n",
        "(360, 640, 3)\n",
        "(504.0, 180.0)\n",
        "(360, 640, 3)\n",
        "(503.0, 181.0)\n",
        "(360, 640, 3)\n",
        "(197.0, 165.0)\n",
        "(360, 640, 3)\n",
        "(264.0, 182.0)\n",
        "(360, 640, 3)\n",
        "(210.0, 208.0)\n",
        "(360, 640, 3)\n",
        "(234.0, 189.0)\n",
        "(360, 640, 3)\n",
        "(209.0, 193.0)"
       ]
      },
      {
       "output_type": "stream",
       "stream": "stdout",
       "text": [
        "\n",
        "(360, 640, 3)\n",
        "(443.0, 197.0)\n",
        "(360, 640, 3)\n",
        "(473.0, 181.0)\n",
        "(360, 640, 3)\n",
        "(476.0, 159.0)\n",
        "(360, 640, 3)\n",
        "(354.0, 274.0)\n",
        "(360, 640, 3)\n",
        "(507.0, 169.0)\n",
        "(360, 640, 3)\n",
        "(246.0, 148.0)"
       ]
      },
      {
       "output_type": "stream",
       "stream": "stdout",
       "text": [
        "\n",
        "(360, 640, 3)\n",
        "(226.0, 152.0)\n",
        "(360, 640, 3)\n",
        "(228.0, 157.0)\n",
        "(360, 640, 3)\n",
        "(255.0, 127.0)\n",
        "(360, 640, 3)\n",
        "(234.0, 140.0)\n",
        "(360, 640, 3)\n",
        "(256.0, 144.0)\n",
        "(360, 640, 3)\n",
        "(294.0, 117.0)"
       ]
      },
      {
       "output_type": "stream",
       "stream": "stdout",
       "text": [
        "\n",
        "(360, 640, 3)\n",
        "(195.0, 191.0)\n",
        "(360, 640, 3)\n",
        "(208.0, 169.0)\n",
        "(360, 640, 3)\n",
        "(215.0, 231.0)\n",
        "(360, 640, 3)\n",
        "(496.0, 164.0)\n",
        "(360, 640, 3)\n",
        "(483.0, 212.0)"
       ]
      },
      {
       "output_type": "stream",
       "stream": "stdout",
       "text": [
        "\n",
        "(360, 640, 3)\n",
        "(524.0, 168.0)\n",
        "(360, 640, 3)\n",
        "(466.0, 179.0)\n",
        "(360, 640, 3)\n",
        "(510.0, 144.0)\n",
        "(360, 640, 3)\n",
        "(219.0, 163.0)\n",
        "(360, 640, 3)\n",
        "(260.0, 160.0)"
       ]
      },
      {
       "output_type": "stream",
       "stream": "stdout",
       "text": [
        "\n",
        "(360, 640, 3)\n",
        "(264.0, 181.0)\n",
        "(360, 640, 3)\n",
        "(256.0, 164.0)\n",
        "(360, 640, 3)\n",
        "(271.0, 194.0)\n",
        "(360, 640, 3)\n",
        "(292.0, 225.0)\n",
        "(360, 640, 3)\n",
        "(303.0, 238.0)"
       ]
      },
      {
       "output_type": "stream",
       "stream": "stdout",
       "text": [
        "\n",
        "(360, 640, 3)\n",
        "(282.0, 213.0)\n",
        "(360, 640, 3)\n",
        "(285.0, 220.0)"
       ]
      },
      {
       "output_type": "stream",
       "stream": "stdout",
       "text": [
        "\n",
        "(360, 640, 3)\n",
        "(312.0, 286.0)\n",
        "(360, 640, 3)\n",
        "(329.0, 315.0)\n",
        "(360, 640, 3)\n",
        "(327.0, 324.0)\n",
        "(360, 640, 3)\n",
        "(110.0, 129.0)\n",
        "(360, 640, 3)\n",
        "(250.0, 160.0)"
       ]
      },
      {
       "output_type": "stream",
       "stream": "stdout",
       "text": [
        "\n",
        "(360, 640, 3)\n",
        "(230.0, 167.0)\n",
        "(360, 640, 3)\n",
        "(265.0, 151.0)\n",
        "(360, 640, 3)\n",
        "(271.0, 153.0)\n",
        "(360, 640, 3)\n",
        "(163.0, 210.0)\n",
        "(360, 640, 3)\n",
        "(158.0, 245.0)\n",
        "(360, 640, 3)\n",
        "(329.0, 167.0)"
       ]
      },
      {
       "output_type": "stream",
       "stream": "stdout",
       "text": [
        "\n",
        "(360, 640, 3)\n",
        "(184.0, 200.0)\n",
        "(360, 640, 3)\n",
        "(178.0, 157.0)\n",
        "(360, 640, 3)\n",
        "(196.0, 185.0)\n",
        "(360, 640, 3)\n",
        "(204.0, 174.0)\n",
        "(360, 640, 3)\n",
        "(193.0, 176.0)\n",
        "(360, 640, 3)\n",
        "(157.0, 175.0)"
       ]
      },
      {
       "output_type": "stream",
       "stream": "stdout",
       "text": [
        "\n",
        "(360, 640, 3)\n",
        "(447.0, 112.0)\n",
        "(360, 640, 3)\n",
        "(448.0, 135.0)\n",
        "(360, 640, 3)\n",
        "(469.0, 132.0)\n",
        "(360, 640, 3)\n",
        "(323.0, 205.0)\n",
        "(360, 640, 3)\n",
        "(485.0, 139.0)\n",
        "(360, 640, 3)\n",
        "(229.0, 233.0)"
       ]
      },
      {
       "output_type": "stream",
       "stream": "stdout",
       "text": [
        "\n",
        "(360, 640, 3)\n",
        "(185.0, 240.0)\n",
        "(360, 640, 3)\n",
        "(200.0, 183.0)\n",
        "(360, 640, 3)\n",
        "(215.0, 161.0)\n",
        "(360, 640, 3)\n",
        "(194.0, 186.0)\n",
        "(360, 640, 3)\n",
        "(184.0, 160.0)"
       ]
      },
      {
       "output_type": "stream",
       "stream": "stdout",
       "text": [
        "\n",
        "(360, 640, 3)\n",
        "(525.0, 129.0)\n",
        "(360, 640, 3)\n",
        "(70.0, 152.0)\n",
        "(360, 640, 3)\n",
        "(46.0, 163.0)\n",
        "(360, 640, 3)\n",
        "(49.0, 156.0)\n",
        "(360, 640, 3)\n",
        "(202.0, 157.0)\n",
        "(360, 640, 3)\n",
        "(220.0, 129.0)"
       ]
      },
      {
       "output_type": "stream",
       "stream": "stdout",
       "text": [
        "\n",
        "(360, 640, 3)\n",
        "(179.0, 179.0)\n",
        "(360, 640, 3)\n",
        "(184.0, 183.0)\n",
        "(360, 640, 3)\n",
        "(190.0, 236.0)\n",
        "(360, 640, 3)\n",
        "(84.0, 212.0)\n",
        "(360, 640, 3)\n",
        "(84.0, 212.0)"
       ]
      },
      {
       "output_type": "stream",
       "stream": "stdout",
       "text": [
        "\n",
        "(360, 640, 3)\n",
        "(127.0, 216.0)\n",
        "(360, 640, 3)\n",
        "(96.0, 137.0)\n",
        "(360, 640, 3)\n",
        "(21.0, 155.0)\n",
        "(360, 640, 3)\n",
        "(217.0, 152.0)"
       ]
      },
      {
       "output_type": "stream",
       "stream": "stdout",
       "text": [
        "\n",
        "(360, 640, 3)\n",
        "(221.0, 150.0)\n",
        "(360, 640, 3)\n",
        "(233.0, 151.0)\n",
        "(360, 640, 3)\n",
        "(235.0, 155.0)\n",
        "(360, 640, 3)\n",
        "(222.0, 201.0)\n",
        "(360, 640, 3)\n",
        "(119.0, 225.0)"
       ]
      },
      {
       "output_type": "stream",
       "stream": "stdout",
       "text": [
        "\n",
        "(360, 640, 3)\n",
        "(515.0, 100.0)\n",
        "(360, 640, 3)\n",
        "(456.0, 102.0)\n",
        "(360, 640, 3)\n",
        "(499.0, 128.0)\n",
        "(360, 640, 3)\n",
        "(506.0, 80.0)\n",
        "(360, 640, 3)\n",
        "(192.0, 159.0)\n",
        "(360, 640, 3)\n",
        "(157.0, 175.0)"
       ]
      },
      {
       "output_type": "stream",
       "stream": "stdout",
       "text": [
        "\n",
        "(360, 640, 3)\n",
        "(218.0, 168.0)\n",
        "(360, 640, 3)\n",
        "(111.0, 99.0)\n",
        "(360, 640, 3)\n",
        "(199.0, 173.0)\n",
        "(360, 640, 3)\n",
        "(634.0, 190.0)\n",
        "(360, 640, 3)\n",
        "(243.0, 205.0)\n",
        "(360, 640, 3)\n",
        "(602.0, 170.0)"
       ]
      },
      {
       "output_type": "stream",
       "stream": "stdout",
       "text": [
        "\n",
        "(360, 640, 3)\n",
        "(587.0, 116.0)\n",
        "(360, 640, 3)\n",
        "(561.0, 174.0)\n",
        "(360, 640, 3)\n",
        "(600.0, 174.0)\n",
        "(360, 640, 3)\n",
        "(521.0, 90.0)\n",
        "(360, 640, 3)\n",
        "(264.0, 202.0)\n",
        "(360, 640, 3)\n",
        "(266.0, 206.0)"
       ]
      },
      {
       "output_type": "stream",
       "stream": "stdout",
       "text": [
        "\n",
        "(360, 640, 3)\n",
        "(261.0, 198.0)\n",
        "(360, 640, 3)\n",
        "(264.0, 205.0)\n",
        "(360, 640, 3)\n",
        "(268.0, 209.0)\n",
        "(360, 640, 3)\n",
        "(276.0, 212.0)\n",
        "(360, 640, 3)\n",
        "(271.0, 229.0)\n",
        "(360, 640, 3)\n",
        "(282.0, 241.0)\n",
        "(360, 640, 3)\n",
        "(265.0, 212.0)"
       ]
      },
      {
       "output_type": "stream",
       "stream": "stdout",
       "text": [
        "\n",
        "(360, 640, 3)\n",
        "(267.0, 218.0)\n",
        "(360, 640, 3)\n",
        "(338.0, 274.0)\n",
        "(360, 640, 3)\n",
        "(352.0, 302.0)\n",
        "(360, 640, 3)\n",
        "(307.0, 319.0)\n",
        "(360, 640, 3)\n",
        "(332.0, 323.0)\n",
        "(360, 640, 3)\n",
        "(276.0, 291.0)"
       ]
      },
      {
       "output_type": "stream",
       "stream": "stdout",
       "text": [
        "\n",
        "(360, 640, 3)\n",
        "(294.0, 308.0)\n",
        "(360, 640, 3)\n",
        "(292.0, 259.0)\n",
        "(360, 640, 3)\n",
        "(300.0, 270.0)\n",
        "(360, 640, 3)\n",
        "(518.0, 160.0)\n",
        "(360, 640, 3)\n",
        "(621.0, 211.0)"
       ]
      },
      {
       "output_type": "stream",
       "stream": "stdout",
       "text": [
        "\n",
        "(360, 640, 3)\n",
        "(595.0, 202.0)\n",
        "(360, 640, 3)\n",
        "(428.0, 174.0)\n",
        "(360, 640, 3)\n",
        "(412.0, 195.0)\n",
        "(360, 640, 3)\n",
        "(493.0, 147.0)\n",
        "(360, 640, 3)\n",
        "(462.0, 151.0)"
       ]
      },
      {
       "output_type": "stream",
       "stream": "stdout",
       "text": [
        "\n",
        "(360, 640, 3)\n",
        "(454.0, 239.0)\n",
        "(360, 640, 3)\n",
        "(429.0, 249.0)\n",
        "(360, 640, 3)\n",
        "(541.0, 116.0)\n",
        "(360, 640, 3)\n",
        "(546.0, 107.0)\n",
        "(360, 640, 3)\n",
        "(462.0, 186.0)\n",
        "(360, 640, 3)\n",
        "(482.0, 175.0)\n",
        "(360, 640, 3)\n",
        "(532.0, 136.0)"
       ]
      },
      {
       "output_type": "stream",
       "stream": "stdout",
       "text": [
        "\n",
        "(360, 640, 3)\n",
        "(480.0, 206.0)\n",
        "(360, 640, 3)\n",
        "(527.0, 228.0)\n",
        "(360, 640, 3)\n",
        "(436.0, 254.0)\n",
        "(360, 640, 3)\n",
        "(462.0, 225.0)\n",
        "(360, 640, 3)\n",
        "(552.0, 243.0)\n",
        "(360, 640, 3)\n",
        "(545.0, 132.0)\n",
        "(360, 640, 3)\n",
        "(131.0, 149.0)"
       ]
      },
      {
       "output_type": "stream",
       "stream": "stdout",
       "text": [
        "\n",
        "(360, 640, 3)\n",
        "(144.0, 149.0)\n",
        "(360, 640, 3)\n",
        "(141.0, 150.0)\n",
        "(360, 640, 3)\n",
        "(108.0, 169.0)\n",
        "(360, 640, 3)\n",
        "(105.0, 170.0)\n",
        "(360, 640, 3)\n",
        "(110.0, 175.0)\n",
        "(360, 640, 3)\n",
        "(149.0, 125.0)\n",
        "(360, 640, 3)\n",
        "(170.0, 124.0)"
       ]
      },
      {
       "output_type": "stream",
       "stream": "stdout",
       "text": [
        "\n",
        "(360, 640, 3)\n",
        "(462.0, 141.0)\n",
        "(360, 640, 3)\n",
        "(215.0, 163.0)\n",
        "(360, 640, 3)\n",
        "(261.0, 200.0)\n",
        "(360, 640, 3)\n",
        "(220.0, 176.0)\n",
        "(360, 640, 3)\n",
        "(638.0, 193.0)\n",
        "(360, 640, 3)\n",
        "(614.0, 193.0)\n",
        "(360, 640, 3)\n",
        "(577.0, 259.0)"
       ]
      },
      {
       "output_type": "stream",
       "stream": "stdout",
       "text": [
        "\n",
        "(360, 640, 3)\n",
        "(116.0, 180.0)\n",
        "(360, 640, 3)\n",
        "(149.0, 186.0)\n",
        "(360, 640, 3)\n",
        "(285.0, 205.0)\n",
        "(360, 640, 3)\n",
        "(177.0, 163.0)\n",
        "(360, 640, 3)\n",
        "(174.0, 161.0)\n",
        "(360, 640, 3)\n",
        "(250.0, 143.0)\n",
        "(360, 640, 3)\n",
        "(241.0, 130.0)"
       ]
      },
      {
       "output_type": "stream",
       "stream": "stdout",
       "text": [
        "\n",
        "(360, 640, 3)\n",
        "(245.0, 137.0)\n",
        "(360, 640, 3)\n",
        "(260.0, 181.0)\n",
        "(360, 640, 3)\n",
        "(119.0, 150.0)\n",
        "(360, 640, 3)\n",
        "(535.0, 63.0)\n",
        "(360, 640, 3)\n",
        "(514.0, 99.0)\n",
        "(360, 640, 3)\n",
        "(535.0, 115.0)\n",
        "(360, 640, 3)\n",
        "(551.0, 114.0)"
       ]
      },
      {
       "output_type": "stream",
       "stream": "stdout",
       "text": [
        "\n",
        "(360, 640, 3)\n",
        "(134.0, 86.0)\n",
        "(360, 640, 3)\n",
        "(584.0, 232.0)\n",
        "(360, 640, 3)\n",
        "(73.0, 182.0)\n",
        "(360, 640, 3)\n",
        "(246.0, 123.0)\n",
        "(360, 640, 3)\n",
        "(179.0, 119.0)\n",
        "(360, 640, 3)\n",
        "(223.0, 128.0)"
       ]
      },
      {
       "output_type": "stream",
       "stream": "stdout",
       "text": [
        "\n",
        "(360, 640, 3)\n",
        "(238.0, 123.0)\n",
        "(360, 640, 3)\n",
        "(557.0, 204.0)\n",
        "(360, 640, 3)\n",
        "(72.0, 182.0)\n",
        "(360, 640, 3)\n",
        "(542.0, 249.0)\n",
        "(360, 640, 3)\n",
        "(87.0, 132.0)\n",
        "(360, 640, 3)\n",
        "(462.0, 148.0)"
       ]
      },
      {
       "output_type": "stream",
       "stream": "stdout",
       "text": [
        "\n",
        "(360, 640, 3)\n",
        "(105.0, 85.0)\n",
        "(360, 640, 3)\n",
        "(526.0, 93.0)\n",
        "(360, 640, 3)\n",
        "(321.0, 144.0)\n",
        "(360, 640, 3)\n",
        "(527.0, 100.0)\n",
        "(360, 640, 3)\n",
        "(499.0, 138.0)\n",
        "(360, 640, 3)\n",
        "(70.0, 191.0)\n",
        "(360, 640, 3)\n",
        "(115.0, 95.0)"
       ]
      },
      {
       "output_type": "stream",
       "stream": "stdout",
       "text": [
        "\n",
        "(360, 640, 3)\n",
        "(182.0, 129.0)\n",
        "(360, 640, 3)\n",
        "(115.0, 152.0)\n",
        "(360, 640, 3)\n",
        "(132.0, 119.0)\n",
        "(360, 640, 3)\n",
        "(152.0, 92.0)\n",
        "(360, 640, 3)\n",
        "(165.0, 113.0)\n",
        "(360, 640, 3)\n",
        "(176.0, 137.0)"
       ]
      },
      {
       "output_type": "stream",
       "stream": "stdout",
       "text": [
        "\n",
        "(360, 640, 3)\n",
        "(33.0, 119.0)\n",
        "(360, 640, 3)\n",
        "(124.0, 133.0)\n",
        "(360, 640, 3)\n",
        "(158.0, 109.0)\n",
        "(360, 640, 3)\n",
        "(97.0, 193.0)\n",
        "(360, 640, 3)\n",
        "(331.0, 255.0)\n",
        "(360, 640, 3)\n",
        "(241.0, 234.0)"
       ]
      },
      {
       "output_type": "stream",
       "stream": "stdout",
       "text": [
        "\n",
        "(360, 640, 3)\n",
        "(170.0, 132.0)\n",
        "(360, 640, 3)\n",
        "(186.0, 147.0)\n",
        "(360, 640, 3)\n",
        "(108.0, 165.0)\n",
        "(360, 640, 3)\n",
        "(126.0, 128.0)\n",
        "(360, 640, 3)\n",
        "(379.0, 203.0)\n",
        "(360, 640, 3)\n",
        "(386.0, 263.0)"
       ]
      },
      {
       "output_type": "stream",
       "stream": "stdout",
       "text": [
        "\n",
        "(360, 640, 3)\n",
        "(476.0, 127.0)\n",
        "(360, 640, 3)\n",
        "(322.0, 216.0)\n",
        "(360, 640, 3)\n",
        "(52.0, 157.0)\n",
        "(360, 640, 3)\n",
        "(64.0, 138.0)\n",
        "(360, 640, 3)\n",
        "(91.0, 190.0)\n",
        "(360, 640, 3)\n",
        "(113.0, 153.0)"
       ]
      },
      {
       "output_type": "stream",
       "stream": "stdout",
       "text": [
        "\n",
        "(360, 640, 3)\n",
        "(92.0, 146.0)\n",
        "(360, 640, 3)\n",
        "(90.0, 211.0)\n",
        "(360, 640, 3)\n",
        "(192.0, 183.0)\n",
        "(360, 640, 3)\n",
        "(194.0, 141.0)\n",
        "(360, 640, 3)\n",
        "(146.0, 192.0)"
       ]
      },
      {
       "output_type": "stream",
       "stream": "stdout",
       "text": [
        "\n",
        "(360, 640, 3)\n",
        "(187.0, 212.0)\n",
        "(360, 640, 3)\n",
        "(70.0, 217.0)\n",
        "(360, 640, 3)\n",
        "(357.0, 271.0)\n",
        "(360, 640, 3)\n",
        "(365.0, 190.0)"
       ]
      },
      {
       "output_type": "stream",
       "stream": "stdout",
       "text": [
        "\n",
        "(360, 640, 3)\n",
        "(309.0, 184.0)\n",
        "(360, 640, 3)\n",
        "(387.0, 199.0)\n",
        "(360, 640, 3)\n",
        "(363.0, 219.0)"
       ]
      },
      {
       "output_type": "stream",
       "stream": "stdout",
       "text": [
        "\n",
        "(360, 640, 3)\n",
        "(488.0, 200.0)\n",
        "(360, 640, 3)\n",
        "(448.0, 145.0)\n",
        "(360, 640, 3)\n",
        "(270.0, 151.0)"
       ]
      },
      {
       "output_type": "stream",
       "stream": "stdout",
       "text": [
        "\n",
        "(360, 640, 3)\n",
        "(372.0, 208.0)\n",
        "(360, 640, 3)\n",
        "(314.0, 122.0)\n",
        "(360, 640, 3)\n"
       ]
      }
     ],
     "prompt_number": 57
    },
    {
     "cell_type": "code",
     "collapsed": false,
     "input": [],
     "language": "python",
     "metadata": {},
     "outputs": []
    }
   ],
   "metadata": {}
  }
 ]
}