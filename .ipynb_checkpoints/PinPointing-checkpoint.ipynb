{
 "metadata": {
  "name": "",
  "signature": "sha256:4331aabb774271c2a1ab7058fe46e5c33047dd3d06748f459927b51ab106494b"
 },
 "nbformat": 3,
 "nbformat_minor": 0,
 "worksheets": [
  {
   "cells": [
    {
     "cell_type": "markdown",
     "metadata": {},
     "source": [
      "# I. Setup"
     ]
    },
    {
     "cell_type": "code",
     "collapsed": false,
     "input": [
      "# for auto-reloading extenrnal modules\n",
      "# see http://stackoverflow.com/questions/1907993/autoreload-of-modules-in-ipython\n",
      "%load_ext autoreload\n",
      "%autoreload 2\n",
      "\n",
      "#=====[ Standard + Math ]=====\n",
      "import os\n",
      "import sys\n",
      "sys.path.insert(0, './') #for faster development\n",
      "import pickle\n",
      "import numpy as np\n",
      "import cv2\n",
      "import matplotlib.pyplot as plt\n",
      "%pylab inline\n",
      "\n",
      "#=====[ ModalDB ]=====\n",
      "from ModalDB import ModalClient\n",
      "from ModalDB import Video\n",
      "from ModalDB import Frame\n",
      "\n",
      "#=====[ convcube ]=====\n",
      "from convcube.db import dbschema\n",
      "from convcube.convnets.pinpointing import load_dataset_pinpointing\n",
      "from convcube.convnets.euclidean import EuclideanConvNet\n",
      "from convcube.cube import ConvNetCube\n",
      "\n",
      "#=====[ setup client ]=====\n",
      "client = ModalClient('./data/db', schema=dbschema)\n",
      "models_path = './models/'"
     ],
     "language": "python",
     "metadata": {},
     "outputs": [
      {
       "output_type": "stream",
       "stream": "stdout",
       "text": [
        "The autoreload extension is already loaded. To reload it, use:\n",
        "  %reload_ext autoreload\n",
        "Populating the interactive namespace from numpy and matplotlib\n"
       ]
      }
     ],
     "prompt_number": 2
    },
    {
     "cell_type": "markdown",
     "metadata": {},
     "source": [
      "## Get Data"
     ]
    },
    {
     "cell_type": "code",
     "collapsed": false,
     "input": [
      "X_train, X_val, y_train, y_val = load_dataset_pinpointing(client, name='center', train_size=0.9)\n",
      "print 'Train data shape: ', X_train.shape\n",
      "print 'Train labels shape: ', y_train.shape\n",
      "print 'Validation data shape: ', X_val.shape\n",
      "print 'Validation labels shape: ', y_val.shape"
     ],
     "language": "python",
     "metadata": {},
     "outputs": [
      {
       "output_type": "stream",
       "stream": "stdout",
       "text": [
        "Train data shape:  (1424, 3, 64, 64)\n",
        "Train labels shape:  (1424, 6)\n",
        "Validation data shape:  (159, 3, 64, 64)\n",
        "Validation labels shape:  (159, 6)\n"
       ]
      }
     ],
     "prompt_number": 14
    },
    {
     "cell_type": "markdown",
     "metadata": {},
     "source": [
      "# II. Data Augmentation"
     ]
    },
    {
     "cell_type": "markdown",
     "metadata": {},
     "source": [
      "### i. Add Flips?"
     ]
    },
    {
     "cell_type": "code",
     "collapsed": false,
     "input": [
      "def add_flips(X, y):\n",
      "    \"\"\"returns X with each element of X flipped, y coordinates adjusted accordingly\"\"\"\n",
      "    X_flipped =  X[:,:,:,::-1].copy()\n",
      "    y_flipped = y.copy()\n",
      "    y_flipped[:,0] = 1 - y_flipped[:,0]\n",
      "    return X_flipped, y_flipped\n",
      "\n",
      "X_train_flips, y_train_flips = add_flips(X_train, y_train)\n",
      "X_train_flips = np.vstack([X_train, X_train_flips])\n",
      "y_train_flips = np.vstack([y_train, y_train_flips])\n",
      "\n",
      "X_val_flips, y_val_flips = add_flips(X_val, y_val)\n",
      "X_val_flips = np.vstack([X_val, X_val_flips])\n",
      "y_val_flips = np.vstack([y_val, y_val_flips])\n",
      "\n",
      "print 'Train data shape: ', X_train_flips.shape\n",
      "print 'Train labels shape: ', y_train_flips.shape\n",
      "print 'Val data shape: ', X_val_flips.shape\n",
      "print 'Val labels shape: ', y_val_flips.shape"
     ],
     "language": "python",
     "metadata": {},
     "outputs": [
      {
       "output_type": "stream",
       "stream": "stdout",
       "text": [
        "Train data shape:  (2848, 3, 64, 64)\n",
        "Train labels shape:  (2848, 6)\n",
        "Val data shape:  (318, 3, 64, 64)\n",
        "Val labels shape:  (318, 6)\n"
       ]
      }
     ],
     "prompt_number": 15
    },
    {
     "cell_type": "markdown",
     "metadata": {},
     "source": [
      "### ii. Add Contrast?"
     ]
    },
    {
     "cell_type": "code",
     "collapsed": false,
     "input": [
      "def add_contrast(X, low=0.7, high=1):\n",
      "    \"\"\"returns X with some darker versions\"\"\"\n",
      "    N = X.shape[0]\n",
      "    contrast = np.random.uniform(low, high, N)\n",
      "    X_contrast = np.zeros_like(X)\n",
      "    for i in range(N):\n",
      "        X_contrast[i, :, :, :] = (X[i, :, :, :].astype(np.float64) * contrast[i]).astype(np.uint8)\n",
      "\n",
      "    X_contrast[X_contrast > 255] = 255\n",
      "    return X_contrast\n",
      "\n",
      "X_train_cnt = add_contrast(X_train_flips)\n",
      "X_train_cnt = np.vstack([X_train_flips, X_train_cnt])\n",
      "y_train_cnt = np.vstack([y_train_flips, y_train_flips])\n",
      "\n",
      "X_val_cnt = add_contrast(X_val_flips)\n",
      "X_val_cnt = np.vstack([X_val_flips, X_val_cnt])\n",
      "y_val_cnt = np.vstack([y_val_flips, y_val_flips])\n",
      "\n",
      "print 'Train data shape: ', X_train_cnt.shape\n",
      "print 'Train labels shape: ', y_train_cnt.shape\n",
      "print 'Val data shape: ', X_val_cnt.shape\n",
      "print 'Val labels shape: ', y_val_cnt.shape"
     ],
     "language": "python",
     "metadata": {},
     "outputs": [
      {
       "output_type": "stream",
       "stream": "stdout",
       "text": [
        " Train data shape:  (5696, 3, 64, 64)\n",
        "Train labels shape:  (5696, 6)\n",
        "Val data shape:  (636, 3, 64, 64)\n",
        "Val labels shape:  (636, 6)\n"
       ]
      }
     ],
     "prompt_number": 17
    },
    {
     "cell_type": "markdown",
     "metadata": {},
     "source": [
      "### iii. Select Color"
     ]
    },
    {
     "cell_type": "code",
     "collapsed": false,
     "input": [
      "#=====[ Currently on BG ]=====\n",
      "ix_train = (y_train_cnt[:,2] >= 0.0)\n",
      "X_train = X_train_cnt[ix_train, :, :, :]\n",
      "y_train = y_train_cnt[ix_train, :]\n",
      "\n",
      "ix_val = (y_val_cnt[:,2] >= 0.0)\n",
      "X_val = X_val_cnt[ix_val, :, :, :]\n",
      "y_val = y_val_cnt[ix_val, :]\n",
      "\n",
      "print 'Train data shape: ', X_train.shape\n",
      "print 'Train labels shape: ', y_train.shape\n",
      "print 'Validation data shape: ', X_val.shape\n",
      "print 'Validation labels shape: ', y_val.shape"
     ],
     "language": "python",
     "metadata": {},
     "outputs": [
      {
       "output_type": "stream",
       "stream": "stdout",
       "text": [
        "Train data shape:  (2936, 3, 64, 64)\n",
        "Train labels shape:  (2936, 6)\n",
        "Validation data shape:  (356, 3, 64, 64)\n",
        "Validation labels shape:  (356, 6)\n"
       ]
      }
     ],
     "prompt_number": 19
    },
    {
     "cell_type": "markdown",
     "metadata": {},
     "source": [
      "# III. Training"
     ]
    },
    {
     "cell_type": "markdown",
     "metadata": {},
     "source": [
      "### i. Train Model"
     ]
    },
    {
     "cell_type": "code",
     "collapsed": false,
     "input": [
      "#=====[ TRAIN MODEL: BG ]=====\n",
      "#*****\n",
      "print '=====[ Training ]====='\n",
      "convnet_bg = EuclideanConvNet(\n",
      "                                pretrained_model=None,\n",
      "                                size_out=2, # number of coordinates\n",
      "                                shape_loc=(3, 64, 64),\n",
      "                                num_filters_loc=(16, 32, 16, 32),\n",
      "                                filter_sizes_loc=(3, 3, 3, 3)\n",
      "                            )\n",
      "out = convnet_bg.train(\n",
      "                        X_train_flips, y_train_flips, X_val, y_val,\n",
      "                        batch_size=50,\n",
      "                        num_epochs=50,\n",
      "                        learning_rate=0.0001,\n",
      "                        learning_rate_decay=0.95\n",
      "                    )\n",
      "model, loss_hist_bg, train_acc_hist_bg, val_acc_hist_bg = out\n",
      "convnet_bg.save('models/pinpointing/10s_bg_color_thresh.convnet')\n",
      "#*****"
     ],
     "language": "python",
     "metadata": {},
     "outputs": [
      {
       "output_type": "stream",
       "stream": "stdout",
       "text": [
        "=====[ Training ]=====\n",
        "starting iteration  0\n",
        "Finished epoch 0 / 50: cost 0.371885, train: 1.109711, val 1.108270, lr 1.000000e-04"
       ]
      },
      {
       "output_type": "stream",
       "stream": "stdout",
       "text": [
        "\n",
        "starting iteration "
       ]
      },
      {
       "output_type": "stream",
       "stream": "stdout",
       "text": [
        " 10\n",
        "starting iteration "
       ]
      },
      {
       "output_type": "stream",
       "stream": "stdout",
       "text": [
        " 20\n",
        "Finished epoch 1 / 50: cost 0.139046, train: 0.060264, val 0.075537, lr 9.500000e-05"
       ]
      },
      {
       "output_type": "stream",
       "stream": "stdout",
       "text": [
        "\n",
        "starting iteration "
       ]
      },
      {
       "output_type": "stream",
       "stream": "stdout",
       "text": [
        " 30\n",
        "starting iteration "
       ]
      },
      {
       "output_type": "stream",
       "stream": "stdout",
       "text": [
        " 40\n",
        "starting iteration "
       ]
      },
      {
       "output_type": "stream",
       "stream": "stdout",
       "text": [
        " 50\n",
        "Finished epoch 2 / 50: cost 0.127609, train: 0.061927, val 0.073333, lr 9.025000e-05"
       ]
      },
      {
       "output_type": "stream",
       "stream": "stdout",
       "text": [
        "\n",
        "starting iteration "
       ]
      },
      {
       "output_type": "stream",
       "stream": "stdout",
       "text": [
        " 60\n",
        "starting iteration "
       ]
      },
      {
       "output_type": "stream",
       "stream": "stdout",
       "text": [
        " 70\n",
        "starting iteration "
       ]
      },
      {
       "output_type": "stream",
       "stream": "stdout",
       "text": [
        " 80\n",
        "Finished epoch 3 / 50: cost 0.115404, train: 0.051083, val 0.067063, lr 8.573750e-05"
       ]
      },
      {
       "output_type": "stream",
       "stream": "stdout",
       "text": [
        "\n",
        "starting iteration "
       ]
      },
      {
       "output_type": "stream",
       "stream": "stdout",
       "text": [
        " 90\n",
        "starting iteration "
       ]
      },
      {
       "output_type": "stream",
       "stream": "stdout",
       "text": [
        " 100\n",
        "starting iteration "
       ]
      },
      {
       "output_type": "stream",
       "stream": "stdout",
       "text": [
        " 110\n",
        "Finished epoch 4 / 50: cost 0.132236, train: 0.053085, val 0.066873, lr 8.145062e-05"
       ]
      },
      {
       "output_type": "stream",
       "stream": "stdout",
       "text": [
        "\n",
        "starting iteration "
       ]
      },
      {
       "output_type": "stream",
       "stream": "stdout",
       "text": [
        " 120\n",
        "starting iteration "
       ]
      },
      {
       "output_type": "stream",
       "stream": "stdout",
       "text": [
        " 130\n",
        "starting iteration "
       ]
      },
      {
       "output_type": "stream",
       "stream": "stdout",
       "text": [
        " 140\n",
        "Finished epoch 5 / 50: cost 0.107346, train: 0.047855, val 0.062082, lr 7.737809e-05"
       ]
      },
      {
       "output_type": "stream",
       "stream": "stdout",
       "text": [
        "\n",
        "starting iteration "
       ]
      },
      {
       "output_type": "stream",
       "stream": "stdout",
       "text": [
        " 150\n",
        "starting iteration "
       ]
      },
      {
       "output_type": "stream",
       "stream": "stdout",
       "text": [
        " 160\n",
        "starting iteration "
       ]
      },
      {
       "output_type": "stream",
       "stream": "stdout",
       "text": [
        " 170\n",
        "Finished epoch 6 / 50: cost 0.101445, train: 0.042607, val 0.060438, lr 7.350919e-05"
       ]
      },
      {
       "output_type": "stream",
       "stream": "stdout",
       "text": [
        "\n",
        "starting iteration "
       ]
      },
      {
       "output_type": "stream",
       "stream": "stdout",
       "text": [
        " 180\n",
        "starting iteration "
       ]
      },
      {
       "output_type": "stream",
       "stream": "stdout",
       "text": [
        " 190\n",
        "starting iteration "
       ]
      },
      {
       "output_type": "stream",
       "stream": "stdout",
       "text": [
        " 200\n",
        "Finished epoch 7 / 50: cost 0.100780, train: 0.041664, val 0.054741, lr 6.983373e-05"
       ]
      },
      {
       "output_type": "stream",
       "stream": "stdout",
       "text": [
        "\n",
        "starting iteration "
       ]
      },
      {
       "output_type": "stream",
       "stream": "stdout",
       "text": [
        " 210\n",
        "starting iteration "
       ]
      },
      {
       "output_type": "stream",
       "stream": "stdout",
       "text": [
        " 220\n",
        "starting iteration "
       ]
      },
      {
       "output_type": "stream",
       "stream": "stdout",
       "text": [
        " 230\n",
        "Finished epoch 8 / 50: cost 0.103916, train: 0.044057, val 0.056782, lr 6.634204e-05"
       ]
      },
      {
       "output_type": "stream",
       "stream": "stdout",
       "text": [
        "\n",
        "starting iteration "
       ]
      },
      {
       "output_type": "stream",
       "stream": "stdout",
       "text": [
        " 240\n",
        "starting iteration "
       ]
      },
      {
       "output_type": "stream",
       "stream": "stdout",
       "text": [
        " 250\n",
        "starting iteration "
       ]
      },
      {
       "output_type": "stream",
       "stream": "stdout",
       "text": [
        " 260\n",
        "Finished epoch 9 / 50: cost 0.099540, train: 0.042029, val 0.049558, lr 6.302494e-05"
       ]
      },
      {
       "output_type": "stream",
       "stream": "stdout",
       "text": [
        "\n",
        "starting iteration "
       ]
      },
      {
       "output_type": "stream",
       "stream": "stdout",
       "text": [
        " 270\n",
        "starting iteration "
       ]
      },
      {
       "output_type": "stream",
       "stream": "stdout",
       "text": [
        " 280\n",
        "Finished epoch 10 / 50: cost 0.100816, train: 0.034052, val 0.049374, lr 5.987369e-05"
       ]
      },
      {
       "output_type": "stream",
       "stream": "stdout",
       "text": [
        "\n",
        "starting iteration  290\n",
        "starting iteration "
       ]
      },
      {
       "output_type": "stream",
       "stream": "stdout",
       "text": [
        " 300\n",
        "starting iteration "
       ]
      },
      {
       "output_type": "stream",
       "stream": "stdout",
       "text": [
        " 310\n",
        "Finished epoch 11 / 50: cost 0.093211, train: 0.034139, val 0.047349, lr 5.688001e-05"
       ]
      },
      {
       "output_type": "stream",
       "stream": "stdout",
       "text": [
        "\n",
        "starting iteration "
       ]
      },
      {
       "output_type": "stream",
       "stream": "stdout",
       "text": [
        " 320\n",
        "starting iteration "
       ]
      },
      {
       "output_type": "stream",
       "stream": "stdout",
       "text": [
        " 330\n",
        "starting iteration "
       ]
      },
      {
       "output_type": "stream",
       "stream": "stdout",
       "text": [
        " 340\n",
        "Finished epoch 12 / 50: cost 0.095857, train: 0.030896, val 0.047239, lr 5.403601e-05"
       ]
      },
      {
       "output_type": "stream",
       "stream": "stdout",
       "text": [
        "\n",
        "starting iteration "
       ]
      },
      {
       "output_type": "stream",
       "stream": "stdout",
       "text": [
        " 350\n",
        "starting iteration "
       ]
      },
      {
       "output_type": "stream",
       "stream": "stdout",
       "text": [
        " 360\n",
        "starting iteration "
       ]
      },
      {
       "output_type": "stream",
       "stream": "stdout",
       "text": [
        " 370\n",
        "Finished epoch 13 / 50: cost 0.100830, train: 0.028987, val 0.046026, lr 5.133421e-05"
       ]
      },
      {
       "output_type": "stream",
       "stream": "stdout",
       "text": [
        "\n",
        "starting iteration "
       ]
      },
      {
       "output_type": "stream",
       "stream": "stdout",
       "text": [
        " 380\n",
        "starting iteration "
       ]
      },
      {
       "output_type": "stream",
       "stream": "stdout",
       "text": [
        " 390\n",
        "starting iteration "
       ]
      },
      {
       "output_type": "stream",
       "stream": "stdout",
       "text": [
        " 400\n",
        "Finished epoch 14 / 50: cost 0.105354, train: 0.038938, val 0.050223, lr 4.876750e-05"
       ]
      },
      {
       "output_type": "stream",
       "stream": "stdout",
       "text": [
        "\n",
        "starting iteration "
       ]
      },
      {
       "output_type": "stream",
       "stream": "stdout",
       "text": [
        " 410\n",
        "starting iteration "
       ]
      },
      {
       "output_type": "stream",
       "stream": "stdout",
       "text": [
        " 420\n",
        "starting iteration "
       ]
      },
      {
       "output_type": "stream",
       "stream": "stdout",
       "text": [
        " 430\n",
        "Finished epoch 15 / 50: cost 0.095197, train: 0.033029, val 0.046361, lr 4.632912e-05"
       ]
      },
      {
       "output_type": "stream",
       "stream": "stdout",
       "text": [
        "\n",
        "starting iteration "
       ]
      },
      {
       "output_type": "stream",
       "stream": "stdout",
       "text": [
        " 440\n",
        "starting iteration "
       ]
      },
      {
       "output_type": "stream",
       "stream": "stdout",
       "text": [
        " 450\n",
        "starting iteration "
       ]
      },
      {
       "output_type": "stream",
       "stream": "stdout",
       "text": [
        " 460\n",
        "Finished epoch 16 / 50: cost 0.085612, train: 0.028456, val 0.043721, lr 4.401267e-05"
       ]
      },
      {
       "output_type": "stream",
       "stream": "stdout",
       "text": [
        "\n",
        "starting iteration "
       ]
      },
      {
       "output_type": "stream",
       "stream": "stdout",
       "text": [
        " 470\n",
        "starting iteration "
       ]
      },
      {
       "output_type": "stream",
       "stream": "stdout",
       "text": [
        " 480\n",
        "starting iteration "
       ]
      },
      {
       "output_type": "stream",
       "stream": "stdout",
       "text": [
        " 490\n",
        "Finished epoch 17 / 50: cost 0.110757, train: 0.040078, val 0.051442, lr 4.181203e-05"
       ]
      },
      {
       "output_type": "stream",
       "stream": "stdout",
       "text": [
        "\n",
        "starting iteration "
       ]
      },
      {
       "output_type": "stream",
       "stream": "stdout",
       "text": [
        " 500\n",
        "starting iteration "
       ]
      },
      {
       "output_type": "stream",
       "stream": "stdout",
       "text": [
        " 510\n",
        "starting iteration "
       ]
      },
      {
       "output_type": "stream",
       "stream": "stdout",
       "text": [
        " 520\n",
        "Finished epoch 18 / 50: cost 0.091492, train: 0.029426, val 0.044322, lr 3.972143e-05"
       ]
      },
      {
       "output_type": "stream",
       "stream": "stdout",
       "text": [
        "\n",
        "starting iteration "
       ]
      },
      {
       "output_type": "stream",
       "stream": "stdout",
       "text": [
        " 530\n",
        "starting iteration "
       ]
      },
      {
       "output_type": "stream",
       "stream": "stdout",
       "text": [
        " 540\n",
        "starting iteration "
       ]
      },
      {
       "output_type": "stream",
       "stream": "stdout",
       "text": [
        " 550\n",
        "Finished epoch 19 / 50: cost 0.100436, train: 0.028568, val 0.044395, lr 3.773536e-05"
       ]
      },
      {
       "output_type": "stream",
       "stream": "stdout",
       "text": [
        "\n",
        "starting iteration "
       ]
      },
      {
       "output_type": "stream",
       "stream": "stdout",
       "text": [
        " 560\n",
        "starting iteration "
       ]
      },
      {
       "output_type": "stream",
       "stream": "stdout",
       "text": [
        " 570\n",
        "Finished epoch 20 / 50: cost 0.099873, train: 0.028167, val 0.043238, lr 3.584859e-05"
       ]
      },
      {
       "output_type": "stream",
       "stream": "stdout",
       "text": [
        "\n",
        "starting iteration  580\n",
        "starting iteration "
       ]
      },
      {
       "output_type": "stream",
       "stream": "stdout",
       "text": [
        " 590\n",
        "starting iteration "
       ]
      },
      {
       "output_type": "stream",
       "stream": "stdout",
       "text": [
        " 600\n",
        "Finished epoch 21 / 50: cost 0.090696, train: 0.029402, val 0.043923, lr 3.405616e-05"
       ]
      },
      {
       "output_type": "stream",
       "stream": "stdout",
       "text": [
        "\n",
        "starting iteration "
       ]
      },
      {
       "output_type": "stream",
       "stream": "stdout",
       "text": [
        " 610\n",
        "starting iteration "
       ]
      },
      {
       "output_type": "stream",
       "stream": "stdout",
       "text": [
        " 620\n",
        "starting iteration "
       ]
      },
      {
       "output_type": "stream",
       "stream": "stdout",
       "text": [
        " 630\n",
        "Finished epoch 22 / 50: cost 0.084014, train: 0.026788, val 0.042109, lr 3.235335e-05"
       ]
      },
      {
       "output_type": "stream",
       "stream": "stdout",
       "text": [
        "\n",
        "starting iteration "
       ]
      },
      {
       "output_type": "stream",
       "stream": "stdout",
       "text": [
        " 640\n",
        "starting iteration "
       ]
      },
      {
       "output_type": "stream",
       "stream": "stdout",
       "text": [
        " 650\n",
        "starting iteration "
       ]
      },
      {
       "output_type": "stream",
       "stream": "stdout",
       "text": [
        " 660\n",
        "Finished epoch 23 / 50: cost 0.087704, train: 0.025645, val 0.042809, lr 3.073569e-05"
       ]
      },
      {
       "output_type": "stream",
       "stream": "stdout",
       "text": [
        "\n",
        "starting iteration "
       ]
      },
      {
       "output_type": "stream",
       "stream": "stdout",
       "text": [
        " 670\n",
        "starting iteration "
       ]
      },
      {
       "output_type": "stream",
       "stream": "stdout",
       "text": [
        " 680\n",
        "starting iteration "
       ]
      },
      {
       "output_type": "stream",
       "stream": "stdout",
       "text": [
        " 690\n",
        "Finished epoch 24 / 50: cost 0.091741, train: 0.033507, val 0.046398, lr 2.919890e-05"
       ]
      },
      {
       "output_type": "stream",
       "stream": "stdout",
       "text": [
        "\n",
        "starting iteration "
       ]
      },
      {
       "output_type": "stream",
       "stream": "stdout",
       "text": [
        " 700\n",
        "starting iteration "
       ]
      },
      {
       "output_type": "stream",
       "stream": "stdout",
       "text": [
        " 710\n",
        "starting iteration "
       ]
      },
      {
       "output_type": "stream",
       "stream": "stdout",
       "text": [
        " 720\n",
        "Finished epoch 25 / 50: cost 0.081087, train: 0.026309, val 0.041272, lr 2.773896e-05"
       ]
      },
      {
       "output_type": "stream",
       "stream": "stdout",
       "text": [
        "\n",
        "starting iteration "
       ]
      },
      {
       "output_type": "stream",
       "stream": "stdout",
       "text": [
        " 730\n",
        "starting iteration "
       ]
      },
      {
       "output_type": "stream",
       "stream": "stdout",
       "text": [
        " 740\n",
        "starting iteration "
       ]
      },
      {
       "output_type": "stream",
       "stream": "stdout",
       "text": [
        " 750\n",
        "Finished epoch 26 / 50: cost 0.092993, train: 0.023077, val 0.040595, lr 2.635201e-05"
       ]
      },
      {
       "output_type": "stream",
       "stream": "stdout",
       "text": [
        "\n",
        "starting iteration "
       ]
      },
      {
       "output_type": "stream",
       "stream": "stdout",
       "text": [
        " 760\n",
        "starting iteration "
       ]
      },
      {
       "output_type": "stream",
       "stream": "stdout",
       "text": [
        " 770\n",
        "starting iteration "
       ]
      },
      {
       "output_type": "stream",
       "stream": "stdout",
       "text": [
        " 780\n",
        "Finished epoch 27 / 50: cost 0.080893, train: 0.022271, val 0.041159, lr 2.503441e-05"
       ]
      },
      {
       "output_type": "stream",
       "stream": "stdout",
       "text": [
        "\n",
        "starting iteration "
       ]
      },
      {
       "output_type": "stream",
       "stream": "stdout",
       "text": [
        " 790\n",
        "starting iteration "
       ]
      },
      {
       "output_type": "stream",
       "stream": "stdout",
       "text": [
        " 800\n",
        "starting iteration "
       ]
      },
      {
       "output_type": "stream",
       "stream": "stdout",
       "text": [
        " 810\n",
        "Finished epoch 28 / 50: cost 0.085994, train: 0.023222, val 0.041142, lr 2.378269e-05"
       ]
      },
      {
       "output_type": "stream",
       "stream": "stdout",
       "text": [
        "\n",
        "starting iteration "
       ]
      },
      {
       "output_type": "stream",
       "stream": "stdout",
       "text": [
        " 820\n",
        "starting iteration "
       ]
      },
      {
       "output_type": "stream",
       "stream": "stdout",
       "text": [
        " 830\n",
        "starting iteration "
       ]
      },
      {
       "output_type": "stream",
       "stream": "stdout",
       "text": [
        " 840\n",
        "Finished epoch 29 / 50: cost 0.083562, train: 0.023257, val 0.042267, lr 2.259355e-05"
       ]
      },
      {
       "output_type": "stream",
       "stream": "stdout",
       "text": [
        "\n",
        "starting iteration "
       ]
      },
      {
       "output_type": "stream",
       "stream": "stdout",
       "text": [
        " 850\n",
        "starting iteration "
       ]
      },
      {
       "output_type": "stream",
       "stream": "stdout",
       "text": [
        " 860\n",
        "Finished epoch 30 / 50: cost 0.089692, train: 0.020467, val 0.040583, lr 2.146388e-05"
       ]
      },
      {
       "output_type": "stream",
       "stream": "stdout",
       "text": [
        "\n",
        "starting iteration  870\n",
        "starting iteration "
       ]
      },
      {
       "output_type": "stream",
       "stream": "stdout",
       "text": [
        " 880\n",
        "starting iteration "
       ]
      },
      {
       "output_type": "stream",
       "stream": "stdout",
       "text": [
        " 890\n",
        "Finished epoch 31 / 50: cost 0.084454, train: 0.021748, val 0.040814, lr 2.039068e-05"
       ]
      },
      {
       "output_type": "stream",
       "stream": "stdout",
       "text": [
        "\n",
        "starting iteration "
       ]
      },
      {
       "output_type": "stream",
       "stream": "stdout",
       "text": [
        " 900\n",
        "starting iteration "
       ]
      },
      {
       "output_type": "stream",
       "stream": "stdout",
       "text": [
        " 910\n",
        "starting iteration "
       ]
      },
      {
       "output_type": "stream",
       "stream": "stdout",
       "text": [
        " 920\n",
        "Finished epoch 32 / 50: cost 0.081000, train: 0.022635, val 0.040350, lr 1.937115e-05"
       ]
      },
      {
       "output_type": "stream",
       "stream": "stdout",
       "text": [
        "\n",
        "starting iteration "
       ]
      },
      {
       "output_type": "stream",
       "stream": "stdout",
       "text": [
        " 930\n",
        "starting iteration "
       ]
      },
      {
       "output_type": "stream",
       "stream": "stdout",
       "text": [
        " 940\n",
        "starting iteration "
       ]
      },
      {
       "output_type": "stream",
       "stream": "stdout",
       "text": [
        " 950\n",
        "Finished epoch 33 / 50: cost 0.081918, train: 0.021288, val 0.039179, lr 1.840259e-05"
       ]
      },
      {
       "output_type": "stream",
       "stream": "stdout",
       "text": [
        "\n",
        "starting iteration "
       ]
      },
      {
       "output_type": "stream",
       "stream": "stdout",
       "text": [
        " 960\n",
        "starting iteration "
       ]
      },
      {
       "output_type": "stream",
       "stream": "stdout",
       "text": [
        " 970\n",
        "starting iteration "
       ]
      },
      {
       "output_type": "stream",
       "stream": "stdout",
       "text": [
        " 980\n",
        "Finished epoch 34 / 50: cost 0.083025, train: 0.020438, val 0.040149, lr 1.748246e-05"
       ]
      },
      {
       "output_type": "stream",
       "stream": "stdout",
       "text": [
        "\n",
        "starting iteration "
       ]
      },
      {
       "output_type": "stream",
       "stream": "stdout",
       "text": [
        " 990\n",
        "starting iteration "
       ]
      },
      {
       "output_type": "stream",
       "stream": "stdout",
       "text": [
        " 1000\n",
        "starting iteration "
       ]
      },
      {
       "output_type": "stream",
       "stream": "stdout",
       "text": [
        " 1010\n",
        "Finished epoch 35 / 50: cost 0.078750, train: 0.021986, val 0.041402, lr 1.660834e-05"
       ]
      },
      {
       "output_type": "stream",
       "stream": "stdout",
       "text": [
        "\n",
        "starting iteration "
       ]
      },
      {
       "output_type": "stream",
       "stream": "stdout",
       "text": [
        " 1020\n",
        "starting iteration "
       ]
      },
      {
       "output_type": "stream",
       "stream": "stdout",
       "text": [
        " 1030\n",
        "starting iteration "
       ]
      },
      {
       "output_type": "stream",
       "stream": "stdout",
       "text": [
        " 1040\n",
        "Finished epoch 36 / 50: cost 0.089541, train: 0.020347, val 0.038942, lr 1.577792e-05"
       ]
      },
      {
       "output_type": "stream",
       "stream": "stdout",
       "text": [
        "\n",
        "starting iteration "
       ]
      },
      {
       "output_type": "stream",
       "stream": "stdout",
       "text": [
        " 1050\n",
        "starting iteration "
       ]
      },
      {
       "output_type": "stream",
       "stream": "stdout",
       "text": [
        " 1060\n",
        "starting iteration "
       ]
      },
      {
       "output_type": "stream",
       "stream": "stdout",
       "text": [
        " 1070\n",
        "Finished epoch 37 / 50: cost 0.074467, train: 0.021248, val 0.039665, lr 1.498903e-05"
       ]
      },
      {
       "output_type": "stream",
       "stream": "stdout",
       "text": [
        "\n",
        "starting iteration "
       ]
      },
      {
       "output_type": "stream",
       "stream": "stdout",
       "text": [
        " 1080\n",
        "starting iteration "
       ]
      },
      {
       "output_type": "stream",
       "stream": "stdout",
       "text": [
        " 1090\n",
        "starting iteration "
       ]
      },
      {
       "output_type": "stream",
       "stream": "stdout",
       "text": [
        " 1100\n",
        "Finished epoch 38 / 50: cost 0.075582, train: 0.019573, val 0.040241, lr 1.423957e-05"
       ]
      },
      {
       "output_type": "stream",
       "stream": "stdout",
       "text": [
        "\n",
        "starting iteration "
       ]
      },
      {
       "output_type": "stream",
       "stream": "stdout",
       "text": [
        " 1110\n",
        "starting iteration "
       ]
      },
      {
       "output_type": "stream",
       "stream": "stdout",
       "text": [
        " 1120\n",
        "starting iteration "
       ]
      },
      {
       "output_type": "stream",
       "stream": "stdout",
       "text": [
        " 1130\n",
        "Finished epoch 39 / 50: cost 0.083017, train: 0.018910, val 0.041601, lr 1.352760e-05"
       ]
      },
      {
       "output_type": "stream",
       "stream": "stdout",
       "text": [
        "\n",
        "starting iteration "
       ]
      },
      {
       "output_type": "stream",
       "stream": "stdout",
       "text": [
        " 1140\n",
        "starting iteration "
       ]
      },
      {
       "output_type": "stream",
       "stream": "stdout",
       "text": [
        " 1150\n",
        "Finished epoch 40 / 50: cost 0.088621, train: 0.017616, val 0.040671, lr 1.285122e-05"
       ]
      },
      {
       "output_type": "stream",
       "stream": "stdout",
       "text": [
        "\n",
        "starting iteration  1160\n",
        "starting iteration "
       ]
      },
      {
       "output_type": "stream",
       "stream": "stdout",
       "text": [
        " 1170\n",
        "starting iteration "
       ]
      },
      {
       "output_type": "stream",
       "stream": "stdout",
       "text": [
        " 1180\n",
        "Finished epoch 41 / 50: cost 0.087807, train: 0.019338, val 0.041344, lr 1.220865e-05"
       ]
      },
      {
       "output_type": "stream",
       "stream": "stdout",
       "text": [
        "\n",
        "starting iteration "
       ]
      },
      {
       "output_type": "stream",
       "stream": "stdout",
       "text": [
        " 1190\n",
        "starting iteration "
       ]
      },
      {
       "output_type": "stream",
       "stream": "stdout",
       "text": [
        " 1200\n",
        "starting iteration "
       ]
      },
      {
       "output_type": "stream",
       "stream": "stdout",
       "text": [
        " 1210\n",
        "Finished epoch 42 / 50: cost 0.065107, train: 0.017937, val 0.039616, lr 1.159822e-05"
       ]
      },
      {
       "output_type": "stream",
       "stream": "stdout",
       "text": [
        "\n",
        "starting iteration "
       ]
      },
      {
       "output_type": "stream",
       "stream": "stdout",
       "text": [
        " 1220\n",
        "starting iteration "
       ]
      },
      {
       "output_type": "stream",
       "stream": "stdout",
       "text": [
        " 1230\n",
        "starting iteration "
       ]
      },
      {
       "output_type": "stream",
       "stream": "stdout",
       "text": [
        " 1240\n",
        "Finished epoch 43 / 50: cost 0.081211, train: 0.018811, val 0.040712, lr 1.101831e-05"
       ]
      },
      {
       "output_type": "stream",
       "stream": "stdout",
       "text": [
        "\n",
        "starting iteration "
       ]
      },
      {
       "output_type": "stream",
       "stream": "stdout",
       "text": [
        " 1250\n",
        "starting iteration "
       ]
      },
      {
       "output_type": "stream",
       "stream": "stdout",
       "text": [
        " 1260\n",
        "starting iteration "
       ]
      },
      {
       "output_type": "stream",
       "stream": "stdout",
       "text": [
        " 1270\n",
        "Finished epoch 44 / 50: cost 0.079010, train: 0.018118, val 0.041178, lr 1.046740e-05"
       ]
      },
      {
       "output_type": "stream",
       "stream": "stdout",
       "text": [
        "\n",
        "starting iteration "
       ]
      },
      {
       "output_type": "stream",
       "stream": "stdout",
       "text": [
        " 1280\n",
        "starting iteration "
       ]
      },
      {
       "output_type": "stream",
       "stream": "stdout",
       "text": [
        " 1290\n",
        "starting iteration "
       ]
      },
      {
       "output_type": "stream",
       "stream": "stdout",
       "text": [
        " 1300\n",
        "Finished epoch 45 / 50: cost 0.073452, train: 0.017691, val 0.040522, lr 9.944026e-06"
       ]
      },
      {
       "output_type": "stream",
       "stream": "stdout",
       "text": [
        "\n",
        "starting iteration "
       ]
      },
      {
       "output_type": "stream",
       "stream": "stdout",
       "text": [
        " 1310\n",
        "starting iteration "
       ]
      },
      {
       "output_type": "stream",
       "stream": "stdout",
       "text": [
        " 1320\n",
        "starting iteration "
       ]
      },
      {
       "output_type": "stream",
       "stream": "stdout",
       "text": [
        " 1330\n",
        "Finished epoch 46 / 50: cost 0.070182, train: 0.017601, val 0.039531, lr 9.446824e-06"
       ]
      },
      {
       "output_type": "stream",
       "stream": "stdout",
       "text": [
        "\n",
        "starting iteration "
       ]
      },
      {
       "output_type": "stream",
       "stream": "stdout",
       "text": [
        " 1340\n",
        "starting iteration "
       ]
      },
      {
       "output_type": "stream",
       "stream": "stdout",
       "text": [
        " 1350\n",
        "starting iteration "
       ]
      },
      {
       "output_type": "stream",
       "stream": "stdout",
       "text": [
        " 1360\n",
        "Finished epoch 47 / 50: cost 0.068079, train: 0.016561, val 0.039139, lr 8.974483e-06"
       ]
      },
      {
       "output_type": "stream",
       "stream": "stdout",
       "text": [
        "\n",
        "starting iteration "
       ]
      },
      {
       "output_type": "stream",
       "stream": "stdout",
       "text": [
        " 1370\n",
        "starting iteration "
       ]
      },
      {
       "output_type": "stream",
       "stream": "stdout",
       "text": [
        " 1380\n",
        "starting iteration "
       ]
      },
      {
       "output_type": "stream",
       "stream": "stdout",
       "text": [
        " 1390\n",
        "Finished epoch 48 / 50: cost 0.085145, train: 0.017040, val 0.039136, lr 8.525759e-06"
       ]
      },
      {
       "output_type": "stream",
       "stream": "stdout",
       "text": [
        "\n",
        "starting iteration "
       ]
      },
      {
       "output_type": "stream",
       "stream": "stdout",
       "text": [
        " 1400\n",
        "starting iteration "
       ]
      },
      {
       "output_type": "stream",
       "stream": "stdout",
       "text": [
        " 1410\n",
        "starting iteration "
       ]
      },
      {
       "output_type": "stream",
       "stream": "stdout",
       "text": [
        " 1420\n",
        "Finished epoch 49 / 50: cost 0.080139, train: 0.016333, val 0.039075, lr 8.099471e-06"
       ]
      },
      {
       "output_type": "stream",
       "stream": "stdout",
       "text": [
        "\n",
        "starting iteration "
       ]
      },
      {
       "output_type": "stream",
       "stream": "stdout",
       "text": [
        " 1430\n",
        "starting iteration "
       ]
      },
      {
       "output_type": "stream",
       "stream": "stdout",
       "text": [
        " 1440\n",
        "Finished epoch 50 / 50: cost 0.073979, train: 0.015861, val 0.039386, lr 7.694498e-06"
       ]
      },
      {
       "output_type": "stream",
       "stream": "stdout",
       "text": [
        "\n",
        "finished optimization. best validation accuracy: 0.038942\n"
       ]
      }
     ],
     "prompt_number": 19
    },
    {
     "cell_type": "markdown",
     "metadata": {},
     "source": [
      "### ii. Visualize Loss"
     ]
    },
    {
     "cell_type": "code",
     "collapsed": false,
     "input": [
      "plt.plot(train_acc_hist_bg[5:])\n",
      "plt.plot(val_acc_hist_bg[5:])\n",
      "plt.xlabel('Epoch')\n",
      "plt.ylabel('Accuracy History')\n",
      "plt.title('Accuracy history vs. Epoch for WY Pinpointing Convnet')"
     ],
     "language": "python",
     "metadata": {},
     "outputs": [
      {
       "metadata": {},
       "output_type": "pyout",
       "prompt_number": 20,
       "text": [
        "<matplotlib.text.Text at 0x10c613910>"
       ]
      },
      {
       "metadata": {},
       "output_type": "display_data",
       "png": "[encoded data removed]",
       "text": [
        "<matplotlib.figure.Figure at 0x118628050>"
       ]
      }
     ],
     "prompt_number": 20
    },
    {
     "cell_type": "markdown",
     "metadata": {},
     "source": [
      "# IV. Refining Results"
     ]
    },
    {
     "cell_type": "markdown",
     "metadata": {},
     "source": [
      "### i. load model"
     ]
    },
    {
     "cell_type": "code",
     "collapsed": false,
     "input": [
      "from convcube.cv.keypoints import denormalize_points\n",
      "from convcube.cv.keypoints import array2tuples\n",
      "convnet = EuclideanConvNet()\n",
      "convnet.load('models/pinpointing/10s_bg_color_thresh.convnet')\n",
      "y_pred = convnet.transfer_convnet(X_val, convnet.model)\n",
      "ix = 0"
     ],
     "language": "python",
     "metadata": {},
     "outputs": [],
     "prompt_number": 25
    },
    {
     "cell_type": "markdown",
     "metadata": {},
     "source": [
      "### ii. generate prediction"
     ]
    },
    {
     "cell_type": "code",
     "collapsed": false,
     "input": [
      "ix += 1\n",
      "image = X_val[ix,:,:,:].copy().transpose(1, 2, 0)\n",
      "pts = y_pred[ix,:]\n",
      "pt = denormalize_points([(pts[0], pts[1])], image)[0]\n",
      "\n",
      "disp_img = image.copy()\n",
      "for pt in pts:\n",
      "    disp_img[pt[1]-2:pt[1]+2, pt[0]-2:pt[0]+2, :]  = (0, 255, 0)\n",
      "plt.imshow(disp_img[:,:,::-1], cmap=plt.cm.gray)"
     ],
     "language": "python",
     "metadata": {},
     "outputs": [
      {
       "metadata": {},
       "output_type": "pyout",
       "prompt_number": 27,
       "text": [
        "<matplotlib.image.AxesImage at 0x10c70e510>"
       ]
      },
      {
       "metadata": {},
       "output_type": "display_data",
       "png": "[encoded data removed]",
       "text": [
        "<matplotlib.figure.Figure at 0x112553410>"
       ]
      }
     ],
     "prompt_number": 27
    },
    {
     "cell_type": "markdown",
     "metadata": {},
     "source": [
      "### iii. Evaluate Prediction"
     ]
    },
    {
     "cell_type": "code",
     "collapsed": false,
     "input": [
      "#=====[ Step 1: Get Segments ]=====\n",
      "from convcube.cv.segmentation import get_segs\n",
      "from convcube.cv.segmentation import segs2centers\n",
      "segs = get_segs(image)"
     ],
     "language": "python",
     "metadata": {},
     "outputs": [],
     "prompt_number": 30
    },
    {
     "cell_type": "code",
     "collapsed": false,
     "input": [
      "#=====[ Step 2: ]\n",
      "def extract_color_hist(img, pt, size=2):\n",
      "    \"\"\"(img, pt) -> color hist of internal region\"\"\"\n",
      "    x, y = pt[0], pt[1]\n",
      "    region = img[y-size:y+size, x-size:x+size]\n",
      "    return region\n",
      "\n",
      "out = extract_color_hist()"
     ],
     "language": "python",
     "metadata": {},
     "outputs": []
    }
   ],
   "metadata": {}
  }
 ]
}