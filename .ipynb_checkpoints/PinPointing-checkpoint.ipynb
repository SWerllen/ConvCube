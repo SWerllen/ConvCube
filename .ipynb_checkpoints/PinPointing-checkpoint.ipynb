{
 "metadata": {
  "name": "",
  "signature": "sha256:93182991585b6cf2a05c4ea8998616a57730193043e63313871f8701347ad225"
 },
 "nbformat": 3,
 "nbformat_minor": 0,
 "worksheets": [
  {
   "cells": [
    {
     "cell_type": "code",
     "collapsed": false,
     "input": [
      "# for auto-reloading extenrnal modules\n",
      "# see http://stackoverflow.com/questions/1907993/autoreload-of-modules-in-ipython\n",
      "%load_ext autoreload\n",
      "%autoreload 2\n",
      "\n",
      "#=====[ Standard + Math ]=====\n",
      "import os\n",
      "import sys\n",
      "sys.path.insert(0, './') #for faster development\n",
      "import pickle\n",
      "import numpy as np\n",
      "import cv2\n",
      "import matplotlib.pyplot as plt\n",
      "%pylab inline\n",
      "\n",
      "#=====[ ModalDB ]=====\n",
      "from ModalDB import ModalClient\n",
      "from ModalDB import Video\n",
      "from ModalDB import Frame\n",
      "\n",
      "#=====[ convcube ]=====\n",
      "from convcube.db import dbschema\n",
      "from convcube.convnets.pinpointing import load_dataset_pinpointing\n",
      "from convcube.convnets.euclidean import EuclideanConvNet\n",
      "from convcube.cube import ConvNetCube\n",
      "\n",
      "#=====[ setup client ]=====\n",
      "client = ModalClient('./data/db', schema=dbschema)\n",
      "models_path = './models/localization'"
     ],
     "language": "python",
     "metadata": {},
     "outputs": [
      {
       "output_type": "stream",
       "stream": "stdout",
       "text": [
        "Populating the interactive namespace from numpy and matplotlib\n"
       ]
      }
     ],
     "prompt_number": 1
    },
    {
     "cell_type": "markdown",
     "metadata": {},
     "source": [
      "## Get Data"
     ]
    },
    {
     "cell_type": "code",
     "collapsed": false,
     "input": [
      "X_train, X_val, y_train, y_val = load_dataset_pinpointing(client, train_size=0.9)\n",
      "print 'Train data shape: ', X_train.shape\n",
      "print 'Train labels shape: ', y_train.shape\n",
      "print 'Validation data shape: ', X_val.shape\n",
      "print 'Validation labels shape: ', y_val.shape"
     ],
     "language": "python",
     "metadata": {},
     "outputs": [
      {
       "output_type": "stream",
       "stream": "stdout",
       "text": [
        "Train data shape:  (1252, 3, 46, 80)\n",
        "Train labels shape:  (1252, 6)\n",
        "Validation data shape:  (140, 3, 46, 80)\n",
        "Validation labels shape:  (140, 6)\n"
       ]
      }
     ],
     "prompt_number": 2
    },
    {
     "cell_type": "markdown",
     "metadata": {},
     "source": [
      "## Get Pretrained Model"
     ]
    },
    {
     "cell_type": "code",
     "collapsed": false,
     "input": [
      "#=====[ LOAD MODEL ]=====\n",
      "#*****\n",
      "model_path = os.path.join(models_path, 'pretrained/convnet_10s.pkl')\n",
      "pretrained_model = pickle.load(open(model_path))\n",
      "#*****"
     ],
     "language": "python",
     "metadata": {},
     "outputs": [],
     "prompt_number": 3
    },
    {
     "cell_type": "markdown",
     "metadata": {},
     "source": [
      "## Transfer Learning"
     ]
    },
    {
     "cell_type": "code",
     "collapsed": false,
     "input": [
      "#=====[ LOAD MODEL ]=====\n",
      "#*****\n",
      "convnet = EuclideanConvNet()\n",
      "convnet.load('models/localization/10s.loc_convnet')\n",
      "#*****"
     ],
     "language": "python",
     "metadata": {},
     "outputs": [],
     "prompt_number": 183
    },
    {
     "cell_type": "code",
     "collapsed": false,
     "input": [
      "#=====[ TRAIN MODEL: WY ]=====\n",
      "#*****\n",
      "ix_train = (y_train[:,0] >= 0.0)\n",
      "ix_val = (y_val[:,0] >= 0.0)\n",
      "X_train_wy, X_val_wy = X_train[ix_train, :, :, :], X_val[ix_val, :, :, :]\n",
      "y_train_wy, y_val_wy = y_train[ix_train, :2], y_val[ix_val, :2]\n",
      "\n",
      "convnet_wy = EuclideanConvNet(pretrained_model=pretrained_model, size_out=2)\n",
      "out = convnet_wy.train(X_train_wy, y_train_wy, X_val_wy, y_val_wy,\n",
      "                    batch_size=100,\n",
      "                    num_epochs=100,\n",
      "                    learning_rate=0.0005,\n",
      "                    learning_rate_decay=0.95)\n",
      "model, loss_hist, train_acc_hist, val_acc_hist = out\n",
      "convnet_wy.save('models/pinpointing/10s_wy.convnet')\n",
      "#*****"
     ],
     "language": "python",
     "metadata": {},
     "outputs": [
      {
       "output_type": "stream",
       "stream": "stdout",
       "text": [
        "starting iteration  0\n",
        "Finished epoch 0 / 100: cost 0.386068, train: 112.740136, val 94.116412, lr 5.000000e-04"
       ]
      },
      {
       "output_type": "stream",
       "stream": "stdout",
       "text": [
        "\n",
        "Finished epoch 1 / 100: cost 1.750225, train: 0.532794, val 0.534510, lr 4.750000e-04"
       ]
      },
      {
       "output_type": "stream",
       "stream": "stdout",
       "text": [
        "\n",
        "Finished epoch 2 / 100: cost 0.357537, train: 0.503285, val 0.503595, lr 4.512500e-04"
       ]
      },
      {
       "output_type": "stream",
       "stream": "stdout",
       "text": [
        "\n",
        "starting iteration  10\n",
        "Finished epoch 3 / 100: cost 0.317050, train: 0.355553, val 0.359847, lr 4.286875e-04"
       ]
      },
      {
       "output_type": "stream",
       "stream": "stdout",
       "text": [
        "\n",
        "Finished epoch 4 / 100: cost 0.201884, train: 0.146015, val 0.151241, lr 4.072531e-04"
       ]
      },
      {
       "output_type": "stream",
       "stream": "stdout",
       "text": [
        "\n",
        "starting iteration  20\n",
        "Finished epoch 5 / 100: cost 0.418493, train: 0.217075, val 0.230098, lr 3.868905e-04"
       ]
      },
      {
       "output_type": "stream",
       "stream": "stdout",
       "text": [
        "\n",
        "Finished epoch 6 / 100: cost 0.170415, train: 0.112963, val 0.121839, lr 3.675459e-04"
       ]
      },
      {
       "output_type": "stream",
       "stream": "stdout",
       "text": [
        "\n",
        "starting iteration  30\n",
        "Finished epoch 7 / 100: cost 0.141183, train: 0.092202, val 0.096126, lr 3.491686e-04"
       ]
      },
      {
       "output_type": "stream",
       "stream": "stdout",
       "text": [
        "\n",
        "Finished epoch 8 / 100: cost 0.127112, train: 0.085978, val 0.091459, lr 3.317102e-04"
       ]
      },
      {
       "output_type": "stream",
       "stream": "stdout",
       "text": [
        "\n",
        "starting iteration  40\n",
        "Finished epoch 9 / 100: cost 0.123153, train: 0.080308, val 0.086775, lr 3.151247e-04"
       ]
      },
      {
       "output_type": "stream",
       "stream": "stdout",
       "text": [
        "\n",
        "Finished epoch 10 / 100: cost 0.113720, train: 0.076953, val 0.084231, lr 2.993685e-04"
       ]
      },
      {
       "output_type": "stream",
       "stream": "stdout",
       "text": [
        "\n",
        "starting iteration  50\n",
        "Finished epoch 11 / 100: cost 0.130058, train: 0.074146, val 0.082365, lr 2.844000e-04"
       ]
      },
      {
       "output_type": "stream",
       "stream": "stdout",
       "text": [
        "\n",
        "Finished epoch 12 / 100: cost 0.125183, train: 0.071558, val 0.080177, lr 2.701800e-04"
       ]
      },
      {
       "output_type": "stream",
       "stream": "stdout",
       "text": [
        "\n",
        "starting iteration  60\n",
        "Finished epoch 13 / 100: cost 0.109412, train: 0.068563, val 0.079408, lr 2.566710e-04"
       ]
      },
      {
       "output_type": "stream",
       "stream": "stdout",
       "text": [
        "\n",
        "Finished epoch 14 / 100: cost 0.110375, train: 0.172223, val 0.157667, lr 2.438375e-04"
       ]
      },
      {
       "output_type": "stream",
       "stream": "stdout",
       "text": [
        "\n",
        "starting iteration  70\n",
        "Finished epoch 15 / 100: cost 0.119850, train: 0.061202, val 0.080693, lr 2.316456e-04"
       ]
      },
      {
       "output_type": "stream",
       "stream": "stdout",
       "text": [
        "\n",
        "Finished epoch 16 / 100: cost 0.100749, train: 0.057620, val 0.078104, lr 2.200633e-04"
       ]
      },
      {
       "output_type": "stream",
       "stream": "stdout",
       "text": [
        "\n",
        "starting iteration  80\n",
        "Finished epoch 17 / 100: cost 0.106660, train: 0.055120, val 0.077061, lr 2.090602e-04"
       ]
      },
      {
       "output_type": "stream",
       "stream": "stdout",
       "text": [
        "\n",
        "Finished epoch 18 / 100: cost 0.099316, train: 0.052604, val 0.075157, lr 1.986072e-04"
       ]
      },
      {
       "output_type": "stream",
       "stream": "stdout",
       "text": [
        "\n",
        "starting iteration  90\n",
        "Finished epoch 19 / 100: cost 0.100947, train: 0.049823, val 0.073899, lr 1.886768e-04"
       ]
      },
      {
       "output_type": "stream",
       "stream": "stdout",
       "text": [
        "\n",
        "Finished epoch 20 / 100: cost 0.089069, train: 0.047697, val 0.072327, lr 1.792430e-04"
       ]
      },
      {
       "output_type": "stream",
       "stream": "stdout",
       "text": [
        "\n",
        "starting iteration  100\n",
        "Finished epoch 21 / 100: cost 0.092035, train: 0.045031, val 0.069834, lr 1.702808e-04"
       ]
      },
      {
       "output_type": "stream",
       "stream": "stdout",
       "text": [
        "\n",
        "Finished epoch 22 / 100: cost 0.106389, train: 0.042676, val 0.067916, lr 1.617668e-04"
       ]
      },
      {
       "output_type": "stream",
       "stream": "stdout",
       "text": [
        "\n",
        "starting iteration  110\n",
        "Finished epoch 23 / 100: cost 0.081461, train: 0.040874, val 0.066948, lr 1.536784e-04"
       ]
      },
      {
       "output_type": "stream",
       "stream": "stdout",
       "text": [
        "\n",
        "Finished epoch 24 / 100: cost 0.080087, train: 0.039389, val 0.066669, lr 1.459945e-04"
       ]
      },
      {
       "output_type": "stream",
       "stream": "stdout",
       "text": [
        "\n",
        "starting iteration  120\n",
        "Finished epoch 25 / 100: cost 0.083938, train: 0.037396, val 0.064863, lr 1.386948e-04"
       ]
      },
      {
       "output_type": "stream",
       "stream": "stdout",
       "text": [
        "\n",
        "Finished epoch 26 / 100: cost 0.078100, train: 0.035912, val 0.064388, lr 1.317600e-04"
       ]
      },
      {
       "output_type": "stream",
       "stream": "stdout",
       "text": [
        "\n",
        "starting iteration  130\n",
        "Finished epoch 27 / 100: cost 0.073815, train: 0.034379, val 0.063776, lr 1.251720e-04"
       ]
      },
      {
       "output_type": "stream",
       "stream": "stdout",
       "text": [
        "\n",
        "Finished epoch 28 / 100: cost 0.084218, train: 0.033011, val 0.063091, lr 1.189134e-04"
       ]
      },
      {
       "output_type": "stream",
       "stream": "stdout",
       "text": [
        "\n",
        "starting iteration  140\n",
        "Finished epoch 29 / 100: cost 0.067891, train: 0.031873, val 0.062628, lr 1.129678e-04"
       ]
      },
      {
       "output_type": "stream",
       "stream": "stdout",
       "text": [
        "\n",
        "Finished epoch 30 / 100: cost 0.074943, train: 0.030468, val 0.061554, lr 1.073194e-04"
       ]
      },
      {
       "output_type": "stream",
       "stream": "stdout",
       "text": [
        "\n",
        "starting iteration  150\n",
        "Finished epoch 31 / 100: cost 0.060218, train: 0.029434, val 0.061614, lr 1.019534e-04"
       ]
      },
      {
       "output_type": "stream",
       "stream": "stdout",
       "text": [
        "\n",
        "Finished epoch 32 / 100: cost 0.069556, train: 0.028296, val 0.060858, lr 9.685574e-05"
       ]
      },
      {
       "output_type": "stream",
       "stream": "stdout",
       "text": [
        "\n",
        "starting iteration  160\n",
        "Finished epoch 33 / 100: cost 0.074105, train: 0.027420, val 0.060631, lr 9.201296e-05"
       ]
      },
      {
       "output_type": "stream",
       "stream": "stdout",
       "text": [
        "\n",
        "Finished epoch 34 / 100: cost 0.070443, train: 0.026363, val 0.060232, lr 8.741231e-05"
       ]
      },
      {
       "output_type": "stream",
       "stream": "stdout",
       "text": [
        "\n",
        "starting iteration  170\n",
        "Finished epoch 35 / 100: cost 0.061063, train: 0.025556, val 0.060292, lr 8.304169e-05"
       ]
      },
      {
       "output_type": "stream",
       "stream": "stdout",
       "text": [
        "\n",
        "Finished epoch 36 / 100: cost 0.066663, train: 0.024765, val 0.059928, lr 7.888961e-05"
       ]
      },
      {
       "output_type": "stream",
       "stream": "stdout",
       "text": [
        "\n",
        "starting iteration  180\n",
        "Finished epoch 37 / 100: cost 0.056077, train: 0.023935, val 0.059493, lr 7.494513e-05"
       ]
      },
      {
       "output_type": "stream",
       "stream": "stdout",
       "text": [
        "\n",
        "Finished epoch 38 / 100: cost 0.061887, train: 0.023334, val 0.059597, lr 7.119787e-05"
       ]
      },
      {
       "output_type": "stream",
       "stream": "stdout",
       "text": [
        "\n",
        "starting iteration  190\n",
        "Finished epoch 39 / 100: cost 0.062448, train: 0.022717, val 0.059211, lr 6.763798e-05"
       ]
      },
      {
       "output_type": "stream",
       "stream": "stdout",
       "text": [
        "\n",
        "Finished epoch 40 / 100: cost 0.062952, train: 0.022052, val 0.059244, lr 6.425608e-05"
       ]
      },
      {
       "output_type": "stream",
       "stream": "stdout",
       "text": [
        "\n",
        "starting iteration  200\n",
        "Finished epoch 41 / 100: cost 0.054921, train: 0.021497, val 0.059267, lr 6.104327e-05"
       ]
      },
      {
       "output_type": "stream",
       "stream": "stdout",
       "text": [
        "\n",
        "Finished epoch 42 / 100: cost 0.058069, train: 0.020881, val 0.059126, lr 5.799111e-05"
       ]
      }
     ]
    },
    {
     "cell_type": "code",
     "collapsed": false,
     "input": [
      "#=====[ TRAIN MODEL: BG ]=====\n",
      "#*****\n",
      "ix_train = (y_train[:,2] >= 0.0)\n",
      "ix_val = (y_val[:,2] >= 0.0)\n",
      "X_train_bg, X_val_bg = X_train[ix_train, :, :, :], X_val[ix_val, :, :, :]\n",
      "y_train_bg, y_val_bg = y_train[ix_train, 2:4], y_val[ix_val, 2:4]\n",
      "\n",
      "convnet_bg = EuclideanConvNet(pretrained_model=pretrained_model, size_out=2)\n",
      "out = convnet_bg.train(X_train_bg, y_train_bg, X_val_bg, y_val_bg,\n",
      "                    batch_size=100,\n",
      "                    num_epochs=100,\n",
      "                    learning_rate=0.0005,\n",
      "                    learning_rate_decay=0.95)\n",
      "model, loss_hist, train_acc_hist, val_acc_hist = out\n",
      "convnet_bg.save('models/pinpointing/10s_bg.convnet')\n",
      "#*****"
     ],
     "language": "python",
     "metadata": {},
     "outputs": []
    },
    {
     "cell_type": "code",
     "collapsed": false,
     "input": [
      "#=====[ TRAIN MODEL: BG ]=====\n",
      "#*****\n",
      "ix_train = (y_train[:,4] >= 0.0)\n",
      "ix_val = (y_val[:,4] >= 0.0)\n",
      "X_train_or, X_val_or = X_train[ix_train, :, :, :], X_val[ix_val, :, :, :]\n",
      "y_train_or, y_val_or = y_train[ix_train, 4:6], y_val[ix_val, 4:6]\n",
      "\n",
      "convnet_or = EuclideanConvNet(pretrained_model=pretrained_model, size_out=2)\n",
      "out = convnet_or.train(X_train_or, y_train_or, X_val_or, y_val_or,\n",
      "                    batch_size=100,\n",
      "                    num_epochs=100,\n",
      "                    learning_rate=0.0005,\n",
      "                    learning_rate_decay=0.95)\n",
      "model, loss_hist, train_acc_hist, val_acc_hist = out\n",
      "convnet_or.save('models/pinpointing/10s_or.convnet')\n",
      "#*****"
     ],
     "language": "python",
     "metadata": {},
     "outputs": []
    },
    {
     "cell_type": "code",
     "collapsed": false,
     "input": [
      "plt.plot(train_acc_hist[15:])\n",
      "plt.plot(val_acc_hist[15:])"
     ],
     "language": "python",
     "metadata": {},
     "outputs": [
      {
       "metadata": {},
       "output_type": "pyout",
       "prompt_number": 12,
       "text": [
        "[<matplotlib.lines.Line2D at 0x10ae05290>]"
       ]
      },
      {
       "metadata": {},
       "output_type": "display_data",
       "png": "[encoded data removed]",
       "text": [
        "<matplotlib.figure.Figure at 0x10ae05250>"
       ]
      }
     ],
     "prompt_number": 12
    },
    {
     "cell_type": "markdown",
     "metadata": {},
     "source": [
      "## Visualize Results"
     ]
    },
    {
     "cell_type": "code",
     "collapsed": false,
     "input": [
      "y_pred = convnet.predict(X_val)\n",
      "ix = 1"
     ],
     "language": "python",
     "metadata": {},
     "outputs": [],
     "prompt_number": 13
    },
    {
     "cell_type": "code",
     "collapsed": false,
     "input": [
      "ix += 1\n",
      "img = X_val[ix,:,:,:].copy().transpose(1, 2, 0)\n",
      "from convcube.cv.keypoints import denormalize_points\n",
      "from convcube.cv.keypoints import array2tuples\n",
      "\n",
      "# pts = array2tuples(y_pred[ix,:])\n",
      "pts = y_val[ix,:]\n",
      "print pts\n",
      "pts = [[pts[0], pts[1]]]\n",
      "pts = denormalize_points(pts, img)\n",
      "print pts\n",
      "for pt in pts:\n",
      "    img[pt[1]-2:pt[1]+2, pt[0]-2:pt[0]+2, :]  = (0, 255, 0)\n",
      "plt.imshow(img[:,:,::-1], cmap=plt.cm.gray)"
     ],
     "language": "python",
     "metadata": {},
     "outputs": [
      {
       "output_type": "stream",
       "stream": "stdout",
       "text": [
        "[ 0.65729783  0.46197917]\n",
        "[(52, 21)]\n"
       ]
      },
      {
       "metadata": {},
       "output_type": "pyout",
       "prompt_number": 17,
       "text": [
        "<matplotlib.image.AxesImage at 0x10fdaeb90>"
       ]
      },
      {
       "metadata": {},
       "output_type": "display_data",
       "png": "[encoded data removed]",
       "text": [
        "<matplotlib.figure.Figure at 0x10f7aa0d0>"
       ]
      }
     ],
     "prompt_number": 17
    }
   ],
   "metadata": {}
  }
 ]
}