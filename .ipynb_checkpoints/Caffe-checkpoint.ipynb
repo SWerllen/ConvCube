{
 "metadata": {
  "name": "",
  "signature": "sha256:9b9a3f854801d0055fbb828e9bd4530ffe39c1ef05456d1ecf209c097721b813"
 },
 "nbformat": 3,
 "nbformat_minor": 0,
 "worksheets": [
  {
   "cells": [
    {
     "cell_type": "code",
     "collapsed": false,
     "input": [
      "import numpy as np\n",
      "\n",
      "import sys\n",
      "sys.path.append('/Users/jayhack/CS/CV/caffe/python')\n",
      "\n",
      "from ModalDB import ModalClient\n",
      "from convcube.db import dbschema\n",
      "from convcube.convnets.localization import load_dataset_localization"
     ],
     "language": "python",
     "metadata": {},
     "outputs": [],
     "prompt_number": 3
    },
    {
     "cell_type": "markdown",
     "metadata": {},
     "source": [
      "# I. Load Data"
     ]
    },
    {
     "cell_type": "code",
     "collapsed": false,
     "input": [
      "client = ModalClient('./data/db', schema=dbschema)\n",
      "X_train, X_val, y_train, y_val = load_dataset_localization(client)\n",
      "print 'Train shape: ', X_train.shape\n",
      "print 'Val shape: ', X_val.shape"
     ],
     "language": "python",
     "metadata": {},
     "outputs": []
    },
    {
     "cell_type": "code",
     "collapsed": false,
     "input": [
      "def add_flips(X, y):\n",
      "    \"\"\"returns X with each element of X flipped, y coordinates adjusted accordingly\"\"\"\n",
      "    X_flipped =  X[:,:,:,::-1].copy()\n",
      "    y_flipped = y.copy()\n",
      "    y_flipped[:,0] = 1 - y_flipped[:,0]\n",
      "    return X_flipped, y_flipped\n",
      "\n",
      "X_train_flips, y_train_flips = add_flips(X_train_big, y_train_big)\n",
      "X_train_flips = np.vstack([X_train_big, X_train_flips])\n",
      "y_train_flips = np.vstack([y_train_big, y_train_flips])\n",
      "print 'Train data shape: ', X_train_flips.shape\n",
      "print 'Train labels shape: ', y_train_flips.shape"
     ],
     "language": "python",
     "metadata": {},
     "outputs": [
      {
       "ename": "NameError",
       "evalue": "name 'X_train_big' is not defined",
       "output_type": "pyerr",
       "traceback": [
        "\u001b[0;31m---------------------------------------------------------------------------\u001b[0m\n\u001b[0;31mNameError\u001b[0m                                 Traceback (most recent call last)",
        "\u001b[0;32m<ipython-input-1-d7fc13cf71c6>\u001b[0m in \u001b[0;36m<module>\u001b[0;34m()\u001b[0m\n\u001b[1;32m      6\u001b[0m     \u001b[0;32mreturn\u001b[0m \u001b[0mX_flipped\u001b[0m\u001b[0;34m,\u001b[0m \u001b[0my_flipped\u001b[0m\u001b[0;34m\u001b[0m\u001b[0m\n\u001b[1;32m      7\u001b[0m \u001b[0;34m\u001b[0m\u001b[0m\n\u001b[0;32m----> 8\u001b[0;31m \u001b[0mX_train_flips\u001b[0m\u001b[0;34m,\u001b[0m \u001b[0my_train_flips\u001b[0m \u001b[0;34m=\u001b[0m \u001b[0madd_flips\u001b[0m\u001b[0;34m(\u001b[0m\u001b[0mX_train_big\u001b[0m\u001b[0;34m,\u001b[0m \u001b[0my_train_big\u001b[0m\u001b[0;34m)\u001b[0m\u001b[0;34m\u001b[0m\u001b[0m\n\u001b[0m\u001b[1;32m      9\u001b[0m \u001b[0mX_train_flips\u001b[0m \u001b[0;34m=\u001b[0m \u001b[0mnp\u001b[0m\u001b[0;34m.\u001b[0m\u001b[0mvstack\u001b[0m\u001b[0;34m(\u001b[0m\u001b[0;34m[\u001b[0m\u001b[0mX_train_big\u001b[0m\u001b[0;34m,\u001b[0m \u001b[0mX_train_flips\u001b[0m\u001b[0;34m]\u001b[0m\u001b[0;34m)\u001b[0m\u001b[0;34m\u001b[0m\u001b[0m\n\u001b[1;32m     10\u001b[0m \u001b[0my_train_flips\u001b[0m \u001b[0;34m=\u001b[0m \u001b[0mnp\u001b[0m\u001b[0;34m.\u001b[0m\u001b[0mvstack\u001b[0m\u001b[0;34m(\u001b[0m\u001b[0;34m[\u001b[0m\u001b[0my_train_big\u001b[0m\u001b[0;34m,\u001b[0m \u001b[0my_train_flips\u001b[0m\u001b[0;34m]\u001b[0m\u001b[0;34m)\u001b[0m\u001b[0;34m\u001b[0m\u001b[0m\n",
        "\u001b[0;31mNameError\u001b[0m: name 'X_train_big' is not defined"
       ]
      }
     ],
     "prompt_number": 1
    },
    {
     "cell_type": "markdown",
     "metadata": {},
     "source": [
      "# II. Convert Dataset to HDF5"
     ]
    },
    {
     "cell_type": "code",
     "collapsed": false,
     "input": [
      "import os\n",
      "import h5py\n",
      "\n",
      "#=====[ Step 1: get filenames ]=====\n",
      "data_dir = '/Users/jayhack/Desktop/caffe_data/')\n",
      "train_filename = os.path.join(data_dir, 'train.h5')\n",
      "val_filename = os.path.join(data_dir, 'val.h5')\n",
      "\n",
      "#=====[ Step 2: write data ]=====\n",
      "with h5py.File(train_filename, 'w') as f:\n",
      "    f['data'] = X_train\n",
      "    f['label'] = y_train\n",
      "with open(os.path.join(data_dir, 'train.txt'), 'w') as f:\n",
      "    f.write(train_filename + '\\n')\n",
      "\n",
      "with h5py.File(val_filename, 'w') as f:\n",
      "    f['data'] = X_val\n",
      "    f['label'] = y_val\n",
      "with open(os.path.join(data_dir, 'val.txt'), 'w') as f:\n",
      "    f.write(val_filename + '\\n')"
     ],
     "language": "python",
     "metadata": {},
     "outputs": [],
     "prompt_number": 14
    },
    {
     "cell_type": "markdown",
     "metadata": {},
     "source": [
      "# III. Train Model"
     ]
    },
    {
     "cell_type": "code",
     "collapsed": false,
     "input": [
      "def learn_and_test(solver_file):\n",
      "\n",
      "    caffe.set_mode_cpu()\n",
      "    solver = caffe.get_solver(solver_file)\n",
      "    solver.solve()\n",
      "\n",
      "    accuracy = 0\n",
      "    test_iters = int(len(Xt) / solver.test_nets[0].blobs['data'].num)\n",
      "    for i in range(test_iters):\n",
      "        solver.test_nets[0].forward()\n",
      "        accuracy += solver.test_nets[0].blobs['accuracy'].data\n",
      "    accuracy /= test_iters\n",
      "    return accuracy\n",
      "\n",
      "%timeit learn_and_test('hdf5_classification/solver.prototxt')\n",
      "acc = learn_and_test('hdf5_classification/solver.prototxt')\n",
      "print(\"Accuracy: {:.3f}\".format(acc))"
     ],
     "language": "python",
     "metadata": {},
     "outputs": []
    },
    {
     "cell_type": "code",
     "collapsed": false,
     "input": [],
     "language": "python",
     "metadata": {},
     "outputs": []
    }
   ],
   "metadata": {}
  }
 ]
}