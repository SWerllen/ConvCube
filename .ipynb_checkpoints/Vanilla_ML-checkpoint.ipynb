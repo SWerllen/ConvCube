{
 "metadata": {
  "name": "",
  "signature": "sha256:680dc0ae6076d35651d19fb00d705d8276c6d9b294251fa61685f08a3387141d"
 },
 "nbformat": 3,
 "nbformat_minor": 0,
 "worksheets": [
  {
   "cells": [
    {
     "cell_type": "markdown",
     "metadata": {},
     "source": [
      "# Vanilla_ML: see how machine learning does on basic descriptors"
     ]
    },
    {
     "cell_type": "code",
     "collapsed": false,
     "input": [
      "import pickle\n",
      "import numpy as np\n",
      "import cv2\n",
      "from sklearn.svm import SVC\n",
      "from ModalDB import *\n",
      "import matplotlib.pyplot as plt\n",
      "%pylab inline\n",
      "\n",
      "from schema import convcube_schema\n",
      "from Cube import Cv2Cube\n",
      "\n",
      "client = ModalClient('./data/db', schema=convcube_schema)\n",
      "cube = Cv2Cube(classifier=SVC())"
     ],
     "language": "python",
     "metadata": {},
     "outputs": [
      {
       "output_type": "stream",
       "stream": "stdout",
       "text": [
        "Populating the interactive namespace from numpy and matplotlib\n"
       ]
      }
     ],
     "prompt_number": 1
    },
    {
     "cell_type": "markdown",
     "metadata": {},
     "source": [
      "## Gather Positive Examples"
     ]
    },
    {
     "cell_type": "code",
     "collapsed": false,
     "input": [
      "print 'Gathering features from videos...'\n",
      "X_pos, X_neg = [], []\n",
      "for video_name in ['darkroom_1', 'darkroom_2', 'darkroom_3']:\n",
      "    video = client.get(Video, video_name)\n",
      "    for frame in video.iter_children(Frame):\n",
      "\n",
      "        kpts = frame['interior_points']\n",
      "\n",
      "        if not kpts is None:\n",
      "            if len(kpts) > 0:\n",
      "                #=====[ Positive examples ]=====\n",
      "                image = frame['image']\n",
      "                desc = cube.get_descriptors(image, kpts)\n",
      "                if not desc is None:\n",
      "                    X_pos.append(desc)\n",
      "\n",
      "                #=====[ Negative examples ]=====\n",
      "                kpts, desc = cube.get_kpts_descriptors(image)\n",
      "                if not desc is None:\n",
      "                    X_neg.append(desc)\n",
      "\n",
      "\n",
      "#=====[ Gather features ]=====\n",
      "X_pos = np.vstack(X_pos)\n",
      "X_neg = np.vstack(X_neg)\n",
      "print 'positive examples: %d' % X_pos.shape[0]\n",
      "print 'negative examples: %d' % X_neg.shape[0]\n",
      "X = np.vstack([X_pos, X_neg])\n",
      "y = np.concatenate([np.ones(X_pos.shape[0],), np.zeros(X_neg.shape[0],)])\n",
      "\n",
      "#=====[ Save features ]=====\n",
      "import pickle\n",
      "print 'saving features...'\n",
      "pickle.dump((X,y), open('features.npy', 'w'))"
     ],
     "language": "python",
     "metadata": {},
     "outputs": [
      {
       "output_type": "stream",
       "stream": "stdout",
       "text": [
        "processing:  darkroom_1/frame_15\n",
        "processing: "
       ]
      },
      {
       "output_type": "stream",
       "stream": "stdout",
       "text": [
        " darkroom_1/frame_14\n",
        "processing: "
       ]
      },
      {
       "output_type": "stream",
       "stream": "stdout",
       "text": [
        " darkroom_1/frame_16\n",
        "processing: "
       ]
      },
      {
       "output_type": "stream",
       "stream": "stdout",
       "text": [
        " darkroom_1/frame_10\n",
        "processing: "
       ]
      },
      {
       "output_type": "stream",
       "stream": "stdout",
       "text": [
        " darkroom_1/frame_13\n",
        "processing: "
       ]
      },
      {
       "output_type": "stream",
       "stream": "stdout",
       "text": [
        " darkroom_1/frame_1\n",
        "processing: "
       ]
      },
      {
       "output_type": "stream",
       "stream": "stdout",
       "text": [
        " darkroom_1/frame_0\n",
        "processing: "
       ]
      },
      {
       "output_type": "stream",
       "stream": "stdout",
       "text": [
        " darkroom_1/frame_3\n",
        "processing: "
       ]
      },
      {
       "output_type": "stream",
       "stream": "stdout",
       "text": [
        " darkroom_1/frame_2\n",
        "processing: "
       ]
      },
      {
       "output_type": "stream",
       "stream": "stdout",
       "text": [
        " darkroom_1/frame_5\n",
        "processing: "
       ]
      },
      {
       "output_type": "stream",
       "stream": "stdout",
       "text": [
        " darkroom_1/frame_4\n",
        "processing: "
       ]
      },
      {
       "output_type": "stream",
       "stream": "stdout",
       "text": [
        " darkroom_1/frame_7\n",
        "processing: "
       ]
      },
      {
       "output_type": "stream",
       "stream": "stdout",
       "text": [
        " darkroom_1/frame_6\n",
        "processing: "
       ]
      },
      {
       "output_type": "stream",
       "stream": "stdout",
       "text": [
        " darkroom_1/frame_29\n",
        "processing: "
       ]
      },
      {
       "output_type": "stream",
       "stream": "stdout",
       "text": [
        " darkroom_1/frame_82\n",
        "processing: "
       ]
      },
      {
       "output_type": "stream",
       "stream": "stdout",
       "text": [
        " darkroom_1/frame_83\n",
        "processing: "
       ]
      },
      {
       "output_type": "stream",
       "stream": "stdout",
       "text": [
        " darkroom_1/frame_80\n",
        "processing: "
       ]
      },
      {
       "output_type": "stream",
       "stream": "stdout",
       "text": [
        " darkroom_1/frame_81\n",
        "processing: "
       ]
      },
      {
       "output_type": "stream",
       "stream": "stdout",
       "text": [
        " darkroom_1/frame_86\n",
        "processing: "
       ]
      },
      {
       "output_type": "stream",
       "stream": "stdout",
       "text": [
        " darkroom_1/frame_87\n",
        "processing: "
       ]
      },
      {
       "output_type": "stream",
       "stream": "stdout",
       "text": [
        " darkroom_1/frame_84\n",
        "processing: "
       ]
      },
      {
       "output_type": "stream",
       "stream": "stdout",
       "text": [
        " darkroom_1/frame_85\n",
        "processing: "
       ]
      },
      {
       "output_type": "stream",
       "stream": "stdout",
       "text": [
        " darkroom_1/frame_151\n",
        "processing: "
       ]
      },
      {
       "output_type": "stream",
       "stream": "stdout",
       "text": [
        " darkroom_1/frame_150\n",
        "processing: "
       ]
      },
      {
       "output_type": "stream",
       "stream": "stdout",
       "text": [
        " darkroom_1/frame_88\n",
        "processing: "
       ]
      },
      {
       "output_type": "stream",
       "stream": "stdout",
       "text": [
        " darkroom_1/frame_89\n",
        "processing: "
       ]
      },
      {
       "output_type": "stream",
       "stream": "stdout",
       "text": [
        " darkroom_1/frame_155\n",
        "processing: "
       ]
      },
      {
       "output_type": "stream",
       "stream": "stdout",
       "text": [
        " darkroom_1/frame_154\n",
        "processing: "
       ]
      },
      {
       "output_type": "stream",
       "stream": "stdout",
       "text": [
        " darkroom_1/frame_157\n",
        "processing: "
       ]
      },
      {
       "output_type": "stream",
       "stream": "stdout",
       "text": [
        " darkroom_1/frame_156\n",
        "processing: "
       ]
      },
      {
       "output_type": "stream",
       "stream": "stdout",
       "text": [
        " darkroom_1/frame_68\n",
        "processing: "
       ]
      },
      {
       "output_type": "stream",
       "stream": "stdout",
       "text": [
        " darkroom_1/frame_69\n",
        "processing: "
       ]
      },
      {
       "output_type": "stream",
       "stream": "stdout",
       "text": [
        " darkroom_1/frame_60\n",
        "processing: "
       ]
      },
      {
       "output_type": "stream",
       "stream": "stdout",
       "text": [
        " darkroom_1/frame_61\n",
        "processing: "
       ]
      },
      {
       "output_type": "stream",
       "stream": "stdout",
       "text": [
        " darkroom_1/frame_62\n",
        "processing: "
       ]
      },
      {
       "output_type": "stream",
       "stream": "stdout",
       "text": [
        " darkroom_1/frame_63\n",
        "processing: "
       ]
      },
      {
       "output_type": "stream",
       "stream": "stdout",
       "text": [
        " darkroom_1/frame_64\n",
        "processing: "
       ]
      },
      {
       "output_type": "stream",
       "stream": "stdout",
       "text": [
        " darkroom_1/frame_65\n",
        "processing: "
       ]
      },
      {
       "output_type": "stream",
       "stream": "stdout",
       "text": [
        " darkroom_1/frame_66\n",
        "processing: "
       ]
      },
      {
       "output_type": "stream",
       "stream": "stdout",
       "text": [
        " darkroom_1/frame_67\n",
        "processing: "
       ]
      },
      {
       "output_type": "stream",
       "stream": "stdout",
       "text": [
        " darkroom_1/frame_95\n",
        "processing: "
       ]
      },
      {
       "output_type": "stream",
       "stream": "stdout",
       "text": [
        " darkroom_1/frame_94\n",
        "processing: "
       ]
      },
      {
       "output_type": "stream",
       "stream": "stdout",
       "text": [
        " darkroom_1/frame_148\n",
        "processing: "
       ]
      },
      {
       "output_type": "stream",
       "stream": "stdout",
       "text": [
        " darkroom_1/frame_149\n",
        "processing: "
       ]
      },
      {
       "output_type": "stream",
       "stream": "stdout",
       "text": [
        " darkroom_1/frame_91\n",
        "processing: "
       ]
      },
      {
       "output_type": "stream",
       "stream": "stdout",
       "text": [
        " darkroom_1/frame_90\n",
        "processing: "
       ]
      },
      {
       "output_type": "stream",
       "stream": "stdout",
       "text": [
        " darkroom_1/frame_93\n",
        "processing: "
       ]
      },
      {
       "output_type": "stream",
       "stream": "stdout",
       "text": [
        " darkroom_1/frame_92\n",
        "processing: "
       ]
      },
      {
       "output_type": "stream",
       "stream": "stdout",
       "text": [
        " darkroom_1/frame_142\n",
        "processing: "
       ]
      },
      {
       "output_type": "stream",
       "stream": "stdout",
       "text": [
        " darkroom_1/frame_143\n",
        "processing: "
       ]
      },
      {
       "output_type": "stream",
       "stream": "stdout",
       "text": [
        " darkroom_1/frame_140\n",
        "processing: "
       ]
      },
      {
       "output_type": "stream",
       "stream": "stdout",
       "text": [
        " darkroom_1/frame_141\n",
        "processing: "
       ]
      },
      {
       "output_type": "stream",
       "stream": "stdout",
       "text": [
        " darkroom_1/frame_146\n",
        "processing: "
       ]
      },
      {
       "output_type": "stream",
       "stream": "stdout",
       "text": [
        " darkroom_1/frame_98\n",
        "processing: "
       ]
      },
      {
       "output_type": "stream",
       "stream": "stdout",
       "text": [
        " darkroom_1/frame_144\n",
        "processing: "
       ]
      },
      {
       "output_type": "stream",
       "stream": "stdout",
       "text": [
        " darkroom_1/frame_145\n",
        "processing: "
       ]
      },
      {
       "output_type": "stream",
       "stream": "stdout",
       "text": [
        " darkroom_1/frame_79\n",
        "processing: "
       ]
      },
      {
       "output_type": "stream",
       "stream": "stdout",
       "text": [
        " darkroom_1/frame_73\n",
        "processing: "
       ]
      },
      {
       "output_type": "stream",
       "stream": "stdout",
       "text": [
        " darkroom_1/frame_72\n",
        "processing: "
       ]
      },
      {
       "output_type": "stream",
       "stream": "stdout",
       "text": [
        " darkroom_1/frame_71\n",
        "processing: "
       ]
      },
      {
       "output_type": "stream",
       "stream": "stdout",
       "text": [
        " darkroom_1/frame_70\n",
        "processing: "
       ]
      },
      {
       "output_type": "stream",
       "stream": "stdout",
       "text": [
        " darkroom_1/frame_77\n",
        "processing: "
       ]
      },
      {
       "output_type": "stream",
       "stream": "stdout",
       "text": [
        " darkroom_1/frame_76\n",
        "processing: "
       ]
      },
      {
       "output_type": "stream",
       "stream": "stdout",
       "text": [
        " darkroom_1/frame_74\n",
        "processing: "
       ]
      },
      {
       "output_type": "stream",
       "stream": "stdout",
       "text": [
        " darkroom_1/frame_97\n",
        "processing: "
       ]
      },
      {
       "output_type": "stream",
       "stream": "stdout",
       "text": [
        " darkroom_1/frame_96\n",
        "processing: "
       ]
      },
      {
       "output_type": "stream",
       "stream": "stdout",
       "text": [
        " darkroom_1/frame_48\n",
        "processing: "
       ]
      },
      {
       "output_type": "stream",
       "stream": "stdout",
       "text": [
        " darkroom_1/frame_49\n",
        "processing: "
       ]
      },
      {
       "output_type": "stream",
       "stream": "stdout",
       "text": [
        " darkroom_1/frame_46\n",
        "processing: "
       ]
      },
      {
       "output_type": "stream",
       "stream": "stdout",
       "text": [
        " darkroom_1/frame_47\n",
        "processing: "
       ]
      },
      {
       "output_type": "stream",
       "stream": "stdout",
       "text": [
        " darkroom_1/frame_44\n",
        "processing: "
       ]
      },
      {
       "output_type": "stream",
       "stream": "stdout",
       "text": [
        " darkroom_1/frame_45\n",
        "processing: "
       ]
      },
      {
       "output_type": "stream",
       "stream": "stdout",
       "text": [
        " darkroom_1/frame_42\n",
        "processing: "
       ]
      },
      {
       "output_type": "stream",
       "stream": "stdout",
       "text": [
        " darkroom_1/frame_43\n",
        "processing: "
       ]
      },
      {
       "output_type": "stream",
       "stream": "stdout",
       "text": [
        " darkroom_1/frame_40\n",
        "processing: "
       ]
      },
      {
       "output_type": "stream",
       "stream": "stdout",
       "text": [
        " darkroom_1/frame_41\n",
        "processing: "
       ]
      },
      {
       "output_type": "stream",
       "stream": "stdout",
       "text": [
        " darkroom_1/frame_99\n",
        "processing: "
       ]
      },
      {
       "output_type": "stream",
       "stream": "stdout",
       "text": [
        " darkroom_1/frame_147\n",
        "processing: "
       ]
      },
      {
       "output_type": "stream",
       "stream": "stdout",
       "text": [
        " darkroom_1/frame_160\n",
        "processing: "
       ]
      },
      {
       "output_type": "stream",
       "stream": "stdout",
       "text": [
        " darkroom_1/frame_161\n",
        "processing: "
       ]
      },
      {
       "output_type": "stream",
       "stream": "stdout",
       "text": [
        " darkroom_1/frame_162\n",
        "processing: "
       ]
      },
      {
       "output_type": "stream",
       "stream": "stdout",
       "text": [
        " darkroom_1/frame_163\n",
        "processing: "
       ]
      },
      {
       "output_type": "stream",
       "stream": "stdout",
       "text": [
        " darkroom_1/frame_164\n",
        "processing: "
       ]
      },
      {
       "output_type": "stream",
       "stream": "stdout",
       "text": [
        " darkroom_1/frame_165\n",
        "processing: "
       ]
      },
      {
       "output_type": "stream",
       "stream": "stdout",
       "text": [
        " darkroom_1/frame_166\n",
        "processing: "
       ]
      },
      {
       "output_type": "stream",
       "stream": "stdout",
       "text": [
        " darkroom_1/frame_51\n",
        "processing: "
       ]
      },
      {
       "output_type": "stream",
       "stream": "stdout",
       "text": [
        " darkroom_1/frame_50\n",
        "processing: "
       ]
      },
      {
       "output_type": "stream",
       "stream": "stdout",
       "text": [
        " darkroom_1/frame_53\n",
        "processing: "
       ]
      },
      {
       "output_type": "stream",
       "stream": "stdout",
       "text": [
        " darkroom_1/frame_52\n",
        "processing: "
       ]
      },
      {
       "output_type": "stream",
       "stream": "stdout",
       "text": [
        " darkroom_1/frame_55\n",
        "processing: "
       ]
      },
      {
       "output_type": "stream",
       "stream": "stdout",
       "text": [
        " darkroom_1/frame_54\n",
        "processing: "
       ]
      },
      {
       "output_type": "stream",
       "stream": "stdout",
       "text": [
        " darkroom_1/frame_57\n",
        "processing: "
       ]
      },
      {
       "output_type": "stream",
       "stream": "stdout",
       "text": [
        " darkroom_1/frame_56\n",
        "processing: "
       ]
      },
      {
       "output_type": "stream",
       "stream": "stdout",
       "text": [
        " darkroom_1/frame_59\n",
        "processing: "
       ]
      },
      {
       "output_type": "stream",
       "stream": "stdout",
       "text": [
        " darkroom_1/frame_58\n",
        "processing: "
       ]
      },
      {
       "output_type": "stream",
       "stream": "stdout",
       "text": [
        " darkroom_1/frame_159\n",
        "processing: "
       ]
      },
      {
       "output_type": "stream",
       "stream": "stdout",
       "text": [
        " darkroom_1/frame_158\n",
        "processing: "
       ]
      },
      {
       "output_type": "stream",
       "stream": "stdout",
       "text": [
        " darkroom_1/frame_115\n",
        "processing: "
       ]
      },
      {
       "output_type": "stream",
       "stream": "stdout",
       "text": [
        " darkroom_1/frame_114\n",
        "processing: "
       ]
      },
      {
       "output_type": "stream",
       "stream": "stdout",
       "text": [
        " darkroom_1/frame_117\n",
        "processing: "
       ]
      },
      {
       "output_type": "stream",
       "stream": "stdout",
       "text": [
        " darkroom_1/frame_116\n",
        "processing: "
       ]
      },
      {
       "output_type": "stream",
       "stream": "stdout",
       "text": [
        " darkroom_1/frame_111\n",
        "processing: "
       ]
      },
      {
       "output_type": "stream",
       "stream": "stdout",
       "text": [
        " darkroom_1/frame_110\n",
        "processing: "
       ]
      },
      {
       "output_type": "stream",
       "stream": "stdout",
       "text": [
        " darkroom_1/frame_113\n",
        "processing: "
       ]
      },
      {
       "output_type": "stream",
       "stream": "stdout",
       "text": [
        " darkroom_1/frame_112\n",
        "processing: "
       ]
      },
      {
       "output_type": "stream",
       "stream": "stdout",
       "text": [
        " darkroom_1/frame_119\n",
        "processing: "
       ]
      },
      {
       "output_type": "stream",
       "stream": "stdout",
       "text": [
        " darkroom_1/frame_27\n",
        "processing: "
       ]
      },
      {
       "output_type": "stream",
       "stream": "stdout",
       "text": [
        " darkroom_1/frame_153\n",
        "processing: "
       ]
      },
      {
       "output_type": "stream",
       "stream": "stdout",
       "text": [
        " darkroom_1/frame_107\n",
        "processing: "
       ]
      },
      {
       "output_type": "stream",
       "stream": "stdout",
       "text": [
        " darkroom_1/frame_104\n",
        "processing: "
       ]
      },
      {
       "output_type": "stream",
       "stream": "stdout",
       "text": [
        " darkroom_1/frame_102\n",
        "processing: "
       ]
      },
      {
       "output_type": "stream",
       "stream": "stdout",
       "text": [
        " darkroom_2/frame_19\n",
        "processing: "
       ]
      },
      {
       "output_type": "stream",
       "stream": "stdout",
       "text": [
        " darkroom_2/frame_18\n",
        "processing: "
       ]
      },
      {
       "output_type": "stream",
       "stream": "stdout",
       "text": [
        " darkroom_2/frame_15\n",
        "processing: "
       ]
      },
      {
       "output_type": "stream",
       "stream": "stdout",
       "text": [
        " darkroom_2/frame_14\n",
        "processing: "
       ]
      },
      {
       "output_type": "stream",
       "stream": "stdout",
       "text": [
        " darkroom_2/frame_17\n",
        "processing: "
       ]
      },
      {
       "output_type": "stream",
       "stream": "stdout",
       "text": [
        " darkroom_2/frame_16\n",
        "processing: "
       ]
      },
      {
       "output_type": "stream",
       "stream": "stdout",
       "text": [
        " darkroom_2/frame_11\n",
        "processing: "
       ]
      },
      {
       "output_type": "stream",
       "stream": "stdout",
       "text": [
        " darkroom_2/frame_10\n",
        "processing: "
       ]
      },
      {
       "output_type": "stream",
       "stream": "stdout",
       "text": [
        " darkroom_2/frame_13\n",
        "processing: "
       ]
      },
      {
       "output_type": "stream",
       "stream": "stdout",
       "text": [
        " darkroom_2/frame_12\n",
        "processing: "
       ]
      },
      {
       "output_type": "stream",
       "stream": "stdout",
       "text": [
        " darkroom_2/frame_3\n",
        "processing: "
       ]
      },
      {
       "output_type": "stream",
       "stream": "stdout",
       "text": [
        " darkroom_2/frame_4\n",
        "processing: "
       ]
      },
      {
       "output_type": "stream",
       "stream": "stdout",
       "text": [
        " darkroom_2/frame_7\n",
        "processing: "
       ]
      },
      {
       "output_type": "stream",
       "stream": "stdout",
       "text": [
        " darkroom_2/frame_6\n",
        "processing: "
       ]
      },
      {
       "output_type": "stream",
       "stream": "stdout",
       "text": [
        " darkroom_2/frame_9\n",
        "processing: "
       ]
      },
      {
       "output_type": "stream",
       "stream": "stdout",
       "text": [
        " darkroom_2/frame_8\n",
        "processing: "
       ]
      },
      {
       "output_type": "stream",
       "stream": "stdout",
       "text": [
        " darkroom_2/frame_29\n",
        "processing: "
       ]
      },
      {
       "output_type": "stream",
       "stream": "stdout",
       "text": [
        " darkroom_2/frame_150\n",
        "processing: "
       ]
      },
      {
       "output_type": "stream",
       "stream": "stdout",
       "text": [
        " darkroom_2/frame_88\n",
        "processing: "
       ]
      },
      {
       "output_type": "stream",
       "stream": "stdout",
       "text": [
        " darkroom_2/frame_89\n",
        "processing: "
       ]
      },
      {
       "output_type": "stream",
       "stream": "stdout",
       "text": [
        " darkroom_2/frame_155\n",
        "processing: "
       ]
      },
      {
       "output_type": "stream",
       "stream": "stdout",
       "text": [
        " darkroom_2/frame_154\n",
        "processing: "
       ]
      },
      {
       "output_type": "stream",
       "stream": "stdout",
       "text": [
        " darkroom_2/frame_157\n",
        "processing: "
       ]
      },
      {
       "output_type": "stream",
       "stream": "stdout",
       "text": [
        " darkroom_2/frame_156\n",
        "processing: "
       ]
      },
      {
       "output_type": "stream",
       "stream": "stdout",
       "text": [
        " darkroom_2/frame_68\n",
        "processing: "
       ]
      },
      {
       "output_type": "stream",
       "stream": "stdout",
       "text": [
        " darkroom_2/frame_69\n",
        "processing: "
       ]
      },
      {
       "output_type": "stream",
       "stream": "stdout",
       "text": [
        " darkroom_2/frame_60\n",
        "processing: "
       ]
      },
      {
       "output_type": "stream",
       "stream": "stdout",
       "text": [
        " darkroom_2/frame_61\n",
        "processing: "
       ]
      },
      {
       "output_type": "stream",
       "stream": "stdout",
       "text": [
        " darkroom_2/frame_62\n",
        "processing: "
       ]
      },
      {
       "output_type": "stream",
       "stream": "stdout",
       "text": [
        " darkroom_2/frame_63\n",
        "processing: "
       ]
      },
      {
       "output_type": "stream",
       "stream": "stdout",
       "text": [
        " darkroom_2/frame_64\n",
        "processing: "
       ]
      },
      {
       "output_type": "stream",
       "stream": "stdout",
       "text": [
        " darkroom_2/frame_65\n",
        "processing: "
       ]
      },
      {
       "output_type": "stream",
       "stream": "stdout",
       "text": [
        " darkroom_2/frame_95\n",
        "processing: "
       ]
      },
      {
       "output_type": "stream",
       "stream": "stdout",
       "text": [
        " darkroom_2/frame_94\n",
        "processing: "
       ]
      },
      {
       "output_type": "stream",
       "stream": "stdout",
       "text": [
        " darkroom_2/frame_148\n",
        "processing: "
       ]
      },
      {
       "output_type": "stream",
       "stream": "stdout",
       "text": [
        " darkroom_2/frame_149\n",
        "processing: "
       ]
      },
      {
       "output_type": "stream",
       "stream": "stdout",
       "text": [
        " darkroom_2/frame_91\n",
        "processing: "
       ]
      },
      {
       "output_type": "stream",
       "stream": "stdout",
       "text": [
        " darkroom_2/frame_90\n",
        "processing: "
       ]
      },
      {
       "output_type": "stream",
       "stream": "stdout",
       "text": [
        " darkroom_2/frame_93\n",
        "processing: "
       ]
      },
      {
       "output_type": "stream",
       "stream": "stdout",
       "text": [
        " darkroom_2/frame_92\n",
        "processing: "
       ]
      },
      {
       "output_type": "stream",
       "stream": "stdout",
       "text": [
        " darkroom_2/frame_142\n",
        "processing: "
       ]
      },
      {
       "output_type": "stream",
       "stream": "stdout",
       "text": [
        " darkroom_2/frame_143\n",
        "processing: "
       ]
      },
      {
       "output_type": "stream",
       "stream": "stdout",
       "text": [
        " darkroom_2/frame_140\n",
        "processing: "
       ]
      },
      {
       "output_type": "stream",
       "stream": "stdout",
       "text": [
        " darkroom_2/frame_141\n",
        "processing: "
       ]
      },
      {
       "output_type": "stream",
       "stream": "stdout",
       "text": [
        " darkroom_2/frame_146\n",
        "processing: "
       ]
      },
      {
       "output_type": "stream",
       "stream": "stdout",
       "text": [
        " darkroom_2/frame_73\n",
        "processing: "
       ]
      },
      {
       "output_type": "stream",
       "stream": "stdout",
       "text": [
        " darkroom_2/frame_72\n",
        "processing: "
       ]
      },
      {
       "output_type": "stream",
       "stream": "stdout",
       "text": [
        " darkroom_2/frame_77\n",
        "processing: "
       ]
      },
      {
       "output_type": "stream",
       "stream": "stdout",
       "text": [
        " darkroom_2/frame_75\n",
        "processing: "
       ]
      },
      {
       "output_type": "stream",
       "stream": "stdout",
       "text": [
        " darkroom_2/frame_96\n",
        "processing: "
       ]
      },
      {
       "output_type": "stream",
       "stream": "stdout",
       "text": [
        " darkroom_2/frame_49\n",
        "processing: "
       ]
      },
      {
       "output_type": "stream",
       "stream": "stdout",
       "text": [
        " darkroom_2/frame_47\n",
        "processing: "
       ]
      },
      {
       "output_type": "stream",
       "stream": "stdout",
       "text": [
        " darkroom_2/frame_162\n",
        "processing: "
       ]
      },
      {
       "output_type": "stream",
       "stream": "stdout",
       "text": [
        " darkroom_2/frame_164\n",
        "processing: "
       ]
      },
      {
       "output_type": "stream",
       "stream": "stdout",
       "text": [
        " darkroom_2/frame_167\n",
        "processing: "
       ]
      },
      {
       "output_type": "stream",
       "stream": "stdout",
       "text": [
        " darkroom_2/frame_50\n",
        "processing: "
       ]
      },
      {
       "output_type": "stream",
       "stream": "stdout",
       "text": [
        " darkroom_2/frame_52\n",
        "processing: "
       ]
      },
      {
       "output_type": "stream",
       "stream": "stdout",
       "text": [
        " darkroom_2/frame_57\n",
        "processing: "
       ]
      },
      {
       "output_type": "stream",
       "stream": "stdout",
       "text": [
        " darkroom_2/frame_56\n",
        "processing: "
       ]
      },
      {
       "output_type": "stream",
       "stream": "stdout",
       "text": [
        " darkroom_2/frame_58\n",
        "processing: "
       ]
      },
      {
       "output_type": "stream",
       "stream": "stdout",
       "text": [
        " darkroom_2/frame_158\n",
        "processing: "
       ]
      },
      {
       "output_type": "stream",
       "stream": "stdout",
       "text": [
        " darkroom_2/frame_115\n",
        "processing: "
       ]
      },
      {
       "output_type": "stream",
       "stream": "stdout",
       "text": [
        " darkroom_2/frame_119\n",
        "processing: "
       ]
      },
      {
       "output_type": "stream",
       "stream": "stdout",
       "text": [
        " darkroom_2/frame_23\n",
        "processing: "
       ]
      },
      {
       "output_type": "stream",
       "stream": "stdout",
       "text": [
        " darkroom_2/frame_152\n",
        "processing: "
       ]
      },
      {
       "output_type": "stream",
       "stream": "stdout",
       "text": [
        " darkroom_2/frame_107\n",
        "processing: "
       ]
      },
      {
       "output_type": "stream",
       "stream": "stdout",
       "text": [
        " darkroom_2/frame_104\n",
        "processing: "
       ]
      },
      {
       "output_type": "stream",
       "stream": "stdout",
       "text": [
        " darkroom_2/frame_105\n",
        "processing: "
       ]
      },
      {
       "output_type": "stream",
       "stream": "stdout",
       "text": [
        " darkroom_2/frame_102\n",
        "processing: "
       ]
      },
      {
       "output_type": "stream",
       "stream": "stdout",
       "text": [
        " darkroom_2/frame_103\n",
        "processing: "
       ]
      },
      {
       "output_type": "stream",
       "stream": "stdout",
       "text": [
        " darkroom_2/frame_108\n",
        "processing: "
       ]
      },
      {
       "output_type": "stream",
       "stream": "stdout",
       "text": [
        " darkroom_2/frame_109\n",
        "processing: "
       ]
      },
      {
       "output_type": "stream",
       "stream": "stdout",
       "text": [
        " darkroom_2/frame_34\n",
        "processing: "
       ]
      },
      {
       "output_type": "stream",
       "stream": "stdout",
       "text": [
        " darkroom_2/frame_32\n",
        "processing: "
       ]
      },
      {
       "output_type": "stream",
       "stream": "stdout",
       "text": [
        " darkroom_2/frame_38\n",
        "processing: "
       ]
      },
      {
       "output_type": "stream",
       "stream": "stdout",
       "text": [
        " darkroom_2/frame_138\n",
        "processing: "
       ]
      },
      {
       "output_type": "stream",
       "stream": "stdout",
       "text": [
        " darkroom_2/frame_133\n",
        "processing: "
       ]
      },
      {
       "output_type": "stream",
       "stream": "stdout",
       "text": [
        " darkroom_2/frame_137\n",
        "processing: "
       ]
      },
      {
       "output_type": "stream",
       "stream": "stdout",
       "text": [
        " darkroom_2/frame_126\n",
        "processing: "
       ]
      },
      {
       "output_type": "stream",
       "stream": "stdout",
       "text": [
        " darkroom_2/frame_122\n",
        "processing: "
       ]
      },
      {
       "output_type": "stream",
       "stream": "stdout",
       "text": [
        " darkroom_3/frame_19\n",
        "processing: "
       ]
      },
      {
       "output_type": "stream",
       "stream": "stdout",
       "text": [
        " darkroom_3/frame_18\n",
        "processing: "
       ]
      },
      {
       "output_type": "stream",
       "stream": "stdout",
       "text": [
        " darkroom_3/frame_15\n",
        "processing: "
       ]
      },
      {
       "output_type": "stream",
       "stream": "stdout",
       "text": [
        " darkroom_3/frame_17\n",
        "processing: "
       ]
      },
      {
       "output_type": "stream",
       "stream": "stdout",
       "text": [
        " darkroom_3/frame_16\n",
        "processing: "
       ]
      },
      {
       "output_type": "stream",
       "stream": "stdout",
       "text": [
        " darkroom_3/frame_11\n",
        "processing: "
       ]
      },
      {
       "output_type": "stream",
       "stream": "stdout",
       "text": [
        " darkroom_3/frame_10\n",
        "processing: "
       ]
      },
      {
       "output_type": "stream",
       "stream": "stdout",
       "text": [
        " darkroom_3/frame_13\n",
        "processing: "
       ]
      },
      {
       "output_type": "stream",
       "stream": "stdout",
       "text": [
        " darkroom_3/frame_12\n",
        "processing: "
       ]
      },
      {
       "output_type": "stream",
       "stream": "stdout",
       "text": [
        " darkroom_3/frame_0\n",
        "processing: "
       ]
      },
      {
       "output_type": "stream",
       "stream": "stdout",
       "text": [
        " darkroom_3/frame_2\n",
        "processing: "
       ]
      },
      {
       "output_type": "stream",
       "stream": "stdout",
       "text": [
        " darkroom_3/frame_4\n",
        "processing: "
       ]
      },
      {
       "output_type": "stream",
       "stream": "stdout",
       "text": [
        " darkroom_3/frame_183\n",
        "processing: "
       ]
      },
      {
       "output_type": "stream",
       "stream": "stdout",
       "text": [
        " darkroom_3/frame_82\n",
        "processing: "
       ]
      },
      {
       "output_type": "stream",
       "stream": "stdout",
       "text": [
        " darkroom_3/frame_80\n",
        "processing: "
       ]
      },
      {
       "output_type": "stream",
       "stream": "stdout",
       "text": [
        " darkroom_3/frame_84\n",
        "processing: "
       ]
      },
      {
       "output_type": "stream",
       "stream": "stdout",
       "text": [
        " darkroom_3/frame_85\n",
        "processing: "
       ]
      },
      {
       "output_type": "stream",
       "stream": "stdout",
       "text": [
        " darkroom_3/frame_151\n",
        "processing: "
       ]
      },
      {
       "output_type": "stream",
       "stream": "stdout",
       "text": [
        " darkroom_3/frame_150\n",
        "processing: "
       ]
      },
      {
       "output_type": "stream",
       "stream": "stdout",
       "text": [
        " darkroom_3/frame_88\n",
        "processing: "
       ]
      },
      {
       "output_type": "stream",
       "stream": "stdout",
       "text": [
        " darkroom_3/frame_155\n",
        "processing: "
       ]
      },
      {
       "output_type": "stream",
       "stream": "stdout",
       "text": [
        " darkroom_3/frame_68\n",
        "processing: "
       ]
      },
      {
       "output_type": "stream",
       "stream": "stdout",
       "text": [
        " darkroom_3/frame_60\n",
        "processing: "
       ]
      },
      {
       "output_type": "stream",
       "stream": "stdout",
       "text": [
        " darkroom_3/frame_63\n",
        "processing: "
       ]
      },
      {
       "output_type": "stream",
       "stream": "stdout",
       "text": [
        " darkroom_3/frame_66\n",
        "processing: "
       ]
      },
      {
       "output_type": "stream",
       "stream": "stdout",
       "text": [
        " darkroom_3/frame_28\n",
        "processing: "
       ]
      },
      {
       "output_type": "stream",
       "stream": "stdout",
       "text": [
        " darkroom_3/frame_94\n",
        "processing: "
       ]
      },
      {
       "output_type": "stream",
       "stream": "stdout",
       "text": [
        " darkroom_3/frame_91\n",
        "processing: "
       ]
      },
      {
       "output_type": "stream",
       "stream": "stdout",
       "text": [
        " darkroom_3/frame_92\n",
        "processing: "
       ]
      },
      {
       "output_type": "stream",
       "stream": "stdout",
       "text": [
        " darkroom_3/frame_143\n",
        "processing: "
       ]
      },
      {
       "output_type": "stream",
       "stream": "stdout",
       "text": [
        " darkroom_3/frame_99\n",
        "processing: "
       ]
      },
      {
       "output_type": "stream",
       "stream": "stdout",
       "text": [
        " darkroom_3/frame_144\n",
        "processing: "
       ]
      },
      {
       "output_type": "stream",
       "stream": "stdout",
       "text": [
        " darkroom_3/frame_29\n",
        "processing: "
       ]
      },
      {
       "output_type": "stream",
       "stream": "stdout",
       "text": [
        " darkroom_3/frame_78\n",
        "processing: "
       ]
      },
      {
       "output_type": "stream",
       "stream": "stdout",
       "text": [
        " darkroom_3/frame_72\n",
        "processing: "
       ]
      },
      {
       "output_type": "stream",
       "stream": "stdout",
       "text": [
        " darkroom_3/frame_77\n",
        "processing: "
       ]
      },
      {
       "output_type": "stream",
       "stream": "stdout",
       "text": [
        " darkroom_3/frame_75\n",
        "processing: "
       ]
      },
      {
       "output_type": "stream",
       "stream": "stdout",
       "text": [
        " darkroom_3/frame_96\n",
        "processing: "
       ]
      },
      {
       "output_type": "stream",
       "stream": "stdout",
       "text": [
        " darkroom_3/frame_178\n",
        "processing: "
       ]
      },
      {
       "output_type": "stream",
       "stream": "stdout",
       "text": [
        " darkroom_3/frame_176\n",
        "processing: "
       ]
      },
      {
       "output_type": "stream",
       "stream": "stdout",
       "text": [
        " darkroom_3/frame_173\n",
        "processing: "
       ]
      },
      {
       "output_type": "stream",
       "stream": "stdout",
       "text": [
        " darkroom_3/frame_48\n",
        "processing: "
       ]
      },
      {
       "output_type": "stream",
       "stream": "stdout",
       "text": [
        " darkroom_3/frame_47\n",
        "processing: "
       ]
      },
      {
       "output_type": "stream",
       "stream": "stdout",
       "text": [
        " darkroom_3/frame_45\n",
        "processing: "
       ]
      },
      {
       "output_type": "stream",
       "stream": "stdout",
       "text": [
        " darkroom_3/frame_40\n",
        "processing: "
       ]
      },
      {
       "output_type": "stream",
       "stream": "stdout",
       "text": [
        " darkroom_3/frame_146\n",
        "processing: "
       ]
      },
      {
       "output_type": "stream",
       "stream": "stdout",
       "text": [
        " darkroom_3/frame_160\n",
        "processing: "
       ]
      },
      {
       "output_type": "stream",
       "stream": "stdout",
       "text": [
        " darkroom_3/frame_161\n",
        "processing: "
       ]
      },
      {
       "output_type": "stream",
       "stream": "stdout",
       "text": [
        " darkroom_3/frame_163\n",
        "processing: "
       ]
      },
      {
       "output_type": "stream",
       "stream": "stdout",
       "text": [
        " darkroom_3/frame_166\n",
        "processing: "
       ]
      },
      {
       "output_type": "stream",
       "stream": "stdout",
       "text": [
        " darkroom_3/frame_168\n",
        "processing: "
       ]
      },
      {
       "output_type": "stream",
       "stream": "stdout",
       "text": [
        " darkroom_3/frame_51\n",
        "processing: "
       ]
      },
      {
       "output_type": "stream",
       "stream": "stdout",
       "text": [
        " darkroom_3/frame_52\n",
        "processing: "
       ]
      },
      {
       "output_type": "stream",
       "stream": "stdout",
       "text": [
        " darkroom_3/frame_54\n",
        "processing: "
       ]
      },
      {
       "output_type": "stream",
       "stream": "stdout",
       "text": [
        " darkroom_3/frame_57\n",
        "processing: "
       ]
      },
      {
       "output_type": "stream",
       "stream": "stdout",
       "text": [
        " darkroom_3/frame_58\n",
        "processing: "
       ]
      },
      {
       "output_type": "stream",
       "stream": "stdout",
       "text": [
        " darkroom_3/frame_159\n",
        "processing: "
       ]
      },
      {
       "output_type": "stream",
       "stream": "stdout",
       "text": [
        " darkroom_3/frame_114\n",
        "processing: "
       ]
      },
      {
       "output_type": "stream",
       "stream": "stdout",
       "text": [
        " darkroom_3/frame_117\n",
        "processing: "
       ]
      },
      {
       "output_type": "stream",
       "stream": "stdout",
       "text": [
        " darkroom_3/frame_110\n",
        "processing: "
       ]
      },
      {
       "output_type": "stream",
       "stream": "stdout",
       "text": [
        " darkroom_3/frame_119\n",
        "processing: "
       ]
      },
      {
       "output_type": "stream",
       "stream": "stdout",
       "text": [
        " darkroom_3/frame_24\n",
        "processing: "
       ]
      },
      {
       "output_type": "stream",
       "stream": "stdout",
       "text": [
        " darkroom_3/frame_27\n",
        "processing: "
       ]
      },
      {
       "output_type": "stream",
       "stream": "stdout",
       "text": [
        " darkroom_3/frame_20\n",
        "processing: "
       ]
      },
      {
       "output_type": "stream",
       "stream": "stdout",
       "text": [
        " darkroom_3/frame_184\n",
        "processing: "
       ]
      },
      {
       "output_type": "stream",
       "stream": "stdout",
       "text": [
        " darkroom_3/frame_33\n",
        "processing: "
       ]
      },
      {
       "output_type": "stream",
       "stream": "stdout",
       "text": [
        " darkroom_3/frame_133\n",
        "processing: "
       ]
      },
      {
       "output_type": "stream",
       "stream": "stdout",
       "text": [
        " darkroom_3/frame_22\n",
        "processing: "
       ]
      },
      {
       "output_type": "stream",
       "stream": "stdout",
       "text": [
        " darkroom_3/frame_128\n",
        "processing: "
       ]
      },
      {
       "output_type": "stream",
       "stream": "stdout",
       "text": [
        " darkroom_3/frame_124\n",
        "processing: "
       ]
      },
      {
       "output_type": "stream",
       "stream": "stdout",
       "text": [
        " darkroom_3/frame_125\n",
        "processing: "
       ]
      },
      {
       "output_type": "stream",
       "stream": "stdout",
       "text": [
        " darkroom_3/frame_127\n",
        "processing: "
       ]
      },
      {
       "output_type": "stream",
       "stream": "stdout",
       "text": [
        " darkroom_3/frame_120\n"
       ]
      }
     ],
     "prompt_number": 2
    },
    {
     "cell_type": "code",
     "collapsed": false,
     "input": [
      "#=====[ (Optional) Load features ]====\n",
      "print 'loading features'\n",
      "X, y = pickle.load(open('features.npy'))\n",
      "\n",
      "#=====[ Train classifier ]=====\n",
      "from sklearn.linear_model import LogisticRegression\n",
      "print 'training classifier...'\n",
      "lr = LogisticRegression()\n",
      "lr.fit(X, y)\n",
      "\n",
      "#=====[ Save classifier ]======\n",
      "print 'saving classifier...'\n",
      "pickle.dump(lr, open('lr.pkl', 'w'))"
     ],
     "language": "python",
     "metadata": {},
     "outputs": []
    },
    {
     "cell_type": "markdown",
     "metadata": {},
     "source": [
      "## See how this does on actual data"
     ]
    },
    {
     "cell_type": "code",
     "collapsed": false,
     "input": [
      "clf = pickle.load(open('lr.pkl'))\n",
      "cube = Cv2Cube(classifier=clf)"
     ],
     "language": "python",
     "metadata": {},
     "outputs": [],
     "prompt_number": 2
    },
    {
     "cell_type": "code",
     "collapsed": false,
     "input": [
      "video = client.get(Video, 'darkroom_3')\n",
      "frame = video.get_child(Frame, 'frame_125')\n",
      "image = frame['image'].copy()\n",
      "disp_img = cube.draw_output(image)\n",
      "plt.imshow(disp_img)"
     ],
     "language": "python",
     "metadata": {},
     "outputs": [
      {
       "metadata": {},
       "output_type": "pyout",
       "prompt_number": 4,
       "text": [
        "<matplotlib.image.AxesImage at 0x10d968ad0>"
       ]
      },
      {
       "metadata": {},
       "output_type": "display_data",
       "png": "[encoded data removed]",
       "text": [
        "<matplotlib.figure.Figure at 0x10d800b50>"
       ]
      }
     ],
     "prompt_number": 4
    },
    {
     "cell_type": "code",
     "collapsed": false,
     "input": [],
     "language": "python",
     "metadata": {},
     "outputs": []
    }
   ],
   "metadata": {}
  }
 ]
}