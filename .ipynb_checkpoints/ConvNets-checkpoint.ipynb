{
 "metadata": {
  "name": "",
  "signature": "sha256:c97f4375787109230536c978b73be910de6d26351fbf933f0af61a67a78ca710"
 },
 "nbformat": 3,
 "nbformat_minor": 0,
 "worksheets": [
  {
   "cells": [
    {
     "cell_type": "markdown",
     "metadata": {},
     "source": [
      "# ConvNets: Expriments with Theano and pylearn2"
     ]
    },
    {
     "cell_type": "code",
     "collapsed": false,
     "input": [
      "import numpy as np\n",
      "import scipy as sp\n",
      "import theano"
     ],
     "language": "python",
     "metadata": {},
     "outputs": [],
     "prompt_number": 1
    },
    {
     "cell_type": "markdown",
     "metadata": {},
     "source": [
      "## Construct a ConvNet with Theano/pylearn2"
     ]
    },
    {
     "cell_type": "code",
     "collapsed": false,
     "input": [
      "import theano.tensor as T\n",
      "from theano.tensor.nnet import conv\n",
      "from pylearn2.sandbox.cuda_convnet.filter_acts import FilterActs\n",
      "from theano.sandbox.cuda.basic_ops import gpu_contiguous\n",
      "\n",
      "input = T.tensor4('input')\n",
      "filters = T.tensor4('filters')\n",
      "out = conv.conv2d(input, filters, filter_shape=filter_shape, image_shape=image_shape)\n",
      "conv_op = FilterActs()\n",
      "contiguous_input = gpu_contiguous(input)\n",
      "contiguous_filters = gpu_contiguous(filters)\n",
      "out = conv_op(contiguous_input, contiguous_filters)"
     ],
     "language": "python",
     "metadata": {},
     "outputs": [],
     "prompt_number": 3
    },
    {
     "cell_type": "code",
     "collapsed": false,
     "input": [],
     "language": "python",
     "metadata": {},
     "outputs": []
    }
   ],
   "metadata": {}
  }
 ]
}