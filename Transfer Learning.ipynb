{
 "metadata": {
  "name": "",
  "signature": "sha256:d7077d9fd0e27215ed2fc73cd1e9a2b07fc8865d6264e0eb315d1a9901e20821"
 },
 "nbformat": 3,
 "nbformat_minor": 0,
 "worksheets": [
  {
   "cells": [
    {
     "cell_type": "markdown",
     "metadata": {},
     "source": [
      "# Transfer Learning"
     ]
    },
    {
     "cell_type": "code",
     "collapsed": false,
     "input": [
      "import numpy as np\n",
      "import cv2\n",
      "from ModalDB import ModalClient, Video, Frame\n",
      "from schema import convcube_schema\n",
      "\n",
      "client = ModalClient('./data/db', schema=convcube_schema)"
     ],
     "language": "python",
     "metadata": {},
     "outputs": [],
     "prompt_number": 1
    },
    {
     "cell_type": "markdown",
     "metadata": {},
     "source": [
      "## Get Data"
     ]
    },
    {
     "cell_type": "code",
     "collapsed": false,
     "input": [
      "from wrangling import load_transfer_dataset\n",
      "\n",
      "X_train, y_train, X_val, y_val = load_transfer_dataset(client)\n",
      "print 'Train data shape: ', X_train.shape\n",
      "print 'Train labels shape: ', y_train.shape\n",
      "print 'Validation data shape: ', X_val.shape\n",
      "print 'Validation labels shape: ', y_val.shape"
     ],
     "language": "python",
     "metadata": {},
     "outputs": [
      {
       "output_type": "stream",
       "stream": "stdout",
       "text": [
        "Train data shape:  (207, 45, 80, 3)\n",
        "Train labels shape:  (207, 45, 80, 3)\n",
        "Validation data shape:  (70, 45, 80, 3)\n",
        "Validation labels shape:  (70, 45, 80, 3)\n"
       ]
      }
     ],
     "prompt_number": 2
    },
    {
     "cell_type": "markdown",
     "metadata": {},
     "source": [
      "## Get Model"
     ]
    },
    {
     "cell_type": "code",
     "collapsed": false,
     "input": [
      "import pickle\n",
      "model = pickle.load(open('convnet_16s.pkl'))"
     ],
     "language": "python",
     "metadata": {},
     "outputs": [],
     "prompt_number": 3
    },
    {
     "cell_type": "code",
     "collapsed": false,
     "input": [],
     "language": "python",
     "metadata": {},
     "outputs": []
    }
   ],
   "metadata": {}
  }
 ]
}