{
 "metadata": {
  "name": "",
  "signature": "sha256:3889f9b4209df1114c97816e6014a2fc975834e70a2c11f648baf375539d05a1"
 },
 "nbformat": 3,
 "nbformat_minor": 0,
 "worksheets": [
  {
   "cells": [
    {
     "cell_type": "code",
     "collapsed": false,
     "input": [
      "# for auto-reloading extenrnal modules\n",
      "# see http://stackoverflow.com/questions/1907993/autoreload-of-modules-in-ipython\n",
      "%load_ext autoreload\n",
      "%autoreload 2\n",
      "\n",
      "#=====[ Standard + Math ]=====\n",
      "import os\n",
      "import sys\n",
      "sys.path.insert(0, './') #for faster development\n",
      "import pickle\n",
      "import numpy as np\n",
      "import cv2\n",
      "import matplotlib.pyplot as plt\n",
      "%pylab inline\n",
      "\n",
      "#=====[ ModalDB ]=====\n",
      "from ModalDB import ModalClient\n",
      "from ModalDB import Video\n",
      "from ModalDB import Frame\n",
      "\n",
      "#=====[ convcube ]=====\n",
      "from convcube.db import dbschema\n",
      "from convcube.heatmapping import load_dataset_heatmap\n",
      "from convcube.heatmapping import HeatmapConvNet\n",
      "from convcube import ConvNetCube\n",
      "\n",
      "#=====[ setup client ]=====\n",
      "client = ModalClient('./data/db', schema=dbschema)\n",
      "models_path = './models/localization'"
     ],
     "language": "python",
     "metadata": {},
     "outputs": [
      {
       "output_type": "stream",
       "stream": "stdout",
       "text": [
        "The autoreload extension is already loaded. To reload it, use:\n",
        "  %reload_ext autoreload\n",
        "Populating the interactive namespace from numpy and matplotlib\n"
       ]
      }
     ],
     "prompt_number": 253
    },
    {
     "cell_type": "markdown",
     "metadata": {},
     "source": [
      "## Get Data"
     ]
    },
    {
     "cell_type": "code",
     "collapsed": false,
     "input": [
      "X_train, X_val, y_train, y_val = load_dataset_heatmap(client, train_size=0.9)\n",
      "print 'Train data shape: ', X_train.shape\n",
      "print 'Train labels shape: ', y_train.shape\n",
      "print 'Validation data shape: ', X_val.shape\n",
      "print 'Validation labels shape: ', y_val.shape"
     ],
     "language": "python",
     "metadata": {},
     "outputs": [
      {
       "output_type": "stream",
       "stream": "stdout",
       "text": [
        "Train data shape:  (568, 3, 46, 80)\n",
        "Train labels shape:  (568, 2)\n",
        "Validation data shape:  (64, 3, 46, 80)\n",
        "Validation labels shape:  (64, 2)\n"
       ]
      }
     ],
     "prompt_number": 254
    },
    {
     "cell_type": "markdown",
     "metadata": {},
     "source": [
      "## Get Pretrained Model"
     ]
    },
    {
     "cell_type": "code",
     "collapsed": false,
     "input": [
      "#=====[ LOAD MODEL ]=====\n",
      "#*****\n",
      "model_path = os.path.join(models_path, 'pretrained/convnet_10s.pkl')\n",
      "pretrained_model = pickle.load(open(model_path))\n",
      "#*****"
     ],
     "language": "python",
     "metadata": {},
     "outputs": [],
     "prompt_number": 255
    },
    {
     "cell_type": "markdown",
     "metadata": {},
     "source": [
      "## Transfer Learning"
     ]
    },
    {
     "cell_type": "code",
     "collapsed": false,
     "input": [
      "#=====[ LOAD MODEL ]=====\n",
      "#*****\n",
      "convnet = HeatmapConvNet()\n",
      "convnet.load('models/localization/10s.loc_convnet')\n",
      "#*****"
     ],
     "language": "python",
     "metadata": {},
     "outputs": [],
     "prompt_number": 183
    },
    {
     "cell_type": "code",
     "collapsed": false,
     "input": [
      "#=====[ TRAIN MODEL ]=====\n",
      "#*****\n",
      "convnet = HeatmapConvNet(pretrained_model=pretrained_model)\n",
      "out = convnet.train(X_train, y_train, X_val, y_val)\n",
      "model, loss_hist, train_acc_hist, val_acc_hist = out\n",
      "convnet.save('models/heatmapping/10s.hmp_convnet')\n",
      "#*****"
     ],
     "language": "python",
     "metadata": {},
     "outputs": [
      {
       "output_type": "stream",
       "stream": "stdout",
       "text": [
        "starting iteration  0\n",
        "Finished epoch 0 / 100: cost 0.521772, train: 155875.130723, val 155304.529906, lr 7.000000e-04"
       ]
      },
      {
       "output_type": "stream",
       "stream": "stdout",
       "text": [
        "\n",
        "Finished epoch 1 / 100: cost 0.766594, train: 3.527963, val 3.502672, lr 6.650000e-04"
       ]
      },
      {
       "output_type": "stream",
       "stream": "stdout",
       "text": [
        "\n",
        "Finished epoch 2 / 100: cost 0.235010, train: 0.204566, val 0.166813, lr 6.317500e-04"
       ]
      },
      {
       "output_type": "stream",
       "stream": "stdout",
       "text": [
        "\n",
        "starting iteration  10\n",
        "Finished epoch 3 / 100: cost 0.183934, train: 0.126081, val 0.108734, lr 6.001625e-04"
       ]
      },
      {
       "output_type": "stream",
       "stream": "stdout",
       "text": [
        "\n",
        "Finished epoch 4 / 100: cost 0.154815, train: 0.099470, val 0.091356, lr 5.701544e-04"
       ]
      },
      {
       "output_type": "stream",
       "stream": "stdout",
       "text": [
        "\n",
        "starting iteration  20\n",
        "Finished epoch 5 / 100: cost 0.145896, train: 0.086107, val 0.086001, lr 5.416467e-04"
       ]
      },
      {
       "output_type": "stream",
       "stream": "stdout",
       "text": [
        "\n",
        "Finished epoch 6 / 100: cost 0.130542, train: 0.079851, val 0.082075, lr 5.145643e-04"
       ]
      },
      {
       "output_type": "stream",
       "stream": "stdout",
       "text": [
        "\n",
        "starting iteration  30\n",
        "Finished epoch 7 / 100: cost 0.123922, train: 0.072492, val 0.081353, lr 4.888361e-04"
       ]
      },
      {
       "output_type": "stream",
       "stream": "stdout",
       "text": [
        "\n",
        "Finished epoch 8 / 100: cost 0.133826, train: 0.070787, val 0.077367, lr 4.643943e-04"
       ]
      },
      {
       "output_type": "stream",
       "stream": "stdout",
       "text": [
        "\n",
        "starting iteration  40\n",
        "Finished epoch 9 / 100: cost 0.108097, train: 0.065905, val 0.076924, lr 4.411746e-04"
       ]
      },
      {
       "output_type": "stream",
       "stream": "stdout",
       "text": [
        "\n",
        "Finished epoch 10 / 100: cost 0.115751, train: 0.063724, val 0.077188, lr 4.191159e-04"
       ]
      },
      {
       "output_type": "stream",
       "stream": "stdout",
       "text": [
        "\n",
        "starting iteration  50\n",
        "Finished epoch 11 / 100: cost 0.107027, train: 0.062026, val 0.075976, lr 3.981601e-04"
       ]
      },
      {
       "output_type": "stream",
       "stream": "stdout",
       "text": [
        "\n",
        "Finished epoch 12 / 100: cost 0.113852, train: 0.060568, val 0.073737, lr 3.782521e-04"
       ]
      },
      {
       "output_type": "stream",
       "stream": "stdout",
       "text": [
        "\n",
        "starting iteration  60\n",
        "Finished epoch 13 / 100: cost 0.117476, train: 0.059112, val 0.075154, lr 3.593395e-04"
       ]
      },
      {
       "output_type": "stream",
       "stream": "stdout",
       "text": [
        "\n",
        "Finished epoch 14 / 100: cost 0.122603, train: 0.058486, val 0.075798, lr 3.413725e-04"
       ]
      },
      {
       "output_type": "stream",
       "stream": "stdout",
       "text": [
        "\n",
        "starting iteration  70\n",
        "Finished epoch 15 / 100: cost 0.093134, train: 0.057177, val 0.073496, lr 3.243039e-04"
       ]
      },
      {
       "output_type": "stream",
       "stream": "stdout",
       "text": [
        "\n",
        "Finished epoch 16 / 100: cost 0.112002, train: 0.056015, val 0.071298, lr 3.080887e-04"
       ]
      },
      {
       "output_type": "stream",
       "stream": "stdout",
       "text": [
        "\n",
        "starting iteration  80\n",
        "Finished epoch 17 / 100: cost 0.107823, train: 0.055272, val 0.070328, lr 2.926842e-04"
       ]
      },
      {
       "output_type": "stream",
       "stream": "stdout",
       "text": [
        "\n",
        "Finished epoch 18 / 100: cost 0.101557, train: 0.054545, val 0.070050, lr 2.780500e-04"
       ]
      },
      {
       "output_type": "stream",
       "stream": "stdout",
       "text": [
        "\n",
        "starting iteration  90\n",
        "Finished epoch 19 / 100: cost 0.105557, train: 0.054168, val 0.068979, lr 2.641475e-04"
       ]
      },
      {
       "output_type": "stream",
       "stream": "stdout",
       "text": [
        "\n",
        "Finished epoch 20 / 100: cost 0.105756, train: 0.053456, val 0.069281, lr 2.509401e-04"
       ]
      },
      {
       "output_type": "stream",
       "stream": "stdout",
       "text": [
        "\n",
        "starting iteration  100\n",
        "Finished epoch 21 / 100: cost 0.101900, train: 0.053456, val 0.071467, lr 2.383931e-04"
       ]
      },
      {
       "output_type": "stream",
       "stream": "stdout",
       "text": [
        "\n",
        "Finished epoch 22 / 100: cost 0.103792, train: 0.052814, val 0.066877, lr 2.264735e-04"
       ]
      },
      {
       "output_type": "stream",
       "stream": "stdout",
       "text": [
        "\n",
        "starting iteration  110\n",
        "Finished epoch 23 / 100: cost 0.100597, train: 0.052088, val 0.066810, lr 2.151498e-04"
       ]
      },
      {
       "output_type": "stream",
       "stream": "stdout",
       "text": [
        "\n",
        "Finished epoch 24 / 100: cost 0.104375, train: 0.051639, val 0.067059, lr 2.043923e-04"
       ]
      },
      {
       "output_type": "stream",
       "stream": "stdout",
       "text": [
        "\n",
        "starting iteration  120\n",
        "Finished epoch 25 / 100: cost 0.087924, train: 0.051260, val 0.067107, lr 1.941727e-04"
       ]
      },
      {
       "output_type": "stream",
       "stream": "stdout",
       "text": [
        "\n",
        "Finished epoch 26 / 100: cost 0.109239, train: 0.050973, val 0.067515, lr 1.844641e-04"
       ]
      },
      {
       "output_type": "stream",
       "stream": "stdout",
       "text": [
        "\n",
        "starting iteration  130\n",
        "Finished epoch 27 / 100: cost 0.099910, train: 0.050624, val 0.066802, lr 1.752409e-04"
       ]
      },
      {
       "output_type": "stream",
       "stream": "stdout",
       "text": [
        "\n",
        "Finished epoch 28 / 100: cost 0.089622, train: 0.050424, val 0.065890, lr 1.664788e-04"
       ]
      },
      {
       "output_type": "stream",
       "stream": "stdout",
       "text": [
        "\n",
        "starting iteration  140\n",
        "Finished epoch 29 / 100: cost 0.098530, train: 0.050101, val 0.066151, lr 1.581549e-04"
       ]
      },
      {
       "output_type": "stream",
       "stream": "stdout",
       "text": [
        "\n",
        "Finished epoch 30 / 100: cost 0.101743, train: 0.049825, val 0.066140, lr 1.502471e-04"
       ]
      },
      {
       "output_type": "stream",
       "stream": "stdout",
       "text": [
        "\n",
        "starting iteration  150\n",
        "Finished epoch 31 / 100: cost 0.092134, train: 0.049669, val 0.066564, lr 1.427348e-04"
       ]
      },
      {
       "output_type": "stream",
       "stream": "stdout",
       "text": [
        "\n",
        "Finished epoch 32 / 100: cost 0.092360, train: 0.049353, val 0.065681, lr 1.355980e-04"
       ]
      },
      {
       "output_type": "stream",
       "stream": "stdout",
       "text": [
        "\n",
        "starting iteration  160\n",
        "Finished epoch 33 / 100: cost 0.093929, train: 0.049338, val 0.066406, lr 1.288181e-04"
       ]
      },
      {
       "output_type": "stream",
       "stream": "stdout",
       "text": [
        "\n",
        "Finished epoch 34 / 100: cost 0.089543, train: 0.048911, val 0.064773, lr 1.223772e-04"
       ]
      },
      {
       "output_type": "stream",
       "stream": "stdout",
       "text": [
        "\n",
        "starting iteration  170\n",
        "Finished epoch 35 / 100: cost 0.114116, train: 0.048911, val 0.065528, lr 1.162584e-04"
       ]
      },
      {
       "output_type": "stream",
       "stream": "stdout",
       "text": [
        "\n",
        "Finished epoch 36 / 100: cost 0.092041, train: 0.048660, val 0.063491, lr 1.104455e-04"
       ]
      },
      {
       "output_type": "stream",
       "stream": "stdout",
       "text": [
        "\n",
        "starting iteration  180\n",
        "Finished epoch 37 / 100: cost 0.097218, train: 0.048472, val 0.064048, lr 1.049232e-04"
       ]
      },
      {
       "output_type": "stream",
       "stream": "stdout",
       "text": [
        "\n",
        "Finished epoch 38 / 100: cost 0.111428, train: 0.048269, val 0.063812, lr 9.967702e-05"
       ]
      },
      {
       "output_type": "stream",
       "stream": "stdout",
       "text": [
        "\n",
        "starting iteration  190\n",
        "Finished epoch 39 / 100: cost 0.103686, train: 0.048160, val 0.064084, lr 9.469317e-05"
       ]
      },
      {
       "output_type": "stream",
       "stream": "stdout",
       "text": [
        "\n",
        "Finished epoch 40 / 100: cost 0.097272, train: 0.048070, val 0.063157, lr 8.995851e-05"
       ]
      },
      {
       "output_type": "stream",
       "stream": "stdout",
       "text": [
        "\n",
        "starting iteration  200\n",
        "Finished epoch 41 / 100: cost 0.104211, train: 0.047875, val 0.063270, lr 8.546058e-05"
       ]
      },
      {
       "output_type": "stream",
       "stream": "stdout",
       "text": [
        "\n",
        "Finished epoch 42 / 100: cost 0.092027, train: 0.047772, val 0.062757, lr 8.118755e-05"
       ]
      },
      {
       "output_type": "stream",
       "stream": "stdout",
       "text": [
        "\n",
        "starting iteration  210\n",
        "Finished epoch 43 / 100: cost 0.103311, train: 0.047589, val 0.063397, lr 7.712818e-05"
       ]
      },
      {
       "output_type": "stream",
       "stream": "stdout",
       "text": [
        "\n",
        "Finished epoch 44 / 100: cost 0.106459, train: 0.047526, val 0.063763, lr 7.327177e-05"
       ]
      },
      {
       "output_type": "stream",
       "stream": "stdout",
       "text": [
        "\n",
        "starting iteration  220\n",
        "Finished epoch 45 / 100: cost 0.092458, train: 0.047437, val 0.063542, lr 6.960818e-05"
       ]
      },
      {
       "output_type": "stream",
       "stream": "stdout",
       "text": [
        "\n",
        "Finished epoch 46 / 100: cost 0.090055, train: 0.047316, val 0.063661, lr 6.612777e-05"
       ]
      },
      {
       "output_type": "stream",
       "stream": "stdout",
       "text": [
        "\n",
        "starting iteration  230\n",
        "Finished epoch 47 / 100: cost 0.085796, train: 0.047145, val 0.062874, lr 6.282138e-05"
       ]
      },
      {
       "output_type": "stream",
       "stream": "stdout",
       "text": [
        "\n",
        "Finished epoch 48 / 100: cost 0.100883, train: 0.047060, val 0.062551, lr 5.968031e-05"
       ]
      },
      {
       "output_type": "stream",
       "stream": "stdout",
       "text": [
        "\n",
        "starting iteration  240\n",
        "Finished epoch 49 / 100: cost 0.105074, train: 0.047014, val 0.061956, lr 5.669630e-05"
       ]
      },
      {
       "output_type": "stream",
       "stream": "stdout",
       "text": [
        "\n",
        "Finished epoch 50 / 100: cost 0.101178, train: 0.046857, val 0.062482, lr 5.386148e-05"
       ]
      },
      {
       "output_type": "stream",
       "stream": "stdout",
       "text": [
        "\n",
        "starting iteration  250\n",
        "Finished epoch 51 / 100: cost 0.095329, train: 0.046794, val 0.062959, lr 5.116841e-05"
       ]
      },
      {
       "output_type": "stream",
       "stream": "stdout",
       "text": [
        "\n",
        "Finished epoch 52 / 100: cost 0.096112, train: 0.046756, val 0.063118, lr 4.860999e-05"
       ]
      },
      {
       "output_type": "stream",
       "stream": "stdout",
       "text": [
        "\n",
        "starting iteration  260\n",
        "Finished epoch 53 / 100: cost 0.090982, train: 0.046638, val 0.061670, lr 4.617949e-05"
       ]
      },
      {
       "output_type": "stream",
       "stream": "stdout",
       "text": [
        "\n",
        "Finished epoch 54 / 100: cost 0.096853, train: 0.046515, val 0.062063, lr 4.387051e-05"
       ]
      },
      {
       "output_type": "stream",
       "stream": "stdout",
       "text": [
        "\n",
        "starting iteration  270\n",
        "Finished epoch 55 / 100: cost 0.090253, train: 0.046474, val 0.062550, lr 4.167699e-05"
       ]
      },
      {
       "output_type": "stream",
       "stream": "stdout",
       "text": [
        "\n",
        "Finished epoch 56 / 100: cost 0.096272, train: 0.046406, val 0.061526, lr 3.959314e-05"
       ]
      },
      {
       "output_type": "stream",
       "stream": "stdout",
       "text": [
        "\n",
        "starting iteration  280\n",
        "Finished epoch 57 / 100: cost 0.091805, train: 0.046305, val 0.062218, lr 3.761348e-05"
       ]
      },
      {
       "output_type": "stream",
       "stream": "stdout",
       "text": [
        "\n",
        "Finished epoch 58 / 100: cost 0.090601, train: 0.046258, val 0.061503, lr 3.573281e-05"
       ]
      },
      {
       "output_type": "stream",
       "stream": "stdout",
       "text": [
        "\n",
        "starting iteration  290\n",
        "Finished epoch 59 / 100: cost 0.091871, train: 0.046190, val 0.062223, lr 3.394617e-05"
       ]
      },
      {
       "output_type": "stream",
       "stream": "stdout",
       "text": [
        "\n",
        "Finished epoch 60 / 100: cost 0.099613, train: 0.046106, val 0.061366, lr 3.224886e-05"
       ]
      },
      {
       "output_type": "stream",
       "stream": "stdout",
       "text": [
        "\n",
        "starting iteration  300\n",
        "Finished epoch 61 / 100: cost 0.090912, train: 0.046047, val 0.062030, lr 3.063642e-05"
       ]
      },
      {
       "output_type": "stream",
       "stream": "stdout",
       "text": [
        "\n",
        "Finished epoch 62 / 100: cost 0.098623, train: 0.045997, val 0.061802, lr 2.910460e-05"
       ]
      },
      {
       "output_type": "stream",
       "stream": "stdout",
       "text": [
        "\n",
        "starting iteration  310\n",
        "Finished epoch 63 / 100: cost 0.098846, train: 0.045977, val 0.062362, lr 2.764937e-05"
       ]
      },
      {
       "output_type": "stream",
       "stream": "stdout",
       "text": [
        "\n",
        "Finished epoch 64 / 100: cost 0.092830, train: 0.045879, val 0.061730, lr 2.626690e-05"
       ]
      },
      {
       "output_type": "stream",
       "stream": "stdout",
       "text": [
        "\n",
        "starting iteration  320\n",
        "Finished epoch 65 / 100: cost 0.101091, train: 0.045834, val 0.061397, lr 2.495355e-05"
       ]
      },
      {
       "output_type": "stream",
       "stream": "stdout",
       "text": [
        "\n",
        "Finished epoch 66 / 100: cost 0.090658, train: 0.045780, val 0.061737, lr 2.370587e-05"
       ]
      },
      {
       "output_type": "stream",
       "stream": "stdout",
       "text": [
        "\n",
        "starting iteration  330\n",
        "Finished epoch 67 / 100: cost 0.097889, train: 0.045728, val 0.061445, lr 2.252058e-05"
       ]
      },
      {
       "output_type": "stream",
       "stream": "stdout",
       "text": [
        "\n",
        "Finished epoch 68 / 100: cost 0.100099, train: 0.045705, val 0.061176, lr 2.139455e-05"
       ]
      },
      {
       "output_type": "stream",
       "stream": "stdout",
       "text": [
        "\n",
        "starting iteration  340\n",
        "Finished epoch 69 / 100: cost 0.089340, train: 0.045647, val 0.061241, lr 2.032482e-05"
       ]
      },
      {
       "output_type": "stream",
       "stream": "stdout",
       "text": [
        "\n",
        "Finished epoch 70 / 100: cost 0.096512, train: 0.045598, val 0.061234, lr 1.930858e-05"
       ]
      },
      {
       "output_type": "stream",
       "stream": "stdout",
       "text": [
        "\n",
        "starting iteration  350\n",
        "Finished epoch 71 / 100: cost 0.093808, train: 0.045602, val 0.060589, lr 1.834315e-05"
       ]
      },
      {
       "output_type": "stream",
       "stream": "stdout",
       "text": [
        "\n",
        "Finished epoch 72 / 100: cost 0.095996, train: 0.045528, val 0.060921, lr 1.742600e-05"
       ]
      },
      {
       "output_type": "stream",
       "stream": "stdout",
       "text": [
        "\n",
        "starting iteration  360\n",
        "Finished epoch 73 / 100: cost 0.092454, train: 0.045493, val 0.061021, lr 1.655470e-05"
       ]
      },
      {
       "output_type": "stream",
       "stream": "stdout",
       "text": [
        "\n",
        "Finished epoch 74 / 100: cost 0.090158, train: 0.045465, val 0.061295, lr 1.572696e-05"
       ]
      },
      {
       "output_type": "stream",
       "stream": "stdout",
       "text": [
        "\n",
        "starting iteration  370\n",
        "Finished epoch 75 / 100: cost 0.099066, train: 0.045478, val 0.061643, lr 1.494061e-05"
       ]
      },
      {
       "output_type": "stream",
       "stream": "stdout",
       "text": [
        "\n",
        "Finished epoch 76 / 100: cost 0.084613, train: 0.045420, val 0.061511, lr 1.419358e-05"
       ]
      },
      {
       "output_type": "stream",
       "stream": "stdout",
       "text": [
        "\n",
        "starting iteration  380\n",
        "Finished epoch 77 / 100: cost 0.084569, train: 0.045366, val 0.061024, lr 1.348390e-05"
       ]
      },
      {
       "output_type": "stream",
       "stream": "stdout",
       "text": [
        "\n",
        "Finished epoch 78 / 100: cost 0.096175, train: 0.045356, val 0.060851, lr 1.280971e-05"
       ]
      },
      {
       "output_type": "stream",
       "stream": "stdout",
       "text": [
        "\n",
        "starting iteration  390\n",
        "Finished epoch 79 / 100: cost 0.092170, train: 0.045319, val 0.061087, lr 1.216922e-05"
       ]
      },
      {
       "output_type": "stream",
       "stream": "stdout",
       "text": [
        "\n",
        "Finished epoch 80 / 100: cost 0.088754, train: 0.045307, val 0.060790, lr 1.156076e-05"
       ]
      },
      {
       "output_type": "stream",
       "stream": "stdout",
       "text": [
        "\n",
        "starting iteration  400\n",
        "Finished epoch 81 / 100: cost 0.100011, train: 0.045274, val 0.060831, lr 1.098272e-05"
       ]
      },
      {
       "output_type": "stream",
       "stream": "stdout",
       "text": [
        "\n",
        "Finished epoch 82 / 100: cost 0.099006, train: 0.045245, val 0.061072, lr 1.043359e-05"
       ]
      },
      {
       "output_type": "stream",
       "stream": "stdout",
       "text": [
        "\n",
        "starting iteration  410\n",
        "Finished epoch 83 / 100: cost 0.094616, train: 0.045223, val 0.061173, lr 9.911908e-06"
       ]
      },
      {
       "output_type": "stream",
       "stream": "stdout",
       "text": [
        "\n",
        "Finished epoch 84 / 100: cost 0.095146, train: 0.045211, val 0.061126, lr 9.416313e-06"
       ]
      },
      {
       "output_type": "stream",
       "stream": "stdout",
       "text": [
        "\n",
        "starting iteration  420\n",
        "Finished epoch 85 / 100: cost 0.088789, train: 0.045207, val 0.061227, lr 8.945497e-06"
       ]
      },
      {
       "output_type": "stream",
       "stream": "stdout",
       "text": [
        "\n",
        "Finished epoch 86 / 100: cost 0.095526, train: 0.045199, val 0.061381, lr 8.498222e-06"
       ]
      },
      {
       "output_type": "stream",
       "stream": "stdout",
       "text": [
        "\n",
        "starting iteration  430\n",
        "Finished epoch 87 / 100: cost 0.094916, train: 0.045151, val 0.060737, lr 8.073311e-06"
       ]
      },
      {
       "output_type": "stream",
       "stream": "stdout",
       "text": [
        "\n",
        "Finished epoch 88 / 100: cost 0.098954, train: 0.045131, val 0.060873, lr 7.669646e-06"
       ]
      },
      {
       "output_type": "stream",
       "stream": "stdout",
       "text": [
        "\n",
        "starting iteration  440\n",
        "Finished epoch 89 / 100: cost 0.090790, train: 0.045105, val 0.060773, lr 7.286163e-06"
       ]
      },
      {
       "output_type": "stream",
       "stream": "stdout",
       "text": [
        "\n",
        "Finished epoch 90 / 100: cost 0.090404, train: 0.045082, val 0.060909, lr 6.921855e-06"
       ]
      },
      {
       "output_type": "stream",
       "stream": "stdout",
       "text": [
        "\n",
        "starting iteration  450\n",
        "Finished epoch 91 / 100: cost 0.086736, train: 0.045077, val 0.061064, lr 6.575763e-06"
       ]
      },
      {
       "output_type": "stream",
       "stream": "stdout",
       "text": [
        "\n",
        "Finished epoch 92 / 100: cost 0.083747, train: 0.045065, val 0.061084, lr 6.246974e-06"
       ]
      },
      {
       "output_type": "stream",
       "stream": "stdout",
       "text": [
        "\n",
        "starting iteration  460\n",
        "Finished epoch 93 / 100: cost 0.098084, train: 0.045037, val 0.060754, lr 5.934626e-06"
       ]
      },
      {
       "output_type": "stream",
       "stream": "stdout",
       "text": [
        "\n",
        "Finished epoch 94 / 100: cost 0.097787, train: 0.045035, val 0.060958, lr 5.637894e-06"
       ]
      },
      {
       "output_type": "stream",
       "stream": "stdout",
       "text": [
        "\n",
        "starting iteration  470\n",
        "Finished epoch 95 / 100: cost 0.094522, train: 0.045024, val 0.061044, lr 5.356000e-06"
       ]
      },
      {
       "output_type": "stream",
       "stream": "stdout",
       "text": [
        "\n",
        "Finished epoch 96 / 100: cost 0.094287, train: 0.044994, val 0.060832, lr 5.088200e-06"
       ]
      },
      {
       "output_type": "stream",
       "stream": "stdout",
       "text": [
        "\n",
        "starting iteration  480\n",
        "Finished epoch 97 / 100: cost 0.093863, train: 0.044981, val 0.060798, lr 4.833790e-06"
       ]
      },
      {
       "output_type": "stream",
       "stream": "stdout",
       "text": [
        "\n",
        "Finished epoch 98 / 100: cost 0.088800, train: 0.044967, val 0.060830, lr 4.592100e-06"
       ]
      },
      {
       "output_type": "stream",
       "stream": "stdout",
       "text": [
        "\n",
        "starting iteration  490\n",
        "Finished epoch 99 / 100: cost 0.088739, train: 0.044963, val 0.060938, lr 4.362495e-06"
       ]
      },
      {
       "output_type": "stream",
       "stream": "stdout",
       "text": [
        "\n",
        "Finished epoch 100 / 100: cost 0.090954, train: 0.044942, val 0.060803, lr 4.144370e-06"
       ]
      },
      {
       "output_type": "stream",
       "stream": "stdout",
       "text": [
        "\n",
        "finished optimization. best validation accuracy: 0.060589\n"
       ]
      }
     ],
     "prompt_number": 256
    },
    {
     "cell_type": "code",
     "collapsed": false,
     "input": [
      "plt.plot(train_acc_hist[15:])\n",
      "plt.plot(val_acc_hist[15:])"
     ],
     "language": "python",
     "metadata": {},
     "outputs": [
      {
       "metadata": {},
       "output_type": "pyout",
       "prompt_number": 246,
       "text": [
        "[<matplotlib.lines.Line2D at 0x121e7f7d0>]"
       ]
      },
      {
       "metadata": {},
       "output_type": "display_data",
       "png": "[encoded data removed]",
       "text": [
        "<matplotlib.figure.Figure at 0x1223d26d0>"
       ]
      }
     ],
     "prompt_number": 246
    },
    {
     "cell_type": "markdown",
     "metadata": {},
     "source": [
      "## Visualize Results"
     ]
    },
    {
     "cell_type": "code",
     "collapsed": false,
     "input": [
      "y_pred = convnet.predict(X_val)\n",
      "ix = 1\n",
      "X_val.shape"
     ],
     "language": "python",
     "metadata": {},
     "outputs": [
      {
       "metadata": {},
       "output_type": "pyout",
       "prompt_number": 247,
       "text": [
        "(66, 3, 46, 80)"
       ]
      }
     ],
     "prompt_number": 247
    },
    {
     "cell_type": "code",
     "collapsed": false,
     "input": [
      "%timeit convnet.predict(X_val[:2,:,:,:])"
     ],
     "language": "python",
     "metadata": {},
     "outputs": [
      {
       "output_type": "stream",
       "stream": "stdout",
       "text": [
        "100 loops, best of 3: 2.25 ms per loop\n"
       ]
      }
     ],
     "prompt_number": 242
    },
    {
     "cell_type": "code",
     "collapsed": false,
     "input": [
      "ix += 1\n",
      "img = X_val[ix,:,:,:].copy().transpose(1, 2, 0)\n",
      "from convcube.cv.keypoints import denormalize_points\n",
      "from convcube.cv.keypoints import array2tuples\n",
      "\n",
      "# pts = array2tuples(y_pred[ix,:])\n",
      "pts = y_val[ix,:]\n",
      "print pts\n",
      "pts = [[pts[0], pts[1]]]\n",
      "pts = denormalize_points(pts, img)\n",
      "print pts\n",
      "for pt in pts:\n",
      "    img[pt[1]-2:pt[1]+2, pt[0]-2:pt[0]+2, :]  = (0, 255, 0)\n",
      "plt.imshow(img[:,:,::-1], cmap=plt.cm.gray)"
     ],
     "language": "python",
     "metadata": {},
     "outputs": [
      {
       "output_type": "stream",
       "stream": "stdout",
       "text": [
        "[ 0.33571429  0.52314814]\n",
        "[(26, 24)]\n"
       ]
      },
      {
       "metadata": {},
       "output_type": "pyout",
       "prompt_number": 252,
       "text": [
        "<matplotlib.image.AxesImage at 0x11d9454d0>"
       ]
      },
      {
       "metadata": {},
       "output_type": "display_data",
       "png": "[encoded data removed]",
       "text": [
        "<matplotlib.figure.Figure at 0x11d88bb90>"
       ]
      }
     ],
     "prompt_number": 252
    },
    {
     "cell_type": "code",
     "collapsed": false,
     "input": [
      "img = X_train[ix,:,:,:].copy()\n",
      "img = img.sum(axis=0)\n",
      "plt.imshow(img, cmap=plt.cm.gray)\n",
      "ix += 1"
     ],
     "language": "python",
     "metadata": {},
     "outputs": []
    }
   ],
   "metadata": {}
  }
 ]
}