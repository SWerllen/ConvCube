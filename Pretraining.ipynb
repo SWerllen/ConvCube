{
 "metadata": {
  "name": "",
  "signature": "sha256:7d5a7abc720539fe19356e2a69a5106d7c256c12ba9bea78d038f18e77442a54"
 },
 "nbformat": 3,
 "nbformat_minor": 0,
 "worksheets": [
  {
   "cells": [
    {
     "cell_type": "code",
     "collapsed": false,
     "input": [
      "# for auto-reloading extenrnal modules\n",
      "# see http://stackoverflow.com/questions/1907993/autoreload-of-modules-in-ipython\n",
      "%load_ext autoreload\n",
      "%autoreload 2\n",
      "import os\n",
      "import sys\n",
      "sys.path.insert(0, './') #for faster development\n",
      "import pickle\n",
      "import numpy as np\n",
      "import cv2\n",
      "import matplotlib.pyplot as plt\n",
      "%pylab inline\n",
      "from convcube.cs231n.data_utils import load_tiny_imagenet\n",
      "from convcube.convnets.euclidean import EuclideanConvNet"
     ],
     "language": "python",
     "metadata": {},
     "outputs": [
      {
       "output_type": "stream",
       "stream": "stdout",
       "text": [
        "The autoreload extension is already loaded. To reload it, use:\n",
        "  %reload_ext autoreload\n",
        "Populating the interactive namespace from numpy and matplotlib\n"
       ]
      }
     ],
     "prompt_number": 4
    },
    {
     "cell_type": "markdown",
     "metadata": {},
     "source": [
      "## I. Get Data"
     ]
    },
    {
     "cell_type": "code",
     "collapsed": false,
     "input": [
      "imagenet_path = './convcube/cs231n/datasets/tiny-imagenet-100-A'\n",
      "class_names, X_train, y_train, X_val, y_val, X_test, y_test = load_tiny_imagenet(imagenet_path)\n",
      "print 'Train data shape: ', X_train.shape\n",
      "print 'Train labels shape: ', y_train.shape\n",
      "print 'Validation data shape: ', X_val.shape\n",
      "print 'Validation labels shape: ', y_val.shape\n",
      "print 'Test data shape: ', X_test.shape"
     ],
     "language": "python",
     "metadata": {},
     "outputs": [
      {
       "output_type": "stream",
       "stream": "stdout",
       "text": [
        "loading training data for synset 20 / 100\n",
        "loading training data for synset 40 / 100"
       ]
      },
      {
       "output_type": "stream",
       "stream": "stdout",
       "text": [
        "\n",
        "loading training data for synset 60 / 100"
       ]
      },
      {
       "output_type": "stream",
       "stream": "stdout",
       "text": [
        "\n",
        "loading training data for synset 80 / 100"
       ]
      },
      {
       "output_type": "stream",
       "stream": "stdout",
       "text": [
        "\n",
        "loading training data for synset 100 / 100"
       ]
      },
      {
       "output_type": "stream",
       "stream": "stdout",
       "text": [
        "\n",
        "Train data shape: "
       ]
      },
      {
       "output_type": "stream",
       "stream": "stdout",
       "text": [
        " (50000, 3, 64, 64)\n",
        "Train labels shape:  (50000,)\n",
        "Validation data shape:  (5000, 3, 64, 64)\n",
        "Validation labels shape:  (5000,)\n",
        "Test data shape:  (5000, 3, 64, 64)\n"
       ]
      }
     ],
     "prompt_number": 3
    },
    {
     "cell_type": "markdown",
     "metadata": {},
     "source": [
      "## II. Get Model"
     ]
    },
    {
     "cell_type": "code",
     "collapsed": false,
     "input": [
      "#=====[ TRAIN MODEL ]=====\n",
      "#*****\n",
      "convnet = EuclideanConvNet()\n",
      "model = convnet.init_pretrain_convnet()\n",
      "model, loss_hist, train_acc_hist, val_acc_hist = convnet.pretrain(X_train, y_train, X_val, y_val)\n",
      "pretrained_model = model\n",
      "model_path = os.path.join(models_path, 'pretrained/convnet_10.pkl')\n",
      "pickle.dump(pretrained_model, open(model_path, 'w'))\n",
      "#*****"
     ],
     "language": "python",
     "metadata": {},
     "outputs": []
    }
   ],
   "metadata": {}
  }
 ]
}