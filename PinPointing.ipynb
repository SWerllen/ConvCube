{
 "metadata": {
  "name": "",
  "signature": "sha256:67f7e77642188d5ad7471ca3193b89040c045f2ce74e48673c9b36a0dd3a363a"
 },
 "nbformat": 3,
 "nbformat_minor": 0,
 "worksheets": [
  {
   "cells": [
    {
     "cell_type": "code",
     "collapsed": false,
     "input": [
      "# for auto-reloading extenrnal modules\n",
      "# see http://stackoverflow.com/questions/1907993/autoreload-of-modules-in-ipython\n",
      "%load_ext autoreload\n",
      "%autoreload 2\n",
      "\n",
      "#=====[ Standard + Math ]=====\n",
      "import os\n",
      "import sys\n",
      "sys.path.insert(0, './') #for faster development\n",
      "import pickle\n",
      "import numpy as np\n",
      "import cv2\n",
      "import matplotlib.pyplot as plt\n",
      "%pylab inline\n",
      "\n",
      "#=====[ ModalDB ]=====\n",
      "from ModalDB import ModalClient\n",
      "from ModalDB import Video\n",
      "from ModalDB import Frame\n",
      "\n",
      "#=====[ convcube ]=====\n",
      "from convcube.db import dbschema\n",
      "from convcube.convnets.pinpointing import load_dataset_pinpointing\n",
      "from convcube.convnets.euclidean import EuclideanConvNet\n",
      "from convcube import ConvNetCube\n",
      "\n",
      "#=====[ setup client ]=====\n",
      "client = ModalClient('./data/db', schema=dbschema)\n",
      "models_path = './models/localization'"
     ],
     "language": "python",
     "metadata": {},
     "outputs": [
      {
       "output_type": "stream",
       "stream": "stdout",
       "text": [
        "The autoreload extension is already loaded. To reload it, use:\n",
        "  %reload_ext autoreload\n",
        "Populating the interactive namespace from numpy and matplotlib\n"
       ]
      }
     ],
     "prompt_number": 2
    },
    {
     "cell_type": "markdown",
     "metadata": {},
     "source": [
      "## Get Data"
     ]
    },
    {
     "cell_type": "code",
     "collapsed": false,
     "input": [
      "X_train, X_val, y_train, y_val = load_dataset_pinpointing(client, 'or', train_size=0.9)\n",
      "print 'Train data shape: ', X_train.shape\n",
      "print 'Train labels shape: ', y_train.shape\n",
      "print 'Validation data shape: ', X_val.shape\n",
      "print 'Validation labels shape: ', y_val.shape"
     ],
     "language": "python",
     "metadata": {},
     "outputs": [
      {
       "output_type": "stream",
       "stream": "stdout",
       "text": [
        "Train data shape:  (586, 3, 46, 80)\n",
        "Train labels shape:  (586, 2)\n",
        "Validation data shape:  (66, 3, 46, 80)\n",
        "Validation labels shape:  (66, 2)\n"
       ]
      }
     ],
     "prompt_number": 5
    },
    {
     "cell_type": "markdown",
     "metadata": {},
     "source": [
      "## Get Pretrained Model"
     ]
    },
    {
     "cell_type": "code",
     "collapsed": false,
     "input": [
      "#=====[ LOAD MODEL ]=====\n",
      "#*****\n",
      "model_path = os.path.join(models_path, 'pretrained/convnet_10s.pkl')\n",
      "pretrained_model = pickle.load(open(model_path))\n",
      "#*****"
     ],
     "language": "python",
     "metadata": {},
     "outputs": [],
     "prompt_number": 6
    },
    {
     "cell_type": "markdown",
     "metadata": {},
     "source": [
      "## Transfer Learning"
     ]
    },
    {
     "cell_type": "code",
     "collapsed": false,
     "input": [
      "#=====[ LOAD MODEL ]=====\n",
      "#*****\n",
      "convnet = HeatmapConvNet()\n",
      "convnet.load('models/localization/10s.loc_convnet')\n",
      "#*****"
     ],
     "language": "python",
     "metadata": {},
     "outputs": [],
     "prompt_number": 183
    },
    {
     "cell_type": "code",
     "collapsed": false,
     "input": [
      "#=====[ TRAIN MODEL ]=====\n",
      "#*****\n",
      "convnet = EuclideanConvNet(pretrained_model=pretrained_model, size_out=2)\n",
      "out = convnet.train(X_train, y_train, X_val, y_val,\n",
      "                    batch_size=100,\n",
      "                    num_epochs=100,\n",
      "                    learning_rate=0.0005,\n",
      "                    learning_rate_decay=0.95)\n",
      "model, loss_hist, train_acc_hist, val_acc_hist = out\n",
      "convnet.save('models/heatmapping/10s.hmp_convnet')\n",
      "#*****"
     ],
     "language": "python",
     "metadata": {},
     "outputs": [
      {
       "output_type": "stream",
       "stream": "stdout",
       "text": [
        "starting iteration  0\n",
        "Finished epoch 0 / 100: cost 0.470195, train: 10163.555236, val 10534.474722, lr 5.000000e-04"
       ]
      },
      {
       "output_type": "stream",
       "stream": "stdout",
       "text": [
        "\n",
        "Finished epoch 1 / 100: cost 0.293975, train: 0.346089, val 0.296646, lr 4.750000e-04"
       ]
      },
      {
       "output_type": "stream",
       "stream": "stdout",
       "text": [
        "\n",
        "Finished epoch 2 / 100: cost 0.279612, train: 0.329885, val 0.280599, lr 4.512500e-04"
       ]
      },
      {
       "output_type": "stream",
       "stream": "stdout",
       "text": [
        "\n",
        "starting iteration  10\n",
        "Finished epoch 3 / 100: cost 0.273527, train: 0.314700, val 0.265825, lr 4.286875e-04"
       ]
      },
      {
       "output_type": "stream",
       "stream": "stdout",
       "text": [
        "\n",
        "Finished epoch 4 / 100: cost 0.264498, train: 0.301721, val 0.253480, lr 4.072531e-04"
       ]
      },
      {
       "output_type": "stream",
       "stream": "stdout",
       "text": [
        "\n",
        "starting iteration  20\n",
        "Finished epoch 5 / 100: cost 0.263669, train: 0.289186, val 0.241640, lr 3.868905e-04"
       ]
      },
      {
       "output_type": "stream",
       "stream": "stdout",
       "text": [
        "\n",
        "Finished epoch 6 / 100: cost 0.255121, train: 0.277759, val 0.231088, lr 3.675459e-04"
       ]
      },
      {
       "output_type": "stream",
       "stream": "stdout",
       "text": [
        "\n",
        "starting iteration  30\n",
        "Finished epoch 7 / 100: cost 0.242502, train: 0.267228, val 0.221557, lr 3.491686e-04"
       ]
      },
      {
       "output_type": "stream",
       "stream": "stdout",
       "text": [
        "\n",
        "Finished epoch 8 / 100: cost 0.249523, train: 0.257808, val 0.213089, lr 3.317102e-04"
       ]
      },
      {
       "output_type": "stream",
       "stream": "stdout",
       "text": [
        "\n",
        "starting iteration  40\n",
        "Finished epoch 9 / 100: cost 0.231510, train: 0.248746, val 0.205041, lr 3.151247e-04"
       ]
      },
      {
       "output_type": "stream",
       "stream": "stdout",
       "text": [
        "\n",
        "Finished epoch 10 / 100: cost 0.232319, train: 0.240636, val 0.197948, lr 2.993685e-04"
       ]
      },
      {
       "output_type": "stream",
       "stream": "stdout",
       "text": [
        "\n",
        "starting iteration  50\n",
        "Finished epoch 11 / 100: cost 0.230401, train: 0.232968, val 0.191349, lr 2.844000e-04"
       ]
      },
      {
       "output_type": "stream",
       "stream": "stdout",
       "text": [
        "\n",
        "Finished epoch 12 / 100: cost 0.218703, train: 0.225760, val 0.185279, lr 2.701800e-04"
       ]
      },
      {
       "output_type": "stream",
       "stream": "stdout",
       "text": [
        "\n",
        "starting iteration  60\n",
        "Finished epoch 13 / 100: cost 0.215649, train: 0.219248, val 0.179892, lr 2.566710e-04"
       ]
      },
      {
       "output_type": "stream",
       "stream": "stdout",
       "text": [
        "\n",
        "Finished epoch 14 / 100: cost 0.225555, train: 0.213210, val 0.174939, lr 2.438375e-04"
       ]
      },
      {
       "output_type": "stream",
       "stream": "stdout",
       "text": [
        "\n",
        "starting iteration  70\n",
        "Finished epoch 15 / 100: cost 0.222513, train: 0.207876, val 0.170605, lr 2.316456e-04"
       ]
      },
      {
       "output_type": "stream",
       "stream": "stdout",
       "text": [
        "\n",
        "Finished epoch 16 / 100: cost 0.199394, train: 0.202737, val 0.166513, lr 2.200633e-04"
       ]
      },
      {
       "output_type": "stream",
       "stream": "stdout",
       "text": [
        "\n",
        "starting iteration  80\n",
        "Finished epoch 17 / 100: cost 0.216201, train: 0.198183, val 0.162914, lr 2.090602e-04"
       ]
      },
      {
       "output_type": "stream",
       "stream": "stdout",
       "text": [
        "\n",
        "Finished epoch 18 / 100: cost 0.203301, train: 0.193844, val 0.159575, lr 1.986072e-04"
       ]
      },
      {
       "output_type": "stream",
       "stream": "stdout",
       "text": [
        "\n",
        "starting iteration  90\n",
        "Finished epoch 19 / 100: cost 0.205739, train: 0.189990, val 0.156611, lr 1.886768e-04"
       ]
      },
      {
       "output_type": "stream",
       "stream": "stdout",
       "text": [
        "\n",
        "Finished epoch 20 / 100: cost 0.197696, train: 0.186642, val 0.154040, lr 1.792430e-04"
       ]
      },
      {
       "output_type": "stream",
       "stream": "stdout",
       "text": [
        "\n",
        "starting iteration  100\n",
        "Finished epoch 21 / 100: cost 0.201833, train: 0.183390, val 0.151588, lr 1.702808e-04"
       ]
      },
      {
       "output_type": "stream",
       "stream": "stdout",
       "text": [
        "\n",
        "Finished epoch 22 / 100: cost 0.206487, train: 0.180453, val 0.149376, lr 1.617668e-04"
       ]
      },
      {
       "output_type": "stream",
       "stream": "stdout",
       "text": [
        "\n",
        "starting iteration  110\n",
        "Finished epoch 23 / 100: cost 0.193978, train: 0.177617, val 0.147253, lr 1.536784e-04"
       ]
      },
      {
       "output_type": "stream",
       "stream": "stdout",
       "text": [
        "\n",
        "Finished epoch 24 / 100: cost 0.185499, train: 0.175062, val 0.145348, lr 1.459945e-04"
       ]
      },
      {
       "output_type": "stream",
       "stream": "stdout",
       "text": [
        "\n",
        "starting iteration  120\n",
        "Finished epoch 25 / 100: cost 0.195640, train: 0.172530, val 0.143501, lr 1.386948e-04"
       ]
      },
      {
       "output_type": "stream",
       "stream": "stdout",
       "text": [
        "\n",
        "Finished epoch 26 / 100: cost 0.207443, train: 0.170261, val 0.141842, lr 1.317600e-04"
       ]
      },
      {
       "output_type": "stream",
       "stream": "stdout",
       "text": [
        "\n",
        "starting iteration  130\n",
        "Finished epoch 27 / 100: cost 0.200149, train: 0.168048, val 0.140248, lr 1.251720e-04"
       ]
      },
      {
       "output_type": "stream",
       "stream": "stdout",
       "text": [
        "\n",
        "Finished epoch 28 / 100: cost 0.191073, train: 0.166050, val 0.138817, lr 1.189134e-04"
       ]
      },
      {
       "output_type": "stream",
       "stream": "stdout",
       "text": [
        "\n",
        "starting iteration  140\n",
        "Finished epoch 29 / 100: cost 0.206300, train: 0.164113, val 0.137457, lr 1.129678e-04"
       ]
      },
      {
       "output_type": "stream",
       "stream": "stdout",
       "text": [
        "\n",
        "Finished epoch 30 / 100: cost 0.174330, train: 0.162370, val 0.136223, lr 1.073194e-04"
       ]
      },
      {
       "output_type": "stream",
       "stream": "stdout",
       "text": [
        "\n",
        "starting iteration  150\n",
        "Finished epoch 31 / 100: cost 0.186360, train: 0.160657, val 0.135038, lr 1.019534e-04"
       ]
      },
      {
       "output_type": "stream",
       "stream": "stdout",
       "text": [
        "\n",
        "Finished epoch 32 / 100: cost 0.178105, train: 0.159044, val 0.133923, lr 9.685574e-05"
       ]
      },
      {
       "output_type": "stream",
       "stream": "stdout",
       "text": [
        "\n",
        "starting iteration  160\n",
        "Finished epoch 33 / 100: cost 0.179620, train: 0.157556, val 0.132916, lr 9.201296e-05"
       ]
      },
      {
       "output_type": "stream",
       "stream": "stdout",
       "text": [
        "\n",
        "Finished epoch 34 / 100: cost 0.176579, train: 0.156170, val 0.131976, lr 8.741231e-05"
       ]
      },
      {
       "output_type": "stream",
       "stream": "stdout",
       "text": [
        "\n",
        "starting iteration  170\n",
        "Finished epoch 35 / 100: cost 0.185176, train: 0.154883, val 0.131107, lr 8.304169e-05"
       ]
      },
      {
       "output_type": "stream",
       "stream": "stdout",
       "text": [
        "\n",
        "Finished epoch 36 / 100: cost 0.173362, train: 0.153648, val 0.130258, lr 7.888961e-05"
       ]
      },
      {
       "output_type": "stream",
       "stream": "stdout",
       "text": [
        "\n",
        "starting iteration  180\n",
        "Finished epoch 37 / 100: cost 0.179325, train: 0.152348, val 0.129414, lr 7.494513e-05"
       ]
      },
      {
       "output_type": "stream",
       "stream": "stdout",
       "text": [
        "\n",
        "Finished epoch 38 / 100: cost 0.178271, train: 0.151216, val 0.128662, lr 7.119787e-05"
       ]
      },
      {
       "output_type": "stream",
       "stream": "stdout",
       "text": [
        "\n",
        "starting iteration  190\n",
        "Finished epoch 39 / 100: cost 0.180277, train: 0.150143, val 0.127954, lr 6.763798e-05"
       ]
      },
      {
       "output_type": "stream",
       "stream": "stdout",
       "text": [
        "\n",
        "Finished epoch 40 / 100: cost 0.175698, train: 0.149097, val 0.127280, lr 6.425608e-05"
       ]
      },
      {
       "output_type": "stream",
       "stream": "stdout",
       "text": [
        "\n",
        "starting iteration  200\n",
        "Finished epoch 41 / 100: cost 0.192269, train: 0.148070, val 0.126604, lr 6.104327e-05"
       ]
      },
      {
       "output_type": "stream",
       "stream": "stdout",
       "text": [
        "\n",
        "Finished epoch 42 / 100: cost 0.188029, train: 0.147175, val 0.126013, lr 5.799111e-05"
       ]
      },
      {
       "output_type": "stream",
       "stream": "stdout",
       "text": [
        "\n",
        "starting iteration  210\n",
        "Finished epoch 43 / 100: cost 0.173458, train: 0.146290, val 0.125459, lr 5.509156e-05"
       ]
      },
      {
       "output_type": "stream",
       "stream": "stdout",
       "text": [
        "\n",
        "Finished epoch 44 / 100: cost 0.169217, train: 0.145427, val 0.124907, lr 5.233698e-05"
       ]
      },
      {
       "output_type": "stream",
       "stream": "stdout",
       "text": [
        "\n",
        "starting iteration  220\n",
        "Finished epoch 45 / 100: cost 0.178010, train: 0.144669, val 0.124415, lr 4.972013e-05"
       ]
      },
      {
       "output_type": "stream",
       "stream": "stdout",
       "text": [
        "\n",
        "Finished epoch 46 / 100: cost 0.167995, train: 0.143910, val 0.123929, lr 4.723412e-05"
       ]
      },
      {
       "output_type": "stream",
       "stream": "stdout",
       "text": [
        "\n",
        "starting iteration  230\n",
        "Finished epoch 47 / 100: cost 0.182801, train: 0.143146, val 0.123449, lr 4.487242e-05"
       ]
      },
      {
       "output_type": "stream",
       "stream": "stdout",
       "text": [
        "\n",
        "Finished epoch 48 / 100: cost 0.181679, train: 0.142409, val 0.122995, lr 4.262880e-05"
       ]
      },
      {
       "output_type": "stream",
       "stream": "stdout",
       "text": [
        "\n",
        "starting iteration  240\n",
        "Finished epoch 49 / 100: cost 0.177421, train: 0.141752, val 0.122580, lr 4.049736e-05"
       ]
      },
      {
       "output_type": "stream",
       "stream": "stdout",
       "text": [
        "\n",
        "Finished epoch 50 / 100: cost 0.185298, train: 0.141103, val 0.122169, lr 3.847249e-05"
       ]
      },
      {
       "output_type": "stream",
       "stream": "stdout",
       "text": [
        "\n",
        "starting iteration  250\n",
        "Finished epoch 51 / 100: cost 0.168314, train: 0.140450, val 0.121782, lr 3.654886e-05"
       ]
      },
      {
       "output_type": "stream",
       "stream": "stdout",
       "text": [
        "\n",
        "Finished epoch 52 / 100: cost 0.183886, train: 0.139813, val 0.121376, lr 3.472142e-05"
       ]
      },
      {
       "output_type": "stream",
       "stream": "stdout",
       "text": [
        "\n",
        "starting iteration  260\n",
        "Finished epoch 53 / 100: cost 0.178919, train: 0.139208, val 0.121015, lr 3.298535e-05"
       ]
      },
      {
       "output_type": "stream",
       "stream": "stdout",
       "text": [
        "\n",
        "Finished epoch 54 / 100: cost 0.174027, train: 0.138627, val 0.120656, lr 3.133608e-05"
       ]
      },
      {
       "output_type": "stream",
       "stream": "stdout",
       "text": [
        "\n",
        "starting iteration  270\n",
        "Finished epoch 55 / 100: cost 0.155951, train: 0.138140, val 0.120336, lr 2.976928e-05"
       ]
      },
      {
       "output_type": "stream",
       "stream": "stdout",
       "text": [
        "\n",
        "Finished epoch 56 / 100: cost 0.164211, train: 0.137578, val 0.119994, lr 2.828081e-05"
       ]
      },
      {
       "output_type": "stream",
       "stream": "stdout",
       "text": [
        "\n",
        "starting iteration  280\n",
        "Finished epoch 57 / 100: cost 0.159442, train: 0.137091, val 0.119682, lr 2.686677e-05"
       ]
      },
      {
       "output_type": "stream",
       "stream": "stdout",
       "text": [
        "\n",
        "Finished epoch 58 / 100: cost 0.179793, train: 0.136650, val 0.119410, lr 2.552343e-05"
       ]
      },
      {
       "output_type": "stream",
       "stream": "stdout",
       "text": [
        "\n",
        "starting iteration  290\n",
        "Finished epoch 59 / 100: cost 0.175705, train: 0.136195, val 0.119121, lr 2.424726e-05"
       ]
      },
      {
       "output_type": "stream",
       "stream": "stdout",
       "text": [
        "\n",
        "Finished epoch 60 / 100: cost 0.162203, train: 0.135731, val 0.118854, lr 2.303490e-05"
       ]
      },
      {
       "output_type": "stream",
       "stream": "stdout",
       "text": [
        "\n",
        "starting iteration  300\n",
        "Finished epoch 61 / 100: cost 0.174108, train: 0.135352, val 0.118592, lr 2.188315e-05"
       ]
      },
      {
       "output_type": "stream",
       "stream": "stdout",
       "text": [
        "\n",
        "Finished epoch 62 / 100: cost 0.165573, train: 0.134975, val 0.118367, lr 2.078900e-05"
       ]
      },
      {
       "output_type": "stream",
       "stream": "stdout",
       "text": [
        "\n",
        "starting iteration  310\n",
        "Finished epoch 63 / 100: cost 0.176683, train: 0.134575, val 0.118128, lr 1.974955e-05"
       ]
      },
      {
       "output_type": "stream",
       "stream": "stdout",
       "text": [
        "\n",
        "Finished epoch 64 / 100: cost 0.167382, train: 0.134209, val 0.117908, lr 1.876207e-05"
       ]
      },
      {
       "output_type": "stream",
       "stream": "stdout",
       "text": [
        "\n",
        "starting iteration  320\n",
        "Finished epoch 65 / 100: cost 0.183742, train: 0.133831, val 0.117698, lr 1.782397e-05"
       ]
      },
      {
       "output_type": "stream",
       "stream": "stdout",
       "text": [
        "\n",
        "Finished epoch 66 / 100: cost 0.172279, train: 0.133471, val 0.117473, lr 1.693277e-05"
       ]
      },
      {
       "output_type": "stream",
       "stream": "stdout",
       "text": [
        "\n",
        "starting iteration  330\n",
        "Finished epoch 67 / 100: cost 0.162724, train: 0.133117, val 0.117265, lr 1.608613e-05"
       ]
      },
      {
       "output_type": "stream",
       "stream": "stdout",
       "text": [
        "\n",
        "Finished epoch 68 / 100: cost 0.173560, train: 0.132771, val 0.117052, lr 1.528182e-05"
       ]
      },
      {
       "output_type": "stream",
       "stream": "stdout",
       "text": [
        "\n",
        "starting iteration  340\n",
        "Finished epoch 69 / 100: cost 0.165244, train: 0.132464, val 0.116859, lr 1.451773e-05"
       ]
      },
      {
       "output_type": "stream",
       "stream": "stdout",
       "text": [
        "\n",
        "Finished epoch 70 / 100: cost 0.171354, train: 0.132173, val 0.116696, lr 1.379185e-05"
       ]
      },
      {
       "output_type": "stream",
       "stream": "stdout",
       "text": [
        "\n",
        "starting iteration  350\n",
        "Finished epoch 71 / 100: cost 0.165576, train: 0.131885, val 0.116522, lr 1.310225e-05"
       ]
      },
      {
       "output_type": "stream",
       "stream": "stdout",
       "text": [
        "\n",
        "Finished epoch 72 / 100: cost 0.176472, train: 0.131591, val 0.116340, lr 1.244714e-05"
       ]
      },
      {
       "output_type": "stream",
       "stream": "stdout",
       "text": [
        "\n",
        "starting iteration  360\n",
        "Finished epoch 73 / 100: cost 0.169373, train: 0.131321, val 0.116170, lr 1.182478e-05"
       ]
      },
      {
       "output_type": "stream",
       "stream": "stdout",
       "text": [
        "\n",
        "Finished epoch 74 / 100: cost 0.171651, train: 0.131063, val 0.116017, lr 1.123354e-05"
       ]
      },
      {
       "output_type": "stream",
       "stream": "stdout",
       "text": [
        "\n",
        "starting iteration  370\n",
        "Finished epoch 75 / 100: cost 0.175768, train: 0.130805, val 0.115867, lr 1.067187e-05"
       ]
      },
      {
       "output_type": "stream",
       "stream": "stdout",
       "text": [
        "\n",
        "Finished epoch 76 / 100: cost 0.168056, train: 0.130565, val 0.115713, lr 1.013827e-05"
       ]
      },
      {
       "output_type": "stream",
       "stream": "stdout",
       "text": [
        "\n",
        "starting iteration  380\n",
        "Finished epoch 77 / 100: cost 0.155735, train: 0.130346, val 0.115576, lr 9.631360e-06"
       ]
      },
      {
       "output_type": "stream",
       "stream": "stdout",
       "text": [
        "\n",
        "Finished epoch 78 / 100: cost 0.148812, train: 0.130136, val 0.115454, lr 9.149792e-06"
       ]
      },
      {
       "output_type": "stream",
       "stream": "stdout",
       "text": [
        "\n",
        "starting iteration  390\n",
        "Finished epoch 79 / 100: cost 0.153573, train: 0.129914, val 0.115321, lr 8.692302e-06"
       ]
      },
      {
       "output_type": "stream",
       "stream": "stdout",
       "text": [
        "\n",
        "Finished epoch 80 / 100: cost 0.167752, train: 0.129699, val 0.115189, lr 8.257687e-06"
       ]
      },
      {
       "output_type": "stream",
       "stream": "stdout",
       "text": [
        "\n",
        "starting iteration  400\n",
        "Finished epoch 81 / 100: cost 0.152894, train: 0.129494, val 0.115065, lr 7.844803e-06"
       ]
      },
      {
       "output_type": "stream",
       "stream": "stdout",
       "text": [
        "\n",
        "Finished epoch 82 / 100: cost 0.163629, train: 0.129300, val 0.114945, lr 7.452563e-06"
       ]
      },
      {
       "output_type": "stream",
       "stream": "stdout",
       "text": [
        "\n",
        "starting iteration  410\n",
        "Finished epoch 83 / 100: cost 0.168785, train: 0.129097, val 0.114838, lr 7.079935e-06"
       ]
      },
      {
       "output_type": "stream",
       "stream": "stdout",
       "text": [
        "\n",
        "Finished epoch 84 / 100: cost 0.156949, train: 0.128911, val 0.114726, lr 6.725938e-06"
       ]
      },
      {
       "output_type": "stream",
       "stream": "stdout",
       "text": [
        "\n",
        "starting iteration  420\n",
        "Finished epoch 85 / 100: cost 0.168077, train: 0.128711, val 0.114619, lr 6.389641e-06"
       ]
      },
      {
       "output_type": "stream",
       "stream": "stdout",
       "text": [
        "\n",
        "Finished epoch 86 / 100: cost 0.154698, train: 0.128538, val 0.114524, lr 6.070159e-06"
       ]
      },
      {
       "output_type": "stream",
       "stream": "stdout",
       "text": [
        "\n",
        "starting iteration  430\n",
        "Finished epoch 87 / 100: cost 0.171347, train: 0.128379, val 0.114427, lr 5.766651e-06"
       ]
      },
      {
       "output_type": "stream",
       "stream": "stdout",
       "text": [
        "\n",
        "Finished epoch 88 / 100: cost 0.165294, train: 0.128202, val 0.114330, lr 5.478318e-06"
       ]
      },
      {
       "output_type": "stream",
       "stream": "stdout",
       "text": [
        "\n",
        "starting iteration  440\n",
        "Finished epoch 89 / 100: cost 0.160119, train: 0.128033, val 0.114239, lr 5.204402e-06"
       ]
      },
      {
       "output_type": "stream",
       "stream": "stdout",
       "text": [
        "\n",
        "Finished epoch 90 / 100: cost 0.164340, train: 0.127863, val 0.114145, lr 4.944182e-06"
       ]
      },
      {
       "output_type": "stream",
       "stream": "stdout",
       "text": [
        "\n",
        "starting iteration  450\n",
        "Finished epoch 91 / 100: cost 0.157101, train: 0.127708, val 0.114050, lr 4.696973e-06"
       ]
      },
      {
       "output_type": "stream",
       "stream": "stdout",
       "text": [
        "\n",
        "Finished epoch 92 / 100: cost 0.170979, train: 0.127562, val 0.113960, lr 4.462125e-06"
       ]
      },
      {
       "output_type": "stream",
       "stream": "stdout",
       "text": [
        "\n",
        "starting iteration  460\n",
        "Finished epoch 93 / 100: cost 0.165435, train: 0.127429, val 0.113881, lr 4.239018e-06"
       ]
      },
      {
       "output_type": "stream",
       "stream": "stdout",
       "text": [
        "\n",
        "Finished epoch 94 / 100: cost 0.167759, train: 0.127288, val 0.113807, lr 4.027067e-06"
       ]
      },
      {
       "output_type": "stream",
       "stream": "stdout",
       "text": [
        "\n",
        "starting iteration  470\n",
        "Finished epoch 95 / 100: cost 0.163482, train: 0.127152, val 0.113720, lr 3.825714e-06"
       ]
      },
      {
       "output_type": "stream",
       "stream": "stdout",
       "text": [
        "\n",
        "Finished epoch 96 / 100: cost 0.175840, train: 0.127028, val 0.113652, lr 3.634428e-06"
       ]
      },
      {
       "output_type": "stream",
       "stream": "stdout",
       "text": [
        "\n",
        "starting iteration  480\n",
        "Finished epoch 97 / 100: cost 0.165468, train: 0.126908, val 0.113579, lr 3.452707e-06"
       ]
      },
      {
       "output_type": "stream",
       "stream": "stdout",
       "text": [
        "\n",
        "Finished epoch 98 / 100: cost 0.169821, train: 0.126794, val 0.113511, lr 3.280072e-06"
       ]
      },
      {
       "output_type": "stream",
       "stream": "stdout",
       "text": [
        "\n",
        "starting iteration  490\n",
        "Finished epoch 99 / 100: cost 0.175180, train: 0.126678, val 0.113449, lr 3.116068e-06"
       ]
      },
      {
       "output_type": "stream",
       "stream": "stdout",
       "text": [
        "\n",
        "Finished epoch 100 / 100: cost 0.160852, train: 0.126565, val 0.113384, lr 2.960265e-06"
       ]
      },
      {
       "output_type": "stream",
       "stream": "stdout",
       "text": [
        "\n",
        "finished optimization. best validation accuracy: 0.113384\n"
       ]
      }
     ],
     "prompt_number": 11
    },
    {
     "cell_type": "code",
     "collapsed": false,
     "input": [
      "plt.plot(train_acc_hist[15:])\n",
      "plt.plot(val_acc_hist[15:])"
     ],
     "language": "python",
     "metadata": {},
     "outputs": [
      {
       "metadata": {},
       "output_type": "pyout",
       "prompt_number": 12,
       "text": [
        "[<matplotlib.lines.Line2D at 0x10ae05290>]"
       ]
      },
      {
       "metadata": {},
       "output_type": "display_data",
       "png": "[encoded data removed]",
       "text": [
        "<matplotlib.figure.Figure at 0x10ae05250>"
       ]
      }
     ],
     "prompt_number": 12
    },
    {
     "cell_type": "markdown",
     "metadata": {},
     "source": [
      "## Visualize Results"
     ]
    },
    {
     "cell_type": "code",
     "collapsed": false,
     "input": [
      "y_pred = convnet.predict(X_val)\n",
      "ix = 1"
     ],
     "language": "python",
     "metadata": {},
     "outputs": [
      {
       "metadata": {},
       "output_type": "pyout",
       "prompt_number": 247,
       "text": [
        "(66, 3, 46, 80)"
       ]
      }
     ],
     "prompt_number": 247
    },
    {
     "cell_type": "code",
     "collapsed": false,
     "input": [
      "ix += 1\n",
      "img = X_val[ix,:,:,:].copy().transpose(1, 2, 0)\n",
      "from convcube.cv.keypoints import denormalize_points\n",
      "from convcube.cv.keypoints import array2tuples\n",
      "\n",
      "# pts = array2tuples(y_pred[ix,:])\n",
      "pts = y_val[ix,:]\n",
      "print pts\n",
      "pts = [[pts[0], pts[1]]]\n",
      "pts = denormalize_points(pts, img)\n",
      "print pts\n",
      "for pt in pts:\n",
      "    img[pt[1]-2:pt[1]+2, pt[0]-2:pt[0]+2, :]  = (0, 255, 0)\n",
      "plt.imshow(img[:,:,::-1], cmap=plt.cm.gray)"
     ],
     "language": "python",
     "metadata": {},
     "outputs": [
      {
       "output_type": "stream",
       "stream": "stdout",
       "text": [
        "[ 0.33571429  0.52314814]\n",
        "[(26, 24)]\n"
       ]
      },
      {
       "metadata": {},
       "output_type": "pyout",
       "prompt_number": 252,
       "text": [
        "<matplotlib.image.AxesImage at 0x11d9454d0>"
       ]
      },
      {
       "metadata": {},
       "output_type": "display_data",
       "png": "[encoded data removed]",
       "text": [
        "<matplotlib.figure.Figure at 0x11d88bb90>"
       ]
      }
     ],
     "prompt_number": 252
    },
    {
     "cell_type": "code",
     "collapsed": false,
     "input": [
      "img = X_train[ix,:,:,:].copy()\n",
      "img = img.sum(axis=0)\n",
      "plt.imshow(img, cmap=plt.cm.gray)\n",
      "ix += 1"
     ],
     "language": "python",
     "metadata": {},
     "outputs": []
    }
   ],
   "metadata": {}
  }
 ]
}