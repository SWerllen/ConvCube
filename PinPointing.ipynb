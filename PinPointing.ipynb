{
 "metadata": {
  "name": "",
  "signature": "sha256:ba1b37cb21174f7ccc95f551b1f7fd14404594223b16cf831a1c863180ae00bc"
 },
 "nbformat": 3,
 "nbformat_minor": 0,
 "worksheets": [
  {
   "cells": [
    {
     "cell_type": "code",
     "collapsed": false,
     "input": [
      "# for auto-reloading extenrnal modules\n",
      "# see http://stackoverflow.com/questions/1907993/autoreload-of-modules-in-ipython\n",
      "%load_ext autoreload\n",
      "%autoreload 2\n",
      "\n",
      "#=====[ Standard + Math ]=====\n",
      "import os\n",
      "import sys\n",
      "sys.path.insert(0, './') #for faster development\n",
      "import pickle\n",
      "import numpy as np\n",
      "import cv2\n",
      "import matplotlib.pyplot as plt\n",
      "%pylab inline\n",
      "\n",
      "#=====[ ModalDB ]=====\n",
      "from ModalDB import ModalClient\n",
      "from ModalDB import Video\n",
      "from ModalDB import Frame\n",
      "\n",
      "#=====[ convcube ]=====\n",
      "from convcube.db import dbschema\n",
      "from convcube.convnets.pinpointing import load_dataset_pinpointing\n",
      "from convcube.convnets.euclidean import EuclideanConvNet\n",
      "from convcube.cube import ConvNetCube\n",
      "\n",
      "#=====[ setup client ]=====\n",
      "client = ModalClient('./data/db', schema=dbschema)\n",
      "models_path = './models/'\n",
      "\n",
      "def show_images(images, n=4):\n",
      "    \"\"\"\n",
      "    displays n images in a row\n",
      "    \"\"\"\n",
      "    plt.rcParams['figure.figsize'] = 20, 50\n",
      "    fig, axes = plt.subplots(nrows=1, ncols=min(n, 4))\n",
      "    for i, img in enumerate(images[:n]):\n",
      "        axes[i].imshow(img, cmap=plt.cm.gray)\n",
      "        axes[i].set_xticks([])\n",
      "        axes[i].set_yticks([])"
     ],
     "language": "python",
     "metadata": {},
     "outputs": [
      {
       "output_type": "stream",
       "stream": "stdout",
       "text": [
        "Populating the interactive namespace from numpy and matplotlib\n"
       ]
      }
     ],
     "prompt_number": 2
    },
    {
     "cell_type": "markdown",
     "metadata": {},
     "source": [
      "## Get Data"
     ]
    },
    {
     "cell_type": "code",
     "collapsed": false,
     "input": [
      "X_train, X_val, y_train, y_val = load_dataset_pinpointing(client, name='center', train_size=0.9)\n",
      "print 'Train data shape: ', X_train.shape\n",
      "print 'Train labels shape: ', y_train.shape\n",
      "print 'Validation data shape: ', X_val.shape\n",
      "print 'Validation labels shape: ', y_val.shape"
     ],
     "language": "python",
     "metadata": {},
     "outputs": [
      {
       "output_type": "stream",
       "stream": "stdout",
       "text": [
        "Train data shape:  (1424, 3, 64, 64)\n",
        "Train labels shape:  (1424, 6)\n",
        "Validation data shape:  (159, 3, 64, 64)\n",
        "Validation labels shape:  (159, 6)\n"
       ]
      }
     ],
     "prompt_number": 3
    },
    {
     "cell_type": "markdown",
     "metadata": {},
     "source": [
      "## Add Flips"
     ]
    },
    {
     "cell_type": "code",
     "collapsed": false,
     "input": [
      "def add_flips(X, y):\n",
      "    \"\"\"returns X with each element of X flipped, y coordinates adjusted accordingly\"\"\"\n",
      "    X_flipped =  X[:,:,:,::-1].copy()\n",
      "    y_flipped = y.copy()\n",
      "    y_flipped[:,0] = 1 - y_flipped[:,0]\n",
      "    return X_flipped, y_flipped\n",
      "\n",
      "X_train_flips, y_train_flips = add_flips(X_train, y_train)\n",
      "X_train_flips = np.vstack([X_train, X_train_flips])\n",
      "y_train_flips = np.vstack([y_train, y_train_flips])\n",
      "print 'Train data shape: ', X_train_flips.shape\n",
      "print 'Train labels shape: ', y_train_flips.shape"
     ],
     "language": "python",
     "metadata": {},
     "outputs": [
      {
       "output_type": "stream",
       "stream": "stdout",
       "text": [
        "Train data shape:  (2848, 3, 64, 64)\n",
        "Train labels shape:  (2848, 6)\n"
       ]
      }
     ],
     "prompt_number": 14
    },
    {
     "cell_type": "code",
     "collapsed": false,
     "input": [
      "img = X_train[400,:,:,:].transpose(1, 2, 0).copy()\n",
      "# img = img * (255.0/2.0) + 128.0\n",
      "plt.imshow(img[:,:,::-1])"
     ],
     "language": "python",
     "metadata": {},
     "outputs": [
      {
       "metadata": {},
       "output_type": "pyout",
       "prompt_number": 15,
       "text": [
        "<matplotlib.image.AxesImage at 0x10cfda190>"
       ]
      },
      {
       "metadata": {},
       "output_type": "display_data",
       "png": "[encoded data removed]",
       "text": [
        "<matplotlib.figure.Figure at 0x10b0210d0>"
       ]
      }
     ],
     "prompt_number": 15
    },
    {
     "cell_type": "markdown",
     "metadata": {},
     "source": [
      "# II. Data Augmentation"
     ]
    },
    {
     "cell_type": "markdown",
     "metadata": {},
     "source": [
      "## Select Color"
     ]
    },
    {
     "cell_type": "code",
     "collapsed": false,
     "input": [
      "#=====[ Currently on BG ]=====\n",
      "ix_train = (y_train_flips[:,2] >= 0.0)\n",
      "ix_val = (y_val[:,2] >= 0.0)\n",
      "X_train_flips, X_val = X_train_flips[ix_train, :, :, :], X_val[ix_val, :, :, :]\n",
      "y_train_flips, y_val = y_train_flips[ix_train, 2:4], y_val[ix_val, 2:4]\n",
      "print 'Train data shape: ', X_train.shape\n",
      "print 'Train labels shape: ', y_train.shape\n",
      "print 'Validation data shape: ', X_val.shape\n",
      "print 'Validation labels shape: ', y_val.shape"
     ],
     "language": "python",
     "metadata": {},
     "outputs": [
      {
       "output_type": "stream",
       "stream": "stdout",
       "text": [
        "Train data shape:  (1424, 3, 64, 64)\n",
        "Train labels shape:  (1424, 6)\n",
        "Validation data shape:  (86, 3, 64, 64)\n",
        "Validation labels shape:  (86, 2)\n"
       ]
      }
     ],
     "prompt_number": 16
    },
    {
     "cell_type": "markdown",
     "metadata": {},
     "source": [
      "## Add Contrast"
     ]
    },
    {
     "cell_type": "code",
     "collapsed": false,
     "input": [
      "def add_contrast(X, low=0.6, high=1):\n",
      "    \"\"\"returns X with some darker versions\"\"\"\n",
      "    N = X.shape[0]\n",
      "    contrast = np.random.uniform(low, high, N)\n",
      "    X_contrast = np.zeros_like(X)\n",
      "    for i in range(N):\n",
      "        X_contrast[i, :, :, :] = X[i, :, :, :] * contrast[i]\n",
      "\n",
      "    X_contrast[X_contrast > 255] = 255\n",
      "    return X_contrast"
     ],
     "language": "python",
     "metadata": {},
     "outputs": [],
     "prompt_number": 17
    },
    {
     "cell_type": "code",
     "collapsed": false,
     "input": [
      "X_train_cnt, X_val_cnt = add_contrast(X_train_flips), add_contrast(X_val)\n",
      "X_train = np.vstack([X_train_flips, X_train_cnt])\n",
      "y_train = np.vstack([y_train_flips, y_train_flips])"
     ],
     "language": "python",
     "metadata": {},
     "outputs": [],
     "prompt_number": 18
    },
    {
     "cell_type": "markdown",
     "metadata": {},
     "source": [
      "## Threshold for Blue and Green"
     ]
    },
    {
     "cell_type": "code",
     "collapsed": false,
     "input": [
      "def get_bg(img):\n",
      "    \"\"\"returns image with all but blue pixels thresholded\"\"\"\n",
      "    # Convert BGR to HSV\n",
      "    hsv = cv2.cvtColor(img, cv2.COLOR_BGR2HSV)\n",
      "    \n",
      "    # define range of blue color in HSV\n",
      "    lower_blue = np.array([90,10,10])\n",
      "    upper_blue = np.array([130,255,255])\n",
      "    \n",
      "    lower_green = np.array([60, 10, 10])\n",
      "    upper_green = np.array([85, 255, 255])\n",
      "    \n",
      "    # Threshold the HSV image to get only blue colors\n",
      "    mask_green = cv2.inRange(hsv, lower_green, upper_green)\n",
      "    mask_blue = cv2.inRange(hsv, lower_blue, upper_blue)\n",
      "\n",
      "    mask_blue = mask_blue > 0\n",
      "    mask_green = mask_green > 0\n",
      "\n",
      "    img[mask_blue] = (255, 0, 0)\n",
      "    img[mask_green] = (0, 255, 0)\n",
      "    \n",
      "    mask = mask_blue + mask_green\n",
      "    img[~mask] = img[~mask]*0.3\n",
      "    return img\n",
      "\n",
      "def convert_to_bg(X):\n",
      "    \"\"\"X -> X with blue highlighted\"\"\"\n",
      "    N = X.shape[0]\n",
      "    X_bg = np.zeros_like(X)\n",
      "    for i in range(N):\n",
      "        img = X[i,:,:,:].transpose(1, 2, 0).copy()\n",
      "        X_bg[i,:,:,:] = get_bg(img).transpose(2, 0, 1)\n",
      "    return X_bg\n",
      "\n",
      "X_train_bg = convert_to_bg(X_train)\n",
      "X_val_bg = convert_to_bg(X_val)"
     ],
     "language": "python",
     "metadata": {},
     "outputs": [],
     "prompt_number": 376
    },
    {
     "cell_type": "markdown",
     "metadata": {},
     "source": [
      "## Add Edges"
     ]
    },
    {
     "cell_type": "code",
     "collapsed": false,
     "input": [
      "def add_edges(X, X_bg):\n",
      "    \"\"\"X -> X with edges\"\"\"\n",
      "    X_edges = np.zeros_like(X)\n",
      "    num_images = X.shape[0]\n",
      "    for i in range(num_images):\n",
      "        gray = X[i,:,:,:].transpose(1,2,0).copy()\n",
      "        gray = cv2.cvtColor(gray, cv2.COLOR_BGR2GRAY)\n",
      "        edges = cv2.Canny(gray,50,200,apertureSize = 3)\n",
      "#         kernel = np.ones((2,2),np.uint8)\n",
      "#         closing = cv2.morphologyEx(edges, cv2.MORPH_CLOSE, kernel)\n",
      "        on_ix = edges > 15      \n",
      "        img = X_bg[i,:,:,:].transpose(1, 2, 0).copy()\n",
      "        img[on_ix] = (0, 0, 255)\n",
      "        img = img.transpose(2, 1, 0)\n",
      "        X_edges[i,:,:,:] = img    \n",
      "    return X_edges"
     ],
     "language": "python",
     "metadata": {},
     "outputs": [],
     "prompt_number": 377
    },
    {
     "cell_type": "code",
     "collapsed": false,
     "input": [
      "X_train_edges, X_val_edges = add_edges(X_train, X_train_bg), add_edges(X_val, X_val_bg)"
     ],
     "language": "python",
     "metadata": {},
     "outputs": [],
     "prompt_number": 378
    },
    {
     "cell_type": "code",
     "collapsed": false,
     "input": [
      "plt.imshow(X_train_edges[114,:,:,:].transpose(2, 1, 0)[:, :, ::-1])"
     ],
     "language": "python",
     "metadata": {},
     "outputs": [
      {
       "metadata": {},
       "output_type": "pyout",
       "prompt_number": 382,
       "text": [
        "<matplotlib.image.AxesImage at 0x162e89d10>"
       ]
      },
      {
       "metadata": {},
       "output_type": "display_data",
       "png": "[encoded data removed]",
       "text": [
        "<matplotlib.figure.Figure at 0x15492a290>"
       ]
      }
     ],
     "prompt_number": 382
    },
    {
     "cell_type": "markdown",
     "metadata": {},
     "source": [
      "## Get Pretrained Model"
     ]
    },
    {
     "cell_type": "code",
     "collapsed": false,
     "input": [
      "#=====[ LOAD PRETRAINED MODEL ]=====\n",
      "#*****\n",
      "model_path = os.path.join(models_path, 'pretrained/convnet_16s.pkl')\n",
      "pretrained_model = pickle.load(open(model_path))\n",
      "#*****"
     ],
     "language": "python",
     "metadata": {},
     "outputs": [],
     "prompt_number": 383
    },
    {
     "cell_type": "markdown",
     "metadata": {},
     "source": [
      "## Transfer Learning"
     ]
    },
    {
     "cell_type": "code",
     "collapsed": false,
     "input": [
      "#=====[ TRAIN MODEL: BG ]=====\n",
      "#*****\n",
      "print '=====[ Training ]====='\n",
      "convnet_bg = EuclideanConvNet(\n",
      "                                pretrained_model=None,\n",
      "                                size_out=2, # number of coordinates\n",
      "                                shape_loc=(3, 64, 64),\n",
      "                                num_filters_loc=(16, 32, 16, 32),\n",
      "                                filter_sizes_loc=(3, 3, 3, 3)\n",
      "                            )\n",
      "out = convnet_bg.train(\n",
      "                        X_train_flips, y_train_flips, X_val, y_val,\n",
      "                        batch_size=50,\n",
      "                        num_epochs=50,\n",
      "                        learning_rate=0.0001,\n",
      "                        learning_rate_decay=0.95\n",
      "                    )\n",
      "model, loss_hist_bg, train_acc_hist_bg, val_acc_hist_bg = out\n",
      "convnet_bg.save('models/pinpointing/10s_bg_color_thresh.convnet')\n",
      "#*****"
     ],
     "language": "python",
     "metadata": {},
     "outputs": [
      {
       "output_type": "stream",
       "stream": "stdout",
       "text": [
        "=====[ Training ]=====\n",
        "starting iteration  0\n",
        "Finished epoch 0 / 50: cost 0.371885, train: 1.109711, val 1.108270, lr 1.000000e-04"
       ]
      },
      {
       "output_type": "stream",
       "stream": "stdout",
       "text": [
        "\n",
        "starting iteration "
       ]
      },
      {
       "output_type": "stream",
       "stream": "stdout",
       "text": [
        " 10\n",
        "starting iteration "
       ]
      },
      {
       "output_type": "stream",
       "stream": "stdout",
       "text": [
        " 20\n",
        "Finished epoch 1 / 50: cost 0.139046, train: 0.060264, val 0.075537, lr 9.500000e-05"
       ]
      },
      {
       "output_type": "stream",
       "stream": "stdout",
       "text": [
        "\n",
        "starting iteration "
       ]
      },
      {
       "output_type": "stream",
       "stream": "stdout",
       "text": [
        " 30\n",
        "starting iteration "
       ]
      },
      {
       "output_type": "stream",
       "stream": "stdout",
       "text": [
        " 40\n",
        "starting iteration "
       ]
      },
      {
       "output_type": "stream",
       "stream": "stdout",
       "text": [
        " 50\n",
        "Finished epoch 2 / 50: cost 0.127609, train: 0.061927, val 0.073333, lr 9.025000e-05"
       ]
      },
      {
       "output_type": "stream",
       "stream": "stdout",
       "text": [
        "\n",
        "starting iteration "
       ]
      },
      {
       "output_type": "stream",
       "stream": "stdout",
       "text": [
        " 60\n",
        "starting iteration "
       ]
      },
      {
       "output_type": "stream",
       "stream": "stdout",
       "text": [
        " 70\n",
        "starting iteration "
       ]
      },
      {
       "output_type": "stream",
       "stream": "stdout",
       "text": [
        " 80\n",
        "Finished epoch 3 / 50: cost 0.115404, train: 0.051083, val 0.067063, lr 8.573750e-05"
       ]
      },
      {
       "output_type": "stream",
       "stream": "stdout",
       "text": [
        "\n",
        "starting iteration "
       ]
      },
      {
       "output_type": "stream",
       "stream": "stdout",
       "text": [
        " 90\n",
        "starting iteration "
       ]
      },
      {
       "output_type": "stream",
       "stream": "stdout",
       "text": [
        " 100\n",
        "starting iteration "
       ]
      },
      {
       "output_type": "stream",
       "stream": "stdout",
       "text": [
        " 110\n",
        "Finished epoch 4 / 50: cost 0.132236, train: 0.053085, val 0.066873, lr 8.145062e-05"
       ]
      },
      {
       "output_type": "stream",
       "stream": "stdout",
       "text": [
        "\n",
        "starting iteration "
       ]
      },
      {
       "output_type": "stream",
       "stream": "stdout",
       "text": [
        " 120\n",
        "starting iteration "
       ]
      },
      {
       "output_type": "stream",
       "stream": "stdout",
       "text": [
        " 130\n",
        "starting iteration "
       ]
      },
      {
       "output_type": "stream",
       "stream": "stdout",
       "text": [
        " 140\n",
        "Finished epoch 5 / 50: cost 0.107346, train: 0.047855, val 0.062082, lr 7.737809e-05"
       ]
      },
      {
       "output_type": "stream",
       "stream": "stdout",
       "text": [
        "\n",
        "starting iteration "
       ]
      },
      {
       "output_type": "stream",
       "stream": "stdout",
       "text": [
        " 150\n",
        "starting iteration "
       ]
      },
      {
       "output_type": "stream",
       "stream": "stdout",
       "text": [
        " 160\n",
        "starting iteration "
       ]
      },
      {
       "output_type": "stream",
       "stream": "stdout",
       "text": [
        " 170\n",
        "Finished epoch 6 / 50: cost 0.101445, train: 0.042607, val 0.060438, lr 7.350919e-05"
       ]
      },
      {
       "output_type": "stream",
       "stream": "stdout",
       "text": [
        "\n",
        "starting iteration "
       ]
      },
      {
       "output_type": "stream",
       "stream": "stdout",
       "text": [
        " 180\n",
        "starting iteration "
       ]
      },
      {
       "output_type": "stream",
       "stream": "stdout",
       "text": [
        " 190\n",
        "starting iteration "
       ]
      },
      {
       "output_type": "stream",
       "stream": "stdout",
       "text": [
        " 200\n",
        "Finished epoch 7 / 50: cost 0.100780, train: 0.041664, val 0.054741, lr 6.983373e-05"
       ]
      },
      {
       "output_type": "stream",
       "stream": "stdout",
       "text": [
        "\n",
        "starting iteration "
       ]
      },
      {
       "output_type": "stream",
       "stream": "stdout",
       "text": [
        " 210\n",
        "starting iteration "
       ]
      },
      {
       "output_type": "stream",
       "stream": "stdout",
       "text": [
        " 220\n",
        "starting iteration "
       ]
      },
      {
       "output_type": "stream",
       "stream": "stdout",
       "text": [
        " 230\n",
        "Finished epoch 8 / 50: cost 0.103916, train: 0.044057, val 0.056782, lr 6.634204e-05"
       ]
      },
      {
       "output_type": "stream",
       "stream": "stdout",
       "text": [
        "\n",
        "starting iteration "
       ]
      },
      {
       "output_type": "stream",
       "stream": "stdout",
       "text": [
        " 240\n",
        "starting iteration "
       ]
      },
      {
       "output_type": "stream",
       "stream": "stdout",
       "text": [
        " 250\n",
        "starting iteration "
       ]
      },
      {
       "output_type": "stream",
       "stream": "stdout",
       "text": [
        " 260\n",
        "Finished epoch 9 / 50: cost 0.099540, train: 0.042029, val 0.049558, lr 6.302494e-05"
       ]
      },
      {
       "output_type": "stream",
       "stream": "stdout",
       "text": [
        "\n",
        "starting iteration "
       ]
      },
      {
       "output_type": "stream",
       "stream": "stdout",
       "text": [
        " 270\n",
        "starting iteration "
       ]
      },
      {
       "output_type": "stream",
       "stream": "stdout",
       "text": [
        " 280\n",
        "Finished epoch 10 / 50: cost 0.100816, train: 0.034052, val 0.049374, lr 5.987369e-05"
       ]
      },
      {
       "output_type": "stream",
       "stream": "stdout",
       "text": [
        "\n",
        "starting iteration  290\n",
        "starting iteration "
       ]
      },
      {
       "output_type": "stream",
       "stream": "stdout",
       "text": [
        " 300\n",
        "starting iteration "
       ]
      },
      {
       "output_type": "stream",
       "stream": "stdout",
       "text": [
        " 310\n",
        "Finished epoch 11 / 50: cost 0.093211, train: 0.034139, val 0.047349, lr 5.688001e-05"
       ]
      },
      {
       "output_type": "stream",
       "stream": "stdout",
       "text": [
        "\n",
        "starting iteration "
       ]
      },
      {
       "output_type": "stream",
       "stream": "stdout",
       "text": [
        " 320\n",
        "starting iteration "
       ]
      },
      {
       "output_type": "stream",
       "stream": "stdout",
       "text": [
        " 330\n",
        "starting iteration "
       ]
      },
      {
       "output_type": "stream",
       "stream": "stdout",
       "text": [
        " 340\n",
        "Finished epoch 12 / 50: cost 0.095857, train: 0.030896, val 0.047239, lr 5.403601e-05"
       ]
      },
      {
       "output_type": "stream",
       "stream": "stdout",
       "text": [
        "\n",
        "starting iteration "
       ]
      },
      {
       "output_type": "stream",
       "stream": "stdout",
       "text": [
        " 350\n",
        "starting iteration "
       ]
      },
      {
       "output_type": "stream",
       "stream": "stdout",
       "text": [
        " 360\n",
        "starting iteration "
       ]
      },
      {
       "output_type": "stream",
       "stream": "stdout",
       "text": [
        " 370\n",
        "Finished epoch 13 / 50: cost 0.100830, train: 0.028987, val 0.046026, lr 5.133421e-05"
       ]
      },
      {
       "output_type": "stream",
       "stream": "stdout",
       "text": [
        "\n",
        "starting iteration "
       ]
      },
      {
       "output_type": "stream",
       "stream": "stdout",
       "text": [
        " 380\n",
        "starting iteration "
       ]
      },
      {
       "output_type": "stream",
       "stream": "stdout",
       "text": [
        " 390\n",
        "starting iteration "
       ]
      },
      {
       "output_type": "stream",
       "stream": "stdout",
       "text": [
        " 400\n",
        "Finished epoch 14 / 50: cost 0.105354, train: 0.038938, val 0.050223, lr 4.876750e-05"
       ]
      },
      {
       "output_type": "stream",
       "stream": "stdout",
       "text": [
        "\n",
        "starting iteration "
       ]
      },
      {
       "output_type": "stream",
       "stream": "stdout",
       "text": [
        " 410\n",
        "starting iteration "
       ]
      },
      {
       "output_type": "stream",
       "stream": "stdout",
       "text": [
        " 420\n",
        "starting iteration "
       ]
      },
      {
       "output_type": "stream",
       "stream": "stdout",
       "text": [
        " 430\n",
        "Finished epoch 15 / 50: cost 0.095197, train: 0.033029, val 0.046361, lr 4.632912e-05"
       ]
      },
      {
       "output_type": "stream",
       "stream": "stdout",
       "text": [
        "\n",
        "starting iteration "
       ]
      },
      {
       "output_type": "stream",
       "stream": "stdout",
       "text": [
        " 440\n",
        "starting iteration "
       ]
      },
      {
       "output_type": "stream",
       "stream": "stdout",
       "text": [
        " 450\n",
        "starting iteration "
       ]
      },
      {
       "output_type": "stream",
       "stream": "stdout",
       "text": [
        " 460\n",
        "Finished epoch 16 / 50: cost 0.085612, train: 0.028456, val 0.043721, lr 4.401267e-05"
       ]
      },
      {
       "output_type": "stream",
       "stream": "stdout",
       "text": [
        "\n",
        "starting iteration "
       ]
      },
      {
       "output_type": "stream",
       "stream": "stdout",
       "text": [
        " 470\n",
        "starting iteration "
       ]
      },
      {
       "output_type": "stream",
       "stream": "stdout",
       "text": [
        " 480\n",
        "starting iteration "
       ]
      },
      {
       "output_type": "stream",
       "stream": "stdout",
       "text": [
        " 490\n",
        "Finished epoch 17 / 50: cost 0.110757, train: 0.040078, val 0.051442, lr 4.181203e-05"
       ]
      },
      {
       "output_type": "stream",
       "stream": "stdout",
       "text": [
        "\n",
        "starting iteration "
       ]
      },
      {
       "output_type": "stream",
       "stream": "stdout",
       "text": [
        " 500\n",
        "starting iteration "
       ]
      },
      {
       "output_type": "stream",
       "stream": "stdout",
       "text": [
        " 510\n",
        "starting iteration "
       ]
      },
      {
       "output_type": "stream",
       "stream": "stdout",
       "text": [
        " 520\n",
        "Finished epoch 18 / 50: cost 0.091492, train: 0.029426, val 0.044322, lr 3.972143e-05"
       ]
      },
      {
       "output_type": "stream",
       "stream": "stdout",
       "text": [
        "\n",
        "starting iteration "
       ]
      },
      {
       "output_type": "stream",
       "stream": "stdout",
       "text": [
        " 530\n",
        "starting iteration "
       ]
      },
      {
       "output_type": "stream",
       "stream": "stdout",
       "text": [
        " 540\n",
        "starting iteration "
       ]
      },
      {
       "output_type": "stream",
       "stream": "stdout",
       "text": [
        " 550\n",
        "Finished epoch 19 / 50: cost 0.100436, train: 0.028568, val 0.044395, lr 3.773536e-05"
       ]
      },
      {
       "output_type": "stream",
       "stream": "stdout",
       "text": [
        "\n",
        "starting iteration "
       ]
      },
      {
       "output_type": "stream",
       "stream": "stdout",
       "text": [
        " 560\n",
        "starting iteration "
       ]
      },
      {
       "output_type": "stream",
       "stream": "stdout",
       "text": [
        " 570\n",
        "Finished epoch 20 / 50: cost 0.099873, train: 0.028167, val 0.043238, lr 3.584859e-05"
       ]
      },
      {
       "output_type": "stream",
       "stream": "stdout",
       "text": [
        "\n",
        "starting iteration  580\n",
        "starting iteration "
       ]
      },
      {
       "output_type": "stream",
       "stream": "stdout",
       "text": [
        " 590\n",
        "starting iteration "
       ]
      },
      {
       "output_type": "stream",
       "stream": "stdout",
       "text": [
        " 600\n",
        "Finished epoch 21 / 50: cost 0.090696, train: 0.029402, val 0.043923, lr 3.405616e-05"
       ]
      },
      {
       "output_type": "stream",
       "stream": "stdout",
       "text": [
        "\n",
        "starting iteration "
       ]
      },
      {
       "output_type": "stream",
       "stream": "stdout",
       "text": [
        " 610\n",
        "starting iteration "
       ]
      },
      {
       "output_type": "stream",
       "stream": "stdout",
       "text": [
        " 620\n",
        "starting iteration "
       ]
      },
      {
       "output_type": "stream",
       "stream": "stdout",
       "text": [
        " 630\n",
        "Finished epoch 22 / 50: cost 0.084014, train: 0.026788, val 0.042109, lr 3.235335e-05"
       ]
      },
      {
       "output_type": "stream",
       "stream": "stdout",
       "text": [
        "\n",
        "starting iteration "
       ]
      },
      {
       "output_type": "stream",
       "stream": "stdout",
       "text": [
        " 640\n",
        "starting iteration "
       ]
      },
      {
       "output_type": "stream",
       "stream": "stdout",
       "text": [
        " 650\n",
        "starting iteration "
       ]
      },
      {
       "output_type": "stream",
       "stream": "stdout",
       "text": [
        " 660\n",
        "Finished epoch 23 / 50: cost 0.087704, train: 0.025645, val 0.042809, lr 3.073569e-05"
       ]
      },
      {
       "output_type": "stream",
       "stream": "stdout",
       "text": [
        "\n",
        "starting iteration "
       ]
      },
      {
       "output_type": "stream",
       "stream": "stdout",
       "text": [
        " 670\n",
        "starting iteration "
       ]
      },
      {
       "output_type": "stream",
       "stream": "stdout",
       "text": [
        " 680\n",
        "starting iteration "
       ]
      },
      {
       "output_type": "stream",
       "stream": "stdout",
       "text": [
        " 690\n",
        "Finished epoch 24 / 50: cost 0.091741, train: 0.033507, val 0.046398, lr 2.919890e-05"
       ]
      },
      {
       "output_type": "stream",
       "stream": "stdout",
       "text": [
        "\n",
        "starting iteration "
       ]
      },
      {
       "output_type": "stream",
       "stream": "stdout",
       "text": [
        " 700\n",
        "starting iteration "
       ]
      },
      {
       "output_type": "stream",
       "stream": "stdout",
       "text": [
        " 710\n",
        "starting iteration "
       ]
      },
      {
       "output_type": "stream",
       "stream": "stdout",
       "text": [
        " 720\n",
        "Finished epoch 25 / 50: cost 0.081087, train: 0.026309, val 0.041272, lr 2.773896e-05"
       ]
      },
      {
       "output_type": "stream",
       "stream": "stdout",
       "text": [
        "\n",
        "starting iteration "
       ]
      },
      {
       "output_type": "stream",
       "stream": "stdout",
       "text": [
        " 730\n",
        "starting iteration "
       ]
      },
      {
       "output_type": "stream",
       "stream": "stdout",
       "text": [
        " 740\n",
        "starting iteration "
       ]
      },
      {
       "output_type": "stream",
       "stream": "stdout",
       "text": [
        " 750\n",
        "Finished epoch 26 / 50: cost 0.092993, train: 0.023077, val 0.040595, lr 2.635201e-05"
       ]
      },
      {
       "output_type": "stream",
       "stream": "stdout",
       "text": [
        "\n",
        "starting iteration "
       ]
      },
      {
       "output_type": "stream",
       "stream": "stdout",
       "text": [
        " 760\n",
        "starting iteration "
       ]
      },
      {
       "output_type": "stream",
       "stream": "stdout",
       "text": [
        " 770\n",
        "starting iteration "
       ]
      },
      {
       "output_type": "stream",
       "stream": "stdout",
       "text": [
        " 780\n",
        "Finished epoch 27 / 50: cost 0.080893, train: 0.022271, val 0.041159, lr 2.503441e-05"
       ]
      },
      {
       "output_type": "stream",
       "stream": "stdout",
       "text": [
        "\n",
        "starting iteration "
       ]
      },
      {
       "output_type": "stream",
       "stream": "stdout",
       "text": [
        " 790\n",
        "starting iteration "
       ]
      },
      {
       "output_type": "stream",
       "stream": "stdout",
       "text": [
        " 800\n",
        "starting iteration "
       ]
      },
      {
       "output_type": "stream",
       "stream": "stdout",
       "text": [
        " 810\n",
        "Finished epoch 28 / 50: cost 0.085994, train: 0.023222, val 0.041142, lr 2.378269e-05"
       ]
      },
      {
       "output_type": "stream",
       "stream": "stdout",
       "text": [
        "\n",
        "starting iteration "
       ]
      },
      {
       "output_type": "stream",
       "stream": "stdout",
       "text": [
        " 820\n",
        "starting iteration "
       ]
      },
      {
       "output_type": "stream",
       "stream": "stdout",
       "text": [
        " 830\n",
        "starting iteration "
       ]
      },
      {
       "output_type": "stream",
       "stream": "stdout",
       "text": [
        " 840\n",
        "Finished epoch 29 / 50: cost 0.083562, train: 0.023257, val 0.042267, lr 2.259355e-05"
       ]
      },
      {
       "output_type": "stream",
       "stream": "stdout",
       "text": [
        "\n",
        "starting iteration "
       ]
      },
      {
       "output_type": "stream",
       "stream": "stdout",
       "text": [
        " 850\n",
        "starting iteration "
       ]
      },
      {
       "output_type": "stream",
       "stream": "stdout",
       "text": [
        " 860\n",
        "Finished epoch 30 / 50: cost 0.089692, train: 0.020467, val 0.040583, lr 2.146388e-05"
       ]
      },
      {
       "output_type": "stream",
       "stream": "stdout",
       "text": [
        "\n",
        "starting iteration  870\n",
        "starting iteration "
       ]
      },
      {
       "output_type": "stream",
       "stream": "stdout",
       "text": [
        " 880\n",
        "starting iteration "
       ]
      },
      {
       "output_type": "stream",
       "stream": "stdout",
       "text": [
        " 890\n",
        "Finished epoch 31 / 50: cost 0.084454, train: 0.021748, val 0.040814, lr 2.039068e-05"
       ]
      },
      {
       "output_type": "stream",
       "stream": "stdout",
       "text": [
        "\n",
        "starting iteration "
       ]
      },
      {
       "output_type": "stream",
       "stream": "stdout",
       "text": [
        " 900\n",
        "starting iteration "
       ]
      },
      {
       "output_type": "stream",
       "stream": "stdout",
       "text": [
        " 910\n",
        "starting iteration "
       ]
      },
      {
       "output_type": "stream",
       "stream": "stdout",
       "text": [
        " 920\n",
        "Finished epoch 32 / 50: cost 0.081000, train: 0.022635, val 0.040350, lr 1.937115e-05"
       ]
      },
      {
       "output_type": "stream",
       "stream": "stdout",
       "text": [
        "\n",
        "starting iteration "
       ]
      },
      {
       "output_type": "stream",
       "stream": "stdout",
       "text": [
        " 930\n",
        "starting iteration "
       ]
      },
      {
       "output_type": "stream",
       "stream": "stdout",
       "text": [
        " 940\n",
        "starting iteration "
       ]
      },
      {
       "output_type": "stream",
       "stream": "stdout",
       "text": [
        " 950\n",
        "Finished epoch 33 / 50: cost 0.081918, train: 0.021288, val 0.039179, lr 1.840259e-05"
       ]
      },
      {
       "output_type": "stream",
       "stream": "stdout",
       "text": [
        "\n",
        "starting iteration "
       ]
      },
      {
       "output_type": "stream",
       "stream": "stdout",
       "text": [
        " 960\n",
        "starting iteration "
       ]
      },
      {
       "output_type": "stream",
       "stream": "stdout",
       "text": [
        " 970\n",
        "starting iteration "
       ]
      },
      {
       "output_type": "stream",
       "stream": "stdout",
       "text": [
        " 980\n",
        "Finished epoch 34 / 50: cost 0.083025, train: 0.020438, val 0.040149, lr 1.748246e-05"
       ]
      },
      {
       "output_type": "stream",
       "stream": "stdout",
       "text": [
        "\n",
        "starting iteration "
       ]
      },
      {
       "output_type": "stream",
       "stream": "stdout",
       "text": [
        " 990\n",
        "starting iteration "
       ]
      },
      {
       "output_type": "stream",
       "stream": "stdout",
       "text": [
        " 1000\n",
        "starting iteration "
       ]
      },
      {
       "output_type": "stream",
       "stream": "stdout",
       "text": [
        " 1010\n",
        "Finished epoch 35 / 50: cost 0.078750, train: 0.021986, val 0.041402, lr 1.660834e-05"
       ]
      },
      {
       "output_type": "stream",
       "stream": "stdout",
       "text": [
        "\n",
        "starting iteration "
       ]
      },
      {
       "output_type": "stream",
       "stream": "stdout",
       "text": [
        " 1020\n",
        "starting iteration "
       ]
      },
      {
       "output_type": "stream",
       "stream": "stdout",
       "text": [
        " 1030\n",
        "starting iteration "
       ]
      },
      {
       "output_type": "stream",
       "stream": "stdout",
       "text": [
        " 1040\n",
        "Finished epoch 36 / 50: cost 0.089541, train: 0.020347, val 0.038942, lr 1.577792e-05"
       ]
      },
      {
       "output_type": "stream",
       "stream": "stdout",
       "text": [
        "\n",
        "starting iteration "
       ]
      },
      {
       "output_type": "stream",
       "stream": "stdout",
       "text": [
        " 1050\n",
        "starting iteration "
       ]
      },
      {
       "output_type": "stream",
       "stream": "stdout",
       "text": [
        " 1060\n",
        "starting iteration "
       ]
      },
      {
       "output_type": "stream",
       "stream": "stdout",
       "text": [
        " 1070\n",
        "Finished epoch 37 / 50: cost 0.074467, train: 0.021248, val 0.039665, lr 1.498903e-05"
       ]
      },
      {
       "output_type": "stream",
       "stream": "stdout",
       "text": [
        "\n",
        "starting iteration "
       ]
      },
      {
       "output_type": "stream",
       "stream": "stdout",
       "text": [
        " 1080\n",
        "starting iteration "
       ]
      },
      {
       "output_type": "stream",
       "stream": "stdout",
       "text": [
        " 1090\n",
        "starting iteration "
       ]
      },
      {
       "output_type": "stream",
       "stream": "stdout",
       "text": [
        " 1100\n",
        "Finished epoch 38 / 50: cost 0.075582, train: 0.019573, val 0.040241, lr 1.423957e-05"
       ]
      },
      {
       "output_type": "stream",
       "stream": "stdout",
       "text": [
        "\n",
        "starting iteration "
       ]
      },
      {
       "output_type": "stream",
       "stream": "stdout",
       "text": [
        " 1110\n",
        "starting iteration "
       ]
      },
      {
       "output_type": "stream",
       "stream": "stdout",
       "text": [
        " 1120\n",
        "starting iteration "
       ]
      },
      {
       "output_type": "stream",
       "stream": "stdout",
       "text": [
        " 1130\n",
        "Finished epoch 39 / 50: cost 0.083017, train: 0.018910, val 0.041601, lr 1.352760e-05"
       ]
      },
      {
       "output_type": "stream",
       "stream": "stdout",
       "text": [
        "\n",
        "starting iteration "
       ]
      },
      {
       "output_type": "stream",
       "stream": "stdout",
       "text": [
        " 1140\n",
        "starting iteration "
       ]
      },
      {
       "output_type": "stream",
       "stream": "stdout",
       "text": [
        " 1150\n",
        "Finished epoch 40 / 50: cost 0.088621, train: 0.017616, val 0.040671, lr 1.285122e-05"
       ]
      },
      {
       "output_type": "stream",
       "stream": "stdout",
       "text": [
        "\n",
        "starting iteration  1160\n",
        "starting iteration "
       ]
      },
      {
       "output_type": "stream",
       "stream": "stdout",
       "text": [
        " 1170\n",
        "starting iteration "
       ]
      },
      {
       "output_type": "stream",
       "stream": "stdout",
       "text": [
        " 1180\n",
        "Finished epoch 41 / 50: cost 0.087807, train: 0.019338, val 0.041344, lr 1.220865e-05"
       ]
      },
      {
       "output_type": "stream",
       "stream": "stdout",
       "text": [
        "\n",
        "starting iteration "
       ]
      },
      {
       "output_type": "stream",
       "stream": "stdout",
       "text": [
        " 1190\n",
        "starting iteration "
       ]
      },
      {
       "output_type": "stream",
       "stream": "stdout",
       "text": [
        " 1200\n",
        "starting iteration "
       ]
      },
      {
       "output_type": "stream",
       "stream": "stdout",
       "text": [
        " 1210\n",
        "Finished epoch 42 / 50: cost 0.065107, train: 0.017937, val 0.039616, lr 1.159822e-05"
       ]
      },
      {
       "output_type": "stream",
       "stream": "stdout",
       "text": [
        "\n",
        "starting iteration "
       ]
      },
      {
       "output_type": "stream",
       "stream": "stdout",
       "text": [
        " 1220\n",
        "starting iteration "
       ]
      },
      {
       "output_type": "stream",
       "stream": "stdout",
       "text": [
        " 1230\n",
        "starting iteration "
       ]
      },
      {
       "output_type": "stream",
       "stream": "stdout",
       "text": [
        " 1240\n",
        "Finished epoch 43 / 50: cost 0.081211, train: 0.018811, val 0.040712, lr 1.101831e-05"
       ]
      },
      {
       "output_type": "stream",
       "stream": "stdout",
       "text": [
        "\n",
        "starting iteration "
       ]
      },
      {
       "output_type": "stream",
       "stream": "stdout",
       "text": [
        " 1250\n",
        "starting iteration "
       ]
      },
      {
       "output_type": "stream",
       "stream": "stdout",
       "text": [
        " 1260\n",
        "starting iteration "
       ]
      },
      {
       "output_type": "stream",
       "stream": "stdout",
       "text": [
        " 1270\n",
        "Finished epoch 44 / 50: cost 0.079010, train: 0.018118, val 0.041178, lr 1.046740e-05"
       ]
      },
      {
       "output_type": "stream",
       "stream": "stdout",
       "text": [
        "\n",
        "starting iteration "
       ]
      },
      {
       "output_type": "stream",
       "stream": "stdout",
       "text": [
        " 1280\n",
        "starting iteration "
       ]
      },
      {
       "output_type": "stream",
       "stream": "stdout",
       "text": [
        " 1290\n",
        "starting iteration "
       ]
      },
      {
       "output_type": "stream",
       "stream": "stdout",
       "text": [
        " 1300\n",
        "Finished epoch 45 / 50: cost 0.073452, train: 0.017691, val 0.040522, lr 9.944026e-06"
       ]
      },
      {
       "output_type": "stream",
       "stream": "stdout",
       "text": [
        "\n",
        "starting iteration "
       ]
      },
      {
       "output_type": "stream",
       "stream": "stdout",
       "text": [
        " 1310\n",
        "starting iteration "
       ]
      },
      {
       "output_type": "stream",
       "stream": "stdout",
       "text": [
        " 1320\n",
        "starting iteration "
       ]
      },
      {
       "output_type": "stream",
       "stream": "stdout",
       "text": [
        " 1330\n",
        "Finished epoch 46 / 50: cost 0.070182, train: 0.017601, val 0.039531, lr 9.446824e-06"
       ]
      },
      {
       "output_type": "stream",
       "stream": "stdout",
       "text": [
        "\n",
        "starting iteration "
       ]
      },
      {
       "output_type": "stream",
       "stream": "stdout",
       "text": [
        " 1340\n",
        "starting iteration "
       ]
      },
      {
       "output_type": "stream",
       "stream": "stdout",
       "text": [
        " 1350\n",
        "starting iteration "
       ]
      },
      {
       "output_type": "stream",
       "stream": "stdout",
       "text": [
        " 1360\n",
        "Finished epoch 47 / 50: cost 0.068079, train: 0.016561, val 0.039139, lr 8.974483e-06"
       ]
      },
      {
       "output_type": "stream",
       "stream": "stdout",
       "text": [
        "\n",
        "starting iteration "
       ]
      },
      {
       "output_type": "stream",
       "stream": "stdout",
       "text": [
        " 1370\n",
        "starting iteration "
       ]
      },
      {
       "output_type": "stream",
       "stream": "stdout",
       "text": [
        " 1380\n",
        "starting iteration "
       ]
      },
      {
       "output_type": "stream",
       "stream": "stdout",
       "text": [
        " 1390\n",
        "Finished epoch 48 / 50: cost 0.085145, train: 0.017040, val 0.039136, lr 8.525759e-06"
       ]
      },
      {
       "output_type": "stream",
       "stream": "stdout",
       "text": [
        "\n",
        "starting iteration "
       ]
      },
      {
       "output_type": "stream",
       "stream": "stdout",
       "text": [
        " 1400\n",
        "starting iteration "
       ]
      },
      {
       "output_type": "stream",
       "stream": "stdout",
       "text": [
        " 1410\n",
        "starting iteration "
       ]
      },
      {
       "output_type": "stream",
       "stream": "stdout",
       "text": [
        " 1420\n",
        "Finished epoch 49 / 50: cost 0.080139, train: 0.016333, val 0.039075, lr 8.099471e-06"
       ]
      },
      {
       "output_type": "stream",
       "stream": "stdout",
       "text": [
        "\n",
        "starting iteration "
       ]
      },
      {
       "output_type": "stream",
       "stream": "stdout",
       "text": [
        " 1430\n",
        "starting iteration "
       ]
      },
      {
       "output_type": "stream",
       "stream": "stdout",
       "text": [
        " 1440\n",
        "Finished epoch 50 / 50: cost 0.073979, train: 0.015861, val 0.039386, lr 7.694498e-06"
       ]
      },
      {
       "output_type": "stream",
       "stream": "stdout",
       "text": [
        "\n",
        "finished optimization. best validation accuracy: 0.038942\n"
       ]
      }
     ],
     "prompt_number": 19
    },
    {
     "cell_type": "code",
     "collapsed": false,
     "input": [
      "plt.plot(train_acc_hist_bg[5:])\n",
      "plt.plot(val_acc_hist_bg[5:])\n",
      "plt.xlabel('Epoch')\n",
      "plt.ylabel('Accuracy History')\n",
      "plt.title('Accuracy history vs. Epoch for WY Pinpointing Convnet')"
     ],
     "language": "python",
     "metadata": {},
     "outputs": [
      {
       "metadata": {},
       "output_type": "pyout",
       "prompt_number": 20,
       "text": [
        "<matplotlib.text.Text at 0x10c613910>"
       ]
      },
      {
       "metadata": {},
       "output_type": "display_data",
       "png": "[encoded data removed]",
       "text": [
        "<matplotlib.figure.Figure at 0x118628050>"
       ]
      }
     ],
     "prompt_number": 20
    },
    {
     "cell_type": "code",
     "collapsed": false,
     "input": [
      "#=====[ TRAIN MODEL: BG ]=====\n",
      "#*****\n",
      "ix_train = (y_train[:,2] >= 0.0)\n",
      "ix_val = (y_val[:,2] >= 0.0)\n",
      "X_train_bg, X_val_bg = X_train[ix_train, :, :, :], X_val[ix_val, :, :, :]\n",
      "y_train_bg, y_val_bg = y_train[ix_train, 2:4], y_val[ix_val, 2:4]\n",
      "\n",
      "convnet_bg = EuclideanConvNet(pretrained_model=pretrained_model, size_out=2)\n",
      "out = convnet_bg.train(X_train_bg, y_train_bg, X_val_bg, y_val_bg,\n",
      "                    batch_size=100,\n",
      "                    num_epochs=30,\n",
      "                    learning_rate=0.0005,\n",
      "                    learning_rate_decay=0.95)\n",
      "model, loss_hist_bg, train_acc_hist_bg, val_acc_hist_bg = out\n",
      "convnet_bg.save('models/pinpointing/10s_bg.convnet')\n",
      "#*****"
     ],
     "language": "python",
     "metadata": {},
     "outputs": [
      {
       "output_type": "stream",
       "stream": "stdout",
       "text": [
        "starting iteration  0\n",
        "Finished epoch 0 / 30: cost 0.364801, train: 52.635904, val 46.355054, lr 5.000000e-04"
       ]
      },
      {
       "output_type": "stream",
       "stream": "stdout",
       "text": [
        "\n",
        "Finished epoch 1 / 30: cost 0.356705, train: 0.490576, val 0.502161, lr 4.750000e-04"
       ]
      },
      {
       "output_type": "stream",
       "stream": "stdout",
       "text": [
        "\n",
        "Finished epoch 2 / 30: cost 0.200709, train: 136.446305, val 133.636577, lr 4.512500e-04"
       ]
      },
      {
       "output_type": "stream",
       "stream": "stdout",
       "text": [
        "\n",
        "starting iteration  10\n",
        "Finished epoch 3 / 30: cost 0.305143, train: 0.362507, val 0.382365, lr 4.286875e-04"
       ]
      },
      {
       "output_type": "stream",
       "stream": "stdout",
       "text": [
        "\n",
        "Finished epoch 4 / 30: cost 0.254676, train: 0.311307, val 0.333035, lr 4.072531e-04"
       ]
      },
      {
       "output_type": "stream",
       "stream": "stdout",
       "text": [
        "\n",
        "starting iteration  20\n",
        "Finished epoch 5 / 30: cost 0.235145, train: 0.272974, val 0.302016, lr 3.868905e-04"
       ]
      },
      {
       "output_type": "stream",
       "stream": "stdout",
       "text": [
        "\n",
        "Finished epoch 6 / 30: cost 0.222860, train: 0.230008, val 0.258828, lr 3.675459e-04"
       ]
      },
      {
       "output_type": "stream",
       "stream": "stdout",
       "text": [
        "\n",
        "starting iteration  30\n",
        "Finished epoch 7 / 30: cost 0.212527, train: 0.188277, val 0.215212, lr 3.491686e-04"
       ]
      },
      {
       "output_type": "stream",
       "stream": "stdout",
       "text": [
        "\n",
        "Finished epoch 8 / 30: cost 0.177811, train: 0.146466, val 0.170179, lr 3.317102e-04"
       ]
      },
      {
       "output_type": "stream",
       "stream": "stdout",
       "text": [
        "\n",
        "starting iteration  40\n",
        "Finished epoch 9 / 30: cost 0.156158, train: 0.109457, val 0.131018, lr 3.151247e-04"
       ]
      },
      {
       "output_type": "stream",
       "stream": "stdout",
       "text": [
        "\n",
        "Finished epoch 10 / 30: cost 0.137336, train: 0.089026, val 0.106670, lr 2.993685e-04"
       ]
      },
      {
       "output_type": "stream",
       "stream": "stdout",
       "text": [
        "\n",
        "starting iteration  50\n",
        "Finished epoch 11 / 30: cost 0.127031, train: 0.080842, val 0.100398, lr 2.844000e-04"
       ]
      },
      {
       "output_type": "stream",
       "stream": "stdout",
       "text": [
        "\n",
        "Finished epoch 12 / 30: cost 0.115176, train: 0.075473, val 0.100004, lr 2.701800e-04"
       ]
      },
      {
       "output_type": "stream",
       "stream": "stdout",
       "text": [
        "\n",
        "starting iteration  60\n",
        "Finished epoch 13 / 30: cost 0.118107, train: 0.068090, val 0.095428, lr 2.566710e-04"
       ]
      },
      {
       "output_type": "stream",
       "stream": "stdout",
       "text": [
        "\n",
        "Finished epoch 14 / 30: cost 0.110639, train: 0.063057, val 0.093683, lr 2.438375e-04"
       ]
      },
      {
       "output_type": "stream",
       "stream": "stdout",
       "text": [
        "\n",
        "starting iteration  70\n",
        "Finished epoch 15 / 30: cost 0.120188, train: 0.059408, val 0.095746, lr 2.316456e-04"
       ]
      },
      {
       "output_type": "stream",
       "stream": "stdout",
       "text": [
        "\n",
        "Finished epoch 16 / 30: cost 0.093907, train: 0.054725, val 0.093504, lr 2.200633e-04"
       ]
      },
      {
       "output_type": "stream",
       "stream": "stdout",
       "text": [
        "\n",
        "starting iteration  80\n",
        "Finished epoch 17 / 30: cost 0.097667, train: 0.051852, val 0.093854, lr 2.090602e-04"
       ]
      },
      {
       "output_type": "stream",
       "stream": "stdout",
       "text": [
        "\n",
        "Finished epoch 18 / 30: cost 0.088878, train: 0.049363, val 0.095753, lr 1.986072e-04"
       ]
      },
      {
       "output_type": "stream",
       "stream": "stdout",
       "text": [
        "\n",
        "starting iteration  90\n",
        "Finished epoch 19 / 30: cost 0.090752, train: 0.047162, val 0.093153, lr 1.886768e-04"
       ]
      },
      {
       "output_type": "stream",
       "stream": "stdout",
       "text": [
        "\n",
        "Finished epoch 20 / 30: cost 0.091742, train: 0.043930, val 0.093284, lr 1.792430e-04"
       ]
      },
      {
       "output_type": "stream",
       "stream": "stdout",
       "text": [
        "\n",
        "starting iteration  100\n",
        "Finished epoch 21 / 30: cost 0.085907, train: 0.043177, val 0.094227, lr 1.702808e-04"
       ]
      },
      {
       "output_type": "stream",
       "stream": "stdout",
       "text": [
        "\n",
        "Finished epoch 22 / 30: cost 0.090918, train: 0.040463, val 0.092714, lr 1.617668e-04"
       ]
      },
      {
       "output_type": "stream",
       "stream": "stdout",
       "text": [
        "\n",
        "starting iteration  110\n",
        "Finished epoch 23 / 30: cost 0.087325, train: 0.038825, val 0.094690, lr 1.536784e-04"
       ]
      },
      {
       "output_type": "stream",
       "stream": "stdout",
       "text": [
        "\n",
        "Finished epoch 24 / 30: cost 0.076949, train: 0.037158, val 0.094668, lr 1.459945e-04"
       ]
      },
      {
       "output_type": "stream",
       "stream": "stdout",
       "text": [
        "\n",
        "starting iteration  120\n",
        "Finished epoch 25 / 30: cost 0.074769, train: 0.036282, val 0.095308, lr 1.386948e-04"
       ]
      },
      {
       "output_type": "stream",
       "stream": "stdout",
       "text": [
        "\n",
        "Finished epoch 26 / 30: cost 0.078230, train: 0.034930, val 0.094895, lr 1.317600e-04"
       ]
      },
      {
       "output_type": "stream",
       "stream": "stdout",
       "text": [
        "\n",
        "starting iteration  130\n",
        "Finished epoch 27 / 30: cost 0.082781, train: 0.033767, val 0.095151, lr 1.251720e-04"
       ]
      },
      {
       "output_type": "stream",
       "stream": "stdout",
       "text": [
        "\n",
        "Finished epoch 28 / 30: cost 0.068482, train: 0.032922, val 0.094559, lr 1.189134e-04"
       ]
      },
      {
       "output_type": "stream",
       "stream": "stdout",
       "text": [
        "\n",
        "starting iteration  140\n",
        "Finished epoch 29 / 30: cost 0.065723, train: 0.032552, val 0.095275, lr 1.129678e-04"
       ]
      },
      {
       "output_type": "stream",
       "stream": "stdout",
       "text": [
        "\n",
        "Finished epoch 30 / 30: cost 0.073847, train: 0.031359, val 0.094181, lr 1.073194e-04"
       ]
      },
      {
       "output_type": "stream",
       "stream": "stdout",
       "text": [
        "\n",
        "finished optimization. best validation accuracy: 0.092714\n"
       ]
      }
     ],
     "prompt_number": 19
    },
    {
     "cell_type": "code",
     "collapsed": false,
     "input": [
      "plt.plot(train_acc_hist_bg[15:])\n",
      "plt.plot(val_acc_hist_bg[15:])\n",
      "plt.xlabel('Epoch')\n",
      "plt.ylabel('Accuracy History')\n",
      "plt.title('Accuracy history vs. Epoch for BG Pinpointing Convnet')"
     ],
     "language": "python",
     "metadata": {},
     "outputs": [
      {
       "metadata": {},
       "output_type": "pyout",
       "prompt_number": 20,
       "text": [
        "<matplotlib.text.Text at 0x10bc2aa10>"
       ]
      },
      {
       "metadata": {},
       "output_type": "display_data",
       "png": "[encoded data removed]",
       "text": [
        "<matplotlib.figure.Figure at 0x10af37c50>"
       ]
      }
     ],
     "prompt_number": 20
    },
    {
     "cell_type": "code",
     "collapsed": false,
     "input": [
      "#=====[ TRAIN MODEL: OR ]=====\n",
      "#*****\n",
      "ix_train = (y_train[:,4] >= 0.0)\n",
      "ix_val = (y_val[:,4] >= 0.0)\n",
      "X_train_or, X_val_or = X_train[ix_train, :, :, :], X_val[ix_val, :, :, :]\n",
      "y_train_or, y_val_or = y_train[ix_train, 4:6], y_val[ix_val, 4:6]\n",
      "\n",
      "convnet_or = EuclideanConvNet(pretrained_model=pretrained_model, size_out=2)\n",
      "out = convnet_or.train(X_train_or, y_train_or, X_val_or, y_val_or,\n",
      "                    batch_size=100,\n",
      "                    num_epochs=30,\n",
      "                    learning_rate=0.0005,\n",
      "                    learning_rate_decay=0.95)\n",
      "model, loss_hist, train_acc_hist, val_acc_hist = out\n",
      "convnet_or.save('models/pinpointing/10s_or.convnet')\n",
      "#*****"
     ],
     "language": "python",
     "metadata": {},
     "outputs": [
      {
       "output_type": "stream",
       "stream": "stdout",
       "text": [
        "starting iteration  0\n",
        "Finished epoch 0 / 30: cost 0.370364, train: 755.509347, val 800.847279, lr 5.000000e-04"
       ]
      },
      {
       "output_type": "stream",
       "stream": "stdout",
       "text": [
        "\n",
        "Finished epoch 1 / 30: cost 0.346005, train: 0.391171, val 0.382571, lr 4.750000e-04"
       ]
      },
      {
       "output_type": "stream",
       "stream": "stdout",
       "text": [
        "\n",
        "Finished epoch 2 / 30: cost 0.312995, train: 39.851675, val 44.343899, lr 4.512500e-04"
       ]
      },
      {
       "output_type": "stream",
       "stream": "stdout",
       "text": [
        "\n",
        "starting iteration  10\n",
        "Finished epoch 3 / 30: cost 0.336819, train: 0.447006, val 0.437270, lr 4.286875e-04"
       ]
      },
      {
       "output_type": "stream",
       "stream": "stdout",
       "text": [
        "\n",
        "Finished epoch 4 / 30: cost 0.286091, train: 0.311690, val 0.335396, lr 4.072531e-04"
       ]
      },
      {
       "output_type": "stream",
       "stream": "stdout",
       "text": [
        "\n",
        "starting iteration  20\n",
        "Finished epoch 5 / 30: cost 0.225173, train: 0.236685, val 0.274071, lr 3.868905e-04"
       ]
      },
      {
       "output_type": "stream",
       "stream": "stdout",
       "text": [
        "\n",
        "Finished epoch 6 / 30: cost 0.202062, train: 0.176213, val 0.204390, lr 3.675459e-04"
       ]
      },
      {
       "output_type": "stream",
       "stream": "stdout",
       "text": [
        "\n",
        "starting iteration  30\n",
        "Finished epoch 7 / 30: cost 0.294867, train: 0.262576, val 0.293188, lr 3.491686e-04"
       ]
      },
      {
       "output_type": "stream",
       "stream": "stdout",
       "text": [
        "\n",
        "Finished epoch 8 / 30: cost 0.149535, train: 0.116775, val 0.150650, lr 3.317102e-04"
       ]
      },
      {
       "output_type": "stream",
       "stream": "stdout",
       "text": [
        "\n",
        "starting iteration  40\n",
        "Finished epoch 9 / 30: cost 0.127257, train: 0.112076, val 0.151652, lr 3.151247e-04"
       ]
      },
      {
       "output_type": "stream",
       "stream": "stdout",
       "text": [
        "\n",
        "Finished epoch 10 / 30: cost 0.126873, train: 0.073652, val 0.089655, lr 2.993685e-04"
       ]
      },
      {
       "output_type": "stream",
       "stream": "stdout",
       "text": [
        "\n",
        "starting iteration  50\n",
        "Finished epoch 11 / 30: cost 0.118211, train: 0.064921, val 0.078709, lr 2.844000e-04"
       ]
      },
      {
       "output_type": "stream",
       "stream": "stdout",
       "text": [
        "\n",
        "Finished epoch 12 / 30: cost 0.102904, train: 0.050226, val 0.072793, lr 2.701800e-04"
       ]
      },
      {
       "output_type": "stream",
       "stream": "stdout",
       "text": [
        "\n",
        "starting iteration  60\n",
        "Finished epoch 13 / 30: cost 0.094580, train: 0.054232, val 0.080363, lr 2.566710e-04"
       ]
      },
      {
       "output_type": "stream",
       "stream": "stdout",
       "text": [
        "\n",
        "Finished epoch 14 / 30: cost 0.084759, train: 0.040956, val 0.063022, lr 2.438375e-04"
       ]
      },
      {
       "output_type": "stream",
       "stream": "stdout",
       "text": [
        "\n",
        "starting iteration  70\n",
        "Finished epoch 15 / 30: cost 0.083667, train: 0.039893, val 0.067283, lr 2.316456e-04"
       ]
      },
      {
       "output_type": "stream",
       "stream": "stdout",
       "text": [
        "\n",
        "Finished epoch 16 / 30: cost 0.080566, train: 0.039238, val 0.060360, lr 2.200633e-04"
       ]
      },
      {
       "output_type": "stream",
       "stream": "stdout",
       "text": [
        "\n",
        "starting iteration  80\n",
        "Finished epoch 17 / 30: cost 0.078536, train: 0.038923, val 0.066429, lr 2.090602e-04"
       ]
      },
      {
       "output_type": "stream",
       "stream": "stdout",
       "text": [
        "\n",
        "Finished epoch 18 / 30: cost 0.066326, train: 0.031478, val 0.059833, lr 1.986072e-04"
       ]
      },
      {
       "output_type": "stream",
       "stream": "stdout",
       "text": [
        "\n",
        "starting iteration  90\n",
        "Finished epoch 19 / 30: cost 0.073321, train: 0.031689, val 0.060240, lr 1.886768e-04"
       ]
      },
      {
       "output_type": "stream",
       "stream": "stdout",
       "text": [
        "\n",
        "Finished epoch 20 / 30: cost 0.063020, train: 0.027198, val 0.057819, lr 1.792430e-04"
       ]
      },
      {
       "output_type": "stream",
       "stream": "stdout",
       "text": [
        "\n",
        "starting iteration  100\n",
        "Finished epoch 21 / 30: cost 0.068558, train: 0.025959, val 0.058506, lr 1.702808e-04"
       ]
      },
      {
       "output_type": "stream",
       "stream": "stdout",
       "text": [
        "\n",
        "Finished epoch 22 / 30: cost 0.072357, train: 0.024431, val 0.056049, lr 1.617668e-04"
       ]
      },
      {
       "output_type": "stream",
       "stream": "stdout",
       "text": [
        "\n",
        "starting iteration  110\n",
        "Finished epoch 23 / 30: cost 0.055968, train: 0.023385, val 0.055570, lr 1.536784e-04"
       ]
      },
      {
       "output_type": "stream",
       "stream": "stdout",
       "text": [
        "\n",
        "Finished epoch 24 / 30: cost 0.059437, train: 0.022279, val 0.055535, lr 1.459945e-04"
       ]
      },
      {
       "output_type": "stream",
       "stream": "stdout",
       "text": [
        "\n",
        "starting iteration  120\n",
        "Finished epoch 25 / 30: cost 0.062400, train: 0.022554, val 0.055199, lr 1.386948e-04"
       ]
      },
      {
       "output_type": "stream",
       "stream": "stdout",
       "text": [
        "\n",
        "Finished epoch 26 / 30: cost 0.065658, train: 0.020911, val 0.054525, lr 1.317600e-04"
       ]
      },
      {
       "output_type": "stream",
       "stream": "stdout",
       "text": [
        "\n",
        "starting iteration  130\n",
        "Finished epoch 27 / 30: cost 0.053846, train: 0.020351, val 0.054840, lr 1.251720e-04"
       ]
      },
      {
       "output_type": "stream",
       "stream": "stdout",
       "text": [
        "\n",
        "Finished epoch 28 / 30: cost 0.050993, train: 0.019207, val 0.054161, lr 1.189134e-04"
       ]
      },
      {
       "output_type": "stream",
       "stream": "stdout",
       "text": [
        "\n",
        "starting iteration  140\n",
        "Finished epoch 29 / 30: cost 0.054076, train: 0.018604, val 0.053349, lr 1.129678e-04"
       ]
      },
      {
       "output_type": "stream",
       "stream": "stdout",
       "text": [
        "\n",
        "Finished epoch 30 / 30: cost 0.055652, train: 0.017395, val 0.053932, lr 1.073194e-04"
       ]
      },
      {
       "output_type": "stream",
       "stream": "stdout",
       "text": [
        "\n",
        "finished optimization. best validation accuracy: 0.053349\n"
       ]
      }
     ],
     "prompt_number": 22
    },
    {
     "cell_type": "code",
     "collapsed": false,
     "input": [
      "plt.plot(train_acc_hist_or[15:])\n",
      "plt.plot(val_acc_hist_or[15:])\n",
      "plt.xlabel('Epoch')\n",
      "plt.ylabel('Accuracy History')\n",
      "plt.title('Accuracy history vs. Epoch for OR Pinpointing Convnet')"
     ],
     "language": "python",
     "metadata": {},
     "outputs": [
      {
       "metadata": {},
       "output_type": "pyout",
       "prompt_number": 12,
       "text": [
        "[<matplotlib.lines.Line2D at 0x10ae05290>]"
       ]
      },
      {
       "metadata": {},
       "output_type": "display_data",
       "png": "[encoded data removed]",
       "text": [
        "<matplotlib.figure.Figure at 0x10ae05250>"
       ]
      }
     ],
     "prompt_number": 12
    },
    {
     "cell_type": "markdown",
     "metadata": {},
     "source": [
      "## Visualize Results"
     ]
    },
    {
     "cell_type": "code",
     "collapsed": false,
     "input": [
      "convnet = EuclideanConvNet()\n",
      "convnet.load('models/pinpointing/10s_bg_color_thresh.convnet')"
     ],
     "language": "python",
     "metadata": {},
     "outputs": [],
     "prompt_number": 4
    },
    {
     "cell_type": "code",
     "collapsed": false,
     "input": [
      "y_pred_bg = convnet.transfer_convnet(X_val, convnet.model)\n",
      "# y_pred_bg = convnet_bg.predict(X_val)\n",
      "# y_pred_or = convnet_or.predict(X_val)\n",
      "ix = 0"
     ],
     "language": "python",
     "metadata": {},
     "outputs": [],
     "prompt_number": 6
    },
    {
     "cell_type": "code",
     "collapsed": false,
     "input": [
      "ix += 1\n",
      "img = X_val[ix,:,:,:].copy().transpose(1, 2, 0)\n",
      "from convcube.cv.keypoints import denormalize_points\n",
      "from convcube.cv.keypoints import array2tuples\n",
      "\n",
      "pts = y_pred_bg[ix,:]\n",
      "pts = [(pts[0], pts[1])]\n",
      "pts = denormalize_points(pts, img)\n",
      "print pts\n",
      "for pt in pts:\n",
      "    img[pt[1]-2:pt[1]+2, pt[0]-2:pt[0]+2, :]  = (0, 255, 0)\n",
      "plt.imshow(img[:,:,::-1], cmap=plt.cm.gray)"
     ],
     "language": "python",
     "metadata": {},
     "outputs": [
      {
       "output_type": "stream",
       "stream": "stdout",
       "text": [
        "[(34, 40)]\n"
       ]
      },
      {
       "metadata": {},
       "output_type": "pyout",
       "prompt_number": 17,
       "text": [
        "<matplotlib.image.AxesImage at 0x110389cd0>"
       ]
      },
      {
       "metadata": {},
       "output_type": "display_data",
       "png": "[encoded data removed]",
       "text": [
        "<matplotlib.figure.Figure at 0x10cdbb890>"
       ]
      }
     ],
     "prompt_number": 17
    },
    {
     "cell_type": "code",
     "collapsed": false,
     "input": [],
     "language": "python",
     "metadata": {},
     "outputs": []
    }
   ],
   "metadata": {}
  }
 ]
}