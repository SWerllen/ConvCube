{
 "metadata": {
  "name": "",
  "signature": "sha256:395ce727aba4493d04c65c79260c8bb2c362ae923f24d1d2c1457fc728bd99e3"
 },
 "nbformat": 3,
 "nbformat_minor": 0,
 "worksheets": [
  {
   "cells": [
    {
     "cell_type": "code",
     "collapsed": false,
     "input": [
      "# for auto-reloading extenrnal modules\n",
      "# see http://stackoverflow.com/questions/1907993/autoreload-of-modules-in-ipython\n",
      "%load_ext autoreload\n",
      "%autoreload 2\n",
      "\n",
      "#=====[ Standard + Math ]=====\n",
      "import os\n",
      "import sys\n",
      "sys.path.insert(0, './') #for faster development\n",
      "import pickle\n",
      "import numpy as np\n",
      "import cv2\n",
      "import matplotlib.pyplot as plt\n",
      "%pylab inline\n",
      "\n",
      "#=====[ ModalDB ]=====\n",
      "from ModalDB import ModalClient\n",
      "from ModalDB import Video\n",
      "from ModalDB import Frame\n",
      "\n",
      "#=====[ convcube ]=====\n",
      "from convcube.db import dbschema\n",
      "from convcube.convnets.pinpointing import load_dataset_pinpointing\n",
      "from convcube.convnets.euclidean import EuclideanConvNet\n",
      "from convcube.cube import ConvNetCube\n",
      "\n",
      "#=====[ setup client ]=====\n",
      "client = ModalClient('./data/db', schema=dbschema)\n",
      "models_path = './models/'"
     ],
     "language": "python",
     "metadata": {},
     "outputs": [
      {
       "output_type": "stream",
       "stream": "stdout",
       "text": [
        "Populating the interactive namespace from numpy and matplotlib\n"
       ]
      }
     ],
     "prompt_number": 1
    },
    {
     "cell_type": "markdown",
     "metadata": {},
     "source": [
      "## Get Data"
     ]
    },
    {
     "cell_type": "code",
     "collapsed": false,
     "input": [
      "X_train, X_val, y_train, y_val = load_dataset_pinpointing(client, train_size=0.9)\n",
      "print 'Train data shape: ', X_train.shape\n",
      "print 'Train labels shape: ', y_train.shape\n",
      "print 'Validation data shape: ', X_val.shape\n",
      "print 'Validation labels shape: ', y_val.shape"
     ],
     "language": "python",
     "metadata": {},
     "outputs": [
      {
       "output_type": "stream",
       "stream": "stdout",
       "text": [
        "Train data shape:  (1252, 3, 46, 80)\n",
        "Train labels shape:  (1252, 6)\n",
        "Validation data shape:  (140, 3, 46, 80)\n",
        "Validation labels shape:  (140, 6)\n"
       ]
      }
     ],
     "prompt_number": 2
    },
    {
     "cell_type": "markdown",
     "metadata": {},
     "source": [
      "## Get Pretrained Model"
     ]
    },
    {
     "cell_type": "code",
     "collapsed": false,
     "input": [
      "#=====[ LOAD MODEL ]=====\n",
      "#*****\n",
      "model_path = os.path.join(models_path, 'pretrained/convnet_10s.pkl')\n",
      "pretrained_model = pickle.load(open(model_path))\n",
      "#*****"
     ],
     "language": "python",
     "metadata": {},
     "outputs": [],
     "prompt_number": 3
    },
    {
     "cell_type": "markdown",
     "metadata": {},
     "source": [
      "## Transfer Learning"
     ]
    },
    {
     "cell_type": "code",
     "collapsed": false,
     "input": [
      "#=====[ LOAD MODEL ]=====\n",
      "#*****\n",
      "model_path = os.path.join(models_path, 'pinpointing/16s_wy.convnet')\n",
      "convnet = EuclideanConvNet()\n",
      "convnet.load(model_path)\n",
      "#*****"
     ],
     "language": "python",
     "metadata": {},
     "outputs": [
      {
       "ename": "IOError",
       "evalue": "[Errno 2] No such file or directory: './models/pinpointing/16s_wy.convnet'",
       "output_type": "pyerr",
       "traceback": [
        "\u001b[0;31m---------------------------------------------------------------------------\u001b[0m\n\u001b[0;31mIOError\u001b[0m                                   Traceback (most recent call last)",
        "\u001b[0;32m<ipython-input-63-5077849e17e4>\u001b[0m in \u001b[0;36m<module>\u001b[0;34m()\u001b[0m\n\u001b[1;32m      3\u001b[0m \u001b[0mmodel_path\u001b[0m \u001b[0;34m=\u001b[0m \u001b[0mos\u001b[0m\u001b[0;34m.\u001b[0m\u001b[0mpath\u001b[0m\u001b[0;34m.\u001b[0m\u001b[0mjoin\u001b[0m\u001b[0;34m(\u001b[0m\u001b[0mmodels_path\u001b[0m\u001b[0;34m,\u001b[0m \u001b[0;34m'pinpointing/16s_wy.convnet'\u001b[0m\u001b[0;34m)\u001b[0m\u001b[0;34m\u001b[0m\u001b[0m\n\u001b[1;32m      4\u001b[0m \u001b[0mconvnet\u001b[0m \u001b[0;34m=\u001b[0m \u001b[0mEuclideanConvNet\u001b[0m\u001b[0;34m(\u001b[0m\u001b[0;34m)\u001b[0m\u001b[0;34m\u001b[0m\u001b[0m\n\u001b[0;32m----> 5\u001b[0;31m \u001b[0mconvnet\u001b[0m\u001b[0;34m.\u001b[0m\u001b[0mload\u001b[0m\u001b[0;34m(\u001b[0m\u001b[0mmodel_path\u001b[0m\u001b[0;34m)\u001b[0m\u001b[0;34m\u001b[0m\u001b[0m\n\u001b[0m\u001b[1;32m      6\u001b[0m \u001b[0;31m#*****\u001b[0m\u001b[0;34m\u001b[0m\u001b[0;34m\u001b[0m\u001b[0m\n",
        "\u001b[0;32m/Users/jayhack/Academics/CS/231N - CNN/Project/code/convcube/convnets/euclidean.pyc\u001b[0m in \u001b[0;36mload\u001b[0;34m(self, path)\u001b[0m\n\u001b[1;32m    295\u001b[0m         \u001b[0;32mdef\u001b[0m \u001b[0mload\u001b[0m\u001b[0;34m(\u001b[0m\u001b[0mself\u001b[0m\u001b[0;34m,\u001b[0m \u001b[0mpath\u001b[0m\u001b[0;34m)\u001b[0m\u001b[0;34m:\u001b[0m\u001b[0;34m\u001b[0m\u001b[0m\n\u001b[1;32m    296\u001b[0m                 \u001b[0;34m\"\"\"loads from a path\"\"\"\u001b[0m\u001b[0;34m\u001b[0m\u001b[0m\n\u001b[0;32m--> 297\u001b[0;31m                 \u001b[0mself\u001b[0m\u001b[0;34m.\u001b[0m\u001b[0mmodel\u001b[0m\u001b[0;34m,\u001b[0m \u001b[0mself\u001b[0m\u001b[0;34m.\u001b[0m\u001b[0mpretrained_model\u001b[0m\u001b[0;34m,\u001b[0m \u001b[0mself\u001b[0m\u001b[0;34m.\u001b[0m\u001b[0mparams\u001b[0m \u001b[0;34m=\u001b[0m \u001b[0mpickle\u001b[0m\u001b[0;34m.\u001b[0m\u001b[0mload\u001b[0m\u001b[0;34m(\u001b[0m\u001b[0mopen\u001b[0m\u001b[0;34m(\u001b[0m\u001b[0mpath\u001b[0m\u001b[0;34m)\u001b[0m\u001b[0;34m)\u001b[0m\u001b[0;34m\u001b[0m\u001b[0m\n\u001b[0m\u001b[1;32m    298\u001b[0m \u001b[0;34m\u001b[0m\u001b[0m\n\u001b[1;32m    299\u001b[0m \u001b[0;34m\u001b[0m\u001b[0m\n",
        "\u001b[0;31mIOError\u001b[0m: [Errno 2] No such file or directory: './models/pinpointing/16s_wy.convnet'"
       ]
      }
     ],
     "prompt_number": 63
    },
    {
     "cell_type": "code",
     "collapsed": false,
     "input": [
      "#=====[ TRAIN MODEL: WY ]=====\n",
      "#*****\n",
      "ix_train = (y_train[:,0] >= 0.0)\n",
      "ix_val = (y_val[:,0] >= 0.0)\n",
      "X_train_wy, X_val_wy = X_train[ix_train, :, :, :], X_val[ix_val, :, :, :]\n",
      "y_train_wy, y_val_wy = y_train[ix_train, :2], y_val[ix_val, :2]\n",
      "\n",
      "convnet_wy = EuclideanConvNet(pretrained_model=pretrained_model, size_out=2)\n",
      "out = convnet_wy.train(X_train_wy, y_train_wy, X_val_wy, y_val_wy,\n",
      "                    batch_size=50,\n",
      "                    num_epochs=50,\n",
      "                    learning_rate=0.0005,\n",
      "                    learning_rate_decay=0.95)\n",
      "model, loss_hist_wy, train_acc_hist_wy, val_acc_hist_wy = out\n",
      "convnet_wy.save('models/pinpointing/10s_wy.convnet')\n",
      "#*****"
     ],
     "language": "python",
     "metadata": {},
     "outputs": [
      {
       "output_type": "stream",
       "stream": "stdout",
       "text": [
        "starting iteration  0\n",
        "Finished epoch 0 / 50: cost 0.387662, train: 1147.179477, val 1137.472032, lr 5.000000e-04"
       ]
      },
      {
       "output_type": "stream",
       "stream": "stdout",
       "text": [
        "\n",
        "starting iteration "
       ]
      },
      {
       "output_type": "stream",
       "stream": "stdout",
       "text": [
        " 10\n",
        "Finished epoch 1 / 50: cost 0.112601, train: 0.082270, val 0.099484, lr 4.750000e-04"
       ]
      },
      {
       "output_type": "stream",
       "stream": "stdout",
       "text": [
        "\n",
        "starting iteration "
       ]
      },
      {
       "output_type": "stream",
       "stream": "stdout",
       "text": [
        " 20\n",
        "Finished epoch 2 / 50: cost 0.105358, train: 0.063050, val 0.077970, lr 4.512500e-04"
       ]
      },
      {
       "output_type": "stream",
       "stream": "stdout",
       "text": [
        "\n",
        "starting iteration "
       ]
      },
      {
       "output_type": "stream",
       "stream": "stdout",
       "text": [
        " 30\n",
        "Finished epoch 3 / 50: cost 0.121153, train: 0.073793, val 0.092295, lr 4.286875e-04"
       ]
      },
      {
       "output_type": "stream",
       "stream": "stdout",
       "text": [
        "\n",
        "starting iteration "
       ]
      },
      {
       "output_type": "stream",
       "stream": "stdout",
       "text": [
        " 40\n",
        "Finished epoch 4 / 50: cost 0.109751, train: 0.053261, val 0.064128, lr 4.072531e-04"
       ]
      },
      {
       "output_type": "stream",
       "stream": "stdout",
       "text": [
        "\n",
        "starting iteration "
       ]
      },
      {
       "output_type": "stream",
       "stream": "stdout",
       "text": [
        " 50\n",
        "Finished epoch 5 / 50: cost 0.091563, train: 0.049469, val 0.060795, lr 3.868905e-04"
       ]
      },
      {
       "output_type": "stream",
       "stream": "stdout",
       "text": [
        "\n",
        "starting iteration "
       ]
      },
      {
       "output_type": "stream",
       "stream": "stdout",
       "text": [
        " 60\n",
        "Finished epoch 6 / 50: cost 0.107651, train: 0.047533, val 0.059938, lr 3.675459e-04"
       ]
      },
      {
       "output_type": "stream",
       "stream": "stdout",
       "text": [
        "\n",
        "starting iteration "
       ]
      },
      {
       "output_type": "stream",
       "stream": "stdout",
       "text": [
        " 70\n",
        "Finished epoch 7 / 50: cost 0.089027, train: 0.045912, val 0.059388, lr 3.491686e-04"
       ]
      },
      {
       "output_type": "stream",
       "stream": "stdout",
       "text": [
        "\n",
        "starting iteration "
       ]
      }
     ]
    },
    {
     "cell_type": "code",
     "collapsed": false,
     "input": [
      "plt.plot(train_acc_hist_wy[15:])\n",
      "plt.plot(val_acc_hist_wy[15:])\n",
      "plt.xlabel('Epoch')\n",
      "plt.ylabel('Accuracy History')\n",
      "plt.title('Accuracy history vs. Epoch for WY Pinpointing Convnet')"
     ],
     "language": "python",
     "metadata": {},
     "outputs": [
      {
       "metadata": {},
       "output_type": "pyout",
       "prompt_number": 17,
       "text": [
        "<matplotlib.text.Text at 0x10af8f3d0>"
       ]
      },
      {
       "metadata": {},
       "output_type": "display_data",
       "png": "[encoded data removed]",
       "text": [
        "<matplotlib.figure.Figure at 0x10af54510>"
       ]
      }
     ],
     "prompt_number": 17
    },
    {
     "cell_type": "code",
     "collapsed": false,
     "input": [
      "#=====[ TRAIN MODEL: BG ]=====\n",
      "#*****\n",
      "ix_train = (y_train[:,2] >= 0.0)\n",
      "ix_val = (y_val[:,2] >= 0.0)\n",
      "X_train_bg, X_val_bg = X_train[ix_train, :, :, :], X_val[ix_val, :, :, :]\n",
      "y_train_bg, y_val_bg = y_train[ix_train, 2:4], y_val[ix_val, 2:4]\n",
      "\n",
      "convnet_bg = EuclideanConvNet(pretrained_model=pretrained_model, size_out=2)\n",
      "out = convnet_bg.train(X_train_bg, y_train_bg, X_val_bg, y_val_bg,\n",
      "                    batch_size=100,\n",
      "                    num_epochs=30,\n",
      "                    learning_rate=0.0005,\n",
      "                    learning_rate_decay=0.95)\n",
      "model, loss_hist_bg, train_acc_hist_bg, val_acc_hist_bg = out\n",
      "convnet_bg.save('models/pinpointing/10s_bg.convnet')\n",
      "#*****"
     ],
     "language": "python",
     "metadata": {},
     "outputs": [
      {
       "output_type": "stream",
       "stream": "stdout",
       "text": [
        "starting iteration  0\n",
        "Finished epoch 0 / 30: cost 0.364801, train: 52.635904, val 46.355054, lr 5.000000e-04"
       ]
      },
      {
       "output_type": "stream",
       "stream": "stdout",
       "text": [
        "\n",
        "Finished epoch 1 / 30: cost 0.356705, train: 0.490576, val 0.502161, lr 4.750000e-04"
       ]
      },
      {
       "output_type": "stream",
       "stream": "stdout",
       "text": [
        "\n",
        "Finished epoch 2 / 30: cost 0.200709, train: 136.446305, val 133.636577, lr 4.512500e-04"
       ]
      },
      {
       "output_type": "stream",
       "stream": "stdout",
       "text": [
        "\n",
        "starting iteration  10\n",
        "Finished epoch 3 / 30: cost 0.305143, train: 0.362507, val 0.382365, lr 4.286875e-04"
       ]
      },
      {
       "output_type": "stream",
       "stream": "stdout",
       "text": [
        "\n",
        "Finished epoch 4 / 30: cost 0.254676, train: 0.311307, val 0.333035, lr 4.072531e-04"
       ]
      },
      {
       "output_type": "stream",
       "stream": "stdout",
       "text": [
        "\n",
        "starting iteration  20\n",
        "Finished epoch 5 / 30: cost 0.235145, train: 0.272974, val 0.302016, lr 3.868905e-04"
       ]
      },
      {
       "output_type": "stream",
       "stream": "stdout",
       "text": [
        "\n",
        "Finished epoch 6 / 30: cost 0.222860, train: 0.230008, val 0.258828, lr 3.675459e-04"
       ]
      },
      {
       "output_type": "stream",
       "stream": "stdout",
       "text": [
        "\n",
        "starting iteration  30\n",
        "Finished epoch 7 / 30: cost 0.212527, train: 0.188277, val 0.215212, lr 3.491686e-04"
       ]
      },
      {
       "output_type": "stream",
       "stream": "stdout",
       "text": [
        "\n",
        "Finished epoch 8 / 30: cost 0.177811, train: 0.146466, val 0.170179, lr 3.317102e-04"
       ]
      },
      {
       "output_type": "stream",
       "stream": "stdout",
       "text": [
        "\n",
        "starting iteration  40\n",
        "Finished epoch 9 / 30: cost 0.156158, train: 0.109457, val 0.131018, lr 3.151247e-04"
       ]
      },
      {
       "output_type": "stream",
       "stream": "stdout",
       "text": [
        "\n",
        "Finished epoch 10 / 30: cost 0.137336, train: 0.089026, val 0.106670, lr 2.993685e-04"
       ]
      },
      {
       "output_type": "stream",
       "stream": "stdout",
       "text": [
        "\n",
        "starting iteration  50\n",
        "Finished epoch 11 / 30: cost 0.127031, train: 0.080842, val 0.100398, lr 2.844000e-04"
       ]
      },
      {
       "output_type": "stream",
       "stream": "stdout",
       "text": [
        "\n",
        "Finished epoch 12 / 30: cost 0.115176, train: 0.075473, val 0.100004, lr 2.701800e-04"
       ]
      },
      {
       "output_type": "stream",
       "stream": "stdout",
       "text": [
        "\n",
        "starting iteration  60\n",
        "Finished epoch 13 / 30: cost 0.118107, train: 0.068090, val 0.095428, lr 2.566710e-04"
       ]
      },
      {
       "output_type": "stream",
       "stream": "stdout",
       "text": [
        "\n",
        "Finished epoch 14 / 30: cost 0.110639, train: 0.063057, val 0.093683, lr 2.438375e-04"
       ]
      },
      {
       "output_type": "stream",
       "stream": "stdout",
       "text": [
        "\n",
        "starting iteration  70\n",
        "Finished epoch 15 / 30: cost 0.120188, train: 0.059408, val 0.095746, lr 2.316456e-04"
       ]
      },
      {
       "output_type": "stream",
       "stream": "stdout",
       "text": [
        "\n",
        "Finished epoch 16 / 30: cost 0.093907, train: 0.054725, val 0.093504, lr 2.200633e-04"
       ]
      },
      {
       "output_type": "stream",
       "stream": "stdout",
       "text": [
        "\n",
        "starting iteration  80\n",
        "Finished epoch 17 / 30: cost 0.097667, train: 0.051852, val 0.093854, lr 2.090602e-04"
       ]
      },
      {
       "output_type": "stream",
       "stream": "stdout",
       "text": [
        "\n",
        "Finished epoch 18 / 30: cost 0.088878, train: 0.049363, val 0.095753, lr 1.986072e-04"
       ]
      },
      {
       "output_type": "stream",
       "stream": "stdout",
       "text": [
        "\n",
        "starting iteration  90\n",
        "Finished epoch 19 / 30: cost 0.090752, train: 0.047162, val 0.093153, lr 1.886768e-04"
       ]
      },
      {
       "output_type": "stream",
       "stream": "stdout",
       "text": [
        "\n",
        "Finished epoch 20 / 30: cost 0.091742, train: 0.043930, val 0.093284, lr 1.792430e-04"
       ]
      },
      {
       "output_type": "stream",
       "stream": "stdout",
       "text": [
        "\n",
        "starting iteration  100\n",
        "Finished epoch 21 / 30: cost 0.085907, train: 0.043177, val 0.094227, lr 1.702808e-04"
       ]
      },
      {
       "output_type": "stream",
       "stream": "stdout",
       "text": [
        "\n",
        "Finished epoch 22 / 30: cost 0.090918, train: 0.040463, val 0.092714, lr 1.617668e-04"
       ]
      },
      {
       "output_type": "stream",
       "stream": "stdout",
       "text": [
        "\n",
        "starting iteration  110\n",
        "Finished epoch 23 / 30: cost 0.087325, train: 0.038825, val 0.094690, lr 1.536784e-04"
       ]
      },
      {
       "output_type": "stream",
       "stream": "stdout",
       "text": [
        "\n",
        "Finished epoch 24 / 30: cost 0.076949, train: 0.037158, val 0.094668, lr 1.459945e-04"
       ]
      },
      {
       "output_type": "stream",
       "stream": "stdout",
       "text": [
        "\n",
        "starting iteration  120\n",
        "Finished epoch 25 / 30: cost 0.074769, train: 0.036282, val 0.095308, lr 1.386948e-04"
       ]
      },
      {
       "output_type": "stream",
       "stream": "stdout",
       "text": [
        "\n",
        "Finished epoch 26 / 30: cost 0.078230, train: 0.034930, val 0.094895, lr 1.317600e-04"
       ]
      },
      {
       "output_type": "stream",
       "stream": "stdout",
       "text": [
        "\n",
        "starting iteration  130\n",
        "Finished epoch 27 / 30: cost 0.082781, train: 0.033767, val 0.095151, lr 1.251720e-04"
       ]
      },
      {
       "output_type": "stream",
       "stream": "stdout",
       "text": [
        "\n",
        "Finished epoch 28 / 30: cost 0.068482, train: 0.032922, val 0.094559, lr 1.189134e-04"
       ]
      },
      {
       "output_type": "stream",
       "stream": "stdout",
       "text": [
        "\n",
        "starting iteration  140\n",
        "Finished epoch 29 / 30: cost 0.065723, train: 0.032552, val 0.095275, lr 1.129678e-04"
       ]
      },
      {
       "output_type": "stream",
       "stream": "stdout",
       "text": [
        "\n",
        "Finished epoch 30 / 30: cost 0.073847, train: 0.031359, val 0.094181, lr 1.073194e-04"
       ]
      },
      {
       "output_type": "stream",
       "stream": "stdout",
       "text": [
        "\n",
        "finished optimization. best validation accuracy: 0.092714\n"
       ]
      }
     ],
     "prompt_number": 19
    },
    {
     "cell_type": "code",
     "collapsed": false,
     "input": [
      "plt.plot(train_acc_hist_bg[15:])\n",
      "plt.plot(val_acc_hist_bg[15:])\n",
      "plt.xlabel('Epoch')\n",
      "plt.ylabel('Accuracy History')\n",
      "plt.title('Accuracy history vs. Epoch for BG Pinpointing Convnet')"
     ],
     "language": "python",
     "metadata": {},
     "outputs": [
      {
       "metadata": {},
       "output_type": "pyout",
       "prompt_number": 20,
       "text": [
        "<matplotlib.text.Text at 0x10bc2aa10>"
       ]
      },
      {
       "metadata": {},
       "output_type": "display_data",
       "png": "[encoded data removed]",
       "text": [
        "<matplotlib.figure.Figure at 0x10af37c50>"
       ]
      }
     ],
     "prompt_number": 20
    },
    {
     "cell_type": "code",
     "collapsed": false,
     "input": [
      "#=====[ TRAIN MODEL: OR ]=====\n",
      "#*****\n",
      "ix_train = (y_train[:,4] >= 0.0)\n",
      "ix_val = (y_val[:,4] >= 0.0)\n",
      "X_train_or, X_val_or = X_train[ix_train, :, :, :], X_val[ix_val, :, :, :]\n",
      "y_train_or, y_val_or = y_train[ix_train, 4:6], y_val[ix_val, 4:6]\n",
      "\n",
      "convnet_or = EuclideanConvNet(pretrained_model=pretrained_model, size_out=2)\n",
      "out = convnet_or.train(X_train_or, y_train_or, X_val_or, y_val_or,\n",
      "                    batch_size=100,\n",
      "                    num_epochs=30,\n",
      "                    learning_rate=0.0005,\n",
      "                    learning_rate_decay=0.95)\n",
      "model, loss_hist, train_acc_hist, val_acc_hist = out\n",
      "convnet_or.save('models/pinpointing/10s_or.convnet')\n",
      "#*****"
     ],
     "language": "python",
     "metadata": {},
     "outputs": [
      {
       "output_type": "stream",
       "stream": "stdout",
       "text": [
        "starting iteration  0\n",
        "Finished epoch 0 / 30: cost 0.370364, train: 755.509347, val 800.847279, lr 5.000000e-04"
       ]
      },
      {
       "output_type": "stream",
       "stream": "stdout",
       "text": [
        "\n",
        "Finished epoch 1 / 30: cost 0.346005, train: 0.391171, val 0.382571, lr 4.750000e-04"
       ]
      },
      {
       "output_type": "stream",
       "stream": "stdout",
       "text": [
        "\n",
        "Finished epoch 2 / 30: cost 0.312995, train: 39.851675, val 44.343899, lr 4.512500e-04"
       ]
      },
      {
       "output_type": "stream",
       "stream": "stdout",
       "text": [
        "\n",
        "starting iteration  10\n",
        "Finished epoch 3 / 30: cost 0.336819, train: 0.447006, val 0.437270, lr 4.286875e-04"
       ]
      },
      {
       "output_type": "stream",
       "stream": "stdout",
       "text": [
        "\n",
        "Finished epoch 4 / 30: cost 0.286091, train: 0.311690, val 0.335396, lr 4.072531e-04"
       ]
      },
      {
       "output_type": "stream",
       "stream": "stdout",
       "text": [
        "\n",
        "starting iteration  20\n",
        "Finished epoch 5 / 30: cost 0.225173, train: 0.236685, val 0.274071, lr 3.868905e-04"
       ]
      },
      {
       "output_type": "stream",
       "stream": "stdout",
       "text": [
        "\n",
        "Finished epoch 6 / 30: cost 0.202062, train: 0.176213, val 0.204390, lr 3.675459e-04"
       ]
      },
      {
       "output_type": "stream",
       "stream": "stdout",
       "text": [
        "\n",
        "starting iteration  30\n",
        "Finished epoch 7 / 30: cost 0.294867, train: 0.262576, val 0.293188, lr 3.491686e-04"
       ]
      },
      {
       "output_type": "stream",
       "stream": "stdout",
       "text": [
        "\n",
        "Finished epoch 8 / 30: cost 0.149535, train: 0.116775, val 0.150650, lr 3.317102e-04"
       ]
      },
      {
       "output_type": "stream",
       "stream": "stdout",
       "text": [
        "\n",
        "starting iteration  40\n",
        "Finished epoch 9 / 30: cost 0.127257, train: 0.112076, val 0.151652, lr 3.151247e-04"
       ]
      },
      {
       "output_type": "stream",
       "stream": "stdout",
       "text": [
        "\n",
        "Finished epoch 10 / 30: cost 0.126873, train: 0.073652, val 0.089655, lr 2.993685e-04"
       ]
      },
      {
       "output_type": "stream",
       "stream": "stdout",
       "text": [
        "\n",
        "starting iteration  50\n",
        "Finished epoch 11 / 30: cost 0.118211, train: 0.064921, val 0.078709, lr 2.844000e-04"
       ]
      },
      {
       "output_type": "stream",
       "stream": "stdout",
       "text": [
        "\n",
        "Finished epoch 12 / 30: cost 0.102904, train: 0.050226, val 0.072793, lr 2.701800e-04"
       ]
      },
      {
       "output_type": "stream",
       "stream": "stdout",
       "text": [
        "\n",
        "starting iteration  60\n",
        "Finished epoch 13 / 30: cost 0.094580, train: 0.054232, val 0.080363, lr 2.566710e-04"
       ]
      },
      {
       "output_type": "stream",
       "stream": "stdout",
       "text": [
        "\n",
        "Finished epoch 14 / 30: cost 0.084759, train: 0.040956, val 0.063022, lr 2.438375e-04"
       ]
      },
      {
       "output_type": "stream",
       "stream": "stdout",
       "text": [
        "\n",
        "starting iteration  70\n",
        "Finished epoch 15 / 30: cost 0.083667, train: 0.039893, val 0.067283, lr 2.316456e-04"
       ]
      },
      {
       "output_type": "stream",
       "stream": "stdout",
       "text": [
        "\n",
        "Finished epoch 16 / 30: cost 0.080566, train: 0.039238, val 0.060360, lr 2.200633e-04"
       ]
      },
      {
       "output_type": "stream",
       "stream": "stdout",
       "text": [
        "\n",
        "starting iteration  80\n",
        "Finished epoch 17 / 30: cost 0.078536, train: 0.038923, val 0.066429, lr 2.090602e-04"
       ]
      },
      {
       "output_type": "stream",
       "stream": "stdout",
       "text": [
        "\n",
        "Finished epoch 18 / 30: cost 0.066326, train: 0.031478, val 0.059833, lr 1.986072e-04"
       ]
      },
      {
       "output_type": "stream",
       "stream": "stdout",
       "text": [
        "\n",
        "starting iteration  90\n",
        "Finished epoch 19 / 30: cost 0.073321, train: 0.031689, val 0.060240, lr 1.886768e-04"
       ]
      },
      {
       "output_type": "stream",
       "stream": "stdout",
       "text": [
        "\n",
        "Finished epoch 20 / 30: cost 0.063020, train: 0.027198, val 0.057819, lr 1.792430e-04"
       ]
      },
      {
       "output_type": "stream",
       "stream": "stdout",
       "text": [
        "\n",
        "starting iteration  100\n",
        "Finished epoch 21 / 30: cost 0.068558, train: 0.025959, val 0.058506, lr 1.702808e-04"
       ]
      },
      {
       "output_type": "stream",
       "stream": "stdout",
       "text": [
        "\n",
        "Finished epoch 22 / 30: cost 0.072357, train: 0.024431, val 0.056049, lr 1.617668e-04"
       ]
      },
      {
       "output_type": "stream",
       "stream": "stdout",
       "text": [
        "\n",
        "starting iteration  110\n",
        "Finished epoch 23 / 30: cost 0.055968, train: 0.023385, val 0.055570, lr 1.536784e-04"
       ]
      },
      {
       "output_type": "stream",
       "stream": "stdout",
       "text": [
        "\n",
        "Finished epoch 24 / 30: cost 0.059437, train: 0.022279, val 0.055535, lr 1.459945e-04"
       ]
      },
      {
       "output_type": "stream",
       "stream": "stdout",
       "text": [
        "\n",
        "starting iteration  120\n",
        "Finished epoch 25 / 30: cost 0.062400, train: 0.022554, val 0.055199, lr 1.386948e-04"
       ]
      },
      {
       "output_type": "stream",
       "stream": "stdout",
       "text": [
        "\n",
        "Finished epoch 26 / 30: cost 0.065658, train: 0.020911, val 0.054525, lr 1.317600e-04"
       ]
      },
      {
       "output_type": "stream",
       "stream": "stdout",
       "text": [
        "\n",
        "starting iteration  130\n",
        "Finished epoch 27 / 30: cost 0.053846, train: 0.020351, val 0.054840, lr 1.251720e-04"
       ]
      },
      {
       "output_type": "stream",
       "stream": "stdout",
       "text": [
        "\n",
        "Finished epoch 28 / 30: cost 0.050993, train: 0.019207, val 0.054161, lr 1.189134e-04"
       ]
      },
      {
       "output_type": "stream",
       "stream": "stdout",
       "text": [
        "\n",
        "starting iteration  140\n",
        "Finished epoch 29 / 30: cost 0.054076, train: 0.018604, val 0.053349, lr 1.129678e-04"
       ]
      },
      {
       "output_type": "stream",
       "stream": "stdout",
       "text": [
        "\n",
        "Finished epoch 30 / 30: cost 0.055652, train: 0.017395, val 0.053932, lr 1.073194e-04"
       ]
      },
      {
       "output_type": "stream",
       "stream": "stdout",
       "text": [
        "\n",
        "finished optimization. best validation accuracy: 0.053349\n"
       ]
      }
     ],
     "prompt_number": 22
    },
    {
     "cell_type": "code",
     "collapsed": false,
     "input": [
      "plt.plot(train_acc_hist_or[15:])\n",
      "plt.plot(val_acc_hist_or[15:])\n",
      "plt.xlabel('Epoch')\n",
      "plt.ylabel('Accuracy History')\n",
      "plt.title('Accuracy history vs. Epoch for OR Pinpointing Convnet')"
     ],
     "language": "python",
     "metadata": {},
     "outputs": [
      {
       "metadata": {},
       "output_type": "pyout",
       "prompt_number": 12,
       "text": [
        "[<matplotlib.lines.Line2D at 0x10ae05290>]"
       ]
      },
      {
       "metadata": {},
       "output_type": "display_data",
       "png": "[encoded data removed]",
       "text": [
        "<matplotlib.figure.Figure at 0x10ae05250>"
       ]
      }
     ],
     "prompt_number": 12
    },
    {
     "cell_type": "markdown",
     "metadata": {},
     "source": [
      "## Visualize Results"
     ]
    },
    {
     "cell_type": "code",
     "collapsed": false,
     "input": [
      "y_pred_wy = convnet_wy.predict(X_val)\n",
      "y_pred_bg = convnet_bg.predict(X_val)\n",
      "y_pred_or = convnet_or.predict(X_val)\n",
      "ix = 0"
     ],
     "language": "python",
     "metadata": {},
     "outputs": [],
     "prompt_number": 25
    },
    {
     "cell_type": "code",
     "collapsed": false,
     "input": [
      "ix += 1\n",
      "img = X_val[ix,:,:,:].copy().transpose(1, 2, 0)\n",
      "from convcube.cv.keypoints import denormalize_points\n",
      "from convcube.cv.keypoints import array2tuples\n",
      "\n",
      "pts = y_pred_or[ix,:]\n",
      "print pts\n",
      "pts = [[pts[0], pts[1]]]\n",
      "pts = denormalize_points(pts, img)\n",
      "print pts\n",
      "for pt in pts:\n",
      "    img[pt[1]-2:pt[1]+2, pt[0]-2:pt[0]+2, :]  = (0, 255, 0)\n",
      "plt.imshow(img[:,:,::-1], cmap=plt.cm.gray)"
     ],
     "language": "python",
     "metadata": {},
     "outputs": [
      {
       "output_type": "stream",
       "stream": "stdout",
       "text": [
        "[ 0.35789618  0.4580943 ]\n",
        "[(28, 21)]\n"
       ]
      },
      {
       "metadata": {},
       "output_type": "pyout",
       "prompt_number": 55,
       "text": [
        "<matplotlib.image.AxesImage at 0x1153eb690>"
       ]
      },
      {
       "metadata": {},
       "output_type": "display_data",
       "png": "[encoded data removed]",
       "text": [
        "<matplotlib.figure.Figure at 0x115330850>"
       ]
      }
     ],
     "prompt_number": 55
    },
    {
     "cell_type": "code",
     "collapsed": false,
     "input": [],
     "language": "python",
     "metadata": {},
     "outputs": []
    }
   ],
   "metadata": {}
  }
 ]
}